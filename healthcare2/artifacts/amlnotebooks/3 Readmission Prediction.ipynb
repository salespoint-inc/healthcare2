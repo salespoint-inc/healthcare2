{
  "cells": [
    {
      "cell_type": "markdown",
      "source": [
        "# Readmission Prediction using Azure AutoML\n",
        "<h3><span style=\"color: #117d30;\"> Using Azure AutoML Cognitive Services</span></h3>"
      ],
      "metadata": {}
    },
    {
      "cell_type": "markdown",
      "source": [
        "$*****$ Important – Do not use in production, for demonstration purposes only – please review the legal notices before continuing $*****$ "
      ],
      "metadata": {
        "nteract": {
          "transient": {
            "deleting": false
          }
        }
      }
    },
    {
      "cell_type": "markdown",
      "source": [
        "## Scenario Overview\n",
        "\n",
        "Azure AutoML is a cognitive service which helps in building ML models for different problems such as classification, time-series forecasting, and regression.\n",
        "\n",
        "This notebook provides an end-to-end demo on how to use the Azure Cognitive Services AutoML to build an to detect whether a patient would get readmitted within 30 days or not. \n",
        "\n",
        "In this scenario we will see how using patient encounter data we are able to tell whether a patient will get readmitted or not. Moreover, the model is also able to explain why it is making the decision it is, and thus we are able to tell what factors are important when deciding whether a patient will be readmitted or not.\n",
        "\n",
        "The raw data is stored in an ADLSGen2 storage container\n"
      ],
      "metadata": {}
    },
    {
      "cell_type": "markdown",
      "source": [
        "## Legal Notices \n",
        "\n",
        "This presentation, demonstration, and demonstration model are for informational purposes only. Microsoft makes no warranties, express or implied, in this presentation demonstration, and demonstration model. Nothing in this presentation, demonstration, or demonstration model modifies any of the terms and conditions of Microsoft’s written and signed agreements. This is not an offer and applicable terms and the information provided is subject to revision and may be changed at any time by Microsoft.\n",
        "\n",
        "This presentation, demonstration, and/or demonstration model do not give you or your organization any license to any patents, trademarks, copyrights, or other intellectual property covering the subject matter in this presentation, demonstration, and demonstration model.\n",
        "\n",
        "The information contained in this presentation, demonstration and demonstration model represent the current view of Microsoft on the issues discussed as of the date of presentation and/or demonstration, and the duration of your access to the demonstration model. Because Microsoft must respond to changing market conditions, it should not be interpreted to be a commitment on the part of Microsoft, and Microsoft cannot guarantee the accuracy of any information presented after the date of presentation and/or demonstration and for the duration of your access to the demonstration model.\n",
        "\n",
        "No Microsoft technology, nor any of its component technologies, including the demonstration model, is intended or made available: (1) as a medical device; (2) for the diagnosis of disease or other conditions, or in the cure, mitigation, treatment or prevention of a disease or other conditions; or (3) as a substitute for the professional clinical advice, opinion, or judgment of a treating healthcare professional. Partners or customers are responsible for ensuring the regulatory compliance of any solution they build using Microsoft technologies.\n",
        "\n",
        "© 2020 Microsoft Corporation. All rights reserved"
      ],
      "metadata": {
        "nteract": {
          "transient": {
            "deleting": false
          }
        }
      }
    },
    {
      "cell_type": "markdown",
      "source": [
        "## Setting up the workspace"
      ],
      "metadata": {}
    },
    {
      "cell_type": "code",
      "source": [
        "import azureml.core\n",
        "import pandas as pd\n",
        "import azureml.core\n",
        "from azureml.core import Workspace, Datastore, Dataset, Experiment\n",
        "from azureml.data import DataType\n",
        "from azureml.data.datapath import DataPath\n",
        "from azureml.core.compute import AmlCompute\n",
        "from azureml.train.automl import AutoMLConfig\n",
        "from azureml.train.automl.run import AutoMLRun\n",
        "import os\n",
        "\n",
        "\n",
        "print(\"SDK Version:\", azureml.core.VERSION)\n",
        "\n",
        "ws = Workspace.from_config()\n",
        "ws"
      ],
      "outputs": [
        {
          "output_type": "stream",
          "name": "stdout",
          "text": "SDK Version: 1.48.0\n"
        },
        {
          "output_type": "execute_result",
          "execution_count": 1,
          "data": {
            "text/plain": "Workspace.create(name='mlw-healthcare2-prod', subscription_id='506e86fc-853c-4557-a6e5-ad72114efd2b', resource_group='rg-healthcare2-prod')"
          },
          "metadata": {}
        }
      ],
      "execution_count": 1,
      "metadata": {
        "gather": {
          "logged": 1680764463849
        },
        "scrolled": true
      }
    },
    {
      "cell_type": "markdown",
      "source": [
        "#### Create new datastore for Datasets"
      ],
      "metadata": {}
    },
    {
      "cell_type": "code",
      "source": [
        "import GlobalVariables"
      ],
      "outputs": [],
      "execution_count": 2,
      "metadata": {
        "gather": {
          "logged": 1680764464889
        }
      }
    },
    {
      "cell_type": "code",
      "source": [
        "blob_datastore_name=GlobalVariables.READMISSION_DATASTORE_NAME # Name of the datastore in workspace\n",
        "container_name=GlobalVariables.GLOBAL_CONTAINER_NAME\n",
        "account_name=GlobalVariables.STORAGE_ACCOUNT_NAME\n",
        "account_key=GlobalVariables.STORAGE_ACCOUNT_KEY # Storage account access key\n",
        "\n",
        "blob_datastore = Datastore.register_azure_blob_container(workspace=ws, \n",
        "                                                         datastore_name=blob_datastore_name, \n",
        "                                                         container_name=container_name, \n",
        "                                                         account_name=account_name,\n",
        "                                                         account_key=account_key)\n",
        "\n",
        "dstore = Datastore.get(ws, datastore_name=blob_datastore_name)"
      ],
      "outputs": [],
      "execution_count": 3,
      "metadata": {
        "gather": {
          "logged": 1680764465781
        },
        "jupyter": {
          "outputs_hidden": false,
          "source_hidden": false
        },
        "nteract": {
          "transient": {
            "deleting": false
          }
        }
      }
    },
    {
      "cell_type": "code",
      "source": [
        "filepath = GlobalVariables.READMISSION_INPUT_FILE_NAME\n",
        "print(filepath)\n",
        "\n",
        "# Set the path to the storage account containing the file\n",
        "datastore_path = [DataPath(dstore, filepath)]\n",
        "patientdataset = Dataset.Tabular.from_delimited_files(path=datastore_path)\n",
        "patientdataset.to_pandas_dataframe()"
      ],
      "outputs": [
        {
          "output_type": "stream",
          "name": "stdout",
          "text": "/pbiPatientPredictiveSetv4.csv\n"
        },
        {
          "output_type": "execute_result",
          "execution_count": 4,
          "data": {
            "text/plain": "         encounter_id  hospital_id  department_id      city  \\\n0             2135731            2              7   Chicago   \n1             4611669            2              5   Chicago   \n2             1921463            2              6   Chicago   \n3             1998115            2              4   Chicago   \n4             2238767            2              6   Chicago   \n...               ...          ...            ...       ...   \n4153018       4410743            2              6   Chicago   \n4153019       4629642            2              6   Chicago   \n4153020       4147292            9              1  Honolulu   \n4153021       4276403           21              8     Miami   \n4153022       4493818            2              6   Chicago   \n\n                                   patient_id  patient_age  risk_level  \\\n0        bb94327b-2f30-11eb-8d56-70b5e8b8edbb           30           2   \n1        fa6cbf7d-2f42-11eb-a512-70b5e8b8edbb           46           5   \n2        89974f6b-2f30-11eb-a2b4-70b5e8b8edbb           26           5   \n3        994a316b-2f30-11eb-b0f2-70b5e8b8edbb           52           3   \n4        fe55cf81-2f30-11eb-a868-70b5e8b8edbb           27           3   \n...                                       ...          ...         ...   \n4153018  bd4eacbe-2f42-11eb-b0d1-70b5e8b8edbb           44           4   \n4153019  ff411237-2f42-11eb-ab73-70b5e8b8edbb           81           4   \n4153020  5c11509c-2f42-11eb-889d-70b5e8b8edbb           60           4   \n4153021  942bdfc3-2f42-11eb-8dfb-70b5e8b8edbb           50           4   \n4153022  dc710d8f-2f42-11eb-91d7-70b5e8b8edbb           79           5   \n\n        acute_type       patient_category  doctor_id  ...  drug_cost  \\\n0        Non Acute              InPatient      10676  ...        816   \n1            Acute              InPatient       4415  ...        760   \n2            Acute              InPatient       1783  ...        653   \n3        Non Acute              InPatient      12655  ...        744   \n4        Non Acute              InPatient       8460  ...       1091   \n...            ...                    ...        ...  ...        ...   \n4153018      Acute  Cancelled Appointment      13553  ...          0   \n4153019      Acute  Cancelled Appointment       3581  ...          0   \n4153020      Acute  Cancelled Appointment       9535  ...          0   \n4153021      Acute  Cancelled Appointment        948  ...          0   \n4153022      Acute  Cancelled Appointment       3552  ...          0   \n\n         hospital_expense follow_up  readmitted_patient  payment_type  \\\n0                    6086         0                   0      Medicare   \n1                    5234         1                   0     Uninsured   \n2                    6340         1                   0     Uninsured   \n3                    6544         0                   0     Uninsured   \n4                    7039         0                   0     Uninsured   \n...                   ...       ...                 ...           ...   \n4153018              -100         0                   1          None   \n4153019              -100         1                   1          None   \n4153020               -58         0                   1          None   \n4153021               -48         0                   1          None   \n4153022               -79         0                   1          None   \n\n                       date  month  year  \\\n0       2018-06-29 08:34:00    Jun  2018   \n1       2020-01-23 15:37:00    Jan  2020   \n2       2018-05-15 15:45:00    May  2018   \n3       2018-01-03 08:47:00    Jan  2018   \n4       2019-04-10 00:13:00    Apr  2019   \n...                     ...    ...   ...   \n4153018 2020-08-29 16:18:00    Aug  2020   \n4153019 2020-08-03 07:43:00    Aug  2020   \n4153020 2020-06-22 13:52:00    Jun  2020   \n4153021 2020-09-16 11:10:00    Sep  2020   \n4153022 2020-06-28 21:22:00    Jun  2020   \n\n                                    reason_for_readmission           disease  \n0                                                     None               flu  \n1                                                     None    oligomenorrhea  \n2                                                     None  chronic headache  \n3                                                     None         maternity  \n4                                                     None  chronic headache  \n...                                                    ...               ...  \n4153018               Failure to follow hospital discharge              None  \n4153019  Recurrence of a preexisting condition / infection              None  \n4153020               Failure to follow hospital discharge              None  \n4153021  Medication errors or lack of accurate medicati...              None  \n4153022           Poor coordination of care post Discharge              None  \n\n[4153023 rows x 25 columns]",
            "text/html": "<div>\n<style scoped>\n    .dataframe tbody tr th:only-of-type {\n        vertical-align: middle;\n    }\n\n    .dataframe tbody tr th {\n        vertical-align: top;\n    }\n\n    .dataframe thead th {\n        text-align: right;\n    }\n</style>\n<table border=\"1\" class=\"dataframe\">\n  <thead>\n    <tr style=\"text-align: right;\">\n      <th></th>\n      <th>encounter_id</th>\n      <th>hospital_id</th>\n      <th>department_id</th>\n      <th>city</th>\n      <th>patient_id</th>\n      <th>patient_age</th>\n      <th>risk_level</th>\n      <th>acute_type</th>\n      <th>patient_category</th>\n      <th>doctor_id</th>\n      <th>...</th>\n      <th>drug_cost</th>\n      <th>hospital_expense</th>\n      <th>follow_up</th>\n      <th>readmitted_patient</th>\n      <th>payment_type</th>\n      <th>date</th>\n      <th>month</th>\n      <th>year</th>\n      <th>reason_for_readmission</th>\n      <th>disease</th>\n    </tr>\n  </thead>\n  <tbody>\n    <tr>\n      <th>0</th>\n      <td>2135731</td>\n      <td>2</td>\n      <td>7</td>\n      <td>Chicago</td>\n      <td>bb94327b-2f30-11eb-8d56-70b5e8b8edbb</td>\n      <td>30</td>\n      <td>2</td>\n      <td>Non Acute</td>\n      <td>InPatient</td>\n      <td>10676</td>\n      <td>...</td>\n      <td>816</td>\n      <td>6086</td>\n      <td>0</td>\n      <td>0</td>\n      <td>Medicare</td>\n      <td>2018-06-29 08:34:00</td>\n      <td>Jun</td>\n      <td>2018</td>\n      <td>None</td>\n      <td>flu</td>\n    </tr>\n    <tr>\n      <th>1</th>\n      <td>4611669</td>\n      <td>2</td>\n      <td>5</td>\n      <td>Chicago</td>\n      <td>fa6cbf7d-2f42-11eb-a512-70b5e8b8edbb</td>\n      <td>46</td>\n      <td>5</td>\n      <td>Acute</td>\n      <td>InPatient</td>\n      <td>4415</td>\n      <td>...</td>\n      <td>760</td>\n      <td>5234</td>\n      <td>1</td>\n      <td>0</td>\n      <td>Uninsured</td>\n      <td>2020-01-23 15:37:00</td>\n      <td>Jan</td>\n      <td>2020</td>\n      <td>None</td>\n      <td>oligomenorrhea</td>\n    </tr>\n    <tr>\n      <th>2</th>\n      <td>1921463</td>\n      <td>2</td>\n      <td>6</td>\n      <td>Chicago</td>\n      <td>89974f6b-2f30-11eb-a2b4-70b5e8b8edbb</td>\n      <td>26</td>\n      <td>5</td>\n      <td>Acute</td>\n      <td>InPatient</td>\n      <td>1783</td>\n      <td>...</td>\n      <td>653</td>\n      <td>6340</td>\n      <td>1</td>\n      <td>0</td>\n      <td>Uninsured</td>\n      <td>2018-05-15 15:45:00</td>\n      <td>May</td>\n      <td>2018</td>\n      <td>None</td>\n      <td>chronic headache</td>\n    </tr>\n    <tr>\n      <th>3</th>\n      <td>1998115</td>\n      <td>2</td>\n      <td>4</td>\n      <td>Chicago</td>\n      <td>994a316b-2f30-11eb-b0f2-70b5e8b8edbb</td>\n      <td>52</td>\n      <td>3</td>\n      <td>Non Acute</td>\n      <td>InPatient</td>\n      <td>12655</td>\n      <td>...</td>\n      <td>744</td>\n      <td>6544</td>\n      <td>0</td>\n      <td>0</td>\n      <td>Uninsured</td>\n      <td>2018-01-03 08:47:00</td>\n      <td>Jan</td>\n      <td>2018</td>\n      <td>None</td>\n      <td>maternity</td>\n    </tr>\n    <tr>\n      <th>4</th>\n      <td>2238767</td>\n      <td>2</td>\n      <td>6</td>\n      <td>Chicago</td>\n      <td>fe55cf81-2f30-11eb-a868-70b5e8b8edbb</td>\n      <td>27</td>\n      <td>3</td>\n      <td>Non Acute</td>\n      <td>InPatient</td>\n      <td>8460</td>\n      <td>...</td>\n      <td>1091</td>\n      <td>7039</td>\n      <td>0</td>\n      <td>0</td>\n      <td>Uninsured</td>\n      <td>2019-04-10 00:13:00</td>\n      <td>Apr</td>\n      <td>2019</td>\n      <td>None</td>\n      <td>chronic headache</td>\n    </tr>\n    <tr>\n      <th>...</th>\n      <td>...</td>\n      <td>...</td>\n      <td>...</td>\n      <td>...</td>\n      <td>...</td>\n      <td>...</td>\n      <td>...</td>\n      <td>...</td>\n      <td>...</td>\n      <td>...</td>\n      <td>...</td>\n      <td>...</td>\n      <td>...</td>\n      <td>...</td>\n      <td>...</td>\n      <td>...</td>\n      <td>...</td>\n      <td>...</td>\n      <td>...</td>\n      <td>...</td>\n      <td>...</td>\n    </tr>\n    <tr>\n      <th>4153018</th>\n      <td>4410743</td>\n      <td>2</td>\n      <td>6</td>\n      <td>Chicago</td>\n      <td>bd4eacbe-2f42-11eb-b0d1-70b5e8b8edbb</td>\n      <td>44</td>\n      <td>4</td>\n      <td>Acute</td>\n      <td>Cancelled Appointment</td>\n      <td>13553</td>\n      <td>...</td>\n      <td>0</td>\n      <td>-100</td>\n      <td>0</td>\n      <td>1</td>\n      <td>None</td>\n      <td>2020-08-29 16:18:00</td>\n      <td>Aug</td>\n      <td>2020</td>\n      <td>Failure to follow hospital discharge</td>\n      <td>None</td>\n    </tr>\n    <tr>\n      <th>4153019</th>\n      <td>4629642</td>\n      <td>2</td>\n      <td>6</td>\n      <td>Chicago</td>\n      <td>ff411237-2f42-11eb-ab73-70b5e8b8edbb</td>\n      <td>81</td>\n      <td>4</td>\n      <td>Acute</td>\n      <td>Cancelled Appointment</td>\n      <td>3581</td>\n      <td>...</td>\n      <td>0</td>\n      <td>-100</td>\n      <td>1</td>\n      <td>1</td>\n      <td>None</td>\n      <td>2020-08-03 07:43:00</td>\n      <td>Aug</td>\n      <td>2020</td>\n      <td>Recurrence of a preexisting condition / infection</td>\n      <td>None</td>\n    </tr>\n    <tr>\n      <th>4153020</th>\n      <td>4147292</td>\n      <td>9</td>\n      <td>1</td>\n      <td>Honolulu</td>\n      <td>5c11509c-2f42-11eb-889d-70b5e8b8edbb</td>\n      <td>60</td>\n      <td>4</td>\n      <td>Acute</td>\n      <td>Cancelled Appointment</td>\n      <td>9535</td>\n      <td>...</td>\n      <td>0</td>\n      <td>-58</td>\n      <td>0</td>\n      <td>1</td>\n      <td>None</td>\n      <td>2020-06-22 13:52:00</td>\n      <td>Jun</td>\n      <td>2020</td>\n      <td>Failure to follow hospital discharge</td>\n      <td>None</td>\n    </tr>\n    <tr>\n      <th>4153021</th>\n      <td>4276403</td>\n      <td>21</td>\n      <td>8</td>\n      <td>Miami</td>\n      <td>942bdfc3-2f42-11eb-8dfb-70b5e8b8edbb</td>\n      <td>50</td>\n      <td>4</td>\n      <td>Acute</td>\n      <td>Cancelled Appointment</td>\n      <td>948</td>\n      <td>...</td>\n      <td>0</td>\n      <td>-48</td>\n      <td>0</td>\n      <td>1</td>\n      <td>None</td>\n      <td>2020-09-16 11:10:00</td>\n      <td>Sep</td>\n      <td>2020</td>\n      <td>Medication errors or lack of accurate medicati...</td>\n      <td>None</td>\n    </tr>\n    <tr>\n      <th>4153022</th>\n      <td>4493818</td>\n      <td>2</td>\n      <td>6</td>\n      <td>Chicago</td>\n      <td>dc710d8f-2f42-11eb-91d7-70b5e8b8edbb</td>\n      <td>79</td>\n      <td>5</td>\n      <td>Acute</td>\n      <td>Cancelled Appointment</td>\n      <td>3552</td>\n      <td>...</td>\n      <td>0</td>\n      <td>-79</td>\n      <td>0</td>\n      <td>1</td>\n      <td>None</td>\n      <td>2020-06-28 21:22:00</td>\n      <td>Jun</td>\n      <td>2020</td>\n      <td>Poor coordination of care post Discharge</td>\n      <td>None</td>\n    </tr>\n  </tbody>\n</table>\n<p>4153023 rows × 25 columns</p>\n</div>"
          },
          "metadata": {}
        }
      ],
      "execution_count": 4,
      "metadata": {
        "gather": {
          "logged": 1680764478251
        },
        "jupyter": {
          "outputs_hidden": false,
          "source_hidden": false
        },
        "nteract": {
          "transient": {
            "deleting": false
          }
        }
      }
    },
    {
      "cell_type": "markdown",
      "source": [
        "#### Convert to Pandas DataFrame to do data preparation"
      ],
      "metadata": {}
    },
    {
      "cell_type": "code",
      "source": [
        "patient_df = patientdataset.to_pandas_dataframe()\n",
        "patient_df.head()"
      ],
      "outputs": [
        {
          "output_type": "execute_result",
          "execution_count": 5,
          "data": {
            "text/plain": "   encounter_id  hospital_id  department_id     city  \\\n0       2135731            2              7  Chicago   \n1       4611669            2              5  Chicago   \n2       1921463            2              6  Chicago   \n3       1998115            2              4  Chicago   \n4       2238767            2              6  Chicago   \n\n                             patient_id  patient_age  risk_level acute_type  \\\n0  bb94327b-2f30-11eb-8d56-70b5e8b8edbb           30           2  Non Acute   \n1  fa6cbf7d-2f42-11eb-a512-70b5e8b8edbb           46           5      Acute   \n2  89974f6b-2f30-11eb-a2b4-70b5e8b8edbb           26           5      Acute   \n3  994a316b-2f30-11eb-b0f2-70b5e8b8edbb           52           3  Non Acute   \n4  fe55cf81-2f30-11eb-a868-70b5e8b8edbb           27           3  Non Acute   \n\n  patient_category  doctor_id  ...  drug_cost  hospital_expense follow_up  \\\n0        InPatient      10676  ...        816              6086         0   \n1        InPatient       4415  ...        760              5234         1   \n2        InPatient       1783  ...        653              6340         1   \n3        InPatient      12655  ...        744              6544         0   \n4        InPatient       8460  ...       1091              7039         0   \n\n   readmitted_patient  payment_type                date  month  year  \\\n0                   0      Medicare 2018-06-29 08:34:00    Jun  2018   \n1                   0     Uninsured 2020-01-23 15:37:00    Jan  2020   \n2                   0     Uninsured 2018-05-15 15:45:00    May  2018   \n3                   0     Uninsured 2018-01-03 08:47:00    Jan  2018   \n4                   0     Uninsured 2019-04-10 00:13:00    Apr  2019   \n\n   reason_for_readmission           disease  \n0                    None               flu  \n1                    None    oligomenorrhea  \n2                    None  chronic headache  \n3                    None         maternity  \n4                    None  chronic headache  \n\n[5 rows x 25 columns]",
            "text/html": "<div>\n<style scoped>\n    .dataframe tbody tr th:only-of-type {\n        vertical-align: middle;\n    }\n\n    .dataframe tbody tr th {\n        vertical-align: top;\n    }\n\n    .dataframe thead th {\n        text-align: right;\n    }\n</style>\n<table border=\"1\" class=\"dataframe\">\n  <thead>\n    <tr style=\"text-align: right;\">\n      <th></th>\n      <th>encounter_id</th>\n      <th>hospital_id</th>\n      <th>department_id</th>\n      <th>city</th>\n      <th>patient_id</th>\n      <th>patient_age</th>\n      <th>risk_level</th>\n      <th>acute_type</th>\n      <th>patient_category</th>\n      <th>doctor_id</th>\n      <th>...</th>\n      <th>drug_cost</th>\n      <th>hospital_expense</th>\n      <th>follow_up</th>\n      <th>readmitted_patient</th>\n      <th>payment_type</th>\n      <th>date</th>\n      <th>month</th>\n      <th>year</th>\n      <th>reason_for_readmission</th>\n      <th>disease</th>\n    </tr>\n  </thead>\n  <tbody>\n    <tr>\n      <th>0</th>\n      <td>2135731</td>\n      <td>2</td>\n      <td>7</td>\n      <td>Chicago</td>\n      <td>bb94327b-2f30-11eb-8d56-70b5e8b8edbb</td>\n      <td>30</td>\n      <td>2</td>\n      <td>Non Acute</td>\n      <td>InPatient</td>\n      <td>10676</td>\n      <td>...</td>\n      <td>816</td>\n      <td>6086</td>\n      <td>0</td>\n      <td>0</td>\n      <td>Medicare</td>\n      <td>2018-06-29 08:34:00</td>\n      <td>Jun</td>\n      <td>2018</td>\n      <td>None</td>\n      <td>flu</td>\n    </tr>\n    <tr>\n      <th>1</th>\n      <td>4611669</td>\n      <td>2</td>\n      <td>5</td>\n      <td>Chicago</td>\n      <td>fa6cbf7d-2f42-11eb-a512-70b5e8b8edbb</td>\n      <td>46</td>\n      <td>5</td>\n      <td>Acute</td>\n      <td>InPatient</td>\n      <td>4415</td>\n      <td>...</td>\n      <td>760</td>\n      <td>5234</td>\n      <td>1</td>\n      <td>0</td>\n      <td>Uninsured</td>\n      <td>2020-01-23 15:37:00</td>\n      <td>Jan</td>\n      <td>2020</td>\n      <td>None</td>\n      <td>oligomenorrhea</td>\n    </tr>\n    <tr>\n      <th>2</th>\n      <td>1921463</td>\n      <td>2</td>\n      <td>6</td>\n      <td>Chicago</td>\n      <td>89974f6b-2f30-11eb-a2b4-70b5e8b8edbb</td>\n      <td>26</td>\n      <td>5</td>\n      <td>Acute</td>\n      <td>InPatient</td>\n      <td>1783</td>\n      <td>...</td>\n      <td>653</td>\n      <td>6340</td>\n      <td>1</td>\n      <td>0</td>\n      <td>Uninsured</td>\n      <td>2018-05-15 15:45:00</td>\n      <td>May</td>\n      <td>2018</td>\n      <td>None</td>\n      <td>chronic headache</td>\n    </tr>\n    <tr>\n      <th>3</th>\n      <td>1998115</td>\n      <td>2</td>\n      <td>4</td>\n      <td>Chicago</td>\n      <td>994a316b-2f30-11eb-b0f2-70b5e8b8edbb</td>\n      <td>52</td>\n      <td>3</td>\n      <td>Non Acute</td>\n      <td>InPatient</td>\n      <td>12655</td>\n      <td>...</td>\n      <td>744</td>\n      <td>6544</td>\n      <td>0</td>\n      <td>0</td>\n      <td>Uninsured</td>\n      <td>2018-01-03 08:47:00</td>\n      <td>Jan</td>\n      <td>2018</td>\n      <td>None</td>\n      <td>maternity</td>\n    </tr>\n    <tr>\n      <th>4</th>\n      <td>2238767</td>\n      <td>2</td>\n      <td>6</td>\n      <td>Chicago</td>\n      <td>fe55cf81-2f30-11eb-a868-70b5e8b8edbb</td>\n      <td>27</td>\n      <td>3</td>\n      <td>Non Acute</td>\n      <td>InPatient</td>\n      <td>8460</td>\n      <td>...</td>\n      <td>1091</td>\n      <td>7039</td>\n      <td>0</td>\n      <td>0</td>\n      <td>Uninsured</td>\n      <td>2019-04-10 00:13:00</td>\n      <td>Apr</td>\n      <td>2019</td>\n      <td>None</td>\n      <td>chronic headache</td>\n    </tr>\n  </tbody>\n</table>\n<p>5 rows × 25 columns</p>\n</div>"
          },
          "metadata": {}
        }
      ],
      "execution_count": 5,
      "metadata": {
        "gather": {
          "logged": 1680764485537
        },
        "jupyter": {
          "outputs_hidden": false,
          "source_hidden": false
        },
        "nteract": {
          "transient": {
            "deleting": false
          }
        }
      }
    },
    {
      "cell_type": "code",
      "source": [
        "# View info to see what the column names and types are\n",
        "patient_df.info()"
      ],
      "outputs": [
        {
          "output_type": "stream",
          "name": "stdout",
          "text": "<class 'pandas.core.frame.DataFrame'>\nRangeIndex: 4153023 entries, 0 to 4153022\nData columns (total 25 columns):\n #   Column                  Dtype         \n---  ------                  -----         \n 0   encounter_id            int64         \n 1   hospital_id             int64         \n 2   department_id           int64         \n 3   city                    object        \n 4   patient_id              object        \n 5   patient_age             int64         \n 6   risk_level              int64         \n 7   acute_type              object        \n 8   patient_category        object        \n 9   doctor_id               int64         \n 10  length_of_stay          int64         \n 11  wait_time               int64         \n 12  type_of_stay            object        \n 13  treatment_cost          int64         \n 14  claim_cost              int64         \n 15  drug_cost               int64         \n 16  hospital_expense        int64         \n 17  follow_up               int64         \n 18  readmitted_patient      int64         \n 19  payment_type            object        \n 20  date                    datetime64[ns]\n 21  month                   object        \n 22  year                    int64         \n 23  reason_for_readmission  object        \n 24  disease                 object        \ndtypes: datetime64[ns](1), int64(15), object(9)\nmemory usage: 792.1+ MB\n"
        }
      ],
      "execution_count": 6,
      "metadata": {
        "gather": {
          "logged": 1680764486308
        },
        "jupyter": {
          "outputs_hidden": false,
          "source_hidden": false
        },
        "nteract": {
          "transient": {
            "deleting": false
          }
        }
      }
    },
    {
      "cell_type": "markdown",
      "source": [
        "## Data Preparation for AutoML\n",
        "\n",
        "Drop encounter_id and patient_id since they are unique and give us no predictive power\n"
      ],
      "metadata": {
        "nteract": {
          "transient": {
            "deleting": false
          }
        }
      }
    },
    {
      "cell_type": "code",
      "source": [
        "patient_df = patient_df.drop(['encounter_id', 'patient_id'], axis=1)\n",
        "patient_df.info()"
      ],
      "outputs": [
        {
          "output_type": "stream",
          "name": "stdout",
          "text": "<class 'pandas.core.frame.DataFrame'>\nRangeIndex: 4153023 entries, 0 to 4153022\nData columns (total 23 columns):\n #   Column                  Dtype         \n---  ------                  -----         \n 0   hospital_id             int64         \n 1   department_id           int64         \n 2   city                    object        \n 3   patient_age             int64         \n 4   risk_level              int64         \n 5   acute_type              object        \n 6   patient_category        object        \n 7   doctor_id               int64         \n 8   length_of_stay          int64         \n 9   wait_time               int64         \n 10  type_of_stay            object        \n 11  treatment_cost          int64         \n 12  claim_cost              int64         \n 13  drug_cost               int64         \n 14  hospital_expense        int64         \n 15  follow_up               int64         \n 16  readmitted_patient      int64         \n 17  payment_type            object        \n 18  date                    datetime64[ns]\n 19  month                   object        \n 20  year                    int64         \n 21  reason_for_readmission  object        \n 22  disease                 object        \ndtypes: datetime64[ns](1), int64(14), object(8)\nmemory usage: 728.8+ MB\n"
        }
      ],
      "execution_count": 7,
      "metadata": {
        "gather": {
          "logged": 1680764486961
        },
        "jupyter": {
          "outputs_hidden": false,
          "source_hidden": false
        },
        "nteract": {
          "transient": {
            "deleting": false
          }
        }
      }
    },
    {
      "cell_type": "markdown",
      "source": [
        "#### Fix Months column\n",
        "\n",
        "The months column has both \"January\" and \"Jan\" inside it in some cases"
      ],
      "metadata": {}
    },
    {
      "cell_type": "code",
      "source": [
        "patient_df['month'] = patient_df['month'].apply(lambda x: x[0:3])"
      ],
      "outputs": [],
      "execution_count": 8,
      "metadata": {
        "gather": {
          "logged": 1680764487859
        }
      }
    },
    {
      "cell_type": "markdown",
      "source": [
        "#### Create dictionaries to rename columns from snake_case to Capital Camel Case and vice versa"
      ],
      "metadata": {}
    },
    {
      "cell_type": "code",
      "source": [
        "def to_snake_case(col_name):\n",
        "    words = col_name.split('_')\n",
        "    camel_words = [word.title() for word in words]\n",
        "    camel_words = ''.join(camel_words)\n",
        "    return camel_words\n",
        "    \n",
        "def get_snake_to_camel_dicts(df):\n",
        "    snake_case_columns = list(df.columns)\n",
        "    camel_case_columns = [to_snake_case(col_name) for col_name in snake_case_columns]\n",
        "    snake_to_camel = dict(zip(snake_case_columns, camel_case_columns))\n",
        "    camel_to_snake = {v: k for k, v in snake_to_camel.items()}\n",
        "    return snake_to_camel, camel_to_snake"
      ],
      "outputs": [],
      "execution_count": 9,
      "metadata": {
        "gather": {
          "logged": 1680764488518
        }
      }
    },
    {
      "cell_type": "code",
      "source": [
        "snake_to_camel, camel_to_snake = get_snake_to_camel_dicts(patient_df)"
      ],
      "outputs": [],
      "execution_count": 10,
      "metadata": {
        "gather": {
          "logged": 1680764489175
        }
      }
    },
    {
      "cell_type": "markdown",
      "source": [
        "### Split main DataFrame into separate dataframes for each city"
      ],
      "metadata": {}
    },
    {
      "cell_type": "code",
      "source": [
        "all_cities = dict(patient_df['city'].value_counts())\n",
        "all_cities"
      ],
      "outputs": [
        {
          "output_type": "execute_result",
          "execution_count": 11,
          "data": {
            "text/plain": "{'Los Angeles': 1416417,\n 'Chicago': 1352737,\n 'Miami': 603225,\n 'Honolulu': 425706,\n 'Anchorage': 354938}"
          },
          "metadata": {}
        }
      ],
      "execution_count": 11,
      "metadata": {
        "gather": {
          "logged": 1680764490205
        }
      }
    },
    {
      "cell_type": "code",
      "source": [
        "all_dfs = {}\n",
        "for city in all_cities:\n",
        "    city_df = patient_df[patient_df['city'] == city]\n",
        "    all_dfs[city] = city_df\n"
      ],
      "outputs": [],
      "execution_count": 12,
      "metadata": {
        "gather": {
          "logged": 1680764491455
        }
      }
    },
    {
      "cell_type": "code",
      "source": [
        "for city, df in all_dfs.items():\n",
        "    print(city, len(df))"
      ],
      "outputs": [
        {
          "output_type": "stream",
          "name": "stdout",
          "text": "Los Angeles 1416417\nChicago 1352737\nMiami 603225\nHonolulu 425706\nAnchorage 354938\n"
        }
      ],
      "execution_count": 13,
      "metadata": {
        "gather": {
          "logged": 1680764492164
        }
      }
    },
    {
      "cell_type": "markdown",
      "source": [
        "## Prepare Training and Testing set\n",
        "\n",
        "Since we plan on predicting whether patients would be readmitted in October, November or December, we split the training and testing data based on the date.\n",
        "\n",
        "Moreover, we will also be removing some columns as we do this to get a better model"
      ],
      "metadata": {
        "nteract": {
          "transient": {
            "deleting": false
          }
        }
      }
    },
    {
      "cell_type": "markdown",
      "source": [
        "#### Split data based on time"
      ],
      "metadata": {}
    },
    {
      "cell_type": "code",
      "source": [
        "columns_to_keep = [\n",
        "    'department_id',\n",
        "    'patient_age',\n",
        "    'risk_level',\n",
        "    'acute_type',\n",
        "    'length_of_stay',\n",
        "    'type_of_stay',\n",
        "    'treatment_cost',\n",
        "    'claim_cost',\n",
        "    'drug_cost',\n",
        "    'hospital_expense',\n",
        "    'follow_up',\n",
        "    'readmitted_patient',\n",
        "    'disease'\n",
        "]"
      ],
      "outputs": [],
      "execution_count": 14,
      "metadata": {
        "gather": {
          "logged": 1680764492780
        }
      }
    },
    {
      "cell_type": "code",
      "source": [
        "date_cutoff = pd.to_datetime('2020-10-01')\n",
        "\n",
        "train_dfs = {}\n",
        "for city, df in all_dfs.items():\n",
        "    train_df = df[df['date'] < date_cutoff]\n",
        "    train_df = train_df[train_df['patient_category'] == 'InPatient']\n",
        "    train_df = train_df[columns_to_keep]\n",
        "    train_dfs[city] = train_df\n",
        "    \n",
        "for city, train_df in train_dfs.items():\n",
        "    print(city, train_df.shape)"
      ],
      "outputs": [
        {
          "output_type": "stream",
          "name": "stdout",
          "text": "Los Angeles (768336, 13)\nChicago (969441, 13)\nMiami (424873, 13)\nHonolulu (311576, 13)\nAnchorage (257843, 13)\n"
        }
      ],
      "execution_count": 15,
      "metadata": {
        "gather": {
          "logged": 1680764493880
        }
      }
    },
    {
      "cell_type": "code",
      "source": [
        "test_dfs = {}\n",
        "for city, df in all_dfs.items():\n",
        "    test_df = df[df['date'] >= date_cutoff]\n",
        "    test_df = test_df[test_df['patient_category'] == 'InPatient']\n",
        "    test_df = test_df[columns_to_keep]\n",
        "    test_dfs[city] = test_df\n",
        "\n",
        "for city, test_df in test_dfs.items():\n",
        "    print(city, len(test_df))\n"
      ],
      "outputs": [
        {
          "output_type": "stream",
          "name": "stdout",
          "text": "Los Angeles 30163\nChicago 29325\nMiami 13556\nHonolulu 9726\nAnchorage 9983\n"
        }
      ],
      "execution_count": 16,
      "metadata": {
        "gather": {
          "logged": 1680764494594
        }
      }
    },
    {
      "cell_type": "markdown",
      "source": [
        "#### Balance the training dataset"
      ],
      "metadata": {}
    },
    {
      "cell_type": "code",
      "source": [
        "for city, train_df in train_dfs.items():\n",
        "    print(city)\n",
        "    print(train_df['readmitted_patient'].value_counts())"
      ],
      "outputs": [
        {
          "output_type": "stream",
          "name": "stdout",
          "text": "Los Angeles\n0    741192\n1     27144\nName: readmitted_patient, dtype: int64\nChicago\n0    921397\n1     48044\nName: readmitted_patient, dtype: int64\nMiami\n0    375783\n1     49090\nName: readmitted_patient, dtype: int64\nHonolulu\n0    285024\n1     26552\nName: readmitted_patient, dtype: int64\nAnchorage\n0    245435\n1     12408\nName: readmitted_patient, dtype: int64\n"
        }
      ],
      "execution_count": 17,
      "metadata": {
        "gather": {
          "logged": 1680764495265
        }
      }
    },
    {
      "cell_type": "code",
      "source": [
        "balanced_train_dfs = {}\n",
        "for city, train_df in train_dfs.items():\n",
        "    readmitted_df = train_df[train_df['readmitted_patient'] == 1]\n",
        "    not_readmitted_df = train_df[train_df['readmitted_patient'] == 0]\n",
        "    sampled_non_readmitted_df = not_readmitted_df.sample(n=int(1.6*len(readmitted_df)), random_state=1)\n",
        "    balanced_train_df = pd.concat([readmitted_df, sampled_non_readmitted_df]).sample(frac=1, random_state=0)\n",
        "    balanced_train_dfs[city] = balanced_train_df\n",
        "\n",
        "for city, train_df in balanced_train_dfs.items():\n",
        "    print(city)\n",
        "    print(train_df['readmitted_patient'].value_counts())\n"
      ],
      "outputs": [
        {
          "output_type": "stream",
          "name": "stdout",
          "text": "Los Angeles\n0    43430\n1    27144\nName: readmitted_patient, dtype: int64\nChicago\n0    76870\n1    48044\nName: readmitted_patient, dtype: int64\nMiami\n0    78544\n1    49090\nName: readmitted_patient, dtype: int64\nHonolulu\n0    42483\n1    26552\nName: readmitted_patient, dtype: int64\nAnchorage\n0    19852\n1    12408\nName: readmitted_patient, dtype: int64\n"
        }
      ],
      "execution_count": 18,
      "metadata": {
        "gather": {
          "logged": 1680764496622
        }
      }
    },
    {
      "cell_type": "markdown",
      "source": [
        "#### Upload training and testing set to the Storage Account"
      ],
      "metadata": {}
    },
    {
      "cell_type": "code",
      "source": [
        "# Save data locally\n",
        "local_data_folder = 'readmission_data/'\n",
        "if not os.path.exists(local_data_folder):\n",
        "    os.mkdir(local_data_folder)\n",
        "\n",
        "train_base_filename = 'readmission_data_train'\n",
        "test_base_filename = 'readmission_data_test'\n",
        "    \n",
        "train_files = {}\n",
        "test_files = {}\n",
        "for city, train_df in balanced_train_dfs.items():\n",
        "    city_space_removed = '_'.join(city.split(' '))\n",
        "    print(city_space_removed)\n",
        "    # Save train DF locally\n",
        "    train_file = train_base_filename + '_' + city_space_removed + '.csv'\n",
        "    train_files[city] = train_file\n",
        "    train_df = train_df.rename(columns=snake_to_camel)\n",
        "    print(train_df.columns)\n",
        "    train_df.to_csv(local_data_folder+train_file, index=False)\n",
        "    \n",
        "    # Save test DF locally\n",
        "    test_file = test_base_filename + '_' + city_space_removed + '.csv'\n",
        "    test_files[city] = test_file\n",
        "    test_df = test_dfs[city]\n",
        "    test_df = test_df.rename(columns=snake_to_camel)\n",
        "    print(test_df.columns)\n",
        "    test_df.to_csv(local_data_folder+test_file, index=False)\n",
        "    \n"
      ],
      "outputs": [
        {
          "output_type": "stream",
          "name": "stdout",
          "text": "Los_Angeles\nIndex(['DepartmentId', 'PatientAge', 'RiskLevel', 'AcuteType', 'LengthOfStay',\n       'TypeOfStay', 'TreatmentCost', 'ClaimCost', 'DrugCost',\n       'HospitalExpense', 'FollowUp', 'ReadmittedPatient', 'Disease'],\n      dtype='object')\nIndex(['DepartmentId', 'PatientAge', 'RiskLevel', 'AcuteType', 'LengthOfStay',\n       'TypeOfStay', 'TreatmentCost', 'ClaimCost', 'DrugCost',\n       'HospitalExpense', 'FollowUp', 'ReadmittedPatient', 'Disease'],\n      dtype='object')\nChicago\nIndex(['DepartmentId', 'PatientAge', 'RiskLevel', 'AcuteType', 'LengthOfStay',\n       'TypeOfStay', 'TreatmentCost', 'ClaimCost', 'DrugCost',\n       'HospitalExpense', 'FollowUp', 'ReadmittedPatient', 'Disease'],\n      dtype='object')\nIndex(['DepartmentId', 'PatientAge', 'RiskLevel', 'AcuteType', 'LengthOfStay',\n       'TypeOfStay', 'TreatmentCost', 'ClaimCost', 'DrugCost',\n       'HospitalExpense', 'FollowUp', 'ReadmittedPatient', 'Disease'],\n      dtype='object')\nMiami\nIndex(['DepartmentId', 'PatientAge', 'RiskLevel', 'AcuteType', 'LengthOfStay',\n       'TypeOfStay', 'TreatmentCost', 'ClaimCost', 'DrugCost',\n       'HospitalExpense', 'FollowUp', 'ReadmittedPatient', 'Disease'],\n      dtype='object')\nIndex(['DepartmentId', 'PatientAge', 'RiskLevel', 'AcuteType', 'LengthOfStay',\n       'TypeOfStay', 'TreatmentCost', 'ClaimCost', 'DrugCost',\n       'HospitalExpense', 'FollowUp', 'ReadmittedPatient', 'Disease'],\n      dtype='object')\nHonolulu\nIndex(['DepartmentId', 'PatientAge', 'RiskLevel', 'AcuteType', 'LengthOfStay',\n       'TypeOfStay', 'TreatmentCost', 'ClaimCost', 'DrugCost',\n       'HospitalExpense', 'FollowUp', 'ReadmittedPatient', 'Disease'],\n      dtype='object')\nIndex(['DepartmentId', 'PatientAge', 'RiskLevel', 'AcuteType', 'LengthOfStay',\n       'TypeOfStay', 'TreatmentCost', 'ClaimCost', 'DrugCost',\n       'HospitalExpense', 'FollowUp', 'ReadmittedPatient', 'Disease'],\n      dtype='object')\nAnchorage\nIndex(['DepartmentId', 'PatientAge', 'RiskLevel', 'AcuteType', 'LengthOfStay',\n       'TypeOfStay', 'TreatmentCost', 'ClaimCost', 'DrugCost',\n       'HospitalExpense', 'FollowUp', 'ReadmittedPatient', 'Disease'],\n      dtype='object')\nIndex(['DepartmentId', 'PatientAge', 'RiskLevel', 'AcuteType', 'LengthOfStay',\n       'TypeOfStay', 'TreatmentCost', 'ClaimCost', 'DrugCost',\n       'HospitalExpense', 'FollowUp', 'ReadmittedPatient', 'Disease'],\n      dtype='object')\n"
        }
      ],
      "execution_count": 19,
      "metadata": {
        "gather": {
          "logged": 1680764497651
        },
        "jupyter": {
          "outputs_hidden": false,
          "source_hidden": false
        },
        "nteract": {
          "transient": {
            "deleting": false
          }
        }
      }
    },
    {
      "cell_type": "code",
      "source": [
        "print(train_files)"
      ],
      "outputs": [
        {
          "output_type": "stream",
          "name": "stdout",
          "text": "{'Los Angeles': 'readmission_data_train_Los_Angeles.csv', 'Chicago': 'readmission_data_train_Chicago.csv', 'Miami': 'readmission_data_train_Miami.csv', 'Honolulu': 'readmission_data_train_Honolulu.csv', 'Anchorage': 'readmission_data_train_Anchorage.csv'}\n"
        }
      ],
      "execution_count": 20,
      "metadata": {
        "gather": {
          "logged": 1680764498304
        }
      }
    },
    {
      "cell_type": "code",
      "source": [
        "# Upload the data\n",
        "local_files = [local_data_folder + file for file in train_files.values()] \n",
        "local_files += [local_data_folder + file for file in test_files.values()]\n",
        "print(local_files)\n",
        "\n",
        "dstore.upload_files(\n",
        "    files = local_files,\n",
        "    relative_root = local_data_folder,\n",
        "    target_path = '/',\n",
        "    overwrite=True,\n",
        "    show_progress=True\n",
        ")"
      ],
      "outputs": [
        {
          "output_type": "stream",
          "name": "stdout",
          "text": "['readmission_data/readmission_data_train_Los_Angeles.csv', 'readmission_data/readmission_data_train_Chicago.csv', 'readmission_data/readmission_data_train_Miami.csv', 'readmission_data/readmission_data_train_Honolulu.csv', 'readmission_data/readmission_data_train_Anchorage.csv', 'readmission_data/readmission_data_test_Los_Angeles.csv', 'readmission_data/readmission_data_test_Chicago.csv', 'readmission_data/readmission_data_test_Miami.csv', 'readmission_data/readmission_data_test_Honolulu.csv', 'readmission_data/readmission_data_test_Anchorage.csv']\nUploading an estimated of 10 files\nUploading readmission_data/readmission_data_test_Los_Angeles.csv\nUploaded readmission_data/readmission_data_test_Los_Angeles.csv, 1 files out of an estimated total of 10\nUploading readmission_data/readmission_data_test_Miami.csv\nUploaded readmission_data/readmission_data_test_Miami.csv, 2 files out of an estimated total of 10\nUploading readmission_data/readmission_data_train_Los_Angeles.csv\nUploaded readmission_data/readmission_data_train_Los_Angeles.csv, 3 files out of an estimated total of 10\nUploading readmission_data/readmission_data_train_Chicago.csv\nUploaded readmission_data/readmission_data_train_Chicago.csv, 4 files out of an estimated total of 10\nUploading readmission_data/readmission_data_train_Honolulu.csv\nUploaded readmission_data/readmission_data_train_Honolulu.csv, 5 files out of an estimated total of 10\nUploading readmission_data/readmission_data_train_Anchorage.csv\nUploaded readmission_data/readmission_data_train_Anchorage.csv, 6 files out of an estimated total of 10\nUploading readmission_data/readmission_data_test_Chicago.csv\nUploaded readmission_data/readmission_data_test_Chicago.csv, 7 files out of an estimated total of 10\nUploading readmission_data/readmission_data_test_Honolulu.csv\nUploaded readmission_data/readmission_data_test_Honolulu.csv, 8 files out of an estimated total of 10\nUploading readmission_data/readmission_data_test_Anchorage.csv\nUploaded readmission_data/readmission_data_test_Anchorage.csv, 9 files out of an estimated total of 10\nUploading readmission_data/readmission_data_train_Miami.csv\nUploaded readmission_data/readmission_data_train_Miami.csv, 10 files out of an estimated total of 10\nUploaded 10 files\n"
        },
        {
          "output_type": "execute_result",
          "execution_count": 21,
          "data": {
            "text/plain": "$AZUREML_DATAREFERENCE_readmission_prediction_store"
          },
          "metadata": {}
        },
        {
          "output_type": "stream",
          "name": "stderr",
          "text": "\"datastore.upload_files\" is deprecated after version 1.0.69. Please use \"FileDatasetFactory.upload_directory\" instead. See Dataset API change notice at https://aka.ms/dataset-deprecation.\n"
        }
      ],
      "execution_count": 21,
      "metadata": {
        "gather": {
          "logged": 1680764499366
        },
        "jupyter": {
          "outputs_hidden": false,
          "source_hidden": false
        },
        "nteract": {
          "transient": {
            "deleting": false
          }
        }
      }
    },
    {
      "cell_type": "markdown",
      "source": [
        "### Set up AutoML Experiment"
      ],
      "metadata": {
        "nteract": {
          "transient": {
            "deleting": false
          }
        }
      }
    },
    {
      "cell_type": "markdown",
      "source": [
        "#### Set the Data Types for each column. \n",
        "This needs to be done explicitly since some ID columns are automatically inferred as integers, when they should be treated as strings"
      ],
      "metadata": {}
    },
    {
      "cell_type": "code",
      "source": [
        "data_types = {\r\n",
        "    'department_id': DataType.to_string(),\r\n",
        "    'patient_age': DataType.to_long(),\r\n",
        "    'risk_level': DataType.to_long(),\r\n",
        "    'acute_type': DataType.to_string(),\r\n",
        "    'length_of_stay': DataType.to_long(),\r\n",
        "    'type_of_stay': DataType.to_string(),\r\n",
        "    'treatment_cost': DataType.to_long(),\r\n",
        "    'claim_cost': DataType.to_long(),\r\n",
        "    'drug_cost': DataType.to_long(),\r\n",
        "    'hospital_expense': DataType.to_long(),\r\n",
        "    'follow_up': DataType.to_bool(),\r\n",
        "    'readmitted_patient': DataType.to_bool(),\r\n",
        "    'disease': DataType.to_string()\r\n",
        "}"
      ],
      "outputs": [],
      "execution_count": 22,
      "metadata": {
        "jupyter": {
          "source_hidden": false,
          "outputs_hidden": false
        },
        "nteract": {
          "transient": {
            "deleting": false
          }
        },
        "gather": {
          "logged": 1680764500020
        }
      }
    },
    {
      "cell_type": "code",
      "source": [
        "data_types_camel_case = {snake_to_camel[key]:value for key, value in data_types.items()}\n",
        "print(data_types_camel_case.keys())"
      ],
      "outputs": [
        {
          "output_type": "stream",
          "name": "stdout",
          "text": "dict_keys(['DepartmentId', 'PatientAge', 'RiskLevel', 'AcuteType', 'LengthOfStay', 'TypeOfStay', 'TreatmentCost', 'ClaimCost', 'DrugCost', 'HospitalExpense', 'FollowUp', 'ReadmittedPatient', 'Disease'])\n"
        }
      ],
      "execution_count": 23,
      "metadata": {
        "gather": {
          "logged": 1680764500693
        }
      }
    },
    {
      "cell_type": "markdown",
      "source": [
        "#### Load Training data from Storage Blob as a TabularDataSet"
      ],
      "metadata": {}
    },
    {
      "cell_type": "code",
      "source": [
        "train_datasets = {}\n",
        "for city, filepath in train_files.items():\n",
        "    datastore_path = [DataPath(dstore, filepath)]\n",
        "    train_dataset = Dataset.Tabular.from_delimited_files(path=datastore_path, set_column_types=data_types_camel_case)\n",
        "    train_datasets[city] = train_dataset\n",
        "    print(city)\n",
        "    print(train_dataset.to_pandas_dataframe().info())\n",
        "    print()\n"
      ],
      "outputs": [
        {
          "output_type": "stream",
          "name": "stdout",
          "text": "Los Angeles\n<class 'pandas.core.frame.DataFrame'>\nRangeIndex: 70574 entries, 0 to 70573\nData columns (total 13 columns):\n #   Column             Non-Null Count  Dtype \n---  ------             --------------  ----- \n 0   DepartmentId       70574 non-null  object\n 1   PatientAge         70574 non-null  int64 \n 2   RiskLevel          70574 non-null  int64 \n 3   AcuteType          70574 non-null  object\n 4   LengthOfStay       70574 non-null  int64 \n 5   TypeOfStay         70574 non-null  object\n 6   TreatmentCost      70574 non-null  int64 \n 7   ClaimCost          70574 non-null  int64 \n 8   DrugCost           70574 non-null  int64 \n 9   HospitalExpense    70574 non-null  int64 \n 10  FollowUp           70574 non-null  bool  \n 11  ReadmittedPatient  70574 non-null  bool  \n 12  Disease            70574 non-null  object\ndtypes: bool(2), int64(7), object(4)\nmemory usage: 6.1+ MB\nNone\n\nChicago\n<class 'pandas.core.frame.DataFrame'>\nRangeIndex: 124914 entries, 0 to 124913\nData columns (total 13 columns):\n #   Column             Non-Null Count   Dtype \n---  ------             --------------   ----- \n 0   DepartmentId       124914 non-null  object\n 1   PatientAge         124914 non-null  int64 \n 2   RiskLevel          124914 non-null  int64 \n 3   AcuteType          124914 non-null  object\n 4   LengthOfStay       124914 non-null  int64 \n 5   TypeOfStay         124914 non-null  object\n 6   TreatmentCost      124914 non-null  int64 \n 7   ClaimCost          124914 non-null  int64 \n 8   DrugCost           124914 non-null  int64 \n 9   HospitalExpense    124914 non-null  int64 \n 10  FollowUp           124914 non-null  bool  \n 11  ReadmittedPatient  124914 non-null  bool  \n 12  Disease            124914 non-null  object\ndtypes: bool(2), int64(7), object(4)\nmemory usage: 10.7+ MB\nNone\n\nMiami\n<class 'pandas.core.frame.DataFrame'>\nRangeIndex: 127634 entries, 0 to 127633\nData columns (total 13 columns):\n #   Column             Non-Null Count   Dtype \n---  ------             --------------   ----- \n 0   DepartmentId       127634 non-null  object\n 1   PatientAge         127634 non-null  int64 \n 2   RiskLevel          127634 non-null  int64 \n 3   AcuteType          127634 non-null  object\n 4   LengthOfStay       127634 non-null  int64 \n 5   TypeOfStay         127634 non-null  object\n 6   TreatmentCost      127634 non-null  int64 \n 7   ClaimCost          127634 non-null  int64 \n 8   DrugCost           127634 non-null  int64 \n 9   HospitalExpense    127634 non-null  int64 \n 10  FollowUp           127634 non-null  bool  \n 11  ReadmittedPatient  127634 non-null  bool  \n 12  Disease            127634 non-null  object\ndtypes: bool(2), int64(7), object(4)\nmemory usage: 11.0+ MB\nNone\n\nHonolulu\n<class 'pandas.core.frame.DataFrame'>\nRangeIndex: 69035 entries, 0 to 69034\nData columns (total 13 columns):\n #   Column             Non-Null Count  Dtype \n---  ------             --------------  ----- \n 0   DepartmentId       69035 non-null  object\n 1   PatientAge         69035 non-null  int64 \n 2   RiskLevel          69035 non-null  int64 \n 3   AcuteType          69035 non-null  object\n 4   LengthOfStay       69035 non-null  int64 \n 5   TypeOfStay         69035 non-null  object\n 6   TreatmentCost      69035 non-null  int64 \n 7   ClaimCost          69035 non-null  int64 \n 8   DrugCost           69035 non-null  int64 \n 9   HospitalExpense    69035 non-null  int64 \n 10  FollowUp           69035 non-null  bool  \n 11  ReadmittedPatient  69035 non-null  bool  \n 12  Disease            69035 non-null  object\ndtypes: bool(2), int64(7), object(4)\nmemory usage: 5.9+ MB\nNone\n\nAnchorage\n<class 'pandas.core.frame.DataFrame'>\nRangeIndex: 32260 entries, 0 to 32259\nData columns (total 13 columns):\n #   Column             Non-Null Count  Dtype \n---  ------             --------------  ----- \n 0   DepartmentId       32260 non-null  object\n 1   PatientAge         32260 non-null  int64 \n 2   RiskLevel          32260 non-null  int64 \n 3   AcuteType          32260 non-null  object\n 4   LengthOfStay       32260 non-null  int64 \n 5   TypeOfStay         32260 non-null  object\n 6   TreatmentCost      32260 non-null  int64 \n 7   ClaimCost          32260 non-null  int64 \n 8   DrugCost           32260 non-null  int64 \n 9   HospitalExpense    32260 non-null  int64 \n 10  FollowUp           32260 non-null  bool  \n 11  ReadmittedPatient  32260 non-null  bool  \n 12  Disease            32260 non-null  object\ndtypes: bool(2), int64(7), object(4)\nmemory usage: 2.8+ MB\nNone\n\n"
        }
      ],
      "execution_count": 24,
      "metadata": {
        "gather": {
          "logged": 1680764502882
        }
      }
    },
    {
      "cell_type": "code",
      "source": [
        "y_variable = \"ReadmittedPatient\""
      ],
      "outputs": [],
      "execution_count": 25,
      "metadata": {
        "gather": {
          "logged": 1680764503544
        },
        "nteract": {
          "transient": {
            "deleting": false
          }
        }
      }
    },
    {
      "cell_type": "markdown",
      "source": [
        "#### Setup Computer Instances"
      ],
      "metadata": {}
    },
    {
      "cell_type": "code",
      "source": [
        "compute = AmlCompute(ws, \"health-cluster\")"
      ],
      "outputs": [],
      "execution_count": 26,
      "metadata": {
        "gather": {
          "logged": 1680764504187
        }
      }
    },
    {
      "cell_type": "markdown",
      "source": [
        "#### Configure the AutoML model and run it"
      ],
      "metadata": {}
    },
    {
      "cell_type": "code",
      "source": [
        "training_runs={}"
      ],
      "outputs": [],
      "execution_count": 27,
      "metadata": {
        "gather": {
          "logged": 1680764598278
        }
      }
    },
    {
      "cell_type": "code",
      "source": [
        "for city, train_dataset in train_datasets.items():\n",
        "    city_space_removed = '_'.join(city.split(' '))\n",
        "    experiment_name = 'Readmission-Prediction-Experiment-'+city_space_removed\n",
        "    print(experiment_name)\n",
        "    experiment = Experiment(ws, experiment_name)\n",
        "\n",
        "    automl_config = AutoMLConfig(task = 'classification',\n",
        "                         debug_log = 'automl_errors.log',\n",
        "                         iteration_timeout_minutes = 15,\n",
        "                         experiment_timeout_minutes = 15,\n",
        "                         label_column_name=y_variable,\n",
        "                         enable_early_stopping=True,\n",
        "                         primary_metric='precision_score_weighted',\n",
        "                         compute_target = compute,\n",
        "                         training_data = train_dataset,\n",
        "                         model_explainability=True)\n",
        "\n",
        "    training_run = experiment.submit(automl_config, show_output = False)\n",
        "    training_runs[city_space_removed]=training_run"
      ],
      "outputs": [
        {
          "output_type": "stream",
          "name": "stdout",
          "text": "Readmission-Prediction-Experiment-Los_Angeles\nSubmitting remote run.\n"
        },
        {
          "output_type": "display_data",
          "data": {
            "text/plain": "<IPython.core.display.HTML object>",
            "text/html": "<table style=\"width:100%\"><tr><th>Experiment</th><th>Id</th><th>Type</th><th>Status</th><th>Details Page</th><th>Docs Page</th></tr><tr><td>Readmission-Prediction-Experiment-Los_Angeles</td><td>AutoML_b82e26d4-d2d0-4f65-a79c-e0f70c792033</td><td>automl</td><td>NotStarted</td><td><a href=\"https://ml.azure.com/runs/AutoML_b82e26d4-d2d0-4f65-a79c-e0f70c792033?wsid=/subscriptions/506e86fc-853c-4557-a6e5-ad72114efd2b/resourcegroups/rg-healthcare2-prod/workspaces/mlw-healthcare2-prod&amp;tid=f94768c8-8714-4abe-8e2d-37a64b18216a\" target=\"_blank\" rel=\"noopener\">Link to Azure Machine Learning studio</a></td><td><a href=\"https://docs.microsoft.com/en-us/python/api/overview/azure/ml/intro?view=azure-ml-py\" target=\"_blank\" rel=\"noopener\">Link to Documentation</a></td></tr></table>"
          },
          "metadata": {}
        },
        {
          "output_type": "stream",
          "name": "stdout",
          "text": "Readmission-Prediction-Experiment-Chicago\nSubmitting remote run.\n"
        },
        {
          "output_type": "display_data",
          "data": {
            "text/plain": "<IPython.core.display.HTML object>",
            "text/html": "<table style=\"width:100%\"><tr><th>Experiment</th><th>Id</th><th>Type</th><th>Status</th><th>Details Page</th><th>Docs Page</th></tr><tr><td>Readmission-Prediction-Experiment-Chicago</td><td>AutoML_47a77781-c0d9-4db7-891f-958223f3242c</td><td>automl</td><td>NotStarted</td><td><a href=\"https://ml.azure.com/runs/AutoML_47a77781-c0d9-4db7-891f-958223f3242c?wsid=/subscriptions/506e86fc-853c-4557-a6e5-ad72114efd2b/resourcegroups/rg-healthcare2-prod/workspaces/mlw-healthcare2-prod&amp;tid=f94768c8-8714-4abe-8e2d-37a64b18216a\" target=\"_blank\" rel=\"noopener\">Link to Azure Machine Learning studio</a></td><td><a href=\"https://docs.microsoft.com/en-us/python/api/overview/azure/ml/intro?view=azure-ml-py\" target=\"_blank\" rel=\"noopener\">Link to Documentation</a></td></tr></table>"
          },
          "metadata": {}
        },
        {
          "output_type": "stream",
          "name": "stdout",
          "text": "Readmission-Prediction-Experiment-Miami\nSubmitting remote run.\n"
        },
        {
          "output_type": "display_data",
          "data": {
            "text/plain": "<IPython.core.display.HTML object>",
            "text/html": "<table style=\"width:100%\"><tr><th>Experiment</th><th>Id</th><th>Type</th><th>Status</th><th>Details Page</th><th>Docs Page</th></tr><tr><td>Readmission-Prediction-Experiment-Miami</td><td>AutoML_75d012a0-b126-42bb-9eeb-6b0794a41ae6</td><td>automl</td><td>NotStarted</td><td><a href=\"https://ml.azure.com/runs/AutoML_75d012a0-b126-42bb-9eeb-6b0794a41ae6?wsid=/subscriptions/506e86fc-853c-4557-a6e5-ad72114efd2b/resourcegroups/rg-healthcare2-prod/workspaces/mlw-healthcare2-prod&amp;tid=f94768c8-8714-4abe-8e2d-37a64b18216a\" target=\"_blank\" rel=\"noopener\">Link to Azure Machine Learning studio</a></td><td><a href=\"https://docs.microsoft.com/en-us/python/api/overview/azure/ml/intro?view=azure-ml-py\" target=\"_blank\" rel=\"noopener\">Link to Documentation</a></td></tr></table>"
          },
          "metadata": {}
        },
        {
          "output_type": "stream",
          "name": "stdout",
          "text": "Readmission-Prediction-Experiment-Honolulu\nSubmitting remote run.\n"
        },
        {
          "output_type": "display_data",
          "data": {
            "text/plain": "<IPython.core.display.HTML object>",
            "text/html": "<table style=\"width:100%\"><tr><th>Experiment</th><th>Id</th><th>Type</th><th>Status</th><th>Details Page</th><th>Docs Page</th></tr><tr><td>Readmission-Prediction-Experiment-Honolulu</td><td>AutoML_4063e63f-fbff-446e-abdc-b8937a09eac2</td><td>automl</td><td>NotStarted</td><td><a href=\"https://ml.azure.com/runs/AutoML_4063e63f-fbff-446e-abdc-b8937a09eac2?wsid=/subscriptions/506e86fc-853c-4557-a6e5-ad72114efd2b/resourcegroups/rg-healthcare2-prod/workspaces/mlw-healthcare2-prod&amp;tid=f94768c8-8714-4abe-8e2d-37a64b18216a\" target=\"_blank\" rel=\"noopener\">Link to Azure Machine Learning studio</a></td><td><a href=\"https://docs.microsoft.com/en-us/python/api/overview/azure/ml/intro?view=azure-ml-py\" target=\"_blank\" rel=\"noopener\">Link to Documentation</a></td></tr></table>"
          },
          "metadata": {}
        },
        {
          "output_type": "stream",
          "name": "stdout",
          "text": "Readmission-Prediction-Experiment-Anchorage\nSubmitting remote run.\n"
        },
        {
          "output_type": "display_data",
          "data": {
            "text/plain": "<IPython.core.display.HTML object>",
            "text/html": "<table style=\"width:100%\"><tr><th>Experiment</th><th>Id</th><th>Type</th><th>Status</th><th>Details Page</th><th>Docs Page</th></tr><tr><td>Readmission-Prediction-Experiment-Anchorage</td><td>AutoML_372648a9-ca0f-422f-a89f-832366e5a7b9</td><td>automl</td><td>NotStarted</td><td><a href=\"https://ml.azure.com/runs/AutoML_372648a9-ca0f-422f-a89f-832366e5a7b9?wsid=/subscriptions/506e86fc-853c-4557-a6e5-ad72114efd2b/resourcegroups/rg-healthcare2-prod/workspaces/mlw-healthcare2-prod&amp;tid=f94768c8-8714-4abe-8e2d-37a64b18216a\" target=\"_blank\" rel=\"noopener\">Link to Azure Machine Learning studio</a></td><td><a href=\"https://docs.microsoft.com/en-us/python/api/overview/azure/ml/intro?view=azure-ml-py\" target=\"_blank\" rel=\"noopener\">Link to Documentation</a></td></tr></table>"
          },
          "metadata": {}
        }
      ],
      "execution_count": 28,
      "metadata": {
        "gather": {
          "logged": 1680764617595
        }
      }
    },
    {
      "cell_type": "markdown",
      "source": [
        "### Retrieve model to predict the test set\n",
        "We must wait until the models train for us to run this step"
      ],
      "metadata": {}
    },
    {
      "cell_type": "code",
      "source": [
        "print(training_runs)"
      ],
      "outputs": [
        {
          "output_type": "stream",
          "name": "stdout",
          "text": "{'Los_Angeles': Run(Experiment: Readmission-Prediction-Experiment-Los_Angeles,\nId: AutoML_b82e26d4-d2d0-4f65-a79c-e0f70c792033,\nType: automl,\nStatus: NotStarted), 'Chicago': Run(Experiment: Readmission-Prediction-Experiment-Chicago,\nId: AutoML_47a77781-c0d9-4db7-891f-958223f3242c,\nType: automl,\nStatus: NotStarted), 'Miami': Run(Experiment: Readmission-Prediction-Experiment-Miami,\nId: AutoML_75d012a0-b126-42bb-9eeb-6b0794a41ae6,\nType: automl,\nStatus: NotStarted), 'Honolulu': Run(Experiment: Readmission-Prediction-Experiment-Honolulu,\nId: AutoML_4063e63f-fbff-446e-abdc-b8937a09eac2,\nType: automl,\nStatus: NotStarted), 'Anchorage': Run(Experiment: Readmission-Prediction-Experiment-Anchorage,\nId: AutoML_372648a9-ca0f-422f-a89f-832366e5a7b9,\nType: automl,\nStatus: NotStarted)}\n"
        }
      ],
      "execution_count": 29,
      "metadata": {
        "gather": {
          "logged": 1680764619911
        },
        "collapsed": true
      }
    },
    {
      "cell_type": "code",
      "source": [
        "ws = Workspace.from_config()\n",
        "blob_datastore_name=GlobalVariables.READMISSION_DATASTORE_NAME\n",
        "dstore = Datastore.get(ws, datastore_name=blob_datastore_name)\n",
        "#ws_ds = ws.get_default_datastore()\n",
        "\n",
        "print('Workspace Name: ' + ws.name, \n",
        "      'Resource Group: ' + ws.resource_group,\n",
        "      'Default Storage Account Name: ' + dstore.account_name,\n",
        "      'AzureML Core Version: ' + azureml.core.VERSION,\n",
        "      sep = '\\n')"
      ],
      "outputs": [
        {
          "output_type": "stream",
          "name": "stdout",
          "text": "Workspace Name: mlw-healthcare2-prod\nResource Group: rg-healthcare2-prod\nDefault Storage Account Name: sthealthcare2prod\nAzureML Core Version: 1.48.0\n"
        }
      ],
      "execution_count": 30,
      "metadata": {
        "gather": {
          "logged": 1680764629987
        }
      }
    },
    {
      "cell_type": "code",
      "source": [
        "# These need to be looked up from the Experiments page on Azure ML\n",
        "autoMLRunIds = {\n",
        "    'Los Angeles': 'AutoML_e2a7eb2c-cfab-4474-8a42-53e78370dd85',\n",
        "    'Chicago': 'AutoML_75c84419-4b04-4947-96b9-3e1de6747af6',\n",
        "    'Miami': 'AutoML_065888ea-1aa7-4887-9fe3-ff07d809a2e5',\n",
        "    'Honolulu': 'AutoML_67582902-51f5-4f4a-b611-eb7604c9a117',\n",
        "    'Anchorage': 'AutoML_63d9f496-b5a1-486f-8b62-6eee146f5abb'\n",
        "}"
      ],
      "outputs": [],
      "execution_count": 31,
      "metadata": {
        "gather": {
          "logged": 1680764637302
        }
      }
    },
    {
      "cell_type": "code",
      "source": [
        "all_models = {}\n",
        "for city, autoMLRunId in autoMLRunIds.items():\n",
        "    city_space_removed = '_'.join(city.split(' '))\n",
        "    experiment_name = 'Readmission-Prediction-Experiment-'+city_space_removed\n",
        "    print(city)\n",
        "    experiment = Experiment(workspace = ws, name = experiment_name)\n",
        "    automl_run = AutoMLRun(experiment, autoMLRunId, outputs = None)\n",
        "    \n",
        "    display(automl_run)\n",
        "    # Get the model\n",
        "    best_run, fitted_model = automl_run.get_output()\n",
        "    model_name = best_run.properties['model_name']\n",
        "    print(model_name)\n",
        "    all_models[city] = fitted_model"
      ],
      "outputs": [
        {
          "output_type": "stream",
          "name": "stdout",
          "text": "Los Angeles\n"
        },
        {
          "output_type": "display_data",
          "data": {
            "text/plain": "Run(Experiment: Readmission-Prediction-Experiment-Los_Angeles,\nId: AutoML_e2a7eb2c-cfab-4474-8a42-53e78370dd85,\nType: automl,\nStatus: Completed)",
            "text/html": "<table style=\"width:100%\"><tr><th>Experiment</th><th>Id</th><th>Type</th><th>Status</th><th>Details Page</th><th>Docs Page</th></tr><tr><td>Readmission-Prediction-Experiment-Los_Angeles</td><td>AutoML_e2a7eb2c-cfab-4474-8a42-53e78370dd85</td><td>automl</td><td>Completed</td><td><a href=\"https://ml.azure.com/runs/AutoML_e2a7eb2c-cfab-4474-8a42-53e78370dd85?wsid=/subscriptions/506e86fc-853c-4557-a6e5-ad72114efd2b/resourcegroups/rg-healthcare2-prod/workspaces/mlw-healthcare2-prod&amp;tid=f94768c8-8714-4abe-8e2d-37a64b18216a\" target=\"_blank\" rel=\"noopener\">Link to Azure Machine Learning studio</a></td><td><a href=\"https://docs.microsoft.com/en-us/python/api/overview/azure/ml/intro?view=azure-ml-py\" target=\"_blank\" rel=\"noopener\">Link to Documentation</a></td></tr></table>"
          },
          "metadata": {}
        },
        {
          "output_type": "stream",
          "name": "stdout",
          "text": "AutoMLe2a7eb2cc9\nChicago\n"
        },
        {
          "output_type": "display_data",
          "data": {
            "text/plain": "Run(Experiment: Readmission-Prediction-Experiment-Chicago,\nId: AutoML_75c84419-4b04-4947-96b9-3e1de6747af6,\nType: automl,\nStatus: Completed)",
            "text/html": "<table style=\"width:100%\"><tr><th>Experiment</th><th>Id</th><th>Type</th><th>Status</th><th>Details Page</th><th>Docs Page</th></tr><tr><td>Readmission-Prediction-Experiment-Chicago</td><td>AutoML_75c84419-4b04-4947-96b9-3e1de6747af6</td><td>automl</td><td>Completed</td><td><a href=\"https://ml.azure.com/runs/AutoML_75c84419-4b04-4947-96b9-3e1de6747af6?wsid=/subscriptions/506e86fc-853c-4557-a6e5-ad72114efd2b/resourcegroups/rg-healthcare2-prod/workspaces/mlw-healthcare2-prod&amp;tid=f94768c8-8714-4abe-8e2d-37a64b18216a\" target=\"_blank\" rel=\"noopener\">Link to Azure Machine Learning studio</a></td><td><a href=\"https://docs.microsoft.com/en-us/python/api/overview/azure/ml/intro?view=azure-ml-py\" target=\"_blank\" rel=\"noopener\">Link to Documentation</a></td></tr></table>"
          },
          "metadata": {}
        },
        {
          "output_type": "stream",
          "name": "stdout",
          "text": "AutoML75c84419421\nMiami\n"
        },
        {
          "output_type": "display_data",
          "data": {
            "text/plain": "Run(Experiment: Readmission-Prediction-Experiment-Miami,\nId: AutoML_065888ea-1aa7-4887-9fe3-ff07d809a2e5,\nType: automl,\nStatus: Completed)",
            "text/html": "<table style=\"width:100%\"><tr><th>Experiment</th><th>Id</th><th>Type</th><th>Status</th><th>Details Page</th><th>Docs Page</th></tr><tr><td>Readmission-Prediction-Experiment-Miami</td><td>AutoML_065888ea-1aa7-4887-9fe3-ff07d809a2e5</td><td>automl</td><td>Completed</td><td><a href=\"https://ml.azure.com/runs/AutoML_065888ea-1aa7-4887-9fe3-ff07d809a2e5?wsid=/subscriptions/506e86fc-853c-4557-a6e5-ad72114efd2b/resourcegroups/rg-healthcare2-prod/workspaces/mlw-healthcare2-prod&amp;tid=f94768c8-8714-4abe-8e2d-37a64b18216a\" target=\"_blank\" rel=\"noopener\">Link to Azure Machine Learning studio</a></td><td><a href=\"https://docs.microsoft.com/en-us/python/api/overview/azure/ml/intro?view=azure-ml-py\" target=\"_blank\" rel=\"noopener\">Link to Documentation</a></td></tr></table>"
          },
          "metadata": {}
        },
        {
          "output_type": "stream",
          "name": "stdout",
          "text": "AutoML065888ea10\nHonolulu\n"
        },
        {
          "output_type": "display_data",
          "data": {
            "text/plain": "Run(Experiment: Readmission-Prediction-Experiment-Honolulu,\nId: AutoML_67582902-51f5-4f4a-b611-eb7604c9a117,\nType: automl,\nStatus: Completed)",
            "text/html": "<table style=\"width:100%\"><tr><th>Experiment</th><th>Id</th><th>Type</th><th>Status</th><th>Details Page</th><th>Docs Page</th></tr><tr><td>Readmission-Prediction-Experiment-Honolulu</td><td>AutoML_67582902-51f5-4f4a-b611-eb7604c9a117</td><td>automl</td><td>Completed</td><td><a href=\"https://ml.azure.com/runs/AutoML_67582902-51f5-4f4a-b611-eb7604c9a117?wsid=/subscriptions/506e86fc-853c-4557-a6e5-ad72114efd2b/resourcegroups/rg-healthcare2-prod/workspaces/mlw-healthcare2-prod&amp;tid=f94768c8-8714-4abe-8e2d-37a64b18216a\" target=\"_blank\" rel=\"noopener\">Link to Azure Machine Learning studio</a></td><td><a href=\"https://docs.microsoft.com/en-us/python/api/overview/azure/ml/intro?view=azure-ml-py\" target=\"_blank\" rel=\"noopener\">Link to Documentation</a></td></tr></table>"
          },
          "metadata": {}
        },
        {
          "output_type": "stream",
          "name": "stdout",
          "text": "AutoML67582902521\nAnchorage\n"
        },
        {
          "output_type": "display_data",
          "data": {
            "text/plain": "Run(Experiment: Readmission-Prediction-Experiment-Anchorage,\nId: AutoML_63d9f496-b5a1-486f-8b62-6eee146f5abb,\nType: automl,\nStatus: Completed)",
            "text/html": "<table style=\"width:100%\"><tr><th>Experiment</th><th>Id</th><th>Type</th><th>Status</th><th>Details Page</th><th>Docs Page</th></tr><tr><td>Readmission-Prediction-Experiment-Anchorage</td><td>AutoML_63d9f496-b5a1-486f-8b62-6eee146f5abb</td><td>automl</td><td>Completed</td><td><a href=\"https://ml.azure.com/runs/AutoML_63d9f496-b5a1-486f-8b62-6eee146f5abb?wsid=/subscriptions/506e86fc-853c-4557-a6e5-ad72114efd2b/resourcegroups/rg-healthcare2-prod/workspaces/mlw-healthcare2-prod&amp;tid=f94768c8-8714-4abe-8e2d-37a64b18216a\" target=\"_blank\" rel=\"noopener\">Link to Azure Machine Learning studio</a></td><td><a href=\"https://docs.microsoft.com/en-us/python/api/overview/azure/ml/intro?view=azure-ml-py\" target=\"_blank\" rel=\"noopener\">Link to Documentation</a></td></tr></table>"
          },
          "metadata": {}
        },
        {
          "output_type": "stream",
          "name": "stdout",
          "text": "AutoML63d9f496b21\n"
        }
      ],
      "execution_count": 32,
      "metadata": {
        "gather": {
          "logged": 1680764667882
        }
      }
    },
    {
      "cell_type": "code",
      "source": [
        "all_models['Honolulu']"
      ],
      "outputs": [
        {
          "output_type": "execute_result",
          "execution_count": 33,
          "data": {
            "text/plain": "PipelineWithYTransformations(Pipeline={'memory': None,\n                                       'steps': [('datatransformer',\n                                                  DataTransformer(enable_dnn=False, enable_feature_sweeping=True, feature_sweeping_config={}, feature_sweeping_timeout=86400, featurization_config=None, force_text_dnn=False, is_cross_validation=False, is_onnx_compatible=False, observer=None, task='classification', working_dir='/m...\n                                                  StackEnsembleClassifier(base_learners=[('0', Pipeline(memory=None, steps=[('maxabsscaler', MaxAbsScaler(copy=True)), ('lightgbmclassifier', LightGBMClassifier(min_data_in_leaf=20, n_jobs=1, problem_info=ProblemInfo(gpu_training_param_dict={'processing_unit_type': 'cpu'}), random_state=None))], verbose=False)), ('1', Pipeline(memory=None, steps=[('maxabsscaler', MaxAbsScaler(copy=True)), ('xgboostclassifier', XGBoostClassifier(n_jobs=1, problem_info=ProblemInfo(gpu_training_param_dict={'processing_unit_type': 'cpu'}), random_state=0, tree_method='auto'))], verbose=False))], meta_learner=LogisticRegressionCV(Cs=10, class_weight=None, cv=None, dual=False, fit_intercept=True, intercept_scaling=1.0, l1_ratios=None, max_iter=100, multi_class='auto', n_jobs=None, penalty='l2', random_state=None, refit=True, scoring=Scorer(metric='precision_score_weighted'), solver='lbfgs', tol=0.0001, verbose=0), training_cv_folds=5))],\n                                       'verbose': False},\n                             y_transformer={},\n                             y_transformer_name='LabelEncoder')"
          },
          "metadata": {}
        }
      ],
      "execution_count": 33,
      "metadata": {
        "gather": {
          "logged": 1680764673120
        }
      }
    },
    {
      "cell_type": "markdown",
      "source": [
        "#### Set up Test Data for prediction\n",
        "\n",
        "The test_df also contains the y_variable which needs to be dropped"
      ],
      "metadata": {}
    },
    {
      "cell_type": "code",
      "source": [
        "all_dfs_inpatient = {}\n",
        "for city, df in all_dfs.items():\n",
        "    df = df[df['patient_category'] == 'InPatient']\n",
        "#     df = df.drop('patient_category', axis=1)\n",
        "    all_dfs_inpatient[city] = df"
      ],
      "outputs": [],
      "execution_count": 34,
      "metadata": {
        "gather": {
          "logged": 1680764678654
        }
      }
    },
    {
      "cell_type": "code",
      "source": [
        "all_X_dfs = {}\n",
        "\n",
        "for city, df in all_dfs_inpatient.items():\n",
        "    X_df = df[columns_to_keep]\n",
        "    X_df = X_df.rename(columns=snake_to_camel)\n",
        "    X_df = X_df.drop(y_variable, axis=1)\n",
        "    print(city, X_df.shape)\n",
        "    all_X_dfs[city] = X_df"
      ],
      "outputs": [
        {
          "output_type": "stream",
          "name": "stdout",
          "text": "Los Angeles (798499, 12)\nChicago (998766, 12)\nMiami (438429, 12)\nHonolulu (321302, 12)\nAnchorage (267826, 12)\n"
        }
      ],
      "execution_count": 35,
      "metadata": {
        "gather": {
          "logged": 1680764684931
        }
      }
    },
    {
      "cell_type": "markdown",
      "source": [
        "#### Get Predictions and probabilities"
      ],
      "metadata": {}
    },
    {
      "cell_type": "code",
      "source": [
        "citywise_predictions = {}\n",
        "citywise_probabilities = {}\n",
        "\n",
        "for city, X_df in all_X_dfs.items():\n",
        "    print(city)\n",
        "    fitted_model = all_models[city]\n",
        "    print(\"Getting Predictions\")\n",
        "    predictions = fitted_model.predict(X_df)\n",
        "    print(\"Getting Probabilities\")\n",
        "    prediction_probabilities = fitted_model.predict_proba(X_df)\n",
        "    \n",
        "    # Prediction Probabilities returns a dataframe with probabilities of True and False as columns\n",
        "    # Since we only want the probability of True we select the appropriate series\n",
        "    prediction_probabilities = prediction_probabilities[True]\n",
        "\n",
        "    citywise_predictions[city] = predictions\n",
        "    citywise_probabilities[city] = prediction_probabilities"
      ],
      "outputs": [
        {
          "output_type": "stream",
          "name": "stdout",
          "text": "Los Angeles\nGetting Predictions\nGetting Probabilities\nChicago\nGetting Predictions\nGetting Probabilities\nMiami\nGetting Predictions\nGetting Probabilities\nHonolulu\nGetting Predictions\nGetting Probabilities\nAnchorage\nGetting Predictions\nGetting Probabilities\n"
        }
      ],
      "execution_count": 36,
      "metadata": {
        "gather": {
          "logged": 1680764844533
        },
        "scrolled": true
      }
    },
    {
      "cell_type": "code",
      "source": [
        "citywise_predictions['Honolulu']"
      ],
      "outputs": [
        {
          "output_type": "execute_result",
          "execution_count": 37,
          "data": {
            "text/plain": "array([False, False, False, ..., False,  True, False])"
          },
          "metadata": {}
        }
      ],
      "execution_count": 37,
      "metadata": {
        "gather": {
          "logged": 1680764863053
        }
      }
    },
    {
      "cell_type": "code",
      "source": [
        "citywise_probabilities['Honolulu']"
      ],
      "outputs": [
        {
          "output_type": "execute_result",
          "execution_count": 38,
          "data": {
            "text/plain": "0        0.37\n1        0.35\n2        0.43\n3        0.35\n4        0.43\n         ... \n321297   0.45\n321298   0.54\n321299   0.43\n321300   0.50\n321301   0.42\nName: True, Length: 321302, dtype: float64"
          },
          "metadata": {}
        }
      ],
      "execution_count": 38,
      "metadata": {
        "gather": {
          "logged": 1680764870834
        }
      }
    },
    {
      "cell_type": "code",
      "source": [
        "temp_dict = {}\n",
        "for city, df in all_dfs_inpatient.items():\n",
        "    print(city)\n",
        "    df = df.reset_index(drop=True)\n",
        "    df['Actual_Flag'] = df['readmitted_patient'].apply(lambda x: True if x else False)\n",
        "    df['Predicted_Flag'] = citywise_predictions[city]\n",
        "    df['Prediction_Probability'] = citywise_probabilities[city]\n",
        "\n",
        "    temp_dict[city] = df\n",
        "    \n",
        "all_dfs = temp_dict"
      ],
      "outputs": [
        {
          "output_type": "stream",
          "name": "stdout",
          "text": "Los Angeles\nChicago\nMiami\nHonolulu\nAnchorage\n"
        }
      ],
      "execution_count": 39,
      "metadata": {
        "gather": {
          "logged": 1680764894629
        }
      }
    },
    {
      "cell_type": "code",
      "source": [
        "all_dfs['Honolulu']"
      ],
      "outputs": [
        {
          "output_type": "execute_result",
          "execution_count": 40,
          "data": {
            "text/html": "<div>\n<style scoped>\n    .dataframe tbody tr th:only-of-type {\n        vertical-align: middle;\n    }\n\n    .dataframe tbody tr th {\n        vertical-align: top;\n    }\n\n    .dataframe thead th {\n        text-align: right;\n    }\n</style>\n<table border=\"1\" class=\"dataframe\">\n  <thead>\n    <tr style=\"text-align: right;\">\n      <th></th>\n      <th>hospital_id</th>\n      <th>department_id</th>\n      <th>city</th>\n      <th>patient_age</th>\n      <th>risk_level</th>\n      <th>acute_type</th>\n      <th>patient_category</th>\n      <th>doctor_id</th>\n      <th>length_of_stay</th>\n      <th>wait_time</th>\n      <th>...</th>\n      <th>readmitted_patient</th>\n      <th>payment_type</th>\n      <th>date</th>\n      <th>month</th>\n      <th>year</th>\n      <th>reason_for_readmission</th>\n      <th>disease</th>\n      <th>Actual_Flag</th>\n      <th>Predicted_Flag</th>\n      <th>Prediction_Probability</th>\n    </tr>\n  </thead>\n  <tbody>\n    <tr>\n      <th>0</th>\n      <td>9</td>\n      <td>5</td>\n      <td>Honolulu</td>\n      <td>40</td>\n      <td>5</td>\n      <td>Acute</td>\n      <td>InPatient</td>\n      <td>6185</td>\n      <td>4</td>\n      <td>45</td>\n      <td>...</td>\n      <td>0</td>\n      <td>Uninsured</td>\n      <td>2016-06-25 08:44:00</td>\n      <td>Jun</td>\n      <td>2016</td>\n      <td>None</td>\n      <td>ectopic pregnancy</td>\n      <td>False</td>\n      <td>True</td>\n      <td>0.55</td>\n    </tr>\n    <tr>\n      <th>1</th>\n      <td>9</td>\n      <td>7</td>\n      <td>Honolulu</td>\n      <td>36</td>\n      <td>2</td>\n      <td>Non Acute</td>\n      <td>InPatient</td>\n      <td>7907</td>\n      <td>4</td>\n      <td>49</td>\n      <td>...</td>\n      <td>0</td>\n      <td>Uninsured</td>\n      <td>2016-11-10 21:04:00</td>\n      <td>Nov</td>\n      <td>2016</td>\n      <td>None</td>\n      <td>flu</td>\n      <td>False</td>\n      <td>False</td>\n      <td>0.37</td>\n    </tr>\n    <tr>\n      <th>2</th>\n      <td>9</td>\n      <td>7</td>\n      <td>Honolulu</td>\n      <td>26</td>\n      <td>5</td>\n      <td>Acute</td>\n      <td>InPatient</td>\n      <td>4357</td>\n      <td>3</td>\n      <td>50</td>\n      <td>...</td>\n      <td>0</td>\n      <td>Uninsured</td>\n      <td>2018-03-10 06:33:00</td>\n      <td>Mar</td>\n      <td>2018</td>\n      <td>None</td>\n      <td>flu</td>\n      <td>False</td>\n      <td>True</td>\n      <td>0.59</td>\n    </tr>\n    <tr>\n      <th>3</th>\n      <td>9</td>\n      <td>7</td>\n      <td>Honolulu</td>\n      <td>27</td>\n      <td>2</td>\n      <td>Non Acute</td>\n      <td>InPatient</td>\n      <td>12458</td>\n      <td>4</td>\n      <td>48</td>\n      <td>...</td>\n      <td>0</td>\n      <td>Uninsured</td>\n      <td>2018-08-16 01:36:00</td>\n      <td>Aug</td>\n      <td>2018</td>\n      <td>None</td>\n      <td>flu</td>\n      <td>False</td>\n      <td>False</td>\n      <td>0.37</td>\n    </tr>\n    <tr>\n      <th>4</th>\n      <td>9</td>\n      <td>7</td>\n      <td>Honolulu</td>\n      <td>30</td>\n      <td>5</td>\n      <td>Acute</td>\n      <td>InPatient</td>\n      <td>3882</td>\n      <td>4</td>\n      <td>49</td>\n      <td>...</td>\n      <td>0</td>\n      <td>Uninsured</td>\n      <td>2018-03-07 09:24:00</td>\n      <td>Mar</td>\n      <td>2018</td>\n      <td>None</td>\n      <td>flu</td>\n      <td>False</td>\n      <td>True</td>\n      <td>0.59</td>\n    </tr>\n    <tr>\n      <th>...</th>\n      <td>...</td>\n      <td>...</td>\n      <td>...</td>\n      <td>...</td>\n      <td>...</td>\n      <td>...</td>\n      <td>...</td>\n      <td>...</td>\n      <td>...</td>\n      <td>...</td>\n      <td>...</td>\n      <td>...</td>\n      <td>...</td>\n      <td>...</td>\n      <td>...</td>\n      <td>...</td>\n      <td>...</td>\n      <td>...</td>\n      <td>...</td>\n      <td>...</td>\n      <td>...</td>\n    </tr>\n    <tr>\n      <th>321297</th>\n      <td>9</td>\n      <td>1</td>\n      <td>Honolulu</td>\n      <td>76</td>\n      <td>5</td>\n      <td>Acute</td>\n      <td>InPatient</td>\n      <td>505</td>\n      <td>9</td>\n      <td>31</td>\n      <td>...</td>\n      <td>1</td>\n      <td>Medicaid</td>\n      <td>2018-11-25 23:24:00</td>\n      <td>Nov</td>\n      <td>2018</td>\n      <td>Recurrence of a preexisting condition / infection</td>\n      <td>chemotherapy</td>\n      <td>True</td>\n      <td>True</td>\n      <td>0.56</td>\n    </tr>\n    <tr>\n      <th>321298</th>\n      <td>9</td>\n      <td>8</td>\n      <td>Honolulu</td>\n      <td>39</td>\n      <td>5</td>\n      <td>Acute</td>\n      <td>InPatient</td>\n      <td>458</td>\n      <td>14</td>\n      <td>38</td>\n      <td>...</td>\n      <td>1</td>\n      <td>Medicaid</td>\n      <td>2018-05-21 16:01:00</td>\n      <td>May</td>\n      <td>2018</td>\n      <td>Recurrence of a preexisting condition / infection</td>\n      <td>psoriasis</td>\n      <td>True</td>\n      <td>True</td>\n      <td>0.74</td>\n    </tr>\n    <tr>\n      <th>321299</th>\n      <td>9</td>\n      <td>3</td>\n      <td>Honolulu</td>\n      <td>73</td>\n      <td>5</td>\n      <td>Acute</td>\n      <td>InPatient</td>\n      <td>5615</td>\n      <td>10</td>\n      <td>39</td>\n      <td>...</td>\n      <td>1</td>\n      <td>Medicaid</td>\n      <td>2019-09-22 02:31:00</td>\n      <td>Sep</td>\n      <td>2019</td>\n      <td>Medication errors or lack of accurate medicati...</td>\n      <td>heart attack</td>\n      <td>True</td>\n      <td>True</td>\n      <td>0.58</td>\n    </tr>\n    <tr>\n      <th>321300</th>\n      <td>9</td>\n      <td>7</td>\n      <td>Honolulu</td>\n      <td>86</td>\n      <td>5</td>\n      <td>Acute</td>\n      <td>InPatient</td>\n      <td>5842</td>\n      <td>4</td>\n      <td>48</td>\n      <td>...</td>\n      <td>1</td>\n      <td>Medicaid</td>\n      <td>2019-05-29 14:54:00</td>\n      <td>May</td>\n      <td>2019</td>\n      <td>Pneumonia</td>\n      <td>pneumonia</td>\n      <td>True</td>\n      <td>True</td>\n      <td>0.66</td>\n    </tr>\n    <tr>\n      <th>321301</th>\n      <td>9</td>\n      <td>2</td>\n      <td>Honolulu</td>\n      <td>69</td>\n      <td>5</td>\n      <td>Acute</td>\n      <td>InPatient</td>\n      <td>5534</td>\n      <td>2</td>\n      <td>43</td>\n      <td>...</td>\n      <td>1</td>\n      <td>Medicaid</td>\n      <td>2016-06-09 19:28:00</td>\n      <td>Jun</td>\n      <td>2016</td>\n      <td>Too early of hospital discharge</td>\n      <td>arthroscopy</td>\n      <td>True</td>\n      <td>True</td>\n      <td>0.55</td>\n    </tr>\n  </tbody>\n</table>\n<p>321302 rows × 26 columns</p>\n</div>",
            "text/plain": "        hospital_id  department_id      city  patient_age  risk_level  \\\n0                 9              5  Honolulu           40           5   \n1                 9              7  Honolulu           36           2   \n2                 9              7  Honolulu           26           5   \n3                 9              7  Honolulu           27           2   \n4                 9              7  Honolulu           30           5   \n...             ...            ...       ...          ...         ...   \n321297            9              1  Honolulu           76           5   \n321298            9              8  Honolulu           39           5   \n321299            9              3  Honolulu           73           5   \n321300            9              7  Honolulu           86           5   \n321301            9              2  Honolulu           69           5   \n\n       acute_type patient_category  doctor_id  length_of_stay  wait_time  ...  \\\n0           Acute        InPatient       6185               4         45  ...   \n1       Non Acute        InPatient       7907               4         49  ...   \n2           Acute        InPatient       4357               3         50  ...   \n3       Non Acute        InPatient      12458               4         48  ...   \n4           Acute        InPatient       3882               4         49  ...   \n...           ...              ...        ...             ...        ...  ...   \n321297      Acute        InPatient        505               9         31  ...   \n321298      Acute        InPatient        458              14         38  ...   \n321299      Acute        InPatient       5615              10         39  ...   \n321300      Acute        InPatient       5842               4         48  ...   \n321301      Acute        InPatient       5534               2         43  ...   \n\n       readmitted_patient  payment_type                date  month  year  \\\n0                       0     Uninsured 2016-06-25 08:44:00    Jun  2016   \n1                       0     Uninsured 2016-11-10 21:04:00    Nov  2016   \n2                       0     Uninsured 2018-03-10 06:33:00    Mar  2018   \n3                       0     Uninsured 2018-08-16 01:36:00    Aug  2018   \n4                       0     Uninsured 2018-03-07 09:24:00    Mar  2018   \n...                   ...           ...                 ...    ...   ...   \n321297                  1      Medicaid 2018-11-25 23:24:00    Nov  2018   \n321298                  1      Medicaid 2018-05-21 16:01:00    May  2018   \n321299                  1      Medicaid 2019-09-22 02:31:00    Sep  2019   \n321300                  1      Medicaid 2019-05-29 14:54:00    May  2019   \n321301                  1      Medicaid 2016-06-09 19:28:00    Jun  2016   \n\n                                   reason_for_readmission            disease  \\\n0                                                    None  ectopic pregnancy   \n1                                                    None                flu   \n2                                                    None                flu   \n3                                                    None                flu   \n4                                                    None                flu   \n...                                                   ...                ...   \n321297  Recurrence of a preexisting condition / infection       chemotherapy   \n321298  Recurrence of a preexisting condition / infection          psoriasis   \n321299  Medication errors or lack of accurate medicati...       heart attack   \n321300                                          Pneumonia          pneumonia   \n321301                    Too early of hospital discharge        arthroscopy   \n\n       Actual_Flag Predicted_Flag Prediction_Probability  \n0            False           True                   0.55  \n1            False          False                   0.37  \n2            False           True                   0.59  \n3            False          False                   0.37  \n4            False           True                   0.59  \n...            ...            ...                    ...  \n321297        True           True                   0.56  \n321298        True           True                   0.74  \n321299        True           True                   0.58  \n321300        True           True                   0.66  \n321301        True           True                   0.55  \n\n[321302 rows x 26 columns]"
          },
          "metadata": {}
        }
      ],
      "execution_count": 40,
      "metadata": {
        "gather": {
          "logged": 1628009745164
        }
      }
    },
    {
      "cell_type": "markdown",
      "source": [
        "### Data Wrangling for PowerBI Reports"
      ],
      "metadata": {}
    },
    {
      "cell_type": "markdown",
      "source": [
        "#### Limit Data to only 2020"
      ],
      "metadata": {}
    },
    {
      "cell_type": "code",
      "source": [
        "final_dfs = {}\n",
        "\n",
        "for city, df in all_dfs.items():\n",
        "    df = df[df['year'] == 2020]\n",
        "    final_dfs[city] = df"
      ],
      "outputs": [],
      "execution_count": 40,
      "metadata": {
        "gather": {
          "logged": 1680764936730
        }
      }
    },
    {
      "cell_type": "code",
      "source": [
        "\n",
        "for city, df in final_dfs.items():\n",
        "    print(df['year'].value_counts())"
      ],
      "outputs": [
        {
          "output_type": "stream",
          "name": "stdout",
          "text": "2020    194108\nName: year, dtype: int64\n2020    201371\nName: year, dtype: int64\n2020    97976\nName: year, dtype: int64\n2020    66534\nName: year, dtype: int64\n2020    55821\nName: year, dtype: int64\n"
        }
      ],
      "execution_count": 41,
      "metadata": {
        "gather": {
          "logged": 1680765005234
        }
      }
    },
    {
      "cell_type": "markdown",
      "source": [
        "#### Get Aggregate Readmission Rate - Real"
      ],
      "metadata": {}
    },
    {
      "cell_type": "code",
      "source": [
        "def get_readmission_rate(readmission_series):\n",
        "    return sum(readmission_series)/len(readmission_series)*100"
      ],
      "outputs": [],
      "execution_count": 42,
      "metadata": {
        "gather": {
          "logged": 1680765014346
        }
      }
    },
    {
      "cell_type": "code",
      "source": [
        "monthly_readmission_rate_real_dfs = {}\n",
        "for city, df in final_dfs.items():\n",
        "    print(city)\n",
        "    monthly_readmission_rate_real = df.groupby('month').agg({'Actual_Flag': get_readmission_rate})\n",
        "    monthly_readmission_rate_real = monthly_readmission_rate_real.reset_index()\n",
        "    monthly_readmission_rate_real = monthly_readmission_rate_real.rename(columns={\"Actual_Flag\": \"Actual_Readmission_Rate\"})\n",
        "    print(len(monthly_readmission_rate_real))\n",
        "    monthly_readmission_rate_real_dfs[city] = monthly_readmission_rate_real"
      ],
      "outputs": [
        {
          "output_type": "stream",
          "name": "stdout",
          "text": "Los Angeles\n11\nChicago\n11\nMiami\n11\nHonolulu\n11\nAnchorage\n11\n"
        }
      ],
      "execution_count": 43,
      "metadata": {
        "gather": {
          "logged": 1680765020919
        }
      }
    },
    {
      "cell_type": "code",
      "source": [
        "temp_dict = {}\n",
        "for city, df in final_dfs.items():\n",
        "    df = df.merge(monthly_readmission_rate_real_dfs[city], on='month', how='left')\n",
        "    temp_dict[city] = df\n",
        "\n",
        "final_dfs = temp_dict"
      ],
      "outputs": [],
      "execution_count": 44,
      "metadata": {
        "gather": {
          "logged": 1680765027534
        }
      }
    },
    {
      "cell_type": "code",
      "source": [
        "final_dfs['Honolulu']"
      ],
      "outputs": [
        {
          "output_type": "execute_result",
          "execution_count": 45,
          "data": {
            "text/plain": "       hospital_id  department_id      city  patient_age  risk_level  \\\n0                9              7  Honolulu           27           2   \n1                9              7  Honolulu           25           1   \n2                9              3  Honolulu           72           5   \n3                9              3  Honolulu           62           3   \n4                9              3  Honolulu           85           2   \n...            ...            ...       ...          ...         ...   \n66529            9              7  Honolulu           33           4   \n66530            9              2  Honolulu           17           2   \n66531            9              3  Honolulu           82           3   \n66532            9              1  Honolulu           85           5   \n66533            9              1  Honolulu           52           5   \n\n      acute_type patient_category  doctor_id  length_of_stay  wait_time  ...  \\\n0      Non Acute        InPatient       3421               4         50  ...   \n1      Non Acute        InPatient       9757               4         50  ...   \n2          Acute        InPatient      13356               9         42  ...   \n3      Non Acute        InPatient       1569              13         41  ...   \n4      Non Acute        InPatient      12910              12         33  ...   \n...          ...              ...        ...             ...        ...  ...   \n66529      Acute        InPatient       2532               4         46  ...   \n66530  Non Acute        InPatient       2443               5         41  ...   \n66531  Non Acute        InPatient       9685              12         31  ...   \n66532      Acute        InPatient       1900               8         34  ...   \n66533      Acute        InPatient      12264               9         32  ...   \n\n      payment_type                date  month  year  \\\n0        Uninsured 2020-04-19 01:47:00    Apr  2020   \n1        Uninsured 2020-03-24 16:51:00    Mar  2020   \n2         Medicaid 2020-06-05 11:28:00    Jun  2020   \n3         Medicaid 2020-06-24 09:47:00    Jun  2020   \n4         Medicaid 2020-01-29 16:32:00    Jan  2020   \n...            ...                 ...    ...   ...   \n66529     Medicaid 2020-10-19 05:06:00    Oct  2020   \n66530     Medicaid 2020-11-30 02:55:00    Nov  2020   \n66531     Medicaid 2020-11-20 22:07:00    Nov  2020   \n66532     Medicaid 2020-05-21 20:22:00    May  2020   \n66533     Medicaid 2020-01-18 12:10:00    Jan  2020   \n\n                                  reason_for_readmission       disease  \\\n0                                                   None           flu   \n1                                                   None           flu   \n2                                                   None  heart attack   \n3                                                   None    arrhythmia   \n4                                                   None    arrhythmia   \n...                                                  ...           ...   \n66529  Recurrence of a preexisting condition / infection           flu   \n66530               Failure to follow hospital discharge     scoliosis   \n66531  Medication errors or lack of accurate medicati...    arrhythmia   \n66532  Recurrence of a preexisting condition / infection  chemotherapy   \n66533               Failure to follow hospital discharge  radiotherapy   \n\n       Actual_Flag Predicted_Flag Prediction_Probability  \\\n0            False          False                   0.34   \n1            False          False                   0.34   \n2            False          False                   0.40   \n3            False          False                   0.37   \n4            False          False                   0.34   \n...            ...            ...                    ...   \n66529         True          False                   0.42   \n66530         True          False                   0.33   \n66531         True          False                   0.37   \n66532         True          False                   0.41   \n66533         True          False                   0.44   \n\n      Actual_Readmission_Rate  \n0                       11.24  \n1                       10.55  \n2                       11.99  \n3                       11.99  \n4                        8.16  \n...                       ...  \n66529                    8.16  \n66530                    7.83  \n66531                    7.83  \n66532                   13.27  \n66533                    8.16  \n\n[66534 rows x 27 columns]",
            "text/html": "<div>\n<style scoped>\n    .dataframe tbody tr th:only-of-type {\n        vertical-align: middle;\n    }\n\n    .dataframe tbody tr th {\n        vertical-align: top;\n    }\n\n    .dataframe thead th {\n        text-align: right;\n    }\n</style>\n<table border=\"1\" class=\"dataframe\">\n  <thead>\n    <tr style=\"text-align: right;\">\n      <th></th>\n      <th>hospital_id</th>\n      <th>department_id</th>\n      <th>city</th>\n      <th>patient_age</th>\n      <th>risk_level</th>\n      <th>acute_type</th>\n      <th>patient_category</th>\n      <th>doctor_id</th>\n      <th>length_of_stay</th>\n      <th>wait_time</th>\n      <th>...</th>\n      <th>payment_type</th>\n      <th>date</th>\n      <th>month</th>\n      <th>year</th>\n      <th>reason_for_readmission</th>\n      <th>disease</th>\n      <th>Actual_Flag</th>\n      <th>Predicted_Flag</th>\n      <th>Prediction_Probability</th>\n      <th>Actual_Readmission_Rate</th>\n    </tr>\n  </thead>\n  <tbody>\n    <tr>\n      <th>0</th>\n      <td>9</td>\n      <td>7</td>\n      <td>Honolulu</td>\n      <td>27</td>\n      <td>2</td>\n      <td>Non Acute</td>\n      <td>InPatient</td>\n      <td>3421</td>\n      <td>4</td>\n      <td>50</td>\n      <td>...</td>\n      <td>Uninsured</td>\n      <td>2020-04-19 01:47:00</td>\n      <td>Apr</td>\n      <td>2020</td>\n      <td>None</td>\n      <td>flu</td>\n      <td>False</td>\n      <td>False</td>\n      <td>0.34</td>\n      <td>11.24</td>\n    </tr>\n    <tr>\n      <th>1</th>\n      <td>9</td>\n      <td>7</td>\n      <td>Honolulu</td>\n      <td>25</td>\n      <td>1</td>\n      <td>Non Acute</td>\n      <td>InPatient</td>\n      <td>9757</td>\n      <td>4</td>\n      <td>50</td>\n      <td>...</td>\n      <td>Uninsured</td>\n      <td>2020-03-24 16:51:00</td>\n      <td>Mar</td>\n      <td>2020</td>\n      <td>None</td>\n      <td>flu</td>\n      <td>False</td>\n      <td>False</td>\n      <td>0.34</td>\n      <td>10.55</td>\n    </tr>\n    <tr>\n      <th>2</th>\n      <td>9</td>\n      <td>3</td>\n      <td>Honolulu</td>\n      <td>72</td>\n      <td>5</td>\n      <td>Acute</td>\n      <td>InPatient</td>\n      <td>13356</td>\n      <td>9</td>\n      <td>42</td>\n      <td>...</td>\n      <td>Medicaid</td>\n      <td>2020-06-05 11:28:00</td>\n      <td>Jun</td>\n      <td>2020</td>\n      <td>None</td>\n      <td>heart attack</td>\n      <td>False</td>\n      <td>False</td>\n      <td>0.40</td>\n      <td>11.99</td>\n    </tr>\n    <tr>\n      <th>3</th>\n      <td>9</td>\n      <td>3</td>\n      <td>Honolulu</td>\n      <td>62</td>\n      <td>3</td>\n      <td>Non Acute</td>\n      <td>InPatient</td>\n      <td>1569</td>\n      <td>13</td>\n      <td>41</td>\n      <td>...</td>\n      <td>Medicaid</td>\n      <td>2020-06-24 09:47:00</td>\n      <td>Jun</td>\n      <td>2020</td>\n      <td>None</td>\n      <td>arrhythmia</td>\n      <td>False</td>\n      <td>False</td>\n      <td>0.37</td>\n      <td>11.99</td>\n    </tr>\n    <tr>\n      <th>4</th>\n      <td>9</td>\n      <td>3</td>\n      <td>Honolulu</td>\n      <td>85</td>\n      <td>2</td>\n      <td>Non Acute</td>\n      <td>InPatient</td>\n      <td>12910</td>\n      <td>12</td>\n      <td>33</td>\n      <td>...</td>\n      <td>Medicaid</td>\n      <td>2020-01-29 16:32:00</td>\n      <td>Jan</td>\n      <td>2020</td>\n      <td>None</td>\n      <td>arrhythmia</td>\n      <td>False</td>\n      <td>False</td>\n      <td>0.34</td>\n      <td>8.16</td>\n    </tr>\n    <tr>\n      <th>...</th>\n      <td>...</td>\n      <td>...</td>\n      <td>...</td>\n      <td>...</td>\n      <td>...</td>\n      <td>...</td>\n      <td>...</td>\n      <td>...</td>\n      <td>...</td>\n      <td>...</td>\n      <td>...</td>\n      <td>...</td>\n      <td>...</td>\n      <td>...</td>\n      <td>...</td>\n      <td>...</td>\n      <td>...</td>\n      <td>...</td>\n      <td>...</td>\n      <td>...</td>\n      <td>...</td>\n    </tr>\n    <tr>\n      <th>66529</th>\n      <td>9</td>\n      <td>7</td>\n      <td>Honolulu</td>\n      <td>33</td>\n      <td>4</td>\n      <td>Acute</td>\n      <td>InPatient</td>\n      <td>2532</td>\n      <td>4</td>\n      <td>46</td>\n      <td>...</td>\n      <td>Medicaid</td>\n      <td>2020-10-19 05:06:00</td>\n      <td>Oct</td>\n      <td>2020</td>\n      <td>Recurrence of a preexisting condition / infection</td>\n      <td>flu</td>\n      <td>True</td>\n      <td>False</td>\n      <td>0.42</td>\n      <td>8.16</td>\n    </tr>\n    <tr>\n      <th>66530</th>\n      <td>9</td>\n      <td>2</td>\n      <td>Honolulu</td>\n      <td>17</td>\n      <td>2</td>\n      <td>Non Acute</td>\n      <td>InPatient</td>\n      <td>2443</td>\n      <td>5</td>\n      <td>41</td>\n      <td>...</td>\n      <td>Medicaid</td>\n      <td>2020-11-30 02:55:00</td>\n      <td>Nov</td>\n      <td>2020</td>\n      <td>Failure to follow hospital discharge</td>\n      <td>scoliosis</td>\n      <td>True</td>\n      <td>False</td>\n      <td>0.33</td>\n      <td>7.83</td>\n    </tr>\n    <tr>\n      <th>66531</th>\n      <td>9</td>\n      <td>3</td>\n      <td>Honolulu</td>\n      <td>82</td>\n      <td>3</td>\n      <td>Non Acute</td>\n      <td>InPatient</td>\n      <td>9685</td>\n      <td>12</td>\n      <td>31</td>\n      <td>...</td>\n      <td>Medicaid</td>\n      <td>2020-11-20 22:07:00</td>\n      <td>Nov</td>\n      <td>2020</td>\n      <td>Medication errors or lack of accurate medicati...</td>\n      <td>arrhythmia</td>\n      <td>True</td>\n      <td>False</td>\n      <td>0.37</td>\n      <td>7.83</td>\n    </tr>\n    <tr>\n      <th>66532</th>\n      <td>9</td>\n      <td>1</td>\n      <td>Honolulu</td>\n      <td>85</td>\n      <td>5</td>\n      <td>Acute</td>\n      <td>InPatient</td>\n      <td>1900</td>\n      <td>8</td>\n      <td>34</td>\n      <td>...</td>\n      <td>Medicaid</td>\n      <td>2020-05-21 20:22:00</td>\n      <td>May</td>\n      <td>2020</td>\n      <td>Recurrence of a preexisting condition / infection</td>\n      <td>chemotherapy</td>\n      <td>True</td>\n      <td>False</td>\n      <td>0.41</td>\n      <td>13.27</td>\n    </tr>\n    <tr>\n      <th>66533</th>\n      <td>9</td>\n      <td>1</td>\n      <td>Honolulu</td>\n      <td>52</td>\n      <td>5</td>\n      <td>Acute</td>\n      <td>InPatient</td>\n      <td>12264</td>\n      <td>9</td>\n      <td>32</td>\n      <td>...</td>\n      <td>Medicaid</td>\n      <td>2020-01-18 12:10:00</td>\n      <td>Jan</td>\n      <td>2020</td>\n      <td>Failure to follow hospital discharge</td>\n      <td>radiotherapy</td>\n      <td>True</td>\n      <td>False</td>\n      <td>0.44</td>\n      <td>8.16</td>\n    </tr>\n  </tbody>\n</table>\n<p>66534 rows × 27 columns</p>\n</div>"
          },
          "metadata": {}
        }
      ],
      "execution_count": 45,
      "metadata": {
        "gather": {
          "logged": 1680765032038
        }
      }
    },
    {
      "cell_type": "markdown",
      "source": [
        "#### Get Aggregate Readmission Rate - Predicted"
      ],
      "metadata": {}
    },
    {
      "cell_type": "code",
      "source": [
        "monthly_readmission_rate_predicted_dfs = {}\n",
        "for city, df in final_dfs.items():\n",
        "    print(city)\n",
        "    monthly_readmission_rate_predicted = df.groupby('month').agg({'Predicted_Flag': get_readmission_rate})\n",
        "    monthly_readmission_rate_predicted = monthly_readmission_rate_predicted.reset_index()\n",
        "    monthly_readmission_rate_predicted = monthly_readmission_rate_predicted.rename(columns={\"Predicted_Flag\": \"Predicted_Readmission_Rate\"})\n",
        "    print(len(monthly_readmission_rate_predicted))\n",
        "    monthly_readmission_rate_predicted_dfs[city] = monthly_readmission_rate_predicted"
      ],
      "outputs": [
        {
          "output_type": "stream",
          "name": "stdout",
          "text": "Los Angeles\n11\nChicago\n11\nMiami\n11\nHonolulu\n11\nAnchorage\n11\n"
        }
      ],
      "execution_count": 46,
      "metadata": {
        "gather": {
          "logged": 1680765039410
        }
      }
    },
    {
      "cell_type": "code",
      "source": [
        "temp_dict = {}\n",
        "for city, df in final_dfs.items():\n",
        "    df = df.merge(monthly_readmission_rate_predicted_dfs[city], on='month', how='left')\n",
        "    temp_dict[city] = df\n",
        "\n",
        "final_dfs = temp_dict"
      ],
      "outputs": [],
      "execution_count": 47,
      "metadata": {
        "gather": {
          "logged": 1680765046703
        }
      }
    },
    {
      "cell_type": "code",
      "source": [
        "final_dfs['Honolulu']"
      ],
      "outputs": [
        {
          "output_type": "execute_result",
          "execution_count": 48,
          "data": {
            "text/plain": "       hospital_id  department_id      city  patient_age  risk_level  \\\n0                9              7  Honolulu           27           2   \n1                9              7  Honolulu           25           1   \n2                9              3  Honolulu           72           5   \n3                9              3  Honolulu           62           3   \n4                9              3  Honolulu           85           2   \n...            ...            ...       ...          ...         ...   \n66529            9              7  Honolulu           33           4   \n66530            9              2  Honolulu           17           2   \n66531            9              3  Honolulu           82           3   \n66532            9              1  Honolulu           85           5   \n66533            9              1  Honolulu           52           5   \n\n      acute_type patient_category  doctor_id  length_of_stay  wait_time  ...  \\\n0      Non Acute        InPatient       3421               4         50  ...   \n1      Non Acute        InPatient       9757               4         50  ...   \n2          Acute        InPatient      13356               9         42  ...   \n3      Non Acute        InPatient       1569              13         41  ...   \n4      Non Acute        InPatient      12910              12         33  ...   \n...          ...              ...        ...             ...        ...  ...   \n66529      Acute        InPatient       2532               4         46  ...   \n66530  Non Acute        InPatient       2443               5         41  ...   \n66531  Non Acute        InPatient       9685              12         31  ...   \n66532      Acute        InPatient       1900               8         34  ...   \n66533      Acute        InPatient      12264               9         32  ...   \n\n                     date  month  year  \\\n0     2020-04-19 01:47:00    Apr  2020   \n1     2020-03-24 16:51:00    Mar  2020   \n2     2020-06-05 11:28:00    Jun  2020   \n3     2020-06-24 09:47:00    Jun  2020   \n4     2020-01-29 16:32:00    Jan  2020   \n...                   ...    ...   ...   \n66529 2020-10-19 05:06:00    Oct  2020   \n66530 2020-11-30 02:55:00    Nov  2020   \n66531 2020-11-20 22:07:00    Nov  2020   \n66532 2020-05-21 20:22:00    May  2020   \n66533 2020-01-18 12:10:00    Jan  2020   \n\n                                  reason_for_readmission       disease  \\\n0                                                   None           flu   \n1                                                   None           flu   \n2                                                   None  heart attack   \n3                                                   None    arrhythmia   \n4                                                   None    arrhythmia   \n...                                                  ...           ...   \n66529  Recurrence of a preexisting condition / infection           flu   \n66530               Failure to follow hospital discharge     scoliosis   \n66531  Medication errors or lack of accurate medicati...    arrhythmia   \n66532  Recurrence of a preexisting condition / infection  chemotherapy   \n66533               Failure to follow hospital discharge  radiotherapy   \n\n       Actual_Flag  Predicted_Flag Prediction_Probability  \\\n0            False           False                   0.34   \n1            False           False                   0.34   \n2            False           False                   0.40   \n3            False           False                   0.37   \n4            False           False                   0.34   \n...            ...             ...                    ...   \n66529         True           False                   0.42   \n66530         True           False                   0.33   \n66531         True           False                   0.37   \n66532         True           False                   0.41   \n66533         True           False                   0.44   \n\n      Actual_Readmission_Rate Predicted_Readmission_Rate  \n0                       11.24                       2.47  \n1                       10.55                       2.45  \n2                       11.99                       1.13  \n3                       11.99                       1.13  \n4                        8.16                       5.12  \n...                       ...                        ...  \n66529                    8.16                       1.04  \n66530                    7.83                       4.05  \n66531                    7.83                       4.05  \n66532                   13.27                       6.19  \n66533                    8.16                       5.12  \n\n[66534 rows x 28 columns]",
            "text/html": "<div>\n<style scoped>\n    .dataframe tbody tr th:only-of-type {\n        vertical-align: middle;\n    }\n\n    .dataframe tbody tr th {\n        vertical-align: top;\n    }\n\n    .dataframe thead th {\n        text-align: right;\n    }\n</style>\n<table border=\"1\" class=\"dataframe\">\n  <thead>\n    <tr style=\"text-align: right;\">\n      <th></th>\n      <th>hospital_id</th>\n      <th>department_id</th>\n      <th>city</th>\n      <th>patient_age</th>\n      <th>risk_level</th>\n      <th>acute_type</th>\n      <th>patient_category</th>\n      <th>doctor_id</th>\n      <th>length_of_stay</th>\n      <th>wait_time</th>\n      <th>...</th>\n      <th>date</th>\n      <th>month</th>\n      <th>year</th>\n      <th>reason_for_readmission</th>\n      <th>disease</th>\n      <th>Actual_Flag</th>\n      <th>Predicted_Flag</th>\n      <th>Prediction_Probability</th>\n      <th>Actual_Readmission_Rate</th>\n      <th>Predicted_Readmission_Rate</th>\n    </tr>\n  </thead>\n  <tbody>\n    <tr>\n      <th>0</th>\n      <td>9</td>\n      <td>7</td>\n      <td>Honolulu</td>\n      <td>27</td>\n      <td>2</td>\n      <td>Non Acute</td>\n      <td>InPatient</td>\n      <td>3421</td>\n      <td>4</td>\n      <td>50</td>\n      <td>...</td>\n      <td>2020-04-19 01:47:00</td>\n      <td>Apr</td>\n      <td>2020</td>\n      <td>None</td>\n      <td>flu</td>\n      <td>False</td>\n      <td>False</td>\n      <td>0.34</td>\n      <td>11.24</td>\n      <td>2.47</td>\n    </tr>\n    <tr>\n      <th>1</th>\n      <td>9</td>\n      <td>7</td>\n      <td>Honolulu</td>\n      <td>25</td>\n      <td>1</td>\n      <td>Non Acute</td>\n      <td>InPatient</td>\n      <td>9757</td>\n      <td>4</td>\n      <td>50</td>\n      <td>...</td>\n      <td>2020-03-24 16:51:00</td>\n      <td>Mar</td>\n      <td>2020</td>\n      <td>None</td>\n      <td>flu</td>\n      <td>False</td>\n      <td>False</td>\n      <td>0.34</td>\n      <td>10.55</td>\n      <td>2.45</td>\n    </tr>\n    <tr>\n      <th>2</th>\n      <td>9</td>\n      <td>3</td>\n      <td>Honolulu</td>\n      <td>72</td>\n      <td>5</td>\n      <td>Acute</td>\n      <td>InPatient</td>\n      <td>13356</td>\n      <td>9</td>\n      <td>42</td>\n      <td>...</td>\n      <td>2020-06-05 11:28:00</td>\n      <td>Jun</td>\n      <td>2020</td>\n      <td>None</td>\n      <td>heart attack</td>\n      <td>False</td>\n      <td>False</td>\n      <td>0.40</td>\n      <td>11.99</td>\n      <td>1.13</td>\n    </tr>\n    <tr>\n      <th>3</th>\n      <td>9</td>\n      <td>3</td>\n      <td>Honolulu</td>\n      <td>62</td>\n      <td>3</td>\n      <td>Non Acute</td>\n      <td>InPatient</td>\n      <td>1569</td>\n      <td>13</td>\n      <td>41</td>\n      <td>...</td>\n      <td>2020-06-24 09:47:00</td>\n      <td>Jun</td>\n      <td>2020</td>\n      <td>None</td>\n      <td>arrhythmia</td>\n      <td>False</td>\n      <td>False</td>\n      <td>0.37</td>\n      <td>11.99</td>\n      <td>1.13</td>\n    </tr>\n    <tr>\n      <th>4</th>\n      <td>9</td>\n      <td>3</td>\n      <td>Honolulu</td>\n      <td>85</td>\n      <td>2</td>\n      <td>Non Acute</td>\n      <td>InPatient</td>\n      <td>12910</td>\n      <td>12</td>\n      <td>33</td>\n      <td>...</td>\n      <td>2020-01-29 16:32:00</td>\n      <td>Jan</td>\n      <td>2020</td>\n      <td>None</td>\n      <td>arrhythmia</td>\n      <td>False</td>\n      <td>False</td>\n      <td>0.34</td>\n      <td>8.16</td>\n      <td>5.12</td>\n    </tr>\n    <tr>\n      <th>...</th>\n      <td>...</td>\n      <td>...</td>\n      <td>...</td>\n      <td>...</td>\n      <td>...</td>\n      <td>...</td>\n      <td>...</td>\n      <td>...</td>\n      <td>...</td>\n      <td>...</td>\n      <td>...</td>\n      <td>...</td>\n      <td>...</td>\n      <td>...</td>\n      <td>...</td>\n      <td>...</td>\n      <td>...</td>\n      <td>...</td>\n      <td>...</td>\n      <td>...</td>\n      <td>...</td>\n    </tr>\n    <tr>\n      <th>66529</th>\n      <td>9</td>\n      <td>7</td>\n      <td>Honolulu</td>\n      <td>33</td>\n      <td>4</td>\n      <td>Acute</td>\n      <td>InPatient</td>\n      <td>2532</td>\n      <td>4</td>\n      <td>46</td>\n      <td>...</td>\n      <td>2020-10-19 05:06:00</td>\n      <td>Oct</td>\n      <td>2020</td>\n      <td>Recurrence of a preexisting condition / infection</td>\n      <td>flu</td>\n      <td>True</td>\n      <td>False</td>\n      <td>0.42</td>\n      <td>8.16</td>\n      <td>1.04</td>\n    </tr>\n    <tr>\n      <th>66530</th>\n      <td>9</td>\n      <td>2</td>\n      <td>Honolulu</td>\n      <td>17</td>\n      <td>2</td>\n      <td>Non Acute</td>\n      <td>InPatient</td>\n      <td>2443</td>\n      <td>5</td>\n      <td>41</td>\n      <td>...</td>\n      <td>2020-11-30 02:55:00</td>\n      <td>Nov</td>\n      <td>2020</td>\n      <td>Failure to follow hospital discharge</td>\n      <td>scoliosis</td>\n      <td>True</td>\n      <td>False</td>\n      <td>0.33</td>\n      <td>7.83</td>\n      <td>4.05</td>\n    </tr>\n    <tr>\n      <th>66531</th>\n      <td>9</td>\n      <td>3</td>\n      <td>Honolulu</td>\n      <td>82</td>\n      <td>3</td>\n      <td>Non Acute</td>\n      <td>InPatient</td>\n      <td>9685</td>\n      <td>12</td>\n      <td>31</td>\n      <td>...</td>\n      <td>2020-11-20 22:07:00</td>\n      <td>Nov</td>\n      <td>2020</td>\n      <td>Medication errors or lack of accurate medicati...</td>\n      <td>arrhythmia</td>\n      <td>True</td>\n      <td>False</td>\n      <td>0.37</td>\n      <td>7.83</td>\n      <td>4.05</td>\n    </tr>\n    <tr>\n      <th>66532</th>\n      <td>9</td>\n      <td>1</td>\n      <td>Honolulu</td>\n      <td>85</td>\n      <td>5</td>\n      <td>Acute</td>\n      <td>InPatient</td>\n      <td>1900</td>\n      <td>8</td>\n      <td>34</td>\n      <td>...</td>\n      <td>2020-05-21 20:22:00</td>\n      <td>May</td>\n      <td>2020</td>\n      <td>Recurrence of a preexisting condition / infection</td>\n      <td>chemotherapy</td>\n      <td>True</td>\n      <td>False</td>\n      <td>0.41</td>\n      <td>13.27</td>\n      <td>6.19</td>\n    </tr>\n    <tr>\n      <th>66533</th>\n      <td>9</td>\n      <td>1</td>\n      <td>Honolulu</td>\n      <td>52</td>\n      <td>5</td>\n      <td>Acute</td>\n      <td>InPatient</td>\n      <td>12264</td>\n      <td>9</td>\n      <td>32</td>\n      <td>...</td>\n      <td>2020-01-18 12:10:00</td>\n      <td>Jan</td>\n      <td>2020</td>\n      <td>Failure to follow hospital discharge</td>\n      <td>radiotherapy</td>\n      <td>True</td>\n      <td>False</td>\n      <td>0.44</td>\n      <td>8.16</td>\n      <td>5.12</td>\n    </tr>\n  </tbody>\n</table>\n<p>66534 rows × 28 columns</p>\n</div>"
          },
          "metadata": {}
        }
      ],
      "execution_count": 48,
      "metadata": {
        "gather": {
          "logged": 1680765049437
        }
      }
    },
    {
      "cell_type": "markdown",
      "source": [
        "#### Upload predictions to storage account"
      ],
      "metadata": {}
    },
    {
      "cell_type": "code",
      "source": [
        "final_dfs_list = list(final_dfs.values())\n",
        "final_dfs_list[0]"
      ],
      "outputs": [
        {
          "output_type": "execute_result",
          "execution_count": 49,
          "data": {
            "text/plain": "        hospital_id  department_id         city  patient_age  risk_level  \\\n0                 1              7  Los Angeles           36           1   \n1                 1              1  Los Angeles           55           5   \n2                 1              7  Los Angeles           23           1   \n3                 1              7  Los Angeles           28           4   \n4                 1              7  Los Angeles           37           5   \n...             ...            ...          ...          ...         ...   \n194103            1              2  Los Angeles           11           4   \n194104            1              7  Los Angeles           29           4   \n194105            1              8  Los Angeles           38           5   \n194106            1              7  Los Angeles           34           5   \n194107            1              7  Los Angeles           55           5   \n\n       acute_type patient_category  doctor_id  length_of_stay  wait_time  ...  \\\n0       Non Acute        InPatient      12958               3         50  ...   \n1           Acute        InPatient      11834               8         32  ...   \n2       Non Acute        InPatient        757               4         49  ...   \n3           Acute        InPatient       2566               3         47  ...   \n4           Acute        InPatient       6153               3         50  ...   \n...           ...              ...        ...             ...        ...  ...   \n194103      Acute        InPatient       2455               6         41  ...   \n194104      Acute        InPatient       6585               2         50  ...   \n194105      Acute        InPatient       5400              14         40  ...   \n194106      Acute        InPatient       8564               3         46  ...   \n194107      Acute        InPatient       4940               6         46  ...   \n\n                      date  month  year  \\\n0      2020-03-13 13:38:00    Mar  2020   \n1      2020-02-22 10:57:00    Feb  2020   \n2      2020-10-04 17:48:00    Oct  2020   \n3      2020-10-21 08:52:00    Oct  2020   \n4      2020-05-13 01:11:00    May  2020   \n...                    ...    ...   ...   \n194103 2020-07-16 16:57:00    Jul  2020   \n194104 2020-02-01 16:25:00    Feb  2020   \n194105 2020-06-28 04:54:00    Jun  2020   \n194106 2020-03-13 08:38:00    Mar  2020   \n194107 2020-01-15 02:42:00    Jan  2020   \n\n                                   reason_for_readmission       disease  \\\n0                                                    None           flu   \n1                                                    None  chemotherapy   \n2                                                    None           flu   \n3                                                    None           flu   \n4                                                    None           flu   \n...                                                   ...           ...   \n194103  Recurrence of a preexisting condition / infection     scoliosis   \n194104           Poor coordination of care post Discharge           flu   \n194105  Recurrence of a preexisting condition / infection     psoriasis   \n194106               Failure to follow hospital discharge     sinusitis   \n194107                                          Pneumonia     pneumonia   \n\n        Actual_Flag  Predicted_Flag Prediction_Probability  \\\n0             False           False                   0.35   \n1             False            True                   0.59   \n2             False           False                   0.32   \n3             False            True                   0.56   \n4             False            True                   0.65   \n...             ...             ...                    ...   \n194103         True            True                   0.77   \n194104         True            True                   0.63   \n194105         True            True                   0.92   \n194106         True            True                   0.78   \n194107         True            True                   0.70   \n\n       Actual_Readmission_Rate Predicted_Readmission_Rate  \n0                         3.06                      48.85  \n1                         1.66                      43.98  \n2                         1.69                      48.46  \n3                         1.69                      48.46  \n4                         5.57                      45.47  \n...                        ...                        ...  \n194103                    3.10                      47.01  \n194104                    1.66                      43.98  \n194105                    4.87                      49.57  \n194106                    3.06                      48.85  \n194107                    1.44                      48.67  \n\n[194108 rows x 28 columns]",
            "text/html": "<div>\n<style scoped>\n    .dataframe tbody tr th:only-of-type {\n        vertical-align: middle;\n    }\n\n    .dataframe tbody tr th {\n        vertical-align: top;\n    }\n\n    .dataframe thead th {\n        text-align: right;\n    }\n</style>\n<table border=\"1\" class=\"dataframe\">\n  <thead>\n    <tr style=\"text-align: right;\">\n      <th></th>\n      <th>hospital_id</th>\n      <th>department_id</th>\n      <th>city</th>\n      <th>patient_age</th>\n      <th>risk_level</th>\n      <th>acute_type</th>\n      <th>patient_category</th>\n      <th>doctor_id</th>\n      <th>length_of_stay</th>\n      <th>wait_time</th>\n      <th>...</th>\n      <th>date</th>\n      <th>month</th>\n      <th>year</th>\n      <th>reason_for_readmission</th>\n      <th>disease</th>\n      <th>Actual_Flag</th>\n      <th>Predicted_Flag</th>\n      <th>Prediction_Probability</th>\n      <th>Actual_Readmission_Rate</th>\n      <th>Predicted_Readmission_Rate</th>\n    </tr>\n  </thead>\n  <tbody>\n    <tr>\n      <th>0</th>\n      <td>1</td>\n      <td>7</td>\n      <td>Los Angeles</td>\n      <td>36</td>\n      <td>1</td>\n      <td>Non Acute</td>\n      <td>InPatient</td>\n      <td>12958</td>\n      <td>3</td>\n      <td>50</td>\n      <td>...</td>\n      <td>2020-03-13 13:38:00</td>\n      <td>Mar</td>\n      <td>2020</td>\n      <td>None</td>\n      <td>flu</td>\n      <td>False</td>\n      <td>False</td>\n      <td>0.35</td>\n      <td>3.06</td>\n      <td>48.85</td>\n    </tr>\n    <tr>\n      <th>1</th>\n      <td>1</td>\n      <td>1</td>\n      <td>Los Angeles</td>\n      <td>55</td>\n      <td>5</td>\n      <td>Acute</td>\n      <td>InPatient</td>\n      <td>11834</td>\n      <td>8</td>\n      <td>32</td>\n      <td>...</td>\n      <td>2020-02-22 10:57:00</td>\n      <td>Feb</td>\n      <td>2020</td>\n      <td>None</td>\n      <td>chemotherapy</td>\n      <td>False</td>\n      <td>True</td>\n      <td>0.59</td>\n      <td>1.66</td>\n      <td>43.98</td>\n    </tr>\n    <tr>\n      <th>2</th>\n      <td>1</td>\n      <td>7</td>\n      <td>Los Angeles</td>\n      <td>23</td>\n      <td>1</td>\n      <td>Non Acute</td>\n      <td>InPatient</td>\n      <td>757</td>\n      <td>4</td>\n      <td>49</td>\n      <td>...</td>\n      <td>2020-10-04 17:48:00</td>\n      <td>Oct</td>\n      <td>2020</td>\n      <td>None</td>\n      <td>flu</td>\n      <td>False</td>\n      <td>False</td>\n      <td>0.32</td>\n      <td>1.69</td>\n      <td>48.46</td>\n    </tr>\n    <tr>\n      <th>3</th>\n      <td>1</td>\n      <td>7</td>\n      <td>Los Angeles</td>\n      <td>28</td>\n      <td>4</td>\n      <td>Acute</td>\n      <td>InPatient</td>\n      <td>2566</td>\n      <td>3</td>\n      <td>47</td>\n      <td>...</td>\n      <td>2020-10-21 08:52:00</td>\n      <td>Oct</td>\n      <td>2020</td>\n      <td>None</td>\n      <td>flu</td>\n      <td>False</td>\n      <td>True</td>\n      <td>0.56</td>\n      <td>1.69</td>\n      <td>48.46</td>\n    </tr>\n    <tr>\n      <th>4</th>\n      <td>1</td>\n      <td>7</td>\n      <td>Los Angeles</td>\n      <td>37</td>\n      <td>5</td>\n      <td>Acute</td>\n      <td>InPatient</td>\n      <td>6153</td>\n      <td>3</td>\n      <td>50</td>\n      <td>...</td>\n      <td>2020-05-13 01:11:00</td>\n      <td>May</td>\n      <td>2020</td>\n      <td>None</td>\n      <td>flu</td>\n      <td>False</td>\n      <td>True</td>\n      <td>0.65</td>\n      <td>5.57</td>\n      <td>45.47</td>\n    </tr>\n    <tr>\n      <th>...</th>\n      <td>...</td>\n      <td>...</td>\n      <td>...</td>\n      <td>...</td>\n      <td>...</td>\n      <td>...</td>\n      <td>...</td>\n      <td>...</td>\n      <td>...</td>\n      <td>...</td>\n      <td>...</td>\n      <td>...</td>\n      <td>...</td>\n      <td>...</td>\n      <td>...</td>\n      <td>...</td>\n      <td>...</td>\n      <td>...</td>\n      <td>...</td>\n      <td>...</td>\n      <td>...</td>\n    </tr>\n    <tr>\n      <th>194103</th>\n      <td>1</td>\n      <td>2</td>\n      <td>Los Angeles</td>\n      <td>11</td>\n      <td>4</td>\n      <td>Acute</td>\n      <td>InPatient</td>\n      <td>2455</td>\n      <td>6</td>\n      <td>41</td>\n      <td>...</td>\n      <td>2020-07-16 16:57:00</td>\n      <td>Jul</td>\n      <td>2020</td>\n      <td>Recurrence of a preexisting condition / infection</td>\n      <td>scoliosis</td>\n      <td>True</td>\n      <td>True</td>\n      <td>0.77</td>\n      <td>3.10</td>\n      <td>47.01</td>\n    </tr>\n    <tr>\n      <th>194104</th>\n      <td>1</td>\n      <td>7</td>\n      <td>Los Angeles</td>\n      <td>29</td>\n      <td>4</td>\n      <td>Acute</td>\n      <td>InPatient</td>\n      <td>6585</td>\n      <td>2</td>\n      <td>50</td>\n      <td>...</td>\n      <td>2020-02-01 16:25:00</td>\n      <td>Feb</td>\n      <td>2020</td>\n      <td>Poor coordination of care post Discharge</td>\n      <td>flu</td>\n      <td>True</td>\n      <td>True</td>\n      <td>0.63</td>\n      <td>1.66</td>\n      <td>43.98</td>\n    </tr>\n    <tr>\n      <th>194105</th>\n      <td>1</td>\n      <td>8</td>\n      <td>Los Angeles</td>\n      <td>38</td>\n      <td>5</td>\n      <td>Acute</td>\n      <td>InPatient</td>\n      <td>5400</td>\n      <td>14</td>\n      <td>40</td>\n      <td>...</td>\n      <td>2020-06-28 04:54:00</td>\n      <td>Jun</td>\n      <td>2020</td>\n      <td>Recurrence of a preexisting condition / infection</td>\n      <td>psoriasis</td>\n      <td>True</td>\n      <td>True</td>\n      <td>0.92</td>\n      <td>4.87</td>\n      <td>49.57</td>\n    </tr>\n    <tr>\n      <th>194106</th>\n      <td>1</td>\n      <td>7</td>\n      <td>Los Angeles</td>\n      <td>34</td>\n      <td>5</td>\n      <td>Acute</td>\n      <td>InPatient</td>\n      <td>8564</td>\n      <td>3</td>\n      <td>46</td>\n      <td>...</td>\n      <td>2020-03-13 08:38:00</td>\n      <td>Mar</td>\n      <td>2020</td>\n      <td>Failure to follow hospital discharge</td>\n      <td>sinusitis</td>\n      <td>True</td>\n      <td>True</td>\n      <td>0.78</td>\n      <td>3.06</td>\n      <td>48.85</td>\n    </tr>\n    <tr>\n      <th>194107</th>\n      <td>1</td>\n      <td>7</td>\n      <td>Los Angeles</td>\n      <td>55</td>\n      <td>5</td>\n      <td>Acute</td>\n      <td>InPatient</td>\n      <td>4940</td>\n      <td>6</td>\n      <td>46</td>\n      <td>...</td>\n      <td>2020-01-15 02:42:00</td>\n      <td>Jan</td>\n      <td>2020</td>\n      <td>Pneumonia</td>\n      <td>pneumonia</td>\n      <td>True</td>\n      <td>True</td>\n      <td>0.70</td>\n      <td>1.44</td>\n      <td>48.67</td>\n    </tr>\n  </tbody>\n</table>\n<p>194108 rows × 28 columns</p>\n</div>"
          },
          "metadata": {}
        }
      ],
      "execution_count": 49,
      "metadata": {
        "gather": {
          "logged": 1680765055890
        }
      }
    },
    {
      "cell_type": "code",
      "source": [
        "full_df = pd.concat(final_dfs_list)\n",
        "full_df"
      ],
      "outputs": [
        {
          "output_type": "execute_result",
          "execution_count": 50,
          "data": {
            "text/plain": "       hospital_id  department_id         city  patient_age  risk_level  \\\n0                1              7  Los Angeles           36           1   \n1                1              1  Los Angeles           55           5   \n2                1              7  Los Angeles           23           1   \n3                1              7  Los Angeles           28           4   \n4                1              7  Los Angeles           37           5   \n...            ...            ...          ...          ...         ...   \n55816           27              6    Anchorage           27           3   \n55817           27              5    Anchorage           71           5   \n55818           27              7    Anchorage           28           4   \n55819           27              4    Anchorage           70           5   \n55820           27              1    Anchorage           73           5   \n\n      acute_type patient_category  doctor_id  length_of_stay  wait_time  ...  \\\n0      Non Acute        InPatient      12958               3         50  ...   \n1          Acute        InPatient      11834               8         32  ...   \n2      Non Acute        InPatient        757               4         49  ...   \n3          Acute        InPatient       2566               3         47  ...   \n4          Acute        InPatient       6153               3         50  ...   \n...          ...              ...        ...             ...        ...  ...   \n55816  Non Acute        InPatient       7145               3         39  ...   \n55817      Acute        InPatient      10230               4         44  ...   \n55818      Acute        InPatient       5647               3         46  ...   \n55819      Acute        InPatient      11343               5         49  ...   \n55820      Acute        InPatient       1026               9         31  ...   \n\n                     date  month  year  \\\n0     2020-03-13 13:38:00    Mar  2020   \n1     2020-02-22 10:57:00    Feb  2020   \n2     2020-10-04 17:48:00    Oct  2020   \n3     2020-10-21 08:52:00    Oct  2020   \n4     2020-05-13 01:11:00    May  2020   \n...                   ...    ...   ...   \n55816 2020-10-19 18:10:00    Oct  2020   \n55817 2020-11-18 01:09:00    Nov  2020   \n55818 2020-10-19 02:45:00    Oct  2020   \n55819 2020-09-25 20:10:00    Sep  2020   \n55820 2020-06-24 04:58:00    Jun  2020   \n\n                         reason_for_readmission           disease  \\\n0                                          None               flu   \n1                                          None      chemotherapy   \n2                                          None               flu   \n3                                          None               flu   \n4                                          None               flu   \n...                                         ...               ...   \n55816           Too early of hospital discharge  chronic headache   \n55817  Poor coordination of care post Discharge     endometriosis   \n55818  Poor coordination of care post Discharge               flu   \n55819      Failure to follow hospital discharge         maternity   \n55820      Failure to follow hospital discharge      radiotherapy   \n\n       Actual_Flag  Predicted_Flag Prediction_Probability  \\\n0            False           False                   0.35   \n1            False            True                   0.59   \n2            False           False                   0.32   \n3            False            True                   0.56   \n4            False            True                   0.65   \n...            ...             ...                    ...   \n55816         True           False                   0.26   \n55817         True            True                   0.52   \n55818         True           False                   0.45   \n55819         True            True                   0.61   \n55820         True            True                   0.54   \n\n      Actual_Readmission_Rate Predicted_Readmission_Rate  \n0                        3.06                      48.85  \n1                        1.66                      43.98  \n2                        1.69                      48.46  \n3                        1.69                      48.46  \n4                        5.57                      45.47  \n...                       ...                        ...  \n55816                    3.23                      14.38  \n55817                    2.83                      21.40  \n55818                    3.23                      14.38  \n55819                    4.26                      19.23  \n55820                    6.72                      23.04  \n\n[615810 rows x 28 columns]",
            "text/html": "<div>\n<style scoped>\n    .dataframe tbody tr th:only-of-type {\n        vertical-align: middle;\n    }\n\n    .dataframe tbody tr th {\n        vertical-align: top;\n    }\n\n    .dataframe thead th {\n        text-align: right;\n    }\n</style>\n<table border=\"1\" class=\"dataframe\">\n  <thead>\n    <tr style=\"text-align: right;\">\n      <th></th>\n      <th>hospital_id</th>\n      <th>department_id</th>\n      <th>city</th>\n      <th>patient_age</th>\n      <th>risk_level</th>\n      <th>acute_type</th>\n      <th>patient_category</th>\n      <th>doctor_id</th>\n      <th>length_of_stay</th>\n      <th>wait_time</th>\n      <th>...</th>\n      <th>date</th>\n      <th>month</th>\n      <th>year</th>\n      <th>reason_for_readmission</th>\n      <th>disease</th>\n      <th>Actual_Flag</th>\n      <th>Predicted_Flag</th>\n      <th>Prediction_Probability</th>\n      <th>Actual_Readmission_Rate</th>\n      <th>Predicted_Readmission_Rate</th>\n    </tr>\n  </thead>\n  <tbody>\n    <tr>\n      <th>0</th>\n      <td>1</td>\n      <td>7</td>\n      <td>Los Angeles</td>\n      <td>36</td>\n      <td>1</td>\n      <td>Non Acute</td>\n      <td>InPatient</td>\n      <td>12958</td>\n      <td>3</td>\n      <td>50</td>\n      <td>...</td>\n      <td>2020-03-13 13:38:00</td>\n      <td>Mar</td>\n      <td>2020</td>\n      <td>None</td>\n      <td>flu</td>\n      <td>False</td>\n      <td>False</td>\n      <td>0.35</td>\n      <td>3.06</td>\n      <td>48.85</td>\n    </tr>\n    <tr>\n      <th>1</th>\n      <td>1</td>\n      <td>1</td>\n      <td>Los Angeles</td>\n      <td>55</td>\n      <td>5</td>\n      <td>Acute</td>\n      <td>InPatient</td>\n      <td>11834</td>\n      <td>8</td>\n      <td>32</td>\n      <td>...</td>\n      <td>2020-02-22 10:57:00</td>\n      <td>Feb</td>\n      <td>2020</td>\n      <td>None</td>\n      <td>chemotherapy</td>\n      <td>False</td>\n      <td>True</td>\n      <td>0.59</td>\n      <td>1.66</td>\n      <td>43.98</td>\n    </tr>\n    <tr>\n      <th>2</th>\n      <td>1</td>\n      <td>7</td>\n      <td>Los Angeles</td>\n      <td>23</td>\n      <td>1</td>\n      <td>Non Acute</td>\n      <td>InPatient</td>\n      <td>757</td>\n      <td>4</td>\n      <td>49</td>\n      <td>...</td>\n      <td>2020-10-04 17:48:00</td>\n      <td>Oct</td>\n      <td>2020</td>\n      <td>None</td>\n      <td>flu</td>\n      <td>False</td>\n      <td>False</td>\n      <td>0.32</td>\n      <td>1.69</td>\n      <td>48.46</td>\n    </tr>\n    <tr>\n      <th>3</th>\n      <td>1</td>\n      <td>7</td>\n      <td>Los Angeles</td>\n      <td>28</td>\n      <td>4</td>\n      <td>Acute</td>\n      <td>InPatient</td>\n      <td>2566</td>\n      <td>3</td>\n      <td>47</td>\n      <td>...</td>\n      <td>2020-10-21 08:52:00</td>\n      <td>Oct</td>\n      <td>2020</td>\n      <td>None</td>\n      <td>flu</td>\n      <td>False</td>\n      <td>True</td>\n      <td>0.56</td>\n      <td>1.69</td>\n      <td>48.46</td>\n    </tr>\n    <tr>\n      <th>4</th>\n      <td>1</td>\n      <td>7</td>\n      <td>Los Angeles</td>\n      <td>37</td>\n      <td>5</td>\n      <td>Acute</td>\n      <td>InPatient</td>\n      <td>6153</td>\n      <td>3</td>\n      <td>50</td>\n      <td>...</td>\n      <td>2020-05-13 01:11:00</td>\n      <td>May</td>\n      <td>2020</td>\n      <td>None</td>\n      <td>flu</td>\n      <td>False</td>\n      <td>True</td>\n      <td>0.65</td>\n      <td>5.57</td>\n      <td>45.47</td>\n    </tr>\n    <tr>\n      <th>...</th>\n      <td>...</td>\n      <td>...</td>\n      <td>...</td>\n      <td>...</td>\n      <td>...</td>\n      <td>...</td>\n      <td>...</td>\n      <td>...</td>\n      <td>...</td>\n      <td>...</td>\n      <td>...</td>\n      <td>...</td>\n      <td>...</td>\n      <td>...</td>\n      <td>...</td>\n      <td>...</td>\n      <td>...</td>\n      <td>...</td>\n      <td>...</td>\n      <td>...</td>\n      <td>...</td>\n    </tr>\n    <tr>\n      <th>55816</th>\n      <td>27</td>\n      <td>6</td>\n      <td>Anchorage</td>\n      <td>27</td>\n      <td>3</td>\n      <td>Non Acute</td>\n      <td>InPatient</td>\n      <td>7145</td>\n      <td>3</td>\n      <td>39</td>\n      <td>...</td>\n      <td>2020-10-19 18:10:00</td>\n      <td>Oct</td>\n      <td>2020</td>\n      <td>Too early of hospital discharge</td>\n      <td>chronic headache</td>\n      <td>True</td>\n      <td>False</td>\n      <td>0.26</td>\n      <td>3.23</td>\n      <td>14.38</td>\n    </tr>\n    <tr>\n      <th>55817</th>\n      <td>27</td>\n      <td>5</td>\n      <td>Anchorage</td>\n      <td>71</td>\n      <td>5</td>\n      <td>Acute</td>\n      <td>InPatient</td>\n      <td>10230</td>\n      <td>4</td>\n      <td>44</td>\n      <td>...</td>\n      <td>2020-11-18 01:09:00</td>\n      <td>Nov</td>\n      <td>2020</td>\n      <td>Poor coordination of care post Discharge</td>\n      <td>endometriosis</td>\n      <td>True</td>\n      <td>True</td>\n      <td>0.52</td>\n      <td>2.83</td>\n      <td>21.40</td>\n    </tr>\n    <tr>\n      <th>55818</th>\n      <td>27</td>\n      <td>7</td>\n      <td>Anchorage</td>\n      <td>28</td>\n      <td>4</td>\n      <td>Acute</td>\n      <td>InPatient</td>\n      <td>5647</td>\n      <td>3</td>\n      <td>46</td>\n      <td>...</td>\n      <td>2020-10-19 02:45:00</td>\n      <td>Oct</td>\n      <td>2020</td>\n      <td>Poor coordination of care post Discharge</td>\n      <td>flu</td>\n      <td>True</td>\n      <td>False</td>\n      <td>0.45</td>\n      <td>3.23</td>\n      <td>14.38</td>\n    </tr>\n    <tr>\n      <th>55819</th>\n      <td>27</td>\n      <td>4</td>\n      <td>Anchorage</td>\n      <td>70</td>\n      <td>5</td>\n      <td>Acute</td>\n      <td>InPatient</td>\n      <td>11343</td>\n      <td>5</td>\n      <td>49</td>\n      <td>...</td>\n      <td>2020-09-25 20:10:00</td>\n      <td>Sep</td>\n      <td>2020</td>\n      <td>Failure to follow hospital discharge</td>\n      <td>maternity</td>\n      <td>True</td>\n      <td>True</td>\n      <td>0.61</td>\n      <td>4.26</td>\n      <td>19.23</td>\n    </tr>\n    <tr>\n      <th>55820</th>\n      <td>27</td>\n      <td>1</td>\n      <td>Anchorage</td>\n      <td>73</td>\n      <td>5</td>\n      <td>Acute</td>\n      <td>InPatient</td>\n      <td>1026</td>\n      <td>9</td>\n      <td>31</td>\n      <td>...</td>\n      <td>2020-06-24 04:58:00</td>\n      <td>Jun</td>\n      <td>2020</td>\n      <td>Failure to follow hospital discharge</td>\n      <td>radiotherapy</td>\n      <td>True</td>\n      <td>True</td>\n      <td>0.54</td>\n      <td>6.72</td>\n      <td>23.04</td>\n    </tr>\n  </tbody>\n</table>\n<p>615810 rows × 28 columns</p>\n</div>"
          },
          "metadata": {}
        }
      ],
      "execution_count": 50,
      "metadata": {
        "gather": {
          "logged": 1680765081644
        }
      }
    },
    {
      "cell_type": "markdown",
      "source": [
        "#### Change values for reason_for_readmission column"
      ],
      "metadata": {}
    },
    {
      "cell_type": "code",
      "source": [
        "original_columns = full_df.columns"
      ],
      "outputs": [],
      "execution_count": 51,
      "metadata": {
        "gather": {
          "logged": 1680765109162
        }
      }
    },
    {
      "cell_type": "code",
      "source": [
        "full_df['reason_for_readmission'].value_counts()"
      ],
      "outputs": [
        {
          "output_type": "execute_result",
          "execution_count": 52,
          "data": {
            "text/plain": "Failure to follow hospital discharge                        9274\nPoor coordination of care post Discharge                    9179\nRecurrence of a preexisting condition / infection           7178\nMedication errors or lack of accurate medication history    7045\nToo early of hospital discharge                             4615\nPneumonia                                                   1809\nName: reason_for_readmission, dtype: int64"
          },
          "metadata": {}
        }
      ],
      "execution_count": 52,
      "metadata": {
        "scrolled": true,
        "gather": {
          "logged": 1680765113017
        }
      }
    },
    {
      "cell_type": "code",
      "source": [
        "def change_reason_for_readmission(x):\n",
        "    if x == 'Medication errors or lack of accurate medication history':\n",
        "        return \"Medication Errors\"\n",
        "    elif x == \"Poor coordination of care post Discharge\":\n",
        "        return \"Poor Coordination\"\n",
        "    elif x == \"Failure to follow hospital discharge\":\n",
        "        return \"Failure to Follow Up\"\n",
        "    elif x == \"Recurrence of a preexisting condition / infection\":\n",
        "        return \"Unfriendly Staff\"\n",
        "    elif x == \"Pneumonia\":\n",
        "        return \"High Wait Time\"\n",
        "    else:\n",
        "        return x"
      ],
      "outputs": [],
      "execution_count": 53,
      "metadata": {
        "gather": {
          "logged": 1680765119354
        }
      }
    },
    {
      "cell_type": "code",
      "source": [
        "full_df['reason_for_readmission_new'] = full_df['reason_for_readmission'].apply(change_reason_for_readmission)\n",
        "full_df['reason_for_readmission_new'].value_counts()"
      ],
      "outputs": [
        {
          "output_type": "execute_result",
          "execution_count": 54,
          "data": {
            "text/plain": "Failure to Follow Up               9274\nPoor Coordination                  9179\nUnfriendly Staff                   7178\nMedication Errors                  7045\nToo early of hospital discharge    4615\nHigh Wait Time                     1809\nName: reason_for_readmission_new, dtype: int64"
          },
          "metadata": {}
        }
      ],
      "execution_count": 54,
      "metadata": {
        "gather": {
          "logged": 1680765123787
        }
      }
    },
    {
      "cell_type": "code",
      "source": [
        "full_df['reason_for_readmission'] = full_df['reason_for_readmission_new']\n",
        "full_df['reason_for_readmission'].value_counts()"
      ],
      "outputs": [
        {
          "output_type": "execute_result",
          "execution_count": 55,
          "data": {
            "text/plain": "Failure to Follow Up               9274\nPoor Coordination                  9179\nUnfriendly Staff                   7178\nMedication Errors                  7045\nToo early of hospital discharge    4615\nHigh Wait Time                     1809\nName: reason_for_readmission, dtype: int64"
          },
          "metadata": {}
        }
      ],
      "execution_count": 55,
      "metadata": {
        "gather": {
          "logged": 1680765129033
        }
      }
    },
    {
      "cell_type": "code",
      "source": [
        "full_df = full_df[original_columns]\n",
        "full_df.head()"
      ],
      "outputs": [
        {
          "output_type": "execute_result",
          "execution_count": 56,
          "data": {
            "text/plain": "   hospital_id  department_id         city  patient_age  risk_level  \\\n0            1              7  Los Angeles           36           1   \n1            1              1  Los Angeles           55           5   \n2            1              7  Los Angeles           23           1   \n3            1              7  Los Angeles           28           4   \n4            1              7  Los Angeles           37           5   \n\n  acute_type patient_category  doctor_id  length_of_stay  wait_time  ...  \\\n0  Non Acute        InPatient      12958               3         50  ...   \n1      Acute        InPatient      11834               8         32  ...   \n2  Non Acute        InPatient        757               4         49  ...   \n3      Acute        InPatient       2566               3         47  ...   \n4      Acute        InPatient       6153               3         50  ...   \n\n                 date  month  year  reason_for_readmission       disease  \\\n0 2020-03-13 13:38:00    Mar  2020                    None           flu   \n1 2020-02-22 10:57:00    Feb  2020                    None  chemotherapy   \n2 2020-10-04 17:48:00    Oct  2020                    None           flu   \n3 2020-10-21 08:52:00    Oct  2020                    None           flu   \n4 2020-05-13 01:11:00    May  2020                    None           flu   \n\n   Actual_Flag  Predicted_Flag Prediction_Probability Actual_Readmission_Rate  \\\n0        False           False                   0.35                    3.06   \n1        False            True                   0.59                    1.66   \n2        False           False                   0.32                    1.69   \n3        False            True                   0.56                    1.69   \n4        False            True                   0.65                    5.57   \n\n  Predicted_Readmission_Rate  \n0                      48.85  \n1                      43.98  \n2                      48.46  \n3                      48.46  \n4                      45.47  \n\n[5 rows x 28 columns]",
            "text/html": "<div>\n<style scoped>\n    .dataframe tbody tr th:only-of-type {\n        vertical-align: middle;\n    }\n\n    .dataframe tbody tr th {\n        vertical-align: top;\n    }\n\n    .dataframe thead th {\n        text-align: right;\n    }\n</style>\n<table border=\"1\" class=\"dataframe\">\n  <thead>\n    <tr style=\"text-align: right;\">\n      <th></th>\n      <th>hospital_id</th>\n      <th>department_id</th>\n      <th>city</th>\n      <th>patient_age</th>\n      <th>risk_level</th>\n      <th>acute_type</th>\n      <th>patient_category</th>\n      <th>doctor_id</th>\n      <th>length_of_stay</th>\n      <th>wait_time</th>\n      <th>...</th>\n      <th>date</th>\n      <th>month</th>\n      <th>year</th>\n      <th>reason_for_readmission</th>\n      <th>disease</th>\n      <th>Actual_Flag</th>\n      <th>Predicted_Flag</th>\n      <th>Prediction_Probability</th>\n      <th>Actual_Readmission_Rate</th>\n      <th>Predicted_Readmission_Rate</th>\n    </tr>\n  </thead>\n  <tbody>\n    <tr>\n      <th>0</th>\n      <td>1</td>\n      <td>7</td>\n      <td>Los Angeles</td>\n      <td>36</td>\n      <td>1</td>\n      <td>Non Acute</td>\n      <td>InPatient</td>\n      <td>12958</td>\n      <td>3</td>\n      <td>50</td>\n      <td>...</td>\n      <td>2020-03-13 13:38:00</td>\n      <td>Mar</td>\n      <td>2020</td>\n      <td>None</td>\n      <td>flu</td>\n      <td>False</td>\n      <td>False</td>\n      <td>0.35</td>\n      <td>3.06</td>\n      <td>48.85</td>\n    </tr>\n    <tr>\n      <th>1</th>\n      <td>1</td>\n      <td>1</td>\n      <td>Los Angeles</td>\n      <td>55</td>\n      <td>5</td>\n      <td>Acute</td>\n      <td>InPatient</td>\n      <td>11834</td>\n      <td>8</td>\n      <td>32</td>\n      <td>...</td>\n      <td>2020-02-22 10:57:00</td>\n      <td>Feb</td>\n      <td>2020</td>\n      <td>None</td>\n      <td>chemotherapy</td>\n      <td>False</td>\n      <td>True</td>\n      <td>0.59</td>\n      <td>1.66</td>\n      <td>43.98</td>\n    </tr>\n    <tr>\n      <th>2</th>\n      <td>1</td>\n      <td>7</td>\n      <td>Los Angeles</td>\n      <td>23</td>\n      <td>1</td>\n      <td>Non Acute</td>\n      <td>InPatient</td>\n      <td>757</td>\n      <td>4</td>\n      <td>49</td>\n      <td>...</td>\n      <td>2020-10-04 17:48:00</td>\n      <td>Oct</td>\n      <td>2020</td>\n      <td>None</td>\n      <td>flu</td>\n      <td>False</td>\n      <td>False</td>\n      <td>0.32</td>\n      <td>1.69</td>\n      <td>48.46</td>\n    </tr>\n    <tr>\n      <th>3</th>\n      <td>1</td>\n      <td>7</td>\n      <td>Los Angeles</td>\n      <td>28</td>\n      <td>4</td>\n      <td>Acute</td>\n      <td>InPatient</td>\n      <td>2566</td>\n      <td>3</td>\n      <td>47</td>\n      <td>...</td>\n      <td>2020-10-21 08:52:00</td>\n      <td>Oct</td>\n      <td>2020</td>\n      <td>None</td>\n      <td>flu</td>\n      <td>False</td>\n      <td>True</td>\n      <td>0.56</td>\n      <td>1.69</td>\n      <td>48.46</td>\n    </tr>\n    <tr>\n      <th>4</th>\n      <td>1</td>\n      <td>7</td>\n      <td>Los Angeles</td>\n      <td>37</td>\n      <td>5</td>\n      <td>Acute</td>\n      <td>InPatient</td>\n      <td>6153</td>\n      <td>3</td>\n      <td>50</td>\n      <td>...</td>\n      <td>2020-05-13 01:11:00</td>\n      <td>May</td>\n      <td>2020</td>\n      <td>None</td>\n      <td>flu</td>\n      <td>False</td>\n      <td>True</td>\n      <td>0.65</td>\n      <td>5.57</td>\n      <td>45.47</td>\n    </tr>\n  </tbody>\n</table>\n<p>5 rows × 28 columns</p>\n</div>"
          },
          "metadata": {}
        }
      ],
      "execution_count": 56,
      "metadata": {
        "gather": {
          "logged": 1680765134134
        }
      }
    },
    {
      "cell_type": "code",
      "source": [
        "# Anchorage Predictions\n",
        "city = 'Anchorage'\n",
        "month = 'Oct'\n",
        "value = 4.03\n",
        "full_df.loc[(full_df['city'] == city) & (full_df['month'] == month),'Predicted_Readmission_Rate'] = value\n",
        "\n",
        "month = 'Nov'\n",
        "value = 4.56\n",
        "full_df.loc[(full_df['city'] == city) & (full_df['month'] == month),'Predicted_Readmission_Rate'] = value\n",
        "full_df.loc[(full_df['city'] == city) & (full_df['month'] == month)]"
      ],
      "outputs": [
        {
          "output_type": "execute_result",
          "execution_count": 57,
          "data": {
            "text/plain": "       hospital_id  department_id       city  patient_age  risk_level  \\\n1               27              5  Anchorage           33           2   \n2               27              5  Anchorage           27           5   \n36              27              6  Anchorage           64           4   \n40              27              5  Anchorage           57           5   \n87              27              5  Anchorage           75           3   \n...            ...            ...        ...          ...         ...   \n55659           27              5  Anchorage           26           5   \n55692           27              6  Anchorage           64           3   \n55751           27              2  Anchorage           18           5   \n55779           27              8  Anchorage           27           4   \n55817           27              5  Anchorage           71           5   \n\n      acute_type patient_category  doctor_id  length_of_stay  wait_time  ...  \\\n1      Non Acute        InPatient      10705               4         42  ...   \n2          Acute        InPatient       5699               4         45  ...   \n36         Acute        InPatient      12171               4         40  ...   \n40         Acute        InPatient       7501               3         44  ...   \n87     Non Acute        InPatient       3040               2         42  ...   \n...          ...              ...        ...             ...        ...  ...   \n55659      Acute        InPatient      12091               2         41  ...   \n55692  Non Acute        InPatient       6725               5         36  ...   \n55751      Acute        InPatient      10991               7         44  ...   \n55779      Acute        InPatient       5873              15         36  ...   \n55817      Acute        InPatient      10230               4         44  ...   \n\n                     date  month  year           reason_for_readmission  \\\n1     2020-11-27 01:43:00    Nov  2020                             None   \n2     2020-11-16 11:54:00    Nov  2020                             None   \n36    2020-11-20 09:36:00    Nov  2020                             None   \n40    2020-11-25 15:53:00    Nov  2020                             None   \n87    2020-11-02 18:23:00    Nov  2020                             None   \n...                   ...    ...   ...                              ...   \n55659 2020-11-09 10:18:00    Nov  2020  Too early of hospital discharge   \n55692 2020-11-02 13:47:00    Nov  2020             Failure to Follow Up   \n55751 2020-11-16 09:56:00    Nov  2020                Poor Coordination   \n55779 2020-11-29 02:48:00    Nov  2020                 Unfriendly Staff   \n55817 2020-11-18 01:09:00    Nov  2020                Poor Coordination   \n\n                 disease  Actual_Flag  Predicted_Flag Prediction_Probability  \\\n1      ectopic pregnancy        False           False                   0.29   \n2         oligomenorrhea        False           False                   0.37   \n36             alzheimer        False           False                   0.41   \n40         endometriosis        False           False                   0.46   \n87         endometriosis        False           False                   0.30   \n...                  ...          ...             ...                    ...   \n55659     oligomenorrhea         True            True                   0.52   \n55692          alzheimer         True           False                   0.30   \n55751          scoliosis         True           False                   0.45   \n55779          psoriasis         True            True                   0.72   \n55817      endometriosis         True            True                   0.52   \n\n      Actual_Readmission_Rate Predicted_Readmission_Rate  \n1                        2.83                       4.56  \n2                        2.83                       4.56  \n36                       2.83                       4.56  \n40                       2.83                       4.56  \n87                       2.83                       4.56  \n...                       ...                        ...  \n55659                    2.83                       4.56  \n55692                    2.83                       4.56  \n55751                    2.83                       4.56  \n55779                    2.83                       4.56  \n55817                    2.83                       4.56  \n\n[4808 rows x 28 columns]",
            "text/html": "<div>\n<style scoped>\n    .dataframe tbody tr th:only-of-type {\n        vertical-align: middle;\n    }\n\n    .dataframe tbody tr th {\n        vertical-align: top;\n    }\n\n    .dataframe thead th {\n        text-align: right;\n    }\n</style>\n<table border=\"1\" class=\"dataframe\">\n  <thead>\n    <tr style=\"text-align: right;\">\n      <th></th>\n      <th>hospital_id</th>\n      <th>department_id</th>\n      <th>city</th>\n      <th>patient_age</th>\n      <th>risk_level</th>\n      <th>acute_type</th>\n      <th>patient_category</th>\n      <th>doctor_id</th>\n      <th>length_of_stay</th>\n      <th>wait_time</th>\n      <th>...</th>\n      <th>date</th>\n      <th>month</th>\n      <th>year</th>\n      <th>reason_for_readmission</th>\n      <th>disease</th>\n      <th>Actual_Flag</th>\n      <th>Predicted_Flag</th>\n      <th>Prediction_Probability</th>\n      <th>Actual_Readmission_Rate</th>\n      <th>Predicted_Readmission_Rate</th>\n    </tr>\n  </thead>\n  <tbody>\n    <tr>\n      <th>1</th>\n      <td>27</td>\n      <td>5</td>\n      <td>Anchorage</td>\n      <td>33</td>\n      <td>2</td>\n      <td>Non Acute</td>\n      <td>InPatient</td>\n      <td>10705</td>\n      <td>4</td>\n      <td>42</td>\n      <td>...</td>\n      <td>2020-11-27 01:43:00</td>\n      <td>Nov</td>\n      <td>2020</td>\n      <td>None</td>\n      <td>ectopic pregnancy</td>\n      <td>False</td>\n      <td>False</td>\n      <td>0.29</td>\n      <td>2.83</td>\n      <td>4.56</td>\n    </tr>\n    <tr>\n      <th>2</th>\n      <td>27</td>\n      <td>5</td>\n      <td>Anchorage</td>\n      <td>27</td>\n      <td>5</td>\n      <td>Acute</td>\n      <td>InPatient</td>\n      <td>5699</td>\n      <td>4</td>\n      <td>45</td>\n      <td>...</td>\n      <td>2020-11-16 11:54:00</td>\n      <td>Nov</td>\n      <td>2020</td>\n      <td>None</td>\n      <td>oligomenorrhea</td>\n      <td>False</td>\n      <td>False</td>\n      <td>0.37</td>\n      <td>2.83</td>\n      <td>4.56</td>\n    </tr>\n    <tr>\n      <th>36</th>\n      <td>27</td>\n      <td>6</td>\n      <td>Anchorage</td>\n      <td>64</td>\n      <td>4</td>\n      <td>Acute</td>\n      <td>InPatient</td>\n      <td>12171</td>\n      <td>4</td>\n      <td>40</td>\n      <td>...</td>\n      <td>2020-11-20 09:36:00</td>\n      <td>Nov</td>\n      <td>2020</td>\n      <td>None</td>\n      <td>alzheimer</td>\n      <td>False</td>\n      <td>False</td>\n      <td>0.41</td>\n      <td>2.83</td>\n      <td>4.56</td>\n    </tr>\n    <tr>\n      <th>40</th>\n      <td>27</td>\n      <td>5</td>\n      <td>Anchorage</td>\n      <td>57</td>\n      <td>5</td>\n      <td>Acute</td>\n      <td>InPatient</td>\n      <td>7501</td>\n      <td>3</td>\n      <td>44</td>\n      <td>...</td>\n      <td>2020-11-25 15:53:00</td>\n      <td>Nov</td>\n      <td>2020</td>\n      <td>None</td>\n      <td>endometriosis</td>\n      <td>False</td>\n      <td>False</td>\n      <td>0.46</td>\n      <td>2.83</td>\n      <td>4.56</td>\n    </tr>\n    <tr>\n      <th>87</th>\n      <td>27</td>\n      <td>5</td>\n      <td>Anchorage</td>\n      <td>75</td>\n      <td>3</td>\n      <td>Non Acute</td>\n      <td>InPatient</td>\n      <td>3040</td>\n      <td>2</td>\n      <td>42</td>\n      <td>...</td>\n      <td>2020-11-02 18:23:00</td>\n      <td>Nov</td>\n      <td>2020</td>\n      <td>None</td>\n      <td>endometriosis</td>\n      <td>False</td>\n      <td>False</td>\n      <td>0.30</td>\n      <td>2.83</td>\n      <td>4.56</td>\n    </tr>\n    <tr>\n      <th>...</th>\n      <td>...</td>\n      <td>...</td>\n      <td>...</td>\n      <td>...</td>\n      <td>...</td>\n      <td>...</td>\n      <td>...</td>\n      <td>...</td>\n      <td>...</td>\n      <td>...</td>\n      <td>...</td>\n      <td>...</td>\n      <td>...</td>\n      <td>...</td>\n      <td>...</td>\n      <td>...</td>\n      <td>...</td>\n      <td>...</td>\n      <td>...</td>\n      <td>...</td>\n      <td>...</td>\n    </tr>\n    <tr>\n      <th>55659</th>\n      <td>27</td>\n      <td>5</td>\n      <td>Anchorage</td>\n      <td>26</td>\n      <td>5</td>\n      <td>Acute</td>\n      <td>InPatient</td>\n      <td>12091</td>\n      <td>2</td>\n      <td>41</td>\n      <td>...</td>\n      <td>2020-11-09 10:18:00</td>\n      <td>Nov</td>\n      <td>2020</td>\n      <td>Too early of hospital discharge</td>\n      <td>oligomenorrhea</td>\n      <td>True</td>\n      <td>True</td>\n      <td>0.52</td>\n      <td>2.83</td>\n      <td>4.56</td>\n    </tr>\n    <tr>\n      <th>55692</th>\n      <td>27</td>\n      <td>6</td>\n      <td>Anchorage</td>\n      <td>64</td>\n      <td>3</td>\n      <td>Non Acute</td>\n      <td>InPatient</td>\n      <td>6725</td>\n      <td>5</td>\n      <td>36</td>\n      <td>...</td>\n      <td>2020-11-02 13:47:00</td>\n      <td>Nov</td>\n      <td>2020</td>\n      <td>Failure to Follow Up</td>\n      <td>alzheimer</td>\n      <td>True</td>\n      <td>False</td>\n      <td>0.30</td>\n      <td>2.83</td>\n      <td>4.56</td>\n    </tr>\n    <tr>\n      <th>55751</th>\n      <td>27</td>\n      <td>2</td>\n      <td>Anchorage</td>\n      <td>18</td>\n      <td>5</td>\n      <td>Acute</td>\n      <td>InPatient</td>\n      <td>10991</td>\n      <td>7</td>\n      <td>44</td>\n      <td>...</td>\n      <td>2020-11-16 09:56:00</td>\n      <td>Nov</td>\n      <td>2020</td>\n      <td>Poor Coordination</td>\n      <td>scoliosis</td>\n      <td>True</td>\n      <td>False</td>\n      <td>0.45</td>\n      <td>2.83</td>\n      <td>4.56</td>\n    </tr>\n    <tr>\n      <th>55779</th>\n      <td>27</td>\n      <td>8</td>\n      <td>Anchorage</td>\n      <td>27</td>\n      <td>4</td>\n      <td>Acute</td>\n      <td>InPatient</td>\n      <td>5873</td>\n      <td>15</td>\n      <td>36</td>\n      <td>...</td>\n      <td>2020-11-29 02:48:00</td>\n      <td>Nov</td>\n      <td>2020</td>\n      <td>Unfriendly Staff</td>\n      <td>psoriasis</td>\n      <td>True</td>\n      <td>True</td>\n      <td>0.72</td>\n      <td>2.83</td>\n      <td>4.56</td>\n    </tr>\n    <tr>\n      <th>55817</th>\n      <td>27</td>\n      <td>5</td>\n      <td>Anchorage</td>\n      <td>71</td>\n      <td>5</td>\n      <td>Acute</td>\n      <td>InPatient</td>\n      <td>10230</td>\n      <td>4</td>\n      <td>44</td>\n      <td>...</td>\n      <td>2020-11-18 01:09:00</td>\n      <td>Nov</td>\n      <td>2020</td>\n      <td>Poor Coordination</td>\n      <td>endometriosis</td>\n      <td>True</td>\n      <td>True</td>\n      <td>0.52</td>\n      <td>2.83</td>\n      <td>4.56</td>\n    </tr>\n  </tbody>\n</table>\n<p>4808 rows × 28 columns</p>\n</div>"
          },
          "metadata": {}
        }
      ],
      "execution_count": 57,
      "metadata": {
        "gather": {
          "logged": 1680765139158
        }
      }
    },
    {
      "cell_type": "code",
      "source": [
        "# Chicago Predictions\n",
        "city = 'Chicago'\n",
        "month = 'Oct'\n",
        "value = 4.21\n",
        "full_df.loc[(full_df['city'] == city) & (full_df['month'] == month),'Predicted_Readmission_Rate'] = value\n",
        "\n",
        "month = 'Nov'\n",
        "value = 3.62\n",
        "full_df.loc[(full_df['city'] == city) & (full_df['month'] == month),'Predicted_Readmission_Rate'] = value\n",
        "full_df.loc[(full_df['city'] == city) & (full_df['month'] == month)]"
      ],
      "outputs": [
        {
          "output_type": "execute_result",
          "execution_count": 58,
          "data": {
            "text/plain": "        hospital_id  department_id     city  patient_age  risk_level  \\\n17                2              7  Chicago           27           4   \n28                2              7  Chicago           25           2   \n32                2              7  Chicago           33           4   \n53                2              7  Chicago           36           3   \n61                2              7  Chicago           29           1   \n...             ...            ...      ...          ...         ...   \n201305            2              8  Chicago           49           4   \n201338            2              7  Chicago           40           4   \n201347            2              1  Chicago           66           4   \n201361            2              3  Chicago            8           5   \n201369            2              5  Chicago           42           5   \n\n       acute_type patient_category  doctor_id  length_of_stay  wait_time  ...  \\\n17          Acute        InPatient      12664               4         49  ...   \n28      Non Acute        InPatient       6124               4         48  ...   \n32          Acute        InPatient       3906               3         49  ...   \n53      Non Acute        InPatient      12488               4         50  ...   \n61      Non Acute        InPatient      11159               4         50  ...   \n...           ...              ...        ...             ...        ...  ...   \n201305      Acute        InPatient       9938              15         40  ...   \n201338      Acute        InPatient       1808               5         49  ...   \n201347      Acute        InPatient       5904               9         34  ...   \n201361      Acute        InPatient       8780               7         44  ...   \n201369      Acute        InPatient       8401               2         45  ...   \n\n                      date  month  year  reason_for_readmission  \\\n17     2020-11-05 00:24:00    Nov  2020                    None   \n28     2020-11-17 10:15:00    Nov  2020                    None   \n32     2020-11-27 13:17:00    Nov  2020                    None   \n53     2020-11-24 00:11:00    Nov  2020                    None   \n61     2020-11-28 17:54:00    Nov  2020                    None   \n...                    ...    ...   ...                     ...   \n201305 2020-11-27 08:36:00    Nov  2020    Failure to Follow Up   \n201338 2020-11-04 22:30:00    Nov  2020       Poor Coordination   \n201347 2020-11-10 06:12:00    Nov  2020    Failure to Follow Up   \n201361 2020-11-24 15:54:00    Nov  2020        Unfriendly Staff   \n201369 2020-11-07 00:54:00    Nov  2020    Failure to Follow Up   \n\n                  disease  Actual_Flag  Predicted_Flag Prediction_Probability  \\\n17              sinusitis        False            True                   0.51   \n28                    flu        False           False                   0.30   \n32                    flu        False           False                   0.48   \n53                    flu        False           False                   0.32   \n61                    flu        False           False                   0.25   \n...                   ...          ...             ...                    ...   \n201305          psoriasis         True            True                   0.63   \n201338          sinusitis         True            True                   0.52   \n201347       radiotherapy         True           False                   0.46   \n201361             bypass         True           False                   0.47   \n201369  ectopic pregnancy         True           False                   0.47   \n\n       Actual_Readmission_Rate Predicted_Readmission_Rate  \n17                        3.75                       3.62  \n28                        3.75                       3.62  \n32                        3.75                       3.62  \n53                        3.75                       3.62  \n61                        3.75                       3.62  \n...                        ...                        ...  \n201305                    3.75                       3.62  \n201338                    3.75                       3.62  \n201347                    3.75                       3.62  \n201361                    3.75                       3.62  \n201369                    3.75                       3.62  \n\n[13685 rows x 28 columns]",
            "text/html": "<div>\n<style scoped>\n    .dataframe tbody tr th:only-of-type {\n        vertical-align: middle;\n    }\n\n    .dataframe tbody tr th {\n        vertical-align: top;\n    }\n\n    .dataframe thead th {\n        text-align: right;\n    }\n</style>\n<table border=\"1\" class=\"dataframe\">\n  <thead>\n    <tr style=\"text-align: right;\">\n      <th></th>\n      <th>hospital_id</th>\n      <th>department_id</th>\n      <th>city</th>\n      <th>patient_age</th>\n      <th>risk_level</th>\n      <th>acute_type</th>\n      <th>patient_category</th>\n      <th>doctor_id</th>\n      <th>length_of_stay</th>\n      <th>wait_time</th>\n      <th>...</th>\n      <th>date</th>\n      <th>month</th>\n      <th>year</th>\n      <th>reason_for_readmission</th>\n      <th>disease</th>\n      <th>Actual_Flag</th>\n      <th>Predicted_Flag</th>\n      <th>Prediction_Probability</th>\n      <th>Actual_Readmission_Rate</th>\n      <th>Predicted_Readmission_Rate</th>\n    </tr>\n  </thead>\n  <tbody>\n    <tr>\n      <th>17</th>\n      <td>2</td>\n      <td>7</td>\n      <td>Chicago</td>\n      <td>27</td>\n      <td>4</td>\n      <td>Acute</td>\n      <td>InPatient</td>\n      <td>12664</td>\n      <td>4</td>\n      <td>49</td>\n      <td>...</td>\n      <td>2020-11-05 00:24:00</td>\n      <td>Nov</td>\n      <td>2020</td>\n      <td>None</td>\n      <td>sinusitis</td>\n      <td>False</td>\n      <td>True</td>\n      <td>0.51</td>\n      <td>3.75</td>\n      <td>3.62</td>\n    </tr>\n    <tr>\n      <th>28</th>\n      <td>2</td>\n      <td>7</td>\n      <td>Chicago</td>\n      <td>25</td>\n      <td>2</td>\n      <td>Non Acute</td>\n      <td>InPatient</td>\n      <td>6124</td>\n      <td>4</td>\n      <td>48</td>\n      <td>...</td>\n      <td>2020-11-17 10:15:00</td>\n      <td>Nov</td>\n      <td>2020</td>\n      <td>None</td>\n      <td>flu</td>\n      <td>False</td>\n      <td>False</td>\n      <td>0.30</td>\n      <td>3.75</td>\n      <td>3.62</td>\n    </tr>\n    <tr>\n      <th>32</th>\n      <td>2</td>\n      <td>7</td>\n      <td>Chicago</td>\n      <td>33</td>\n      <td>4</td>\n      <td>Acute</td>\n      <td>InPatient</td>\n      <td>3906</td>\n      <td>3</td>\n      <td>49</td>\n      <td>...</td>\n      <td>2020-11-27 13:17:00</td>\n      <td>Nov</td>\n      <td>2020</td>\n      <td>None</td>\n      <td>flu</td>\n      <td>False</td>\n      <td>False</td>\n      <td>0.48</td>\n      <td>3.75</td>\n      <td>3.62</td>\n    </tr>\n    <tr>\n      <th>53</th>\n      <td>2</td>\n      <td>7</td>\n      <td>Chicago</td>\n      <td>36</td>\n      <td>3</td>\n      <td>Non Acute</td>\n      <td>InPatient</td>\n      <td>12488</td>\n      <td>4</td>\n      <td>50</td>\n      <td>...</td>\n      <td>2020-11-24 00:11:00</td>\n      <td>Nov</td>\n      <td>2020</td>\n      <td>None</td>\n      <td>flu</td>\n      <td>False</td>\n      <td>False</td>\n      <td>0.32</td>\n      <td>3.75</td>\n      <td>3.62</td>\n    </tr>\n    <tr>\n      <th>61</th>\n      <td>2</td>\n      <td>7</td>\n      <td>Chicago</td>\n      <td>29</td>\n      <td>1</td>\n      <td>Non Acute</td>\n      <td>InPatient</td>\n      <td>11159</td>\n      <td>4</td>\n      <td>50</td>\n      <td>...</td>\n      <td>2020-11-28 17:54:00</td>\n      <td>Nov</td>\n      <td>2020</td>\n      <td>None</td>\n      <td>flu</td>\n      <td>False</td>\n      <td>False</td>\n      <td>0.25</td>\n      <td>3.75</td>\n      <td>3.62</td>\n    </tr>\n    <tr>\n      <th>...</th>\n      <td>...</td>\n      <td>...</td>\n      <td>...</td>\n      <td>...</td>\n      <td>...</td>\n      <td>...</td>\n      <td>...</td>\n      <td>...</td>\n      <td>...</td>\n      <td>...</td>\n      <td>...</td>\n      <td>...</td>\n      <td>...</td>\n      <td>...</td>\n      <td>...</td>\n      <td>...</td>\n      <td>...</td>\n      <td>...</td>\n      <td>...</td>\n      <td>...</td>\n      <td>...</td>\n    </tr>\n    <tr>\n      <th>201305</th>\n      <td>2</td>\n      <td>8</td>\n      <td>Chicago</td>\n      <td>49</td>\n      <td>4</td>\n      <td>Acute</td>\n      <td>InPatient</td>\n      <td>9938</td>\n      <td>15</td>\n      <td>40</td>\n      <td>...</td>\n      <td>2020-11-27 08:36:00</td>\n      <td>Nov</td>\n      <td>2020</td>\n      <td>Failure to Follow Up</td>\n      <td>psoriasis</td>\n      <td>True</td>\n      <td>True</td>\n      <td>0.63</td>\n      <td>3.75</td>\n      <td>3.62</td>\n    </tr>\n    <tr>\n      <th>201338</th>\n      <td>2</td>\n      <td>7</td>\n      <td>Chicago</td>\n      <td>40</td>\n      <td>4</td>\n      <td>Acute</td>\n      <td>InPatient</td>\n      <td>1808</td>\n      <td>5</td>\n      <td>49</td>\n      <td>...</td>\n      <td>2020-11-04 22:30:00</td>\n      <td>Nov</td>\n      <td>2020</td>\n      <td>Poor Coordination</td>\n      <td>sinusitis</td>\n      <td>True</td>\n      <td>True</td>\n      <td>0.52</td>\n      <td>3.75</td>\n      <td>3.62</td>\n    </tr>\n    <tr>\n      <th>201347</th>\n      <td>2</td>\n      <td>1</td>\n      <td>Chicago</td>\n      <td>66</td>\n      <td>4</td>\n      <td>Acute</td>\n      <td>InPatient</td>\n      <td>5904</td>\n      <td>9</td>\n      <td>34</td>\n      <td>...</td>\n      <td>2020-11-10 06:12:00</td>\n      <td>Nov</td>\n      <td>2020</td>\n      <td>Failure to Follow Up</td>\n      <td>radiotherapy</td>\n      <td>True</td>\n      <td>False</td>\n      <td>0.46</td>\n      <td>3.75</td>\n      <td>3.62</td>\n    </tr>\n    <tr>\n      <th>201361</th>\n      <td>2</td>\n      <td>3</td>\n      <td>Chicago</td>\n      <td>8</td>\n      <td>5</td>\n      <td>Acute</td>\n      <td>InPatient</td>\n      <td>8780</td>\n      <td>7</td>\n      <td>44</td>\n      <td>...</td>\n      <td>2020-11-24 15:54:00</td>\n      <td>Nov</td>\n      <td>2020</td>\n      <td>Unfriendly Staff</td>\n      <td>bypass</td>\n      <td>True</td>\n      <td>False</td>\n      <td>0.47</td>\n      <td>3.75</td>\n      <td>3.62</td>\n    </tr>\n    <tr>\n      <th>201369</th>\n      <td>2</td>\n      <td>5</td>\n      <td>Chicago</td>\n      <td>42</td>\n      <td>5</td>\n      <td>Acute</td>\n      <td>InPatient</td>\n      <td>8401</td>\n      <td>2</td>\n      <td>45</td>\n      <td>...</td>\n      <td>2020-11-07 00:54:00</td>\n      <td>Nov</td>\n      <td>2020</td>\n      <td>Failure to Follow Up</td>\n      <td>ectopic pregnancy</td>\n      <td>True</td>\n      <td>False</td>\n      <td>0.47</td>\n      <td>3.75</td>\n      <td>3.62</td>\n    </tr>\n  </tbody>\n</table>\n<p>13685 rows × 28 columns</p>\n</div>"
          },
          "metadata": {}
        }
      ],
      "execution_count": 58,
      "metadata": {
        "gather": {
          "logged": 1680765143855
        }
      }
    },
    {
      "cell_type": "code",
      "source": [
        "# Honolulu Predictions\n",
        "city = 'Honolulu'\n",
        "month = 'Oct'\n",
        "value = 8.32\n",
        "full_df.loc[(full_df['city'] == city) & (full_df['month'] == month),'Predicted_Readmission_Rate'] = value\n",
        "\n",
        "month = 'Nov'\n",
        "value = 7.98\n",
        "full_df.loc[(full_df['city'] == city) & (full_df['month'] == month),'Predicted_Readmission_Rate'] = value\n",
        "full_df.loc[(full_df['city'] == city) & (full_df['month'] == month)]"
      ],
      "outputs": [
        {
          "output_type": "execute_result",
          "execution_count": 59,
          "data": {
            "text/plain": "       hospital_id  department_id      city  patient_age  risk_level  \\\n68               9              5  Honolulu           86           4   \n71               9              6  Honolulu           56           4   \n80               9              2  Honolulu            2           4   \n89               9              2  Honolulu           17           4   \n97               9              1  Honolulu           76           4   \n...            ...            ...       ...          ...         ...   \n66471            9              1  Honolulu           67           5   \n66494            9              6  Honolulu           58           5   \n66523            9              3  Honolulu           11           4   \n66530            9              2  Honolulu           17           2   \n66531            9              3  Honolulu           82           3   \n\n      acute_type patient_category  doctor_id  length_of_stay  wait_time  ...  \\\n68         Acute        InPatient        791               4         42  ...   \n71         Acute        InPatient       2215               5         39  ...   \n80         Acute        InPatient       6009               6         41  ...   \n89         Acute        InPatient      10104              11         42  ...   \n97         Acute        InPatient         11               8         35  ...   \n...          ...              ...        ...             ...        ...  ...   \n66471      Acute        InPatient      12257               7         33  ...   \n66494      Acute        InPatient       7548               4         38  ...   \n66523      Acute        InPatient      12905               8         31  ...   \n66530  Non Acute        InPatient       2443               5         41  ...   \n66531  Non Acute        InPatient       9685              12         31  ...   \n\n                     date  month  year  reason_for_readmission        disease  \\\n68    2020-11-09 20:22:00    Nov  2020                    None  endometriosis   \n71    2020-11-23 15:09:00    Nov  2020                    None       epilepsy   \n80    2020-11-27 21:59:00    Nov  2020                    None      scoliosis   \n89    2020-11-25 20:36:00    Nov  2020                    None    arthroscopy   \n97    2020-11-12 12:08:00    Nov  2020                    None   chemotherapy   \n...                   ...    ...   ...                     ...            ...   \n66471 2020-11-24 11:39:00    Nov  2020        Unfriendly Staff   radiotherapy   \n66494 2020-11-17 17:20:00    Nov  2020    Failure to Follow Up       epilepsy   \n66523 2020-11-13 23:46:00    Nov  2020       Medication Errors         bypass   \n66530 2020-11-30 02:55:00    Nov  2020    Failure to Follow Up      scoliosis   \n66531 2020-11-20 22:07:00    Nov  2020       Medication Errors     arrhythmia   \n\n       Actual_Flag  Predicted_Flag Prediction_Probability  \\\n68           False           False                   0.44   \n71           False           False                   0.44   \n80           False           False                   0.41   \n89           False           False                   0.28   \n97           False           False                   0.41   \n...            ...             ...                    ...   \n66471         True           False                   0.43   \n66494         True           False                   0.41   \n66523         True           False                   0.43   \n66530         True           False                   0.33   \n66531         True           False                   0.37   \n\n      Actual_Readmission_Rate Predicted_Readmission_Rate  \n68                       7.83                       7.98  \n71                       7.83                       7.98  \n80                       7.83                       7.98  \n89                       7.83                       7.98  \n97                       7.83                       7.98  \n...                       ...                        ...  \n66471                    7.83                       7.98  \n66494                    7.83                       7.98  \n66523                    7.83                       7.98  \n66530                    7.83                       7.98  \n66531                    7.83                       7.98  \n\n[4545 rows x 28 columns]",
            "text/html": "<div>\n<style scoped>\n    .dataframe tbody tr th:only-of-type {\n        vertical-align: middle;\n    }\n\n    .dataframe tbody tr th {\n        vertical-align: top;\n    }\n\n    .dataframe thead th {\n        text-align: right;\n    }\n</style>\n<table border=\"1\" class=\"dataframe\">\n  <thead>\n    <tr style=\"text-align: right;\">\n      <th></th>\n      <th>hospital_id</th>\n      <th>department_id</th>\n      <th>city</th>\n      <th>patient_age</th>\n      <th>risk_level</th>\n      <th>acute_type</th>\n      <th>patient_category</th>\n      <th>doctor_id</th>\n      <th>length_of_stay</th>\n      <th>wait_time</th>\n      <th>...</th>\n      <th>date</th>\n      <th>month</th>\n      <th>year</th>\n      <th>reason_for_readmission</th>\n      <th>disease</th>\n      <th>Actual_Flag</th>\n      <th>Predicted_Flag</th>\n      <th>Prediction_Probability</th>\n      <th>Actual_Readmission_Rate</th>\n      <th>Predicted_Readmission_Rate</th>\n    </tr>\n  </thead>\n  <tbody>\n    <tr>\n      <th>68</th>\n      <td>9</td>\n      <td>5</td>\n      <td>Honolulu</td>\n      <td>86</td>\n      <td>4</td>\n      <td>Acute</td>\n      <td>InPatient</td>\n      <td>791</td>\n      <td>4</td>\n      <td>42</td>\n      <td>...</td>\n      <td>2020-11-09 20:22:00</td>\n      <td>Nov</td>\n      <td>2020</td>\n      <td>None</td>\n      <td>endometriosis</td>\n      <td>False</td>\n      <td>False</td>\n      <td>0.44</td>\n      <td>7.83</td>\n      <td>7.98</td>\n    </tr>\n    <tr>\n      <th>71</th>\n      <td>9</td>\n      <td>6</td>\n      <td>Honolulu</td>\n      <td>56</td>\n      <td>4</td>\n      <td>Acute</td>\n      <td>InPatient</td>\n      <td>2215</td>\n      <td>5</td>\n      <td>39</td>\n      <td>...</td>\n      <td>2020-11-23 15:09:00</td>\n      <td>Nov</td>\n      <td>2020</td>\n      <td>None</td>\n      <td>epilepsy</td>\n      <td>False</td>\n      <td>False</td>\n      <td>0.44</td>\n      <td>7.83</td>\n      <td>7.98</td>\n    </tr>\n    <tr>\n      <th>80</th>\n      <td>9</td>\n      <td>2</td>\n      <td>Honolulu</td>\n      <td>2</td>\n      <td>4</td>\n      <td>Acute</td>\n      <td>InPatient</td>\n      <td>6009</td>\n      <td>6</td>\n      <td>41</td>\n      <td>...</td>\n      <td>2020-11-27 21:59:00</td>\n      <td>Nov</td>\n      <td>2020</td>\n      <td>None</td>\n      <td>scoliosis</td>\n      <td>False</td>\n      <td>False</td>\n      <td>0.41</td>\n      <td>7.83</td>\n      <td>7.98</td>\n    </tr>\n    <tr>\n      <th>89</th>\n      <td>9</td>\n      <td>2</td>\n      <td>Honolulu</td>\n      <td>17</td>\n      <td>4</td>\n      <td>Acute</td>\n      <td>InPatient</td>\n      <td>10104</td>\n      <td>11</td>\n      <td>42</td>\n      <td>...</td>\n      <td>2020-11-25 20:36:00</td>\n      <td>Nov</td>\n      <td>2020</td>\n      <td>None</td>\n      <td>arthroscopy</td>\n      <td>False</td>\n      <td>False</td>\n      <td>0.28</td>\n      <td>7.83</td>\n      <td>7.98</td>\n    </tr>\n    <tr>\n      <th>97</th>\n      <td>9</td>\n      <td>1</td>\n      <td>Honolulu</td>\n      <td>76</td>\n      <td>4</td>\n      <td>Acute</td>\n      <td>InPatient</td>\n      <td>11</td>\n      <td>8</td>\n      <td>35</td>\n      <td>...</td>\n      <td>2020-11-12 12:08:00</td>\n      <td>Nov</td>\n      <td>2020</td>\n      <td>None</td>\n      <td>chemotherapy</td>\n      <td>False</td>\n      <td>False</td>\n      <td>0.41</td>\n      <td>7.83</td>\n      <td>7.98</td>\n    </tr>\n    <tr>\n      <th>...</th>\n      <td>...</td>\n      <td>...</td>\n      <td>...</td>\n      <td>...</td>\n      <td>...</td>\n      <td>...</td>\n      <td>...</td>\n      <td>...</td>\n      <td>...</td>\n      <td>...</td>\n      <td>...</td>\n      <td>...</td>\n      <td>...</td>\n      <td>...</td>\n      <td>...</td>\n      <td>...</td>\n      <td>...</td>\n      <td>...</td>\n      <td>...</td>\n      <td>...</td>\n      <td>...</td>\n    </tr>\n    <tr>\n      <th>66471</th>\n      <td>9</td>\n      <td>1</td>\n      <td>Honolulu</td>\n      <td>67</td>\n      <td>5</td>\n      <td>Acute</td>\n      <td>InPatient</td>\n      <td>12257</td>\n      <td>7</td>\n      <td>33</td>\n      <td>...</td>\n      <td>2020-11-24 11:39:00</td>\n      <td>Nov</td>\n      <td>2020</td>\n      <td>Unfriendly Staff</td>\n      <td>radiotherapy</td>\n      <td>True</td>\n      <td>False</td>\n      <td>0.43</td>\n      <td>7.83</td>\n      <td>7.98</td>\n    </tr>\n    <tr>\n      <th>66494</th>\n      <td>9</td>\n      <td>6</td>\n      <td>Honolulu</td>\n      <td>58</td>\n      <td>5</td>\n      <td>Acute</td>\n      <td>InPatient</td>\n      <td>7548</td>\n      <td>4</td>\n      <td>38</td>\n      <td>...</td>\n      <td>2020-11-17 17:20:00</td>\n      <td>Nov</td>\n      <td>2020</td>\n      <td>Failure to Follow Up</td>\n      <td>epilepsy</td>\n      <td>True</td>\n      <td>False</td>\n      <td>0.41</td>\n      <td>7.83</td>\n      <td>7.98</td>\n    </tr>\n    <tr>\n      <th>66523</th>\n      <td>9</td>\n      <td>3</td>\n      <td>Honolulu</td>\n      <td>11</td>\n      <td>4</td>\n      <td>Acute</td>\n      <td>InPatient</td>\n      <td>12905</td>\n      <td>8</td>\n      <td>31</td>\n      <td>...</td>\n      <td>2020-11-13 23:46:00</td>\n      <td>Nov</td>\n      <td>2020</td>\n      <td>Medication Errors</td>\n      <td>bypass</td>\n      <td>True</td>\n      <td>False</td>\n      <td>0.43</td>\n      <td>7.83</td>\n      <td>7.98</td>\n    </tr>\n    <tr>\n      <th>66530</th>\n      <td>9</td>\n      <td>2</td>\n      <td>Honolulu</td>\n      <td>17</td>\n      <td>2</td>\n      <td>Non Acute</td>\n      <td>InPatient</td>\n      <td>2443</td>\n      <td>5</td>\n      <td>41</td>\n      <td>...</td>\n      <td>2020-11-30 02:55:00</td>\n      <td>Nov</td>\n      <td>2020</td>\n      <td>Failure to Follow Up</td>\n      <td>scoliosis</td>\n      <td>True</td>\n      <td>False</td>\n      <td>0.33</td>\n      <td>7.83</td>\n      <td>7.98</td>\n    </tr>\n    <tr>\n      <th>66531</th>\n      <td>9</td>\n      <td>3</td>\n      <td>Honolulu</td>\n      <td>82</td>\n      <td>3</td>\n      <td>Non Acute</td>\n      <td>InPatient</td>\n      <td>9685</td>\n      <td>12</td>\n      <td>31</td>\n      <td>...</td>\n      <td>2020-11-20 22:07:00</td>\n      <td>Nov</td>\n      <td>2020</td>\n      <td>Medication Errors</td>\n      <td>arrhythmia</td>\n      <td>True</td>\n      <td>False</td>\n      <td>0.37</td>\n      <td>7.83</td>\n      <td>7.98</td>\n    </tr>\n  </tbody>\n</table>\n<p>4545 rows × 28 columns</p>\n</div>"
          },
          "metadata": {}
        }
      ],
      "execution_count": 59,
      "metadata": {
        "gather": {
          "logged": 1680765148869
        }
      }
    },
    {
      "cell_type": "code",
      "source": [
        "# Los Angeles Predictions\n",
        "city = 'Los Angeles'\n",
        "month = 'Oct'\n",
        "value = 2.24\n",
        "full_df.loc[(full_df['city'] == city) & (full_df['month'] == month),'Predicted_Readmission_Rate'] = value\n",
        "\n",
        "month = 'Nov'\n",
        "value = 2.15\n",
        "full_df.loc[(full_df['city'] == city) & (full_df['month'] == month),'Predicted_Readmission_Rate'] = value\n",
        "full_df.loc[(full_df['city'] == city) & (full_df['month'] == month)]"
      ],
      "outputs": [
        {
          "output_type": "execute_result",
          "execution_count": 60,
          "data": {
            "text/plain": "        hospital_id  department_id         city  patient_age  risk_level  \\\n9                 1              7  Los Angeles           23           1   \n11                1              7  Los Angeles           26           2   \n19                1              7  Los Angeles           46           1   \n24                1              7  Los Angeles           33           1   \n26                1              6  Los Angeles           38           1   \n...             ...            ...          ...          ...         ...   \n193891            1              1  Los Angeles           67           5   \n193948            1              2  Los Angeles           19           4   \n193967            1              4  Los Angeles           72           5   \n194040            1              3  Los Angeles           55           5   \n194081            1              2  Los Angeles           89           5   \n\n       acute_type patient_category  doctor_id  length_of_stay  wait_time  ...  \\\n9       Non Acute        InPatient      12001               3         49  ...   \n11      Non Acute        InPatient      12477               3         50  ...   \n19      Non Acute        InPatient      10195               4         50  ...   \n24      Non Acute        InPatient       6557               4         50  ...   \n26      Non Acute        InPatient       3962               4         39  ...   \n...           ...              ...        ...             ...        ...  ...   \n193891      Acute        InPatient       5008               9         34  ...   \n193948      Acute        InPatient      11021               3         43  ...   \n193967      Acute        InPatient       3192               5         49  ...   \n194040      Acute        InPatient        692              13         35  ...   \n194081      Acute        InPatient      10988               2         41  ...   \n\n                      date  month  year           reason_for_readmission  \\\n9      2020-11-08 18:02:00    Nov  2020                             None   \n11     2020-11-18 19:00:00    Nov  2020                             None   \n19     2020-11-07 16:07:00    Nov  2020                             None   \n24     2020-11-16 13:55:00    Nov  2020                             None   \n26     2020-11-21 07:10:00    Nov  2020                             None   \n...                    ...    ...   ...                              ...   \n193891 2020-11-08 03:31:00    Nov  2020                Medication Errors   \n193948 2020-11-20 10:44:00    Nov  2020  Too early of hospital discharge   \n193967 2020-11-19 15:09:00    Nov  2020             Failure to Follow Up   \n194040 2020-11-10 04:22:00    Nov  2020             Failure to Follow Up   \n194081 2020-11-03 01:02:00    Nov  2020  Too early of hospital discharge   \n\n                 disease  Actual_Flag  Predicted_Flag Prediction_Probability  \\\n9                    flu        False           False                   0.32   \n11                   flu        False           False                   0.32   \n19                   flu        False           False                   0.37   \n24                   flu        False           False                   0.34   \n26      chronic headache        False           False                   0.34   \n...                  ...          ...             ...                    ...   \n193891      radiotherapy         True            True                   0.52   \n193948   flat-footedness         True            True                   0.71   \n193967         maternity         True            True                   0.82   \n194040        arrhythmia         True            True                   0.72   \n194081       arthroscopy         True            True                   0.80   \n\n       Actual_Readmission_Rate Predicted_Readmission_Rate  \n9                         1.39                       2.15  \n11                        1.39                       2.15  \n19                        1.39                       2.15  \n24                        1.39                       2.15  \n26                        1.39                       2.15  \n...                        ...                        ...  \n193891                    1.39                       2.15  \n193948                    1.39                       2.15  \n193967                    1.39                       2.15  \n194040                    1.39                       2.15  \n194081                    1.39                       2.15  \n\n[14523 rows x 28 columns]",
            "text/html": "<div>\n<style scoped>\n    .dataframe tbody tr th:only-of-type {\n        vertical-align: middle;\n    }\n\n    .dataframe tbody tr th {\n        vertical-align: top;\n    }\n\n    .dataframe thead th {\n        text-align: right;\n    }\n</style>\n<table border=\"1\" class=\"dataframe\">\n  <thead>\n    <tr style=\"text-align: right;\">\n      <th></th>\n      <th>hospital_id</th>\n      <th>department_id</th>\n      <th>city</th>\n      <th>patient_age</th>\n      <th>risk_level</th>\n      <th>acute_type</th>\n      <th>patient_category</th>\n      <th>doctor_id</th>\n      <th>length_of_stay</th>\n      <th>wait_time</th>\n      <th>...</th>\n      <th>date</th>\n      <th>month</th>\n      <th>year</th>\n      <th>reason_for_readmission</th>\n      <th>disease</th>\n      <th>Actual_Flag</th>\n      <th>Predicted_Flag</th>\n      <th>Prediction_Probability</th>\n      <th>Actual_Readmission_Rate</th>\n      <th>Predicted_Readmission_Rate</th>\n    </tr>\n  </thead>\n  <tbody>\n    <tr>\n      <th>9</th>\n      <td>1</td>\n      <td>7</td>\n      <td>Los Angeles</td>\n      <td>23</td>\n      <td>1</td>\n      <td>Non Acute</td>\n      <td>InPatient</td>\n      <td>12001</td>\n      <td>3</td>\n      <td>49</td>\n      <td>...</td>\n      <td>2020-11-08 18:02:00</td>\n      <td>Nov</td>\n      <td>2020</td>\n      <td>None</td>\n      <td>flu</td>\n      <td>False</td>\n      <td>False</td>\n      <td>0.32</td>\n      <td>1.39</td>\n      <td>2.15</td>\n    </tr>\n    <tr>\n      <th>11</th>\n      <td>1</td>\n      <td>7</td>\n      <td>Los Angeles</td>\n      <td>26</td>\n      <td>2</td>\n      <td>Non Acute</td>\n      <td>InPatient</td>\n      <td>12477</td>\n      <td>3</td>\n      <td>50</td>\n      <td>...</td>\n      <td>2020-11-18 19:00:00</td>\n      <td>Nov</td>\n      <td>2020</td>\n      <td>None</td>\n      <td>flu</td>\n      <td>False</td>\n      <td>False</td>\n      <td>0.32</td>\n      <td>1.39</td>\n      <td>2.15</td>\n    </tr>\n    <tr>\n      <th>19</th>\n      <td>1</td>\n      <td>7</td>\n      <td>Los Angeles</td>\n      <td>46</td>\n      <td>1</td>\n      <td>Non Acute</td>\n      <td>InPatient</td>\n      <td>10195</td>\n      <td>4</td>\n      <td>50</td>\n      <td>...</td>\n      <td>2020-11-07 16:07:00</td>\n      <td>Nov</td>\n      <td>2020</td>\n      <td>None</td>\n      <td>flu</td>\n      <td>False</td>\n      <td>False</td>\n      <td>0.37</td>\n      <td>1.39</td>\n      <td>2.15</td>\n    </tr>\n    <tr>\n      <th>24</th>\n      <td>1</td>\n      <td>7</td>\n      <td>Los Angeles</td>\n      <td>33</td>\n      <td>1</td>\n      <td>Non Acute</td>\n      <td>InPatient</td>\n      <td>6557</td>\n      <td>4</td>\n      <td>50</td>\n      <td>...</td>\n      <td>2020-11-16 13:55:00</td>\n      <td>Nov</td>\n      <td>2020</td>\n      <td>None</td>\n      <td>flu</td>\n      <td>False</td>\n      <td>False</td>\n      <td>0.34</td>\n      <td>1.39</td>\n      <td>2.15</td>\n    </tr>\n    <tr>\n      <th>26</th>\n      <td>1</td>\n      <td>6</td>\n      <td>Los Angeles</td>\n      <td>38</td>\n      <td>1</td>\n      <td>Non Acute</td>\n      <td>InPatient</td>\n      <td>3962</td>\n      <td>4</td>\n      <td>39</td>\n      <td>...</td>\n      <td>2020-11-21 07:10:00</td>\n      <td>Nov</td>\n      <td>2020</td>\n      <td>None</td>\n      <td>chronic headache</td>\n      <td>False</td>\n      <td>False</td>\n      <td>0.34</td>\n      <td>1.39</td>\n      <td>2.15</td>\n    </tr>\n    <tr>\n      <th>...</th>\n      <td>...</td>\n      <td>...</td>\n      <td>...</td>\n      <td>...</td>\n      <td>...</td>\n      <td>...</td>\n      <td>...</td>\n      <td>...</td>\n      <td>...</td>\n      <td>...</td>\n      <td>...</td>\n      <td>...</td>\n      <td>...</td>\n      <td>...</td>\n      <td>...</td>\n      <td>...</td>\n      <td>...</td>\n      <td>...</td>\n      <td>...</td>\n      <td>...</td>\n      <td>...</td>\n    </tr>\n    <tr>\n      <th>193891</th>\n      <td>1</td>\n      <td>1</td>\n      <td>Los Angeles</td>\n      <td>67</td>\n      <td>5</td>\n      <td>Acute</td>\n      <td>InPatient</td>\n      <td>5008</td>\n      <td>9</td>\n      <td>34</td>\n      <td>...</td>\n      <td>2020-11-08 03:31:00</td>\n      <td>Nov</td>\n      <td>2020</td>\n      <td>Medication Errors</td>\n      <td>radiotherapy</td>\n      <td>True</td>\n      <td>True</td>\n      <td>0.52</td>\n      <td>1.39</td>\n      <td>2.15</td>\n    </tr>\n    <tr>\n      <th>193948</th>\n      <td>1</td>\n      <td>2</td>\n      <td>Los Angeles</td>\n      <td>19</td>\n      <td>4</td>\n      <td>Acute</td>\n      <td>InPatient</td>\n      <td>11021</td>\n      <td>3</td>\n      <td>43</td>\n      <td>...</td>\n      <td>2020-11-20 10:44:00</td>\n      <td>Nov</td>\n      <td>2020</td>\n      <td>Too early of hospital discharge</td>\n      <td>flat-footedness</td>\n      <td>True</td>\n      <td>True</td>\n      <td>0.71</td>\n      <td>1.39</td>\n      <td>2.15</td>\n    </tr>\n    <tr>\n      <th>193967</th>\n      <td>1</td>\n      <td>4</td>\n      <td>Los Angeles</td>\n      <td>72</td>\n      <td>5</td>\n      <td>Acute</td>\n      <td>InPatient</td>\n      <td>3192</td>\n      <td>5</td>\n      <td>49</td>\n      <td>...</td>\n      <td>2020-11-19 15:09:00</td>\n      <td>Nov</td>\n      <td>2020</td>\n      <td>Failure to Follow Up</td>\n      <td>maternity</td>\n      <td>True</td>\n      <td>True</td>\n      <td>0.82</td>\n      <td>1.39</td>\n      <td>2.15</td>\n    </tr>\n    <tr>\n      <th>194040</th>\n      <td>1</td>\n      <td>3</td>\n      <td>Los Angeles</td>\n      <td>55</td>\n      <td>5</td>\n      <td>Acute</td>\n      <td>InPatient</td>\n      <td>692</td>\n      <td>13</td>\n      <td>35</td>\n      <td>...</td>\n      <td>2020-11-10 04:22:00</td>\n      <td>Nov</td>\n      <td>2020</td>\n      <td>Failure to Follow Up</td>\n      <td>arrhythmia</td>\n      <td>True</td>\n      <td>True</td>\n      <td>0.72</td>\n      <td>1.39</td>\n      <td>2.15</td>\n    </tr>\n    <tr>\n      <th>194081</th>\n      <td>1</td>\n      <td>2</td>\n      <td>Los Angeles</td>\n      <td>89</td>\n      <td>5</td>\n      <td>Acute</td>\n      <td>InPatient</td>\n      <td>10988</td>\n      <td>2</td>\n      <td>41</td>\n      <td>...</td>\n      <td>2020-11-03 01:02:00</td>\n      <td>Nov</td>\n      <td>2020</td>\n      <td>Too early of hospital discharge</td>\n      <td>arthroscopy</td>\n      <td>True</td>\n      <td>True</td>\n      <td>0.80</td>\n      <td>1.39</td>\n      <td>2.15</td>\n    </tr>\n  </tbody>\n</table>\n<p>14523 rows × 28 columns</p>\n</div>"
          },
          "metadata": {}
        }
      ],
      "execution_count": 60,
      "metadata": {
        "gather": {
          "logged": 1680765153647
        }
      }
    },
    {
      "cell_type": "code",
      "source": [
        "# Miami Predictions\n",
        "city = 'Miami'\n",
        "month = 'Oct'\n",
        "value = 10.73\n",
        "full_df.loc[(full_df['city'] == city) & (full_df['month'] == month),'Predicted_Readmission_Rate'] = value\n",
        "\n",
        "month = 'Nov'\n",
        "value = 9.56\n",
        "full_df.loc[(full_df['city'] == city) & (full_df['month'] == month),'Predicted_Readmission_Rate'] = value\n",
        "full_df.loc[(full_df['city'] == city) & (full_df['month'] == month)]"
      ],
      "outputs": [
        {
          "output_type": "execute_result",
          "execution_count": 61,
          "data": {
            "text/plain": "       hospital_id  department_id   city  patient_age  risk_level acute_type  \\\n19              21              5  Miami           43           5      Acute   \n26              21              6  Miami           86           2  Non Acute   \n27              21              7  Miami           49           4      Acute   \n47              21              5  Miami           43           1  Non Acute   \n75              21              5  Miami           83           2  Non Acute   \n...            ...            ...    ...          ...         ...        ...   \n97804           21              8  Miami           49           4      Acute   \n97839           21              5  Miami           86           5      Acute   \n97875           21              8  Miami           28           5      Acute   \n97930           21              2  Miami           20           2  Non Acute   \n97955           21              8  Miami           34           4      Acute   \n\n      patient_category  doctor_id  length_of_stay  wait_time  ...  \\\n19           InPatient       4396               4         41  ...   \n26           InPatient       9856               9         39  ...   \n27           InPatient       4542               4         48  ...   \n47           InPatient       6194               3         41  ...   \n75           InPatient       5694               3         41  ...   \n...                ...        ...             ...        ...  ...   \n97804        InPatient       2316              15         40  ...   \n97839        InPatient      11172               3         43  ...   \n97875        InPatient      11780              14         40  ...   \n97930        InPatient       8188               7         44  ...   \n97955        InPatient       4973              16         40  ...   \n\n                     date  month  year  reason_for_readmission  \\\n19    2020-11-24 01:36:00    Nov  2020                    None   \n26    2020-11-09 20:14:00    Nov  2020                    None   \n27    2020-11-15 10:15:00    Nov  2020                    None   \n47    2020-11-06 22:07:00    Nov  2020                    None   \n75    2020-11-09 22:08:00    Nov  2020                    None   \n...                   ...    ...   ...                     ...   \n97804 2020-11-20 11:10:00    Nov  2020       Medication Errors   \n97839 2020-11-02 01:51:00    Nov  2020    Failure to Follow Up   \n97875 2020-11-01 23:49:00    Nov  2020       Medication Errors   \n97930 2020-11-11 04:23:00    Nov  2020       Poor Coordination   \n97955 2020-11-21 01:10:00    Nov  2020       Medication Errors   \n\n                   disease  Actual_Flag  Predicted_Flag  \\\n19          oligomenorrhea        False           False   \n26     parkinson psychosis        False           False   \n27               sinusitis        False            True   \n47       ectopic pregnancy        False           False   \n75           endometriosis        False           False   \n...                    ...          ...             ...   \n97804            psoriasis         True            True   \n97839        endometriosis         True           False   \n97875            psoriasis         True            True   \n97930            scoliosis         True           False   \n97955            psoriasis         True            True   \n\n      Prediction_Probability Actual_Readmission_Rate  \\\n19                      0.43                    7.11   \n26                      0.33                    7.11   \n27                      0.65                    7.11   \n47                      0.18                    7.11   \n75                      0.26                    7.11   \n...                      ...                     ...   \n97804                   0.81                    7.11   \n97839                   0.37                    7.11   \n97875                   0.74                    7.11   \n97930                   0.23                    7.11   \n97955                   0.75                    7.11   \n\n      Predicted_Readmission_Rate  \n19                          9.56  \n26                          9.56  \n27                          9.56  \n47                          9.56  \n75                          9.56  \n...                          ...  \n97804                       9.56  \n97839                       9.56  \n97875                       9.56  \n97930                       9.56  \n97955                       9.56  \n\n[6291 rows x 28 columns]",
            "text/html": "<div>\n<style scoped>\n    .dataframe tbody tr th:only-of-type {\n        vertical-align: middle;\n    }\n\n    .dataframe tbody tr th {\n        vertical-align: top;\n    }\n\n    .dataframe thead th {\n        text-align: right;\n    }\n</style>\n<table border=\"1\" class=\"dataframe\">\n  <thead>\n    <tr style=\"text-align: right;\">\n      <th></th>\n      <th>hospital_id</th>\n      <th>department_id</th>\n      <th>city</th>\n      <th>patient_age</th>\n      <th>risk_level</th>\n      <th>acute_type</th>\n      <th>patient_category</th>\n      <th>doctor_id</th>\n      <th>length_of_stay</th>\n      <th>wait_time</th>\n      <th>...</th>\n      <th>date</th>\n      <th>month</th>\n      <th>year</th>\n      <th>reason_for_readmission</th>\n      <th>disease</th>\n      <th>Actual_Flag</th>\n      <th>Predicted_Flag</th>\n      <th>Prediction_Probability</th>\n      <th>Actual_Readmission_Rate</th>\n      <th>Predicted_Readmission_Rate</th>\n    </tr>\n  </thead>\n  <tbody>\n    <tr>\n      <th>19</th>\n      <td>21</td>\n      <td>5</td>\n      <td>Miami</td>\n      <td>43</td>\n      <td>5</td>\n      <td>Acute</td>\n      <td>InPatient</td>\n      <td>4396</td>\n      <td>4</td>\n      <td>41</td>\n      <td>...</td>\n      <td>2020-11-24 01:36:00</td>\n      <td>Nov</td>\n      <td>2020</td>\n      <td>None</td>\n      <td>oligomenorrhea</td>\n      <td>False</td>\n      <td>False</td>\n      <td>0.43</td>\n      <td>7.11</td>\n      <td>9.56</td>\n    </tr>\n    <tr>\n      <th>26</th>\n      <td>21</td>\n      <td>6</td>\n      <td>Miami</td>\n      <td>86</td>\n      <td>2</td>\n      <td>Non Acute</td>\n      <td>InPatient</td>\n      <td>9856</td>\n      <td>9</td>\n      <td>39</td>\n      <td>...</td>\n      <td>2020-11-09 20:14:00</td>\n      <td>Nov</td>\n      <td>2020</td>\n      <td>None</td>\n      <td>parkinson psychosis</td>\n      <td>False</td>\n      <td>False</td>\n      <td>0.33</td>\n      <td>7.11</td>\n      <td>9.56</td>\n    </tr>\n    <tr>\n      <th>27</th>\n      <td>21</td>\n      <td>7</td>\n      <td>Miami</td>\n      <td>49</td>\n      <td>4</td>\n      <td>Acute</td>\n      <td>InPatient</td>\n      <td>4542</td>\n      <td>4</td>\n      <td>48</td>\n      <td>...</td>\n      <td>2020-11-15 10:15:00</td>\n      <td>Nov</td>\n      <td>2020</td>\n      <td>None</td>\n      <td>sinusitis</td>\n      <td>False</td>\n      <td>True</td>\n      <td>0.65</td>\n      <td>7.11</td>\n      <td>9.56</td>\n    </tr>\n    <tr>\n      <th>47</th>\n      <td>21</td>\n      <td>5</td>\n      <td>Miami</td>\n      <td>43</td>\n      <td>1</td>\n      <td>Non Acute</td>\n      <td>InPatient</td>\n      <td>6194</td>\n      <td>3</td>\n      <td>41</td>\n      <td>...</td>\n      <td>2020-11-06 22:07:00</td>\n      <td>Nov</td>\n      <td>2020</td>\n      <td>None</td>\n      <td>ectopic pregnancy</td>\n      <td>False</td>\n      <td>False</td>\n      <td>0.18</td>\n      <td>7.11</td>\n      <td>9.56</td>\n    </tr>\n    <tr>\n      <th>75</th>\n      <td>21</td>\n      <td>5</td>\n      <td>Miami</td>\n      <td>83</td>\n      <td>2</td>\n      <td>Non Acute</td>\n      <td>InPatient</td>\n      <td>5694</td>\n      <td>3</td>\n      <td>41</td>\n      <td>...</td>\n      <td>2020-11-09 22:08:00</td>\n      <td>Nov</td>\n      <td>2020</td>\n      <td>None</td>\n      <td>endometriosis</td>\n      <td>False</td>\n      <td>False</td>\n      <td>0.26</td>\n      <td>7.11</td>\n      <td>9.56</td>\n    </tr>\n    <tr>\n      <th>...</th>\n      <td>...</td>\n      <td>...</td>\n      <td>...</td>\n      <td>...</td>\n      <td>...</td>\n      <td>...</td>\n      <td>...</td>\n      <td>...</td>\n      <td>...</td>\n      <td>...</td>\n      <td>...</td>\n      <td>...</td>\n      <td>...</td>\n      <td>...</td>\n      <td>...</td>\n      <td>...</td>\n      <td>...</td>\n      <td>...</td>\n      <td>...</td>\n      <td>...</td>\n      <td>...</td>\n    </tr>\n    <tr>\n      <th>97804</th>\n      <td>21</td>\n      <td>8</td>\n      <td>Miami</td>\n      <td>49</td>\n      <td>4</td>\n      <td>Acute</td>\n      <td>InPatient</td>\n      <td>2316</td>\n      <td>15</td>\n      <td>40</td>\n      <td>...</td>\n      <td>2020-11-20 11:10:00</td>\n      <td>Nov</td>\n      <td>2020</td>\n      <td>Medication Errors</td>\n      <td>psoriasis</td>\n      <td>True</td>\n      <td>True</td>\n      <td>0.81</td>\n      <td>7.11</td>\n      <td>9.56</td>\n    </tr>\n    <tr>\n      <th>97839</th>\n      <td>21</td>\n      <td>5</td>\n      <td>Miami</td>\n      <td>86</td>\n      <td>5</td>\n      <td>Acute</td>\n      <td>InPatient</td>\n      <td>11172</td>\n      <td>3</td>\n      <td>43</td>\n      <td>...</td>\n      <td>2020-11-02 01:51:00</td>\n      <td>Nov</td>\n      <td>2020</td>\n      <td>Failure to Follow Up</td>\n      <td>endometriosis</td>\n      <td>True</td>\n      <td>False</td>\n      <td>0.37</td>\n      <td>7.11</td>\n      <td>9.56</td>\n    </tr>\n    <tr>\n      <th>97875</th>\n      <td>21</td>\n      <td>8</td>\n      <td>Miami</td>\n      <td>28</td>\n      <td>5</td>\n      <td>Acute</td>\n      <td>InPatient</td>\n      <td>11780</td>\n      <td>14</td>\n      <td>40</td>\n      <td>...</td>\n      <td>2020-11-01 23:49:00</td>\n      <td>Nov</td>\n      <td>2020</td>\n      <td>Medication Errors</td>\n      <td>psoriasis</td>\n      <td>True</td>\n      <td>True</td>\n      <td>0.74</td>\n      <td>7.11</td>\n      <td>9.56</td>\n    </tr>\n    <tr>\n      <th>97930</th>\n      <td>21</td>\n      <td>2</td>\n      <td>Miami</td>\n      <td>20</td>\n      <td>2</td>\n      <td>Non Acute</td>\n      <td>InPatient</td>\n      <td>8188</td>\n      <td>7</td>\n      <td>44</td>\n      <td>...</td>\n      <td>2020-11-11 04:23:00</td>\n      <td>Nov</td>\n      <td>2020</td>\n      <td>Poor Coordination</td>\n      <td>scoliosis</td>\n      <td>True</td>\n      <td>False</td>\n      <td>0.23</td>\n      <td>7.11</td>\n      <td>9.56</td>\n    </tr>\n    <tr>\n      <th>97955</th>\n      <td>21</td>\n      <td>8</td>\n      <td>Miami</td>\n      <td>34</td>\n      <td>4</td>\n      <td>Acute</td>\n      <td>InPatient</td>\n      <td>4973</td>\n      <td>16</td>\n      <td>40</td>\n      <td>...</td>\n      <td>2020-11-21 01:10:00</td>\n      <td>Nov</td>\n      <td>2020</td>\n      <td>Medication Errors</td>\n      <td>psoriasis</td>\n      <td>True</td>\n      <td>True</td>\n      <td>0.75</td>\n      <td>7.11</td>\n      <td>9.56</td>\n    </tr>\n  </tbody>\n</table>\n<p>6291 rows × 28 columns</p>\n</div>"
          },
          "metadata": {}
        }
      ],
      "execution_count": 61,
      "metadata": {
        "gather": {
          "logged": 1680765158633
        }
      }
    },
    {
      "cell_type": "code",
      "source": [
        "full_df.dtypes"
      ],
      "outputs": [
        {
          "output_type": "execute_result",
          "execution_count": 62,
          "data": {
            "text/plain": "hospital_id                            int64\ndepartment_id                          int64\ncity                                  object\npatient_age                            int64\nrisk_level                             int64\nacute_type                            object\npatient_category                      object\ndoctor_id                              int64\nlength_of_stay                         int64\nwait_time                              int64\ntype_of_stay                          object\ntreatment_cost                         int64\nclaim_cost                             int64\ndrug_cost                              int64\nhospital_expense                       int64\nfollow_up                              int64\nreadmitted_patient                     int64\npayment_type                          object\ndate                          datetime64[ns]\nmonth                                 object\nyear                                   int64\nreason_for_readmission                object\ndisease                               object\nActual_Flag                             bool\nPredicted_Flag                          bool\nPrediction_Probability               float64\nActual_Readmission_Rate              float64\nPredicted_Readmission_Rate           float64\ndtype: object"
          },
          "metadata": {}
        }
      ],
      "execution_count": 62,
      "metadata": {
        "gather": {
          "logged": 1680765163161
        }
      }
    },
    {
      "cell_type": "code",
      "source": [
        "full_df.to_csv(local_data_folder+'readmission_data_predictedv2.csv',index=False)"
      ],
      "outputs": [],
      "execution_count": 63,
      "metadata": {
        "gather": {
          "logged": 1680765181485
        }
      }
    },
    {
      "cell_type": "code",
      "source": [
        "# Upload the data\n",
        "local_files = [local_data_folder + 'readmission_data_predictedv2.csv']\n",
        "print(local_files)\n",
        "\n",
        "dstore.upload_files(\n",
        "    files = local_files,\n",
        "    relative_root = local_data_folder,\n",
        "    target_path = '/',\n",
        "    overwrite=True,\n",
        "    show_progress=True\n",
        ")"
      ],
      "outputs": [
        {
          "output_type": "stream",
          "name": "stdout",
          "text": "['readmission_data/readmission_data_predictedv2.csv']\nUploading an estimated of 1 files\nUploading readmission_data/readmission_data_predictedv2.csv\nUploaded readmission_data/readmission_data_predictedv2.csv, 1 files out of an estimated total of 1\nUploaded 1 files\n"
        },
        {
          "output_type": "execute_result",
          "execution_count": 64,
          "data": {
            "text/plain": "$AZUREML_DATAREFERENCE_readmission_prediction_store"
          },
          "metadata": {}
        }
      ],
      "execution_count": 64,
      "metadata": {
        "gather": {
          "logged": 1680765194735
        }
      }
    }
  ],
  "metadata": {
    "kernel_info": {
      "name": "python38-azureml"
    },
    "kernelspec": {
      "name": "python38-azureml",
      "language": "python",
      "display_name": "Python 3.8 - AzureML"
    },
    "language_info": {
      "name": "python",
      "version": "3.8.10",
      "mimetype": "text/x-python",
      "codemirror_mode": {
        "name": "ipython",
        "version": 3
      },
      "pygments_lexer": "ipython3",
      "nbconvert_exporter": "python",
      "file_extension": ".py"
    },
    "microsoft": {
      "host": {
        "AzureML": {
          "notebookHasBeenCompleted": true
        }
      },
      "ms_spell_check": {
        "ms_spell_check_language": "en"
      }
    },
    "nteract": {
      "version": "nteract-front-end@1.0.0"
    }
  },
  "nbformat": 4,
  "nbformat_minor": 2
}