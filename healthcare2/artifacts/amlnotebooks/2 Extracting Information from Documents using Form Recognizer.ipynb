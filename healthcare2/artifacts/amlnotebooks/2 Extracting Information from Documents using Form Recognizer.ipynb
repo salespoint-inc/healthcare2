{
  "cells": [
    {
      "cell_type": "markdown",
      "source": [
        "# Information Extraction from Documents in Healthcare - Automatic Form Recognition \n",
        "<h3><span style=\"color: #117d30;\"> Using Azure Form Recognizer</span></h3>"
      ],
      "metadata": {}
    },
    {
      "cell_type": "markdown",
      "source": [
        "$*****$ Important – Do not use in production, for demonstration purposes only – please review the legal notices before continuing $*****$ "
      ],
      "metadata": {
        "nteract": {
          "transient": {
            "deleting": false
          }
        }
      }
    },
    {
      "cell_type": "markdown",
      "source": [
        "![](https://sthealthcareprod001.blob.core.windows.net/webappassets/patient_form.jpg)"
      ],
      "metadata": {}
    },
    {
      "cell_type": "markdown",
      "source": [],
      "metadata": {
        "nteract": {
          "transient": {
            "deleting": false
          }
        }
      }
    },
    {
      "cell_type": "markdown",
      "source": [
        "## Azure Form Recognizer\n",
        "\n",
        "Azure Form Recognizer is a cognitive service that uses machine learning technology to identify and extract key-value pairs and table data from form documents. It then outputs structured data that includes the relationships in the original file."
      ],
      "metadata": {}
    },
    {
      "cell_type": "markdown",
      "source": [
        "## Scenario Overview\n",
        "\n",
        "\n",
        "Azure Form Recognizer is a cognitive service that uses machine learning technology to identify and extract key-value pairs and table data from form documents. It then outputs structured data that includes the relationships in the original file.\n",
        "\n",
        "Patient Intake Form Dataset: Raw unstructured data is fed into the pipeline in the form of electronically generated PDFs. These reports contain information about injuries that occurred at 5 different hospital locations. This data provides information on patient intake forms, including the allergies, conditions, symptoms, and the other information about patients.\n",
        "\n",
        "### Notebook Organization\n",
        "\n",
        "- Fetch the patient intake  PDF files from a container under an azure storage account.\n",
        "- Convert the PDF files to JSON by querying the azure trained form recognizer model using the REST API.\n",
        "- Preprocess the JSON files to extract only relevant information.\n",
        "- Push the JSON files to a container under an azure storage account."
      ],
      "metadata": {}
    },
    {
      "cell_type": "markdown",
      "source": [
        "\n",
        "## Legal Notices \n",
        "\n",
        "This presentation, demonstration, and demonstration model are for informational purposes only. Microsoft makes no warranties, express or implied, in this presentation demonstration, and demonstration model. Nothing in this presentation, demonstration, or demonstration model modifies any of the terms and conditions of Microsoft’s written and signed agreements. This is not an offer and applicable terms and the information provided is subject to revision and may be changed at any time by Microsoft.\n",
        "\n",
        "This presentation, demonstration, and/or demonstration model do not give you or your organization any license to any patents, trademarks, copyrights, or other intellectual property covering the subject matter in this presentation, demonstration, and demonstration model.\n",
        "\n",
        "The information contained in this presentation, demonstration and demonstration model represent the current view of Microsoft on the issues discussed as of the date of presentation and/or demonstration, and the duration of your access to the demonstration model. Because Microsoft must respond to changing market conditions, it should not be interpreted to be a commitment on the part of Microsoft, and Microsoft cannot guarantee the accuracy of any information presented after the date of presentation and/or demonstration and for the duration of your access to the demonstration model.\n",
        "\n",
        "No Microsoft technology, nor any of its component technologies, including the demonstration model, is intended or made available: (1) as a medical device; (2) for the diagnosis of disease or other conditions, or in the cure, mitigation, treatment or prevention of a disease or other conditions; or (3) as a substitute for the professional clinical advice, opinion, or judgment of a treating healthcare professional. Partners or customers are responsible for ensuring the regulatory compliance of any solution they build using Microsoft technologies.\n",
        "\n",
        "© 2020 Microsoft Corporation. All rights reserved\n"
      ],
      "metadata": {
        "nteract": {
          "transient": {
            "deleting": false
          }
        }
      }
    },
    {
      "cell_type": "markdown",
      "source": [
        "## Importing required libraries"
      ],
      "metadata": {}
    },
    {
      "cell_type": "code",
      "source": [
        "import json\n",
        "import time\n",
        "import requests\n",
        "import os\n",
        "from azure.storage.blob import ContainerClient\n",
        "import pprint\n",
        "import json\n",
        "from os import listdir\n",
        "from os.path import isfile, join\n",
        "import shutil\n",
        "import time"
      ],
      "outputs": [],
      "execution_count": 4,
      "metadata": {
        "gather": {
          "logged": 1632278152073
        }
      }
    },
    {
      "cell_type": "code",
      "source": [
        "import os\n",
        "os.getcwd()"
      ],
      "outputs": [
        {
          "output_type": "execute_result",
          "execution_count": 3,
          "data": {
            "text/plain": "'/mnt/batch/tasks/shared/LS_root/mounts/clusters/tal-demo-compute/code/Users/demo-healthcare-user/notebooks'"
          },
          "metadata": {}
        }
      ],
      "execution_count": 3,
      "metadata": {
        "gather": {
          "logged": 1632269556659
        }
      }
    },
    {
      "cell_type": "markdown",
      "source": [
        "## Creating local directories"
      ],
      "metadata": {}
    },
    {
      "cell_type": "code",
      "source": [
        "# Create local directories if they don't exist\n",
        "\n",
        "# *input_forms* contains all the pdf files\n",
        "input_path = os.getcwd()+\"/input_forms\"\n",
        "output_path = os.getcwd()+\"/output_json\"\n",
        "\n",
        "if (not os.path.isdir(input_path)):\n",
        "    os.makedirs(input_path)\n",
        "\n",
        "# *output_json* will contain all the converted json files\n",
        "if (not os.path.isdir(output_path)):\n",
        "    os.makedirs(output_path)"
      ],
      "outputs": [],
      "execution_count": 8,
      "metadata": {
        "gather": {
          "logged": 1632278195110
        }
      }
    },
    {
      "cell_type": "markdown",
      "source": [
        "## Establishing connection to Azure blob storage"
      ],
      "metadata": {}
    },
    {
      "cell_type": "code",
      "source": [
        "import GlobalVariables"
      ],
      "outputs": [],
      "execution_count": 2,
      "metadata": {
        "gather": {
          "logged": 1632278128668
        }
      }
    },
    {
      "cell_type": "code",
      "source": [
        "CONNECTION_STRING = GlobalVariables.STORAGE_ACCOUNT_CONNECTION_STRING\n",
        "CONTAINER_NAME = \"patientintakeform\"\n",
        "\n",
        "# creating blob service object and list blobs inside input_folder\n",
        "\n",
        "container_client = ContainerClient.from_connection_string(conn_str=CONNECTION_STRING, container_name=CONTAINER_NAME)\n",
        "blobs_list = container_client.list_blobs()\n",
        "\n",
        "# initializing several lists that will be used in the following cells\n",
        "blob_client_list=[]\n",
        "blob_file_list = []\n",
        "\n",
        "# getting the blob clients and appending them to a list\n",
        "for c in blobs_list:\n",
        "    blob_client = container_client.get_blob_client(c)\n",
        "    blob_file_list.append(c.name)\n",
        "    blob_client_list.append(blob_client)\n",
        "\n",
        "for filename, blob_client in zip(blob_file_list, blob_client_list):\n",
        "    fname = os.path.join(input_path,filename)\n",
        "    with open(fname, \"wb\") as blob_file:\n",
        "        download_stream = blob_client.download_blob()\n",
        "        download_stream.readinto(blob_file)\n"
      ],
      "outputs": [],
      "execution_count": 6,
      "metadata": {
        "gather": {
          "logged": 1632269557914
        },
        "jupyter": {
          "outputs_hidden": false,
          "source_hidden": false
        },
        "nteract": {
          "transient": {
            "deleting": false
          }
        }
      }
    },
    {
      "cell_type": "markdown",
      "source": [
        "## Running Azure Form Recognizer service on forms"
      ],
      "metadata": {}
    },
    {
      "cell_type": "code",
      "source": [
        "%%time\n",
        "files = [f for f in listdir(os.getcwd()+\"/input_forms\") if isfile(join(os.getcwd()+\"/input_forms\", f))]\n",
        "\n",
        "# Endpoint parameters for querying the customer trained form-recognizer model to return the processed JSON\n",
        "# Processes PDF files one by one and return JSON files\n",
        "endpoint = GlobalVariables.FORM_RECOGNIZER_ENDPOINT\n",
        "apim_key = GlobalVariables.FORM_RECOGNIZER_API_KEY\n",
        "model_id = GlobalVariables.FORM_RECOGNIZER_MODEL_ID\n",
        "post_url = endpoint + \"/formrecognizer/v2.1-preview.2/custom/models/%s/analyze\" % model_id\n",
        "params = {\"includeTextDetails\": True}\n",
        "headers = {'Content-Type': 'application/pdf', 'Ocp-Apim-Subscription-Key': apim_key}\n",
        "\n",
        "local_path = input_path\n",
        "\n",
        "\n",
        "for file in files:\n",
        "    with open(os.path.join(local_path,file), \"rb\") as f:\n",
        "        data_bytes = f.read()\n",
        "        \n",
        "    try:\n",
        "        resp = requests.post(url = post_url, data = data_bytes, headers = headers, params = params)\n",
        "        print('resp',resp)\n",
        "        if resp.status_code != 202:\n",
        "            print(\"POST analyze failed:\\n%s\" % json.dumps(resp.json()))\n",
        "            quit()\n",
        "        print(\"POST analyze succeeded:\\n%s\" % resp.headers)\n",
        "        get_url = resp.headers[\"operation-location\"]\n",
        "    except Exception as e:\n",
        "        print(\"POST analyze failed:\\n%s\" % str(e))\n",
        "        quit()\n",
        "     \n",
        "    n_tries = 50\n",
        "    n_try = 0\n",
        "    wait_sec = 5\n",
        "    max_wait_sec = 60\n",
        "    while n_try < n_tries:\n",
        "        try:\n",
        "            resp = requests.get(url = get_url, headers = {\"Ocp-Apim-Subscription-Key\": apim_key})\n",
        "            resp_json = resp.json()\n",
        "            if resp.status_code != 200:\n",
        "                print(\"GET analyze results failed:\\n%s\" % json.dumps(resp_json))\n",
        "                quit()\n",
        "            status = resp_json[\"status\"]\n",
        "#             print(status)\n",
        "            output = json.dumps(resp_json)\n",
        "            \n",
        "            \n",
        "            if status == \"succeeded\":\n",
        "                output_dict = json.loads(output)\n",
        "                        \n",
        "                print(\"Analysis succeeded:\\n%s \\n\" % file[:-4])\n",
        "                \n",
        "                form_inputs = resp_json['analyzeResult']['documentResults'][0]['fields']\n",
        "                tags = list(form_inputs.keys())\n",
        "\n",
        "                temp = {}\n",
        "                types= ''\n",
        "                \n",
        "                for tag in tags: \n",
        "                    if form_inputs[tag] != None:\n",
        "                        types = form_inputs[tag]['type']\n",
        "                        data = form_inputs[tag]['text']\n",
        "                        if types == 'selectionMark':\n",
        "                            if data == 'selected':\n",
        "                                field = tag.split('_')\n",
        "                                field_name = field[0]\n",
        "                                option_chosen = field[-1]\n",
        "                                \n",
        "                                if field_name in temp: \n",
        "                                    temp_data = temp[field_name]\n",
        "                                    temp_data.append(option_chosen)\n",
        "                                    temp[field_name] = temp_data\n",
        "                                else:\n",
        "                                \n",
        "                                    temp[field_name] = [option_chosen]\n",
        "                            else: \n",
        "                                continue\n",
        "                        else: \n",
        "                            temp[tag] = data\n",
        "                            \n",
        "                \n",
        "                    with open(os.path.join(output_path,file[:-4]+\".json\"), 'w') as outfile:\n",
        "                        json.dump(temp, outfile)\n",
        "                break\n",
        "            if status == \"failed\":\n",
        "                print(\"Analysis failed:\\n%s\" % json.dumps(resp_json))\n",
        "                quit()\n",
        "            # Analysis still running. Wait and retry.\n",
        "            time.sleep(wait_sec)\n",
        "            n_try += 1\n",
        "            wait_sec = min(2*wait_sec, max_wait_sec)     \n",
        "        except Exception as e:\n",
        "            msg = \"GET analyze results failed:\\n%s\" % str(e)\n",
        "            print(msg)\n",
        "            quit()"
      ],
      "outputs": [
        {
          "output_type": "stream",
          "name": "stdout",
          "text": "resp <Response [202]>\nPOST analyze succeeded:\n{'Content-Length': '0', 'Operation-Location': 'https://cog-formrecognitionv2-prod.cognitiveservices.azure.com/formrecognizer/v2.1-preview.2/custom/models/bc68268e-83c2-4ce9-a948-136d7025927e/analyzeresults/c0de35a2-cf06-4170-a0c7-9ec1fa96c938', 'x-envoy-upstream-service-time': '129', 'apim-request-id': '0b222ba1-dd45-44de-95f7-365b874e7966', 'Strict-Transport-Security': 'max-age=31536000; includeSubDomains; preload', 'x-content-type-options': 'nosniff', 'Date': 'Wed, 22 Sep 2021 00:12:38 GMT'}\nAnalysis failed:\n{\"status\": \"failed\", \"createdDateTime\": \"2021-09-22T00:12:39Z\", \"lastUpdatedDateTime\": \"2021-09-22T00:12:39Z\", \"analyzeResult\": {\"version\": \"2.1.0\", \"errors\": [{\"code\": \"2005\", \"message\": \"The file submitted couldn't be parsed. This can be due to one of the following reasons: the file format is not supported ( Supported formats include JPEG, PNG, BMP, PDF and TIFF), the file is corrupted or password protected.\"}]}}\nAnalysis failed:\n{\"status\": \"failed\", \"createdDateTime\": \"2021-09-22T00:12:39Z\", \"lastUpdatedDateTime\": \"2021-09-22T00:12:39Z\", \"analyzeResult\": {\"version\": \"2.1.0\", \"errors\": [{\"code\": \"2005\", \"message\": \"The file submitted couldn't be parsed. This can be due to one of the following reasons: the file format is not supported ( Supported formats include JPEG, PNG, BMP, PDF and TIFF), the file is corrupted or password protected.\"}]}}\nAnalysis failed:\n{\"status\": \"failed\", \"createdDateTime\": \"2021-09-22T00:12:39Z\", \"lastUpdatedDateTime\": \"2021-09-22T00:12:39Z\", \"analyzeResult\": {\"version\": \"2.1.0\", \"errors\": [{\"code\": \"2005\", \"message\": \"The file submitted couldn't be parsed. This can be due to one of the following reasons: the file format is not supported ( Supported formats include JPEG, PNG, BMP, PDF and TIFF), the file is corrupted or password protected.\"}]}}\nAnalysis failed:\n{\"status\": \"failed\", \"createdDateTime\": \"2021-09-22T00:12:39Z\", \"lastUpdatedDateTime\": \"2021-09-22T00:12:39Z\", \"analyzeResult\": {\"version\": \"2.1.0\", \"errors\": [{\"code\": \"2005\", \"message\": \"The file submitted couldn't be parsed. This can be due to one of the following reasons: the file format is not supported ( Supported formats include JPEG, PNG, BMP, PDF and TIFF), the file is corrupted or password protected.\"}]}}\nAnalysis failed:\n{\"status\": \"failed\", \"createdDateTime\": \"2021-09-22T00:12:39Z\", \"lastUpdatedDateTime\": \"2021-09-22T00:12:39Z\", \"analyzeResult\": {\"version\": \"2.1.0\", \"errors\": [{\"code\": \"2005\", \"message\": \"The file submitted couldn't be parsed. This can be due to one of the following reasons: the file format is not supported ( Supported formats include JPEG, PNG, BMP, PDF and TIFF), the file is corrupted or password protected.\"}]}}\nAnalysis failed:\n{\"status\": \"failed\", \"createdDateTime\": \"2021-09-22T00:12:39Z\", \"lastUpdatedDateTime\": \"2021-09-22T00:12:39Z\", \"analyzeResult\": {\"version\": \"2.1.0\", \"errors\": [{\"code\": \"2005\", \"message\": \"The file submitted couldn't be parsed. This can be due to one of the following reasons: the file format is not supported ( Supported formats include JPEG, PNG, BMP, PDF and TIFF), the file is corrupted or password protected.\"}]}}\nAnalysis failed:\n{\"status\": \"failed\", \"createdDateTime\": \"2021-09-22T00:12:39Z\", \"lastUpdatedDateTime\": \"2021-09-22T00:12:39Z\", \"analyzeResult\": {\"version\": \"2.1.0\", \"errors\": [{\"code\": \"2005\", \"message\": \"The file submitted couldn't be parsed. This can be due to one of the following reasons: the file format is not supported ( Supported formats include JPEG, PNG, BMP, PDF and TIFF), the file is corrupted or password protected.\"}]}}\nAnalysis failed:\n{\"status\": \"failed\", \"createdDateTime\": \"2021-09-22T00:12:39Z\", \"lastUpdatedDateTime\": \"2021-09-22T00:12:39Z\", \"analyzeResult\": {\"version\": \"2.1.0\", \"errors\": [{\"code\": \"2005\", \"message\": \"The file submitted couldn't be parsed. This can be due to one of the following reasons: the file format is not supported ( Supported formats include JPEG, PNG, BMP, PDF and TIFF), the file is corrupted or password protected.\"}]}}\nAnalysis failed:\n{\"status\": \"failed\", \"createdDateTime\": \"2021-09-22T00:12:39Z\", \"lastUpdatedDateTime\": \"2021-09-22T00:12:39Z\", \"analyzeResult\": {\"version\": \"2.1.0\", \"errors\": [{\"code\": \"2005\", \"message\": \"The file submitted couldn't be parsed. This can be due to one of the following reasons: the file format is not supported ( Supported formats include JPEG, PNG, BMP, PDF and TIFF), the file is corrupted or password protected.\"}]}}\nAnalysis failed:\n{\"status\": \"failed\", \"createdDateTime\": \"2021-09-22T00:12:39Z\", \"lastUpdatedDateTime\": \"2021-09-22T00:12:39Z\", \"analyzeResult\": {\"version\": \"2.1.0\", \"errors\": [{\"code\": \"2005\", \"message\": \"The file submitted couldn't be parsed. This can be due to one of the following reasons: the file format is not supported ( Supported formats include JPEG, PNG, BMP, PDF and TIFF), the file is corrupted or password protected.\"}]}}\nAnalysis failed:\n{\"status\": \"failed\", \"createdDateTime\": \"2021-09-22T00:12:39Z\", \"lastUpdatedDateTime\": \"2021-09-22T00:12:39Z\", \"analyzeResult\": {\"version\": \"2.1.0\", \"errors\": [{\"code\": \"2005\", \"message\": \"The file submitted couldn't be parsed. This can be due to one of the following reasons: the file format is not supported ( Supported formats include JPEG, PNG, BMP, PDF and TIFF), the file is corrupted or password protected.\"}]}}\nAnalysis failed:\n{\"status\": \"failed\", \"createdDateTime\": \"2021-09-22T00:12:39Z\", \"lastUpdatedDateTime\": \"2021-09-22T00:12:39Z\", \"analyzeResult\": {\"version\": \"2.1.0\", \"errors\": [{\"code\": \"2005\", \"message\": \"The file submitted couldn't be parsed. This can be due to one of the following reasons: the file format is not supported ( Supported formats include JPEG, PNG, BMP, PDF and TIFF), the file is corrupted or password protected.\"}]}}\nAnalysis failed:\n{\"status\": \"failed\", \"createdDateTime\": \"2021-09-22T00:12:39Z\", \"lastUpdatedDateTime\": \"2021-09-22T00:12:39Z\", \"analyzeResult\": {\"version\": \"2.1.0\", \"errors\": [{\"code\": \"2005\", \"message\": \"The file submitted couldn't be parsed. This can be due to one of the following reasons: the file format is not supported ( Supported formats include JPEG, PNG, BMP, PDF and TIFF), the file is corrupted or password protected.\"}]}}\nAnalysis failed:\n{\"status\": \"failed\", \"createdDateTime\": \"2021-09-22T00:12:39Z\", \"lastUpdatedDateTime\": \"2021-09-22T00:12:39Z\", \"analyzeResult\": {\"version\": \"2.1.0\", \"errors\": [{\"code\": \"2005\", \"message\": \"The file submitted couldn't be parsed. This can be due to one of the following reasons: the file format is not supported ( Supported formats include JPEG, PNG, BMP, PDF and TIFF), the file is corrupted or password protected.\"}]}}\nAnalysis failed:\n{\"status\": \"failed\", \"createdDateTime\": \"2021-09-22T00:12:39Z\", \"lastUpdatedDateTime\": \"2021-09-22T00:12:39Z\", \"analyzeResult\": {\"version\": \"2.1.0\", \"errors\": [{\"code\": \"2005\", \"message\": \"The file submitted couldn't be parsed. This can be due to one of the following reasons: the file format is not supported ( Supported formats include JPEG, PNG, BMP, PDF and TIFF), the file is corrupted or password protected.\"}]}}\nAnalysis failed:\n{\"status\": \"failed\", \"createdDateTime\": \"2021-09-22T00:12:39Z\", \"lastUpdatedDateTime\": \"2021-09-22T00:12:39Z\", \"analyzeResult\": {\"version\": \"2.1.0\", \"errors\": [{\"code\": \"2005\", \"message\": \"The file submitted couldn't be parsed. This can be due to one of the following reasons: the file format is not supported ( Supported formats include JPEG, PNG, BMP, PDF and TIFF), the file is corrupted or password protected.\"}]}}\nAnalysis failed:\n{\"status\": \"failed\", \"createdDateTime\": \"2021-09-22T00:12:39Z\", \"lastUpdatedDateTime\": \"2021-09-22T00:12:39Z\", \"analyzeResult\": {\"version\": \"2.1.0\", \"errors\": [{\"code\": \"2005\", \"message\": \"The file submitted couldn't be parsed. This can be due to one of the following reasons: the file format is not supported ( Supported formats include JPEG, PNG, BMP, PDF and TIFF), the file is corrupted or password protected.\"}]}}\nAnalysis failed:\n{\"status\": \"failed\", \"createdDateTime\": \"2021-09-22T00:12:39Z\", \"lastUpdatedDateTime\": \"2021-09-22T00:12:39Z\", \"analyzeResult\": {\"version\": \"2.1.0\", \"errors\": [{\"code\": \"2005\", \"message\": \"The file submitted couldn't be parsed. This can be due to one of the following reasons: the file format is not supported ( Supported formats include JPEG, PNG, BMP, PDF and TIFF), the file is corrupted or password protected.\"}]}}\nAnalysis failed:\n{\"status\": \"failed\", \"createdDateTime\": \"2021-09-22T00:12:39Z\", \"lastUpdatedDateTime\": \"2021-09-22T00:12:39Z\", \"analyzeResult\": {\"version\": \"2.1.0\", \"errors\": [{\"code\": \"2005\", \"message\": \"The file submitted couldn't be parsed. This can be due to one of the following reasons: the file format is not supported ( Supported formats include JPEG, PNG, BMP, PDF and TIFF), the file is corrupted or password protected.\"}]}}\nAnalysis failed:\n{\"status\": \"failed\", \"createdDateTime\": \"2021-09-22T00:12:39Z\", \"lastUpdatedDateTime\": \"2021-09-22T00:12:39Z\", \"analyzeResult\": {\"version\": \"2.1.0\", \"errors\": [{\"code\": \"2005\", \"message\": \"The file submitted couldn't be parsed. This can be due to one of the following reasons: the file format is not supported ( Supported formats include JPEG, PNG, BMP, PDF and TIFF), the file is corrupted or password protected.\"}]}}\nAnalysis failed:\n{\"status\": \"failed\", \"createdDateTime\": \"2021-09-22T00:12:39Z\", \"lastUpdatedDateTime\": \"2021-09-22T00:12:39Z\", \"analyzeResult\": {\"version\": \"2.1.0\", \"errors\": [{\"code\": \"2005\", \"message\": \"The file submitted couldn't be parsed. This can be due to one of the following reasons: the file format is not supported ( Supported formats include JPEG, PNG, BMP, PDF and TIFF), the file is corrupted or password protected.\"}]}}\nAnalysis failed:\n{\"status\": \"failed\", \"createdDateTime\": \"2021-09-22T00:12:39Z\", \"lastUpdatedDateTime\": \"2021-09-22T00:12:39Z\", \"analyzeResult\": {\"version\": \"2.1.0\", \"errors\": [{\"code\": \"2005\", \"message\": \"The file submitted couldn't be parsed. This can be due to one of the following reasons: the file format is not supported ( Supported formats include JPEG, PNG, BMP, PDF and TIFF), the file is corrupted or password protected.\"}]}}\nAnalysis failed:\n{\"status\": \"failed\", \"createdDateTime\": \"2021-09-22T00:12:39Z\", \"lastUpdatedDateTime\": \"2021-09-22T00:12:39Z\", \"analyzeResult\": {\"version\": \"2.1.0\", \"errors\": [{\"code\": \"2005\", \"message\": \"The file submitted couldn't be parsed. This can be due to one of the following reasons: the file format is not supported ( Supported formats include JPEG, PNG, BMP, PDF and TIFF), the file is corrupted or password protected.\"}]}}\nAnalysis failed:\n{\"status\": \"failed\", \"createdDateTime\": \"2021-09-22T00:12:39Z\", \"lastUpdatedDateTime\": \"2021-09-22T00:12:39Z\", \"analyzeResult\": {\"version\": \"2.1.0\", \"errors\": [{\"code\": \"2005\", \"message\": \"The file submitted couldn't be parsed. This can be due to one of the following reasons: the file format is not supported ( Supported formats include JPEG, PNG, BMP, PDF and TIFF), the file is corrupted or password protected.\"}]}}\nAnalysis failed:\n{\"status\": \"failed\", \"createdDateTime\": \"2021-09-22T00:12:39Z\", \"lastUpdatedDateTime\": \"2021-09-22T00:12:39Z\", \"analyzeResult\": {\"version\": \"2.1.0\", \"errors\": [{\"code\": \"2005\", \"message\": \"The file submitted couldn't be parsed. This can be due to one of the following reasons: the file format is not supported ( Supported formats include JPEG, PNG, BMP, PDF and TIFF), the file is corrupted or password protected.\"}]}}\nAnalysis failed:\n{\"status\": \"failed\", \"createdDateTime\": \"2021-09-22T00:12:39Z\", \"lastUpdatedDateTime\": \"2021-09-22T00:12:39Z\", \"analyzeResult\": {\"version\": \"2.1.0\", \"errors\": [{\"code\": \"2005\", \"message\": \"The file submitted couldn't be parsed. This can be due to one of the following reasons: the file format is not supported ( Supported formats include JPEG, PNG, BMP, PDF and TIFF), the file is corrupted or password protected.\"}]}}\nAnalysis failed:\n{\"status\": \"failed\", \"createdDateTime\": \"2021-09-22T00:12:39Z\", \"lastUpdatedDateTime\": \"2021-09-22T00:12:39Z\", \"analyzeResult\": {\"version\": \"2.1.0\", \"errors\": [{\"code\": \"2005\", \"message\": \"The file submitted couldn't be parsed. This can be due to one of the following reasons: the file format is not supported ( Supported formats include JPEG, PNG, BMP, PDF and TIFF), the file is corrupted or password protected.\"}]}}\nAnalysis failed:\n{\"status\": \"failed\", \"createdDateTime\": \"2021-09-22T00:12:39Z\", \"lastUpdatedDateTime\": \"2021-09-22T00:12:39Z\", \"analyzeResult\": {\"version\": \"2.1.0\", \"errors\": [{\"code\": \"2005\", \"message\": \"The file submitted couldn't be parsed. This can be due to one of the following reasons: the file format is not supported ( Supported formats include JPEG, PNG, BMP, PDF and TIFF), the file is corrupted or password protected.\"}]}}\nAnalysis failed:\n{\"status\": \"failed\", \"createdDateTime\": \"2021-09-22T00:12:39Z\", \"lastUpdatedDateTime\": \"2021-09-22T00:12:39Z\", \"analyzeResult\": {\"version\": \"2.1.0\", \"errors\": [{\"code\": \"2005\", \"message\": \"The file submitted couldn't be parsed. This can be due to one of the following reasons: the file format is not supported ( Supported formats include JPEG, PNG, BMP, PDF and TIFF), the file is corrupted or password protected.\"}]}}\nAnalysis failed:\n{\"status\": \"failed\", \"createdDateTime\": \"2021-09-22T00:12:39Z\", \"lastUpdatedDateTime\": \"2021-09-22T00:12:39Z\", \"analyzeResult\": {\"version\": \"2.1.0\", \"errors\": [{\"code\": \"2005\", \"message\": \"The file submitted couldn't be parsed. This can be due to one of the following reasons: the file format is not supported ( Supported formats include JPEG, PNG, BMP, PDF and TIFF), the file is corrupted or password protected.\"}]}}\nAnalysis failed:\n{\"status\": \"failed\", \"createdDateTime\": \"2021-09-22T00:12:39Z\", \"lastUpdatedDateTime\": \"2021-09-22T00:12:39Z\", \"analyzeResult\": {\"version\": \"2.1.0\", \"errors\": [{\"code\": \"2005\", \"message\": \"The file submitted couldn't be parsed. This can be due to one of the following reasons: the file format is not supported ( Supported formats include JPEG, PNG, BMP, PDF and TIFF), the file is corrupted or password protected.\"}]}}\nresp <Response [202]>\nPOST analyze succeeded:\n{'Content-Length': '0', 'Operation-Location': 'https://cog-formrecognitionv2-prod.cognitiveservices.azure.com/formrecognizer/v2.1-preview.2/custom/models/bc68268e-83c2-4ce9-a948-136d7025927e/analyzeresults/cbd652dd-2b04-48cb-bbb5-3e852d675307', 'x-envoy-upstream-service-time': '93', 'apim-request-id': 'fa7cb4fb-f44e-46d0-940f-32a36fe73cd7', 'Strict-Transport-Security': 'max-age=31536000; includeSubDomains; preload', 'x-content-type-options': 'nosniff', 'Date': 'Wed, 22 Sep 2021 01:00:03 GMT'}\nAnalysis failed:\n{\"status\": \"failed\", \"createdDateTime\": \"2021-09-22T01:00:03Z\", \"lastUpdatedDateTime\": \"2021-09-22T01:00:03Z\", \"analyzeResult\": {\"version\": \"2.1.0\", \"errors\": [{\"code\": \"2005\", \"message\": \"The file submitted couldn't be parsed. This can be due to one of the following reasons: the file format is not supported ( Supported formats include JPEG, PNG, BMP, PDF and TIFF), the file is corrupted or password protected.\"}]}}\nAnalysis failed:\n{\"status\": \"failed\", \"createdDateTime\": \"2021-09-22T01:00:03Z\", \"lastUpdatedDateTime\": \"2021-09-22T01:00:03Z\", \"analyzeResult\": {\"version\": \"2.1.0\", \"errors\": [{\"code\": \"2005\", \"message\": \"The file submitted couldn't be parsed. This can be due to one of the following reasons: the file format is not supported ( Supported formats include JPEG, PNG, BMP, PDF and TIFF), the file is corrupted or password protected.\"}]}}\nAnalysis failed:\n{\"status\": \"failed\", \"createdDateTime\": \"2021-09-22T01:00:03Z\", \"lastUpdatedDateTime\": \"2021-09-22T01:00:03Z\", \"analyzeResult\": {\"version\": \"2.1.0\", \"errors\": [{\"code\": \"2005\", \"message\": \"The file submitted couldn't be parsed. This can be due to one of the following reasons: the file format is not supported ( Supported formats include JPEG, PNG, BMP, PDF and TIFF), the file is corrupted or password protected.\"}]}}\nAnalysis failed:\n{\"status\": \"failed\", \"createdDateTime\": \"2021-09-22T01:00:03Z\", \"lastUpdatedDateTime\": \"2021-09-22T01:00:03Z\", \"analyzeResult\": {\"version\": \"2.1.0\", \"errors\": [{\"code\": \"2005\", \"message\": \"The file submitted couldn't be parsed. This can be due to one of the following reasons: the file format is not supported ( Supported formats include JPEG, PNG, BMP, PDF and TIFF), the file is corrupted or password protected.\"}]}}\nAnalysis failed:\n{\"status\": \"failed\", \"createdDateTime\": \"2021-09-22T01:00:03Z\", \"lastUpdatedDateTime\": \"2021-09-22T01:00:03Z\", \"analyzeResult\": {\"version\": \"2.1.0\", \"errors\": [{\"code\": \"2005\", \"message\": \"The file submitted couldn't be parsed. This can be due to one of the following reasons: the file format is not supported ( Supported formats include JPEG, PNG, BMP, PDF and TIFF), the file is corrupted or password protected.\"}]}}\nAnalysis failed:\n{\"status\": \"failed\", \"createdDateTime\": \"2021-09-22T01:00:03Z\", \"lastUpdatedDateTime\": \"2021-09-22T01:00:03Z\", \"analyzeResult\": {\"version\": \"2.1.0\", \"errors\": [{\"code\": \"2005\", \"message\": \"The file submitted couldn't be parsed. This can be due to one of the following reasons: the file format is not supported ( Supported formats include JPEG, PNG, BMP, PDF and TIFF), the file is corrupted or password protected.\"}]}}\nAnalysis failed:\n{\"status\": \"failed\", \"createdDateTime\": \"2021-09-22T01:00:03Z\", \"lastUpdatedDateTime\": \"2021-09-22T01:00:03Z\", \"analyzeResult\": {\"version\": \"2.1.0\", \"errors\": [{\"code\": \"2005\", \"message\": \"The file submitted couldn't be parsed. This can be due to one of the following reasons: the file format is not supported ( Supported formats include JPEG, PNG, BMP, PDF and TIFF), the file is corrupted or password protected.\"}]}}\nAnalysis failed:\n{\"status\": \"failed\", \"createdDateTime\": \"2021-09-22T01:00:03Z\", \"lastUpdatedDateTime\": \"2021-09-22T01:00:03Z\", \"analyzeResult\": {\"version\": \"2.1.0\", \"errors\": [{\"code\": \"2005\", \"message\": \"The file submitted couldn't be parsed. This can be due to one of the following reasons: the file format is not supported ( Supported formats include JPEG, PNG, BMP, PDF and TIFF), the file is corrupted or password protected.\"}]}}\nAnalysis failed:\n{\"status\": \"failed\", \"createdDateTime\": \"2021-09-22T01:00:03Z\", \"lastUpdatedDateTime\": \"2021-09-22T01:00:03Z\", \"analyzeResult\": {\"version\": \"2.1.0\", \"errors\": [{\"code\": \"2005\", \"message\": \"The file submitted couldn't be parsed. This can be due to one of the following reasons: the file format is not supported ( Supported formats include JPEG, PNG, BMP, PDF and TIFF), the file is corrupted or password protected.\"}]}}\nAnalysis failed:\n{\"status\": \"failed\", \"createdDateTime\": \"2021-09-22T01:00:03Z\", \"lastUpdatedDateTime\": \"2021-09-22T01:00:03Z\", \"analyzeResult\": {\"version\": \"2.1.0\", \"errors\": [{\"code\": \"2005\", \"message\": \"The file submitted couldn't be parsed. This can be due to one of the following reasons: the file format is not supported ( Supported formats include JPEG, PNG, BMP, PDF and TIFF), the file is corrupted or password protected.\"}]}}\nAnalysis failed:\n{\"status\": \"failed\", \"createdDateTime\": \"2021-09-22T01:00:03Z\", \"lastUpdatedDateTime\": \"2021-09-22T01:00:03Z\", \"analyzeResult\": {\"version\": \"2.1.0\", \"errors\": [{\"code\": \"2005\", \"message\": \"The file submitted couldn't be parsed. This can be due to one of the following reasons: the file format is not supported ( Supported formats include JPEG, PNG, BMP, PDF and TIFF), the file is corrupted or password protected.\"}]}}\nAnalysis failed:\n{\"status\": \"failed\", \"createdDateTime\": \"2021-09-22T01:00:03Z\", \"lastUpdatedDateTime\": \"2021-09-22T01:00:03Z\", \"analyzeResult\": {\"version\": \"2.1.0\", \"errors\": [{\"code\": \"2005\", \"message\": \"The file submitted couldn't be parsed. This can be due to one of the following reasons: the file format is not supported ( Supported formats include JPEG, PNG, BMP, PDF and TIFF), the file is corrupted or password protected.\"}]}}\nAnalysis failed:\n{\"status\": \"failed\", \"createdDateTime\": \"2021-09-22T01:00:03Z\", \"lastUpdatedDateTime\": \"2021-09-22T01:00:03Z\", \"analyzeResult\": {\"version\": \"2.1.0\", \"errors\": [{\"code\": \"2005\", \"message\": \"The file submitted couldn't be parsed. This can be due to one of the following reasons: the file format is not supported ( Supported formats include JPEG, PNG, BMP, PDF and TIFF), the file is corrupted or password protected.\"}]}}\nAnalysis failed:\n{\"status\": \"failed\", \"createdDateTime\": \"2021-09-22T01:00:03Z\", \"lastUpdatedDateTime\": \"2021-09-22T01:00:03Z\", \"analyzeResult\": {\"version\": \"2.1.0\", \"errors\": [{\"code\": \"2005\", \"message\": \"The file submitted couldn't be parsed. This can be due to one of the following reasons: the file format is not supported ( Supported formats include JPEG, PNG, BMP, PDF and TIFF), the file is corrupted or password protected.\"}]}}\nAnalysis failed:\n{\"status\": \"failed\", \"createdDateTime\": \"2021-09-22T01:00:03Z\", \"lastUpdatedDateTime\": \"2021-09-22T01:00:03Z\", \"analyzeResult\": {\"version\": \"2.1.0\", \"errors\": [{\"code\": \"2005\", \"message\": \"The file submitted couldn't be parsed. This can be due to one of the following reasons: the file format is not supported ( Supported formats include JPEG, PNG, BMP, PDF and TIFF), the file is corrupted or password protected.\"}]}}\nAnalysis failed:\n{\"status\": \"failed\", \"createdDateTime\": \"2021-09-22T01:00:03Z\", \"lastUpdatedDateTime\": \"2021-09-22T01:00:03Z\", \"analyzeResult\": {\"version\": \"2.1.0\", \"errors\": [{\"code\": \"2005\", \"message\": \"The file submitted couldn't be parsed. This can be due to one of the following reasons: the file format is not supported ( Supported formats include JPEG, PNG, BMP, PDF and TIFF), the file is corrupted or password protected.\"}]}}\nAnalysis failed:\n{\"status\": \"failed\", \"createdDateTime\": \"2021-09-22T01:00:03Z\", \"lastUpdatedDateTime\": \"2021-09-22T01:00:03Z\", \"analyzeResult\": {\"version\": \"2.1.0\", \"errors\": [{\"code\": \"2005\", \"message\": \"The file submitted couldn't be parsed. This can be due to one of the following reasons: the file format is not supported ( Supported formats include JPEG, PNG, BMP, PDF and TIFF), the file is corrupted or password protected.\"}]}}\nAnalysis failed:\n{\"status\": \"failed\", \"createdDateTime\": \"2021-09-22T01:00:03Z\", \"lastUpdatedDateTime\": \"2021-09-22T01:00:03Z\", \"analyzeResult\": {\"version\": \"2.1.0\", \"errors\": [{\"code\": \"2005\", \"message\": \"The file submitted couldn't be parsed. This can be due to one of the following reasons: the file format is not supported ( Supported formats include JPEG, PNG, BMP, PDF and TIFF), the file is corrupted or password protected.\"}]}}\nAnalysis failed:\n{\"status\": \"failed\", \"createdDateTime\": \"2021-09-22T01:00:03Z\", \"lastUpdatedDateTime\": \"2021-09-22T01:00:03Z\", \"analyzeResult\": {\"version\": \"2.1.0\", \"errors\": [{\"code\": \"2005\", \"message\": \"The file submitted couldn't be parsed. This can be due to one of the following reasons: the file format is not supported ( Supported formats include JPEG, PNG, BMP, PDF and TIFF), the file is corrupted or password protected.\"}]}}\nAnalysis failed:\n{\"status\": \"failed\", \"createdDateTime\": \"2021-09-22T01:00:03Z\", \"lastUpdatedDateTime\": \"2021-09-22T01:00:03Z\", \"analyzeResult\": {\"version\": \"2.1.0\", \"errors\": [{\"code\": \"2005\", \"message\": \"The file submitted couldn't be parsed. This can be due to one of the following reasons: the file format is not supported ( Supported formats include JPEG, PNG, BMP, PDF and TIFF), the file is corrupted or password protected.\"}]}}\nAnalysis failed:\n{\"status\": \"failed\", \"createdDateTime\": \"2021-09-22T01:00:03Z\", \"lastUpdatedDateTime\": \"2021-09-22T01:00:03Z\", \"analyzeResult\": {\"version\": \"2.1.0\", \"errors\": [{\"code\": \"2005\", \"message\": \"The file submitted couldn't be parsed. This can be due to one of the following reasons: the file format is not supported ( Supported formats include JPEG, PNG, BMP, PDF and TIFF), the file is corrupted or password protected.\"}]}}\nAnalysis failed:\n{\"status\": \"failed\", \"createdDateTime\": \"2021-09-22T01:00:03Z\", \"lastUpdatedDateTime\": \"2021-09-22T01:00:03Z\", \"analyzeResult\": {\"version\": \"2.1.0\", \"errors\": [{\"code\": \"2005\", \"message\": \"The file submitted couldn't be parsed. This can be due to one of the following reasons: the file format is not supported ( Supported formats include JPEG, PNG, BMP, PDF and TIFF), the file is corrupted or password protected.\"}]}}\nAnalysis failed:\n{\"status\": \"failed\", \"createdDateTime\": \"2021-09-22T01:00:03Z\", \"lastUpdatedDateTime\": \"2021-09-22T01:00:03Z\", \"analyzeResult\": {\"version\": \"2.1.0\", \"errors\": [{\"code\": \"2005\", \"message\": \"The file submitted couldn't be parsed. This can be due to one of the following reasons: the file format is not supported ( Supported formats include JPEG, PNG, BMP, PDF and TIFF), the file is corrupted or password protected.\"}]}}\nAnalysis failed:\n{\"status\": \"failed\", \"createdDateTime\": \"2021-09-22T01:00:03Z\", \"lastUpdatedDateTime\": \"2021-09-22T01:00:03Z\", \"analyzeResult\": {\"version\": \"2.1.0\", \"errors\": [{\"code\": \"2005\", \"message\": \"The file submitted couldn't be parsed. This can be due to one of the following reasons: the file format is not supported ( Supported formats include JPEG, PNG, BMP, PDF and TIFF), the file is corrupted or password protected.\"}]}}\nAnalysis failed:\n{\"status\": \"failed\", \"createdDateTime\": \"2021-09-22T01:00:03Z\", \"lastUpdatedDateTime\": \"2021-09-22T01:00:03Z\", \"analyzeResult\": {\"version\": \"2.1.0\", \"errors\": [{\"code\": \"2005\", \"message\": \"The file submitted couldn't be parsed. This can be due to one of the following reasons: the file format is not supported ( Supported formats include JPEG, PNG, BMP, PDF and TIFF), the file is corrupted or password protected.\"}]}}\nAnalysis failed:\n{\"status\": \"failed\", \"createdDateTime\": \"2021-09-22T01:00:03Z\", \"lastUpdatedDateTime\": \"2021-09-22T01:00:03Z\", \"analyzeResult\": {\"version\": \"2.1.0\", \"errors\": [{\"code\": \"2005\", \"message\": \"The file submitted couldn't be parsed. This can be due to one of the following reasons: the file format is not supported ( Supported formats include JPEG, PNG, BMP, PDF and TIFF), the file is corrupted or password protected.\"}]}}\nAnalysis failed:\n{\"status\": \"failed\", \"createdDateTime\": \"2021-09-22T01:00:03Z\", \"lastUpdatedDateTime\": \"2021-09-22T01:00:03Z\", \"analyzeResult\": {\"version\": \"2.1.0\", \"errors\": [{\"code\": \"2005\", \"message\": \"The file submitted couldn't be parsed. This can be due to one of the following reasons: the file format is not supported ( Supported formats include JPEG, PNG, BMP, PDF and TIFF), the file is corrupted or password protected.\"}]}}\nAnalysis failed:\n{\"status\": \"failed\", \"createdDateTime\": \"2021-09-22T01:00:03Z\", \"lastUpdatedDateTime\": \"2021-09-22T01:00:03Z\", \"analyzeResult\": {\"version\": \"2.1.0\", \"errors\": [{\"code\": \"2005\", \"message\": \"The file submitted couldn't be parsed. This can be due to one of the following reasons: the file format is not supported ( Supported formats include JPEG, PNG, BMP, PDF and TIFF), the file is corrupted or password protected.\"}]}}\nAnalysis failed:\n{\"status\": \"failed\", \"createdDateTime\": \"2021-09-22T01:00:03Z\", \"lastUpdatedDateTime\": \"2021-09-22T01:00:03Z\", \"analyzeResult\": {\"version\": \"2.1.0\", \"errors\": [{\"code\": \"2005\", \"message\": \"The file submitted couldn't be parsed. This can be due to one of the following reasons: the file format is not supported ( Supported formats include JPEG, PNG, BMP, PDF and TIFF), the file is corrupted or password protected.\"}]}}\nAnalysis failed:\n{\"status\": \"failed\", \"createdDateTime\": \"2021-09-22T01:00:03Z\", \"lastUpdatedDateTime\": \"2021-09-22T01:00:03Z\", \"analyzeResult\": {\"version\": \"2.1.0\", \"errors\": [{\"code\": \"2005\", \"message\": \"The file submitted couldn't be parsed. This can be due to one of the following reasons: the file format is not supported ( Supported formats include JPEG, PNG, BMP, PDF and TIFF), the file is corrupted or password protected.\"}]}}\nAnalysis failed:\n{\"status\": \"failed\", \"createdDateTime\": \"2021-09-22T01:00:03Z\", \"lastUpdatedDateTime\": \"2021-09-22T01:00:03Z\", \"analyzeResult\": {\"version\": \"2.1.0\", \"errors\": [{\"code\": \"2005\", \"message\": \"The file submitted couldn't be parsed. This can be due to one of the following reasons: the file format is not supported ( Supported formats include JPEG, PNG, BMP, PDF and TIFF), the file is corrupted or password protected.\"}]}}\nAnalysis failed:\n{\"status\": \"failed\", \"createdDateTime\": \"2021-09-22T01:00:03Z\", \"lastUpdatedDateTime\": \"2021-09-22T01:00:03Z\", \"analyzeResult\": {\"version\": \"2.1.0\", \"errors\": [{\"code\": \"2005\", \"message\": \"The file submitted couldn't be parsed. This can be due to one of the following reasons: the file format is not supported ( Supported formats include JPEG, PNG, BMP, PDF and TIFF), the file is corrupted or password protected.\"}]}}\nAnalysis failed:\n{\"status\": \"failed\", \"createdDateTime\": \"2021-09-22T01:00:03Z\", \"lastUpdatedDateTime\": \"2021-09-22T01:00:03Z\", \"analyzeResult\": {\"version\": \"2.1.0\", \"errors\": [{\"code\": \"2005\", \"message\": \"The file submitted couldn't be parsed. This can be due to one of the following reasons: the file format is not supported ( Supported formats include JPEG, PNG, BMP, PDF and TIFF), the file is corrupted or password protected.\"}]}}\nAnalysis failed:\n{\"status\": \"failed\", \"createdDateTime\": \"2021-09-22T01:00:03Z\", \"lastUpdatedDateTime\": \"2021-09-22T01:00:03Z\", \"analyzeResult\": {\"version\": \"2.1.0\", \"errors\": [{\"code\": \"2005\", \"message\": \"The file submitted couldn't be parsed. This can be due to one of the following reasons: the file format is not supported ( Supported formats include JPEG, PNG, BMP, PDF and TIFF), the file is corrupted or password protected.\"}]}}\nAnalysis failed:\n{\"status\": \"failed\", \"createdDateTime\": \"2021-09-22T01:00:03Z\", \"lastUpdatedDateTime\": \"2021-09-22T01:00:03Z\", \"analyzeResult\": {\"version\": \"2.1.0\", \"errors\": [{\"code\": \"2005\", \"message\": \"The file submitted couldn't be parsed. This can be due to one of the following reasons: the file format is not supported ( Supported formats include JPEG, PNG, BMP, PDF and TIFF), the file is corrupted or password protected.\"}]}}\nAnalysis failed:\n{\"status\": \"failed\", \"createdDateTime\": \"2021-09-22T01:00:03Z\", \"lastUpdatedDateTime\": \"2021-09-22T01:00:03Z\", \"analyzeResult\": {\"version\": \"2.1.0\", \"errors\": [{\"code\": \"2005\", \"message\": \"The file submitted couldn't be parsed. This can be due to one of the following reasons: the file format is not supported ( Supported formats include JPEG, PNG, BMP, PDF and TIFF), the file is corrupted or password protected.\"}]}}\nAnalysis failed:\n{\"status\": \"failed\", \"createdDateTime\": \"2021-09-22T01:00:03Z\", \"lastUpdatedDateTime\": \"2021-09-22T01:00:03Z\", \"analyzeResult\": {\"version\": \"2.1.0\", \"errors\": [{\"code\": \"2005\", \"message\": \"The file submitted couldn't be parsed. This can be due to one of the following reasons: the file format is not supported ( Supported formats include JPEG, PNG, BMP, PDF and TIFF), the file is corrupted or password protected.\"}]}}\nAnalysis failed:\n{\"status\": \"failed\", \"createdDateTime\": \"2021-09-22T01:00:03Z\", \"lastUpdatedDateTime\": \"2021-09-22T01:00:03Z\", \"analyzeResult\": {\"version\": \"2.1.0\", \"errors\": [{\"code\": \"2005\", \"message\": \"The file submitted couldn't be parsed. This can be due to one of the following reasons: the file format is not supported ( Supported formats include JPEG, PNG, BMP, PDF and TIFF), the file is corrupted or password protected.\"}]}}\nAnalysis failed:\n{\"status\": \"failed\", \"createdDateTime\": \"2021-09-22T01:00:03Z\", \"lastUpdatedDateTime\": \"2021-09-22T01:00:03Z\", \"analyzeResult\": {\"version\": \"2.1.0\", \"errors\": [{\"code\": \"2005\", \"message\": \"The file submitted couldn't be parsed. This can be due to one of the following reasons: the file format is not supported ( Supported formats include JPEG, PNG, BMP, PDF and TIFF), the file is corrupted or password protected.\"}]}}\nAnalysis failed:\n{\"status\": \"failed\", \"createdDateTime\": \"2021-09-22T01:00:03Z\", \"lastUpdatedDateTime\": \"2021-09-22T01:00:03Z\", \"analyzeResult\": {\"version\": \"2.1.0\", \"errors\": [{\"code\": \"2005\", \"message\": \"The file submitted couldn't be parsed. This can be due to one of the following reasons: the file format is not supported ( Supported formats include JPEG, PNG, BMP, PDF and TIFF), the file is corrupted or password protected.\"}]}}\nAnalysis failed:\n{\"status\": \"failed\", \"createdDateTime\": \"2021-09-22T01:00:03Z\", \"lastUpdatedDateTime\": \"2021-09-22T01:00:03Z\", \"analyzeResult\": {\"version\": \"2.1.0\", \"errors\": [{\"code\": \"2005\", \"message\": \"The file submitted couldn't be parsed. This can be due to one of the following reasons: the file format is not supported ( Supported formats include JPEG, PNG, BMP, PDF and TIFF), the file is corrupted or password protected.\"}]}}\nAnalysis failed:\n{\"status\": \"failed\", \"createdDateTime\": \"2021-09-22T01:00:03Z\", \"lastUpdatedDateTime\": \"2021-09-22T01:00:03Z\", \"analyzeResult\": {\"version\": \"2.1.0\", \"errors\": [{\"code\": \"2005\", \"message\": \"The file submitted couldn't be parsed. This can be due to one of the following reasons: the file format is not supported ( Supported formats include JPEG, PNG, BMP, PDF and TIFF), the file is corrupted or password protected.\"}]}}\nAnalysis failed:\n{\"status\": \"failed\", \"createdDateTime\": \"2021-09-22T01:00:03Z\", \"lastUpdatedDateTime\": \"2021-09-22T01:00:03Z\", \"analyzeResult\": {\"version\": \"2.1.0\", \"errors\": [{\"code\": \"2005\", \"message\": \"The file submitted couldn't be parsed. This can be due to one of the following reasons: the file format is not supported ( Supported formats include JPEG, PNG, BMP, PDF and TIFF), the file is corrupted or password protected.\"}]}}\nAnalysis failed:\n{\"status\": \"failed\", \"createdDateTime\": \"2021-09-22T01:00:03Z\", \"lastUpdatedDateTime\": \"2021-09-22T01:00:03Z\", \"analyzeResult\": {\"version\": \"2.1.0\", \"errors\": [{\"code\": \"2005\", \"message\": \"The file submitted couldn't be parsed. This can be due to one of the following reasons: the file format is not supported ( Supported formats include JPEG, PNG, BMP, PDF and TIFF), the file is corrupted or password protected.\"}]}}\nAnalysis failed:\n{\"status\": \"failed\", \"createdDateTime\": \"2021-09-22T01:00:03Z\", \"lastUpdatedDateTime\": \"2021-09-22T01:00:03Z\", \"analyzeResult\": {\"version\": \"2.1.0\", \"errors\": [{\"code\": \"2005\", \"message\": \"The file submitted couldn't be parsed. This can be due to one of the following reasons: the file format is not supported ( Supported formats include JPEG, PNG, BMP, PDF and TIFF), the file is corrupted or password protected.\"}]}}\nAnalysis failed:\n{\"status\": \"failed\", \"createdDateTime\": \"2021-09-22T01:00:03Z\", \"lastUpdatedDateTime\": \"2021-09-22T01:00:03Z\", \"analyzeResult\": {\"version\": \"2.1.0\", \"errors\": [{\"code\": \"2005\", \"message\": \"The file submitted couldn't be parsed. This can be due to one of the following reasons: the file format is not supported ( Supported formats include JPEG, PNG, BMP, PDF and TIFF), the file is corrupted or password protected.\"}]}}\nAnalysis failed:\n{\"status\": \"failed\", \"createdDateTime\": \"2021-09-22T01:00:03Z\", \"lastUpdatedDateTime\": \"2021-09-22T01:00:03Z\", \"analyzeResult\": {\"version\": \"2.1.0\", \"errors\": [{\"code\": \"2005\", \"message\": \"The file submitted couldn't be parsed. This can be due to one of the following reasons: the file format is not supported ( Supported formats include JPEG, PNG, BMP, PDF and TIFF), the file is corrupted or password protected.\"}]}}\nAnalysis failed:\n{\"status\": \"failed\", \"createdDateTime\": \"2021-09-22T01:00:03Z\", \"lastUpdatedDateTime\": \"2021-09-22T01:00:03Z\", \"analyzeResult\": {\"version\": \"2.1.0\", \"errors\": [{\"code\": \"2005\", \"message\": \"The file submitted couldn't be parsed. This can be due to one of the following reasons: the file format is not supported ( Supported formats include JPEG, PNG, BMP, PDF and TIFF), the file is corrupted or password protected.\"}]}}\nAnalysis failed:\n{\"status\": \"failed\", \"createdDateTime\": \"2021-09-22T01:00:03Z\", \"lastUpdatedDateTime\": \"2021-09-22T01:00:03Z\", \"analyzeResult\": {\"version\": \"2.1.0\", \"errors\": [{\"code\": \"2005\", \"message\": \"The file submitted couldn't be parsed. This can be due to one of the following reasons: the file format is not supported ( Supported formats include JPEG, PNG, BMP, PDF and TIFF), the file is corrupted or password protected.\"}]}}\nAnalysis failed:\n{\"status\": \"failed\", \"createdDateTime\": \"2021-09-22T01:00:03Z\", \"lastUpdatedDateTime\": \"2021-09-22T01:00:03Z\", \"analyzeResult\": {\"version\": \"2.1.0\", \"errors\": [{\"code\": \"2005\", \"message\": \"The file submitted couldn't be parsed. This can be due to one of the following reasons: the file format is not supported ( Supported formats include JPEG, PNG, BMP, PDF and TIFF), the file is corrupted or password protected.\"}]}}\nresp <Response [202]>\nPOST analyze succeeded:\n{'Content-Length': '0', 'Operation-Location': 'https://cog-formrecognitionv2-prod.cognitiveservices.azure.com/formrecognizer/v2.1-preview.2/custom/models/bc68268e-83c2-4ce9-a948-136d7025927e/analyzeresults/6d049d57-8b1c-4eab-845b-4825d763b0d8', 'x-envoy-upstream-service-time': '103', 'apim-request-id': 'd604559c-5a41-4af2-b4a3-7b6a05794f85', 'Strict-Transport-Security': 'max-age=31536000; includeSubDomains; preload', 'x-content-type-options': 'nosniff', 'Date': 'Wed, 22 Sep 2021 01:47:26 GMT'}\nAnalysis succeeded:\npatient_intake_form1 \n\nresp <Response [202]>\nPOST analyze succeeded:\n{'Content-Length': '0', 'Operation-Location': 'https://cog-formrecognitionv2-prod.cognitiveservices.azure.com/formrecognizer/v2.1-preview.2/custom/models/bc68268e-83c2-4ce9-a948-136d7025927e/analyzeresults/fc4dcd43-3c3d-40d5-b0db-3b9054571dcc', 'x-envoy-upstream-service-time': '143', 'apim-request-id': '6ca43e5e-f16e-4f68-a9ed-12230cc71307', 'Strict-Transport-Security': 'max-age=31536000; includeSubDomains; preload', 'x-content-type-options': 'nosniff', 'Date': 'Wed, 22 Sep 2021 01:47:44 GMT'}\nAnalysis succeeded:\npatient_intake_form2 \n\nresp <Response [202]>\nPOST analyze succeeded:\n{'Content-Length': '0', 'Operation-Location': 'https://cog-formrecognitionv2-prod.cognitiveservices.azure.com/formrecognizer/v2.1-preview.2/custom/models/bc68268e-83c2-4ce9-a948-136d7025927e/analyzeresults/1674dde5-6a1d-4737-bd98-387538b91d11', 'x-envoy-upstream-service-time': '134', 'apim-request-id': 'bebe54b2-c8d0-42a5-94cd-0a57797bdb48', 'Strict-Transport-Security': 'max-age=31536000; includeSubDomains; preload', 'x-content-type-options': 'nosniff', 'Date': 'Wed, 22 Sep 2021 01:48:02 GMT'}\nAnalysis succeeded:\npatient_intake_form3 \n\nCPU times: user 1.85 s, sys: 173 ms, total: 2.02 s\nWall time: 1h 35min 42s\n"
        }
      ],
      "execution_count": 7,
      "metadata": {
        "jupyter": {
          "outputs_hidden": false
        }
      }
    },
    {
      "cell_type": "markdown",
      "source": [
        "\n",
        "\n",
        "\n",
        "## Connection parameters for uploading to Azure blob storage"
      ],
      "metadata": {}
    },
    {
      "cell_type": "code",
      "source": [
        "# Connection paramters for uploading JSON files to blob storage\n",
        "CONNECTION_STRING = GlobalVariables.STORAGE_ACCOUNT_CONNECTION_STRING\n",
        "CONTAINER_NAME = \"formrecogoutput\"\n",
        "\n",
        "container_client_upload = ContainerClient.from_connection_string(conn_str=CONNECTION_STRING, container_name=CONTAINER_NAME)\n"
      ],
      "outputs": [],
      "execution_count": 6,
      "metadata": {
        "gather": {
          "logged": 1632278162554
        }
      }
    },
    {
      "cell_type": "markdown",
      "source": [
        "## Uploading JSON files to Azure blob storage"
      ],
      "metadata": {}
    },
    {
      "cell_type": "code",
      "source": [
        "# Upload JSON files from local folder *output_json* to the container *formrecogoutput*\n",
        "\n",
        "for pth, dirs, files in os.walk(output_path):\n",
        "    for filename in files:\n",
        "        with open (os.path.join(output_path,filename),'rb') as json_file: \n",
        "            blob_client =  container_client_upload.upload_blob(name=filename, data=json_file,overwrite=True)\n",
        "    "
      ],
      "outputs": [],
      "execution_count": 9,
      "metadata": {
        "gather": {
          "logged": 1632278201530
        }
      }
    },
    {
      "cell_type": "code",
      "source": [],
      "outputs": [],
      "execution_count": null,
      "metadata": {
        "jupyter": {
          "outputs_hidden": false,
          "source_hidden": false
        },
        "nteract": {
          "transient": {
            "deleting": false
          }
        }
      }
    }
  ],
  "metadata": {
    "kernel_info": {
      "name": "python3"
    },
    "kernelspec": {
      "name": "python3",
      "language": "python",
      "display_name": "Python 3 (ipykernel)"
    },
    "language_info": {
      "name": "python",
      "version": "3.8.5",
      "mimetype": "text/x-python",
      "codemirror_mode": {
        "name": "ipython",
        "version": 3
      },
      "pygments_lexer": "ipython3",
      "nbconvert_exporter": "python",
      "file_extension": ".py"
    },
    "microsoft": {
      "host": {
        "AzureML": {
          "notebookHasBeenCompleted": true
        }
      },
      "ms_spell_check": {
        "ms_spell_check_language": "en"
      }
    },
    "nteract": {
      "version": "nteract-front-end@1.0.0"
    }
  },
  "nbformat": 4,
  "nbformat_minor": 4
}