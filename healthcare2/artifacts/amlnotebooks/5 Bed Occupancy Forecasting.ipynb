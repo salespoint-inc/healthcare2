{
  "cells": [
    {
      "cell_type": "markdown",
      "source": [
        "# Bed Occupancy Forecasting\n",
        "\n",
        "In this notebook we use Azure AutoML to forecast the bed occupancy for each day for each city."
      ],
      "metadata": {}
    },
    {
      "cell_type": "markdown",
      "source": [
        "$*****$ Important – Do not use in production, for demonstration purposes only – please review the legal notices before continuing $*****$  "
      ],
      "metadata": {
        "nteract": {
          "transient": {
            "deleting": false
          }
        }
      }
    },
    {
      "cell_type": "markdown",
      "source": [
        "## Legal Notices \n",
        "\n",
        "This presentation, demonstration, and demonstration model are for informational purposes only. Microsoft makes no warranties, express or implied, in this presentation demonstration, and demonstration model. Nothing in this presentation, demonstration, or demonstration model modifies any of the terms and conditions of Microsoft’s written and signed agreements. This is not an offer and applicable terms and the information provided is subject to revision and may be changed at any time by Microsoft.\n",
        "\n",
        "This presentation, demonstration, and/or demonstration model do not give you or your organization any license to any patents, trademarks, copyrights, or other intellectual property covering the subject matter in this presentation, demonstration, and demonstration model.\n",
        "\n",
        "The information contained in this presentation, demonstration and demonstration model represent the current view of Microsoft on the issues discussed as of the date of presentation and/or demonstration, and the duration of your access to the demonstration model. Because Microsoft must respond to changing market conditions, it should not be interpreted to be a commitment on the part of Microsoft, and Microsoft cannot guarantee the accuracy of any information presented after the date of presentation and/or demonstration and for the duration of your access to the demonstration model.\n",
        "\n",
        "No Microsoft technology, nor any of its component technologies, including the demonstration model, is intended or made available: (1) as a medical device; (2) for the diagnosis of disease or other conditions, or in the cure, mitigation, treatment or prevention of a disease or other conditions; or (3) as a substitute for the professional clinical advice, opinion, or judgment of a treating healthcare professional. Partners or customers are responsible for ensuring the regulatory compliance of any solution they build using Microsoft technologies.\n",
        "\n",
        "© 2020 Microsoft Corporation. All rights reserved"
      ],
      "metadata": {
        "nteract": {
          "transient": {
            "deleting": false
          }
        }
      }
    },
    {
      "cell_type": "code",
      "source": [
        "import os\n",
        "import time\n",
        "import pickle\n",
        "\n",
        "import numpy as np\n",
        "import pandas as pd\n",
        "\n",
        "import azureml.core\n",
        "from azureml.core import Dataset, Datastore, Experiment, Workspace\n",
        "from azureml.core.experiment import Experiment\n",
        "from azureml.data import DataType\n",
        "from azureml.data.datapath import DataPath\n",
        "from azureml.train.automl import AutoMLConfig\n",
        "from azureml.widgets import RunDetails\n",
        "from azureml.core.compute import AmlCompute\n",
        "\n",
        "import GlobalVariables"
      ],
      "outputs": [],
      "execution_count": 1,
      "metadata": {
        "gather": {
          "logged": 1680778844748
        }
      }
    },
    {
      "cell_type": "markdown",
      "source": [
        "## Setting up the workspace"
      ],
      "metadata": {}
    },
    {
      "cell_type": "code",
      "source": [
        "ws = Workspace.from_config()\n",
        "ws"
      ],
      "outputs": [
        {
          "output_type": "execute_result",
          "execution_count": 2,
          "data": {
            "text/plain": "Workspace.create(name='mlw-healthcare2-prod', subscription_id='506e86fc-853c-4557-a6e5-ad72114efd2b', resource_group='rg-healthcare2-prod')"
          },
          "metadata": {}
        }
      ],
      "execution_count": 2,
      "metadata": {
        "gather": {
          "logged": 1680778845601
        }
      }
    },
    {
      "cell_type": "markdown",
      "source": [
        "## Create new datastore for Datasets"
      ],
      "metadata": {}
    },
    {
      "cell_type": "code",
      "source": [
        "blob_datastore_name=GlobalVariables.BED_OCCUPANCY_DATASTORE_NAME # Name of the datastore in workspace\n",
        "container_name=GlobalVariables.GLOBAL_CONTAINER_NAME\n",
        "account_name=GlobalVariables.STORAGE_ACCOUNT_NAME\n",
        "account_key=GlobalVariables.STORAGE_ACCOUNT_KEY # Storage account access key\n",
        "\n",
        "blob_datastore = Datastore.register_azure_blob_container(workspace=ws, \n",
        "                                                         datastore_name=blob_datastore_name, \n",
        "                                                         container_name=container_name, \n",
        "                                                         account_name=account_name,\n",
        "                                                         account_key=account_key)\n",
        "\n",
        "dstore = Datastore.get(ws, datastore_name=blob_datastore_name)\n",
        "dstore"
      ],
      "outputs": [
        {
          "output_type": "execute_result",
          "execution_count": 3,
          "data": {
            "text/plain": "{\n  \"name\": \"total_occupancy_prediction_store\",\n  \"container_name\": \"predictiveanalytics\",\n  \"account_name\": \"sthealthcare2prod\",\n  \"protocol\": \"https\",\n  \"endpoint\": \"core.windows.net\"\n}"
          },
          "metadata": {}
        }
      ],
      "execution_count": 3,
      "metadata": {
        "gather": {
          "logged": 1680778846002
        },
        "lines_to_next_cell": 2
      }
    },
    {
      "cell_type": "markdown",
      "source": [
        "## Convert to Pandas DataFrame to do data preparation"
      ],
      "metadata": {}
    },
    {
      "cell_type": "code",
      "source": [
        "filepath1 = GlobalVariables.BED_OCCUPANCY_INPUT_FILE_PATH\n",
        "print(filepath1)\n",
        "\n",
        "# Set the path to the storage account containing the file\n",
        "datastore_path = [DataPath(dstore, filepath1)]\n",
        "patientdataset = Dataset.Tabular.from_delimited_files(path=datastore_path)\n",
        "patientdataset.take(5).to_pandas_dataframe()"
      ],
      "outputs": [
        {
          "output_type": "stream",
          "name": "stdout",
          "text": "/bedoccupancyv4.csv\n"
        },
        {
          "output_type": "execute_result",
          "execution_count": 4,
          "data": {
            "text/plain": "   total_patients       Date  hospital_id\n0               3 2015-12-16            2\n1               1 2015-12-16            9\n2               2 2015-12-16            1\n3               2 2015-12-16           21\n4               4 2015-12-17            9",
            "text/html": "<div>\n<style scoped>\n    .dataframe tbody tr th:only-of-type {\n        vertical-align: middle;\n    }\n\n    .dataframe tbody tr th {\n        vertical-align: top;\n    }\n\n    .dataframe thead th {\n        text-align: right;\n    }\n</style>\n<table border=\"1\" class=\"dataframe\">\n  <thead>\n    <tr style=\"text-align: right;\">\n      <th></th>\n      <th>total_patients</th>\n      <th>Date</th>\n      <th>hospital_id</th>\n    </tr>\n  </thead>\n  <tbody>\n    <tr>\n      <th>0</th>\n      <td>3</td>\n      <td>2015-12-16</td>\n      <td>2</td>\n    </tr>\n    <tr>\n      <th>1</th>\n      <td>1</td>\n      <td>2015-12-16</td>\n      <td>9</td>\n    </tr>\n    <tr>\n      <th>2</th>\n      <td>2</td>\n      <td>2015-12-16</td>\n      <td>1</td>\n    </tr>\n    <tr>\n      <th>3</th>\n      <td>2</td>\n      <td>2015-12-16</td>\n      <td>21</td>\n    </tr>\n    <tr>\n      <th>4</th>\n      <td>4</td>\n      <td>2015-12-17</td>\n      <td>9</td>\n    </tr>\n  </tbody>\n</table>\n</div>"
          },
          "metadata": {}
        }
      ],
      "execution_count": 4,
      "metadata": {
        "gather": {
          "logged": 1680778849972
        },
        "lines_to_next_cell": 2
      }
    },
    {
      "cell_type": "code",
      "source": [
        "file_path2 = GlobalVariables.TOTAL_BEDS_FILE_PATH\n",
        "\n",
        "# Set the path to the storage account containing the file\n",
        "datastore_path = [DataPath(dstore, file_path2)]\n",
        "beddataset = Dataset.Tabular.from_delimited_files(path=datastore_path)\n",
        "beddataset.take(10).to_pandas_dataframe()"
      ],
      "outputs": [
        {
          "output_type": "execute_result",
          "execution_count": 5,
          "data": {
            "text/plain": "   hospital__id         city  total_beds\n0             1  Los Angeles         931\n1             2      Chicago         931\n2            21        Miami         438\n3             9     Honolulu         303\n4            27    Anchorage         250",
            "text/html": "<div>\n<style scoped>\n    .dataframe tbody tr th:only-of-type {\n        vertical-align: middle;\n    }\n\n    .dataframe tbody tr th {\n        vertical-align: top;\n    }\n\n    .dataframe thead th {\n        text-align: right;\n    }\n</style>\n<table border=\"1\" class=\"dataframe\">\n  <thead>\n    <tr style=\"text-align: right;\">\n      <th></th>\n      <th>hospital__id</th>\n      <th>city</th>\n      <th>total_beds</th>\n    </tr>\n  </thead>\n  <tbody>\n    <tr>\n      <th>0</th>\n      <td>1</td>\n      <td>Los Angeles</td>\n      <td>931</td>\n    </tr>\n    <tr>\n      <th>1</th>\n      <td>2</td>\n      <td>Chicago</td>\n      <td>931</td>\n    </tr>\n    <tr>\n      <th>2</th>\n      <td>21</td>\n      <td>Miami</td>\n      <td>438</td>\n    </tr>\n    <tr>\n      <th>3</th>\n      <td>9</td>\n      <td>Honolulu</td>\n      <td>303</td>\n    </tr>\n    <tr>\n      <th>4</th>\n      <td>27</td>\n      <td>Anchorage</td>\n      <td>250</td>\n    </tr>\n  </tbody>\n</table>\n</div>"
          },
          "metadata": {}
        }
      ],
      "execution_count": 5,
      "metadata": {
        "gather": {
          "logged": 1680778850230
        },
        "lines_to_next_cell": 2
      }
    },
    {
      "cell_type": "code",
      "source": [
        "patient=patientdataset.to_pandas_dataframe()\n",
        "bed=beddataset.to_pandas_dataframe()\n",
        "bed.columns = bed.columns.str.replace('__','_')"
      ],
      "outputs": [],
      "execution_count": 6,
      "metadata": {
        "gather": {
          "logged": 1680778850585
        },
        "lines_to_next_cell": 2
      }
    },
    {
      "cell_type": "code",
      "source": [
        "bed_occupancy_dataset=patient.merge(bed, on='hospital_id', how='left')\n",
        "bed_occupancy_dataset"
      ],
      "outputs": [
        {
          "output_type": "execute_result",
          "execution_count": 7,
          "data": {
            "text/plain": "      total_patients       Date  hospital_id         city  total_beds\n0                  3 2015-12-16            2      Chicago         931\n1                  1 2015-12-16            9     Honolulu         303\n2                  2 2015-12-16            1  Los Angeles         931\n3                  2 2015-12-16           21        Miami         438\n4                  4 2015-12-17            9     Honolulu         303\n...              ...        ...          ...          ...         ...\n9021             146 2020-11-28            9     Honolulu         303\n9022             133 2020-11-28           27    Anchorage         250\n9023             227 2020-11-28           21        Miami         438\n9024             466 2020-11-28            2      Chicago         931\n9025             534 2020-11-28            1  Los Angeles         931\n\n[9026 rows x 5 columns]",
            "text/html": "<div>\n<style scoped>\n    .dataframe tbody tr th:only-of-type {\n        vertical-align: middle;\n    }\n\n    .dataframe tbody tr th {\n        vertical-align: top;\n    }\n\n    .dataframe thead th {\n        text-align: right;\n    }\n</style>\n<table border=\"1\" class=\"dataframe\">\n  <thead>\n    <tr style=\"text-align: right;\">\n      <th></th>\n      <th>total_patients</th>\n      <th>Date</th>\n      <th>hospital_id</th>\n      <th>city</th>\n      <th>total_beds</th>\n    </tr>\n  </thead>\n  <tbody>\n    <tr>\n      <th>0</th>\n      <td>3</td>\n      <td>2015-12-16</td>\n      <td>2</td>\n      <td>Chicago</td>\n      <td>931</td>\n    </tr>\n    <tr>\n      <th>1</th>\n      <td>1</td>\n      <td>2015-12-16</td>\n      <td>9</td>\n      <td>Honolulu</td>\n      <td>303</td>\n    </tr>\n    <tr>\n      <th>2</th>\n      <td>2</td>\n      <td>2015-12-16</td>\n      <td>1</td>\n      <td>Los Angeles</td>\n      <td>931</td>\n    </tr>\n    <tr>\n      <th>3</th>\n      <td>2</td>\n      <td>2015-12-16</td>\n      <td>21</td>\n      <td>Miami</td>\n      <td>438</td>\n    </tr>\n    <tr>\n      <th>4</th>\n      <td>4</td>\n      <td>2015-12-17</td>\n      <td>9</td>\n      <td>Honolulu</td>\n      <td>303</td>\n    </tr>\n    <tr>\n      <th>...</th>\n      <td>...</td>\n      <td>...</td>\n      <td>...</td>\n      <td>...</td>\n      <td>...</td>\n    </tr>\n    <tr>\n      <th>9021</th>\n      <td>146</td>\n      <td>2020-11-28</td>\n      <td>9</td>\n      <td>Honolulu</td>\n      <td>303</td>\n    </tr>\n    <tr>\n      <th>9022</th>\n      <td>133</td>\n      <td>2020-11-28</td>\n      <td>27</td>\n      <td>Anchorage</td>\n      <td>250</td>\n    </tr>\n    <tr>\n      <th>9023</th>\n      <td>227</td>\n      <td>2020-11-28</td>\n      <td>21</td>\n      <td>Miami</td>\n      <td>438</td>\n    </tr>\n    <tr>\n      <th>9024</th>\n      <td>466</td>\n      <td>2020-11-28</td>\n      <td>2</td>\n      <td>Chicago</td>\n      <td>931</td>\n    </tr>\n    <tr>\n      <th>9025</th>\n      <td>534</td>\n      <td>2020-11-28</td>\n      <td>1</td>\n      <td>Los Angeles</td>\n      <td>931</td>\n    </tr>\n  </tbody>\n</table>\n<p>9026 rows × 5 columns</p>\n</div>"
          },
          "metadata": {}
        }
      ],
      "execution_count": 7,
      "metadata": {
        "gather": {
          "logged": 1680778850831
        },
        "lines_to_next_cell": 2
      }
    },
    {
      "cell_type": "code",
      "source": [
        "bed_occupancy_dataset['occupancy_rate'] = (np.divide(bed_occupancy_dataset['total_patients'],\n",
        "                                            bed_occupancy_dataset['total_beds']))*100\n",
        "bed_occupancy_dataset.head()"
      ],
      "outputs": [
        {
          "output_type": "execute_result",
          "execution_count": 8,
          "data": {
            "text/plain": "   total_patients       Date  hospital_id         city  total_beds  \\\n0               3 2015-12-16            2      Chicago         931   \n1               1 2015-12-16            9     Honolulu         303   \n2               2 2015-12-16            1  Los Angeles         931   \n3               2 2015-12-16           21        Miami         438   \n4               4 2015-12-17            9     Honolulu         303   \n\n   occupancy_rate  \n0        0.322234  \n1        0.330033  \n2        0.214823  \n3        0.456621  \n4        1.320132  ",
            "text/html": "<div>\n<style scoped>\n    .dataframe tbody tr th:only-of-type {\n        vertical-align: middle;\n    }\n\n    .dataframe tbody tr th {\n        vertical-align: top;\n    }\n\n    .dataframe thead th {\n        text-align: right;\n    }\n</style>\n<table border=\"1\" class=\"dataframe\">\n  <thead>\n    <tr style=\"text-align: right;\">\n      <th></th>\n      <th>total_patients</th>\n      <th>Date</th>\n      <th>hospital_id</th>\n      <th>city</th>\n      <th>total_beds</th>\n      <th>occupancy_rate</th>\n    </tr>\n  </thead>\n  <tbody>\n    <tr>\n      <th>0</th>\n      <td>3</td>\n      <td>2015-12-16</td>\n      <td>2</td>\n      <td>Chicago</td>\n      <td>931</td>\n      <td>0.322234</td>\n    </tr>\n    <tr>\n      <th>1</th>\n      <td>1</td>\n      <td>2015-12-16</td>\n      <td>9</td>\n      <td>Honolulu</td>\n      <td>303</td>\n      <td>0.330033</td>\n    </tr>\n    <tr>\n      <th>2</th>\n      <td>2</td>\n      <td>2015-12-16</td>\n      <td>1</td>\n      <td>Los Angeles</td>\n      <td>931</td>\n      <td>0.214823</td>\n    </tr>\n    <tr>\n      <th>3</th>\n      <td>2</td>\n      <td>2015-12-16</td>\n      <td>21</td>\n      <td>Miami</td>\n      <td>438</td>\n      <td>0.456621</td>\n    </tr>\n    <tr>\n      <th>4</th>\n      <td>4</td>\n      <td>2015-12-17</td>\n      <td>9</td>\n      <td>Honolulu</td>\n      <td>303</td>\n      <td>1.320132</td>\n    </tr>\n  </tbody>\n</table>\n</div>"
          },
          "metadata": {}
        }
      ],
      "execution_count": 8,
      "metadata": {
        "gather": {
          "logged": 1680778851140
        },
        "lines_to_next_cell": 2
      }
    },
    {
      "cell_type": "markdown",
      "source": [
        "## Data Preparation for AutoML"
      ],
      "metadata": {}
    },
    {
      "cell_type": "code",
      "source": [
        "df = bed_occupancy_dataset[['Date', 'occupancy_rate','city']]\n",
        "df"
      ],
      "outputs": [
        {
          "output_type": "execute_result",
          "execution_count": 9,
          "data": {
            "text/plain": "           Date  occupancy_rate         city\n0    2015-12-16        0.322234      Chicago\n1    2015-12-16        0.330033     Honolulu\n2    2015-12-16        0.214823  Los Angeles\n3    2015-12-16        0.456621        Miami\n4    2015-12-17        1.320132     Honolulu\n...         ...             ...          ...\n9021 2020-11-28       48.184818     Honolulu\n9022 2020-11-28       53.200000    Anchorage\n9023 2020-11-28       51.826484        Miami\n9024 2020-11-28       50.053706      Chicago\n9025 2020-11-28       57.357680  Los Angeles\n\n[9026 rows x 3 columns]",
            "text/html": "<div>\n<style scoped>\n    .dataframe tbody tr th:only-of-type {\n        vertical-align: middle;\n    }\n\n    .dataframe tbody tr th {\n        vertical-align: top;\n    }\n\n    .dataframe thead th {\n        text-align: right;\n    }\n</style>\n<table border=\"1\" class=\"dataframe\">\n  <thead>\n    <tr style=\"text-align: right;\">\n      <th></th>\n      <th>Date</th>\n      <th>occupancy_rate</th>\n      <th>city</th>\n    </tr>\n  </thead>\n  <tbody>\n    <tr>\n      <th>0</th>\n      <td>2015-12-16</td>\n      <td>0.322234</td>\n      <td>Chicago</td>\n    </tr>\n    <tr>\n      <th>1</th>\n      <td>2015-12-16</td>\n      <td>0.330033</td>\n      <td>Honolulu</td>\n    </tr>\n    <tr>\n      <th>2</th>\n      <td>2015-12-16</td>\n      <td>0.214823</td>\n      <td>Los Angeles</td>\n    </tr>\n    <tr>\n      <th>3</th>\n      <td>2015-12-16</td>\n      <td>0.456621</td>\n      <td>Miami</td>\n    </tr>\n    <tr>\n      <th>4</th>\n      <td>2015-12-17</td>\n      <td>1.320132</td>\n      <td>Honolulu</td>\n    </tr>\n    <tr>\n      <th>...</th>\n      <td>...</td>\n      <td>...</td>\n      <td>...</td>\n    </tr>\n    <tr>\n      <th>9021</th>\n      <td>2020-11-28</td>\n      <td>48.184818</td>\n      <td>Honolulu</td>\n    </tr>\n    <tr>\n      <th>9022</th>\n      <td>2020-11-28</td>\n      <td>53.200000</td>\n      <td>Anchorage</td>\n    </tr>\n    <tr>\n      <th>9023</th>\n      <td>2020-11-28</td>\n      <td>51.826484</td>\n      <td>Miami</td>\n    </tr>\n    <tr>\n      <th>9024</th>\n      <td>2020-11-28</td>\n      <td>50.053706</td>\n      <td>Chicago</td>\n    </tr>\n    <tr>\n      <th>9025</th>\n      <td>2020-11-28</td>\n      <td>57.357680</td>\n      <td>Los Angeles</td>\n    </tr>\n  </tbody>\n</table>\n<p>9026 rows × 3 columns</p>\n</div>"
          },
          "metadata": {}
        }
      ],
      "execution_count": 9,
      "metadata": {
        "gather": {
          "logged": 1680778851866
        },
        "lines_to_next_cell": 2
      }
    },
    {
      "cell_type": "code",
      "source": [
        "timeseries_df = df[['Date', 'occupancy_rate','city']]"
      ],
      "outputs": [],
      "execution_count": 10,
      "metadata": {
        "gather": {
          "logged": 1680778852251
        },
        "lines_to_next_cell": 2
      }
    },
    {
      "cell_type": "markdown",
      "source": [
        "### Split train and test datasets"
      ],
      "metadata": {}
    },
    {
      "cell_type": "code",
      "source": [
        "date_cutoff = \"2020-9-30\""
      ],
      "outputs": [],
      "execution_count": 11,
      "metadata": {
        "gather": {
          "logged": 1680778852497
        },
        "lines_to_next_cell": 2
      }
    },
    {
      "cell_type": "code",
      "source": [
        "train_df = timeseries_df[timeseries_df['Date'] <= date_cutoff]\n",
        "train_df"
      ],
      "outputs": [
        {
          "output_type": "execute_result",
          "execution_count": 12,
          "data": {
            "text/plain": "           Date  occupancy_rate         city\n0    2015-12-16        0.322234      Chicago\n1    2015-12-16        0.330033     Honolulu\n2    2015-12-16        0.214823  Los Angeles\n3    2015-12-16        0.456621        Miami\n4    2015-12-17        1.320132     Honolulu\n...         ...             ...          ...\n8727 2020-09-30        1.396348      Chicago\n8728 2020-09-30        3.424658        Miami\n8729 2020-09-30        3.630363     Honolulu\n8730 2020-09-30        2.000000    Anchorage\n8731 2020-09-30        0.859291  Los Angeles\n\n[8732 rows x 3 columns]",
            "text/html": "<div>\n<style scoped>\n    .dataframe tbody tr th:only-of-type {\n        vertical-align: middle;\n    }\n\n    .dataframe tbody tr th {\n        vertical-align: top;\n    }\n\n    .dataframe thead th {\n        text-align: right;\n    }\n</style>\n<table border=\"1\" class=\"dataframe\">\n  <thead>\n    <tr style=\"text-align: right;\">\n      <th></th>\n      <th>Date</th>\n      <th>occupancy_rate</th>\n      <th>city</th>\n    </tr>\n  </thead>\n  <tbody>\n    <tr>\n      <th>0</th>\n      <td>2015-12-16</td>\n      <td>0.322234</td>\n      <td>Chicago</td>\n    </tr>\n    <tr>\n      <th>1</th>\n      <td>2015-12-16</td>\n      <td>0.330033</td>\n      <td>Honolulu</td>\n    </tr>\n    <tr>\n      <th>2</th>\n      <td>2015-12-16</td>\n      <td>0.214823</td>\n      <td>Los Angeles</td>\n    </tr>\n    <tr>\n      <th>3</th>\n      <td>2015-12-16</td>\n      <td>0.456621</td>\n      <td>Miami</td>\n    </tr>\n    <tr>\n      <th>4</th>\n      <td>2015-12-17</td>\n      <td>1.320132</td>\n      <td>Honolulu</td>\n    </tr>\n    <tr>\n      <th>...</th>\n      <td>...</td>\n      <td>...</td>\n      <td>...</td>\n    </tr>\n    <tr>\n      <th>8727</th>\n      <td>2020-09-30</td>\n      <td>1.396348</td>\n      <td>Chicago</td>\n    </tr>\n    <tr>\n      <th>8728</th>\n      <td>2020-09-30</td>\n      <td>3.424658</td>\n      <td>Miami</td>\n    </tr>\n    <tr>\n      <th>8729</th>\n      <td>2020-09-30</td>\n      <td>3.630363</td>\n      <td>Honolulu</td>\n    </tr>\n    <tr>\n      <th>8730</th>\n      <td>2020-09-30</td>\n      <td>2.000000</td>\n      <td>Anchorage</td>\n    </tr>\n    <tr>\n      <th>8731</th>\n      <td>2020-09-30</td>\n      <td>0.859291</td>\n      <td>Los Angeles</td>\n    </tr>\n  </tbody>\n</table>\n<p>8732 rows × 3 columns</p>\n</div>"
          },
          "metadata": {}
        }
      ],
      "execution_count": 12,
      "metadata": {
        "gather": {
          "logged": 1680778852763
        },
        "lines_to_next_cell": 2,
        "scrolled": true
      }
    },
    {
      "cell_type": "code",
      "source": [
        "test_df = timeseries_df[timeseries_df['Date'] >= date_cutoff]\n",
        "test_df"
      ],
      "outputs": [
        {
          "output_type": "execute_result",
          "execution_count": 13,
          "data": {
            "text/plain": "           Date  occupancy_rate         city\n8727 2020-09-30        1.396348      Chicago\n8728 2020-09-30        3.424658        Miami\n8729 2020-09-30        3.630363     Honolulu\n8730 2020-09-30        2.000000    Anchorage\n8731 2020-09-30        0.859291  Los Angeles\n...         ...             ...          ...\n9021 2020-11-28       48.184818     Honolulu\n9022 2020-11-28       53.200000    Anchorage\n9023 2020-11-28       51.826484        Miami\n9024 2020-11-28       50.053706      Chicago\n9025 2020-11-28       57.357680  Los Angeles\n\n[299 rows x 3 columns]",
            "text/html": "<div>\n<style scoped>\n    .dataframe tbody tr th:only-of-type {\n        vertical-align: middle;\n    }\n\n    .dataframe tbody tr th {\n        vertical-align: top;\n    }\n\n    .dataframe thead th {\n        text-align: right;\n    }\n</style>\n<table border=\"1\" class=\"dataframe\">\n  <thead>\n    <tr style=\"text-align: right;\">\n      <th></th>\n      <th>Date</th>\n      <th>occupancy_rate</th>\n      <th>city</th>\n    </tr>\n  </thead>\n  <tbody>\n    <tr>\n      <th>8727</th>\n      <td>2020-09-30</td>\n      <td>1.396348</td>\n      <td>Chicago</td>\n    </tr>\n    <tr>\n      <th>8728</th>\n      <td>2020-09-30</td>\n      <td>3.424658</td>\n      <td>Miami</td>\n    </tr>\n    <tr>\n      <th>8729</th>\n      <td>2020-09-30</td>\n      <td>3.630363</td>\n      <td>Honolulu</td>\n    </tr>\n    <tr>\n      <th>8730</th>\n      <td>2020-09-30</td>\n      <td>2.000000</td>\n      <td>Anchorage</td>\n    </tr>\n    <tr>\n      <th>8731</th>\n      <td>2020-09-30</td>\n      <td>0.859291</td>\n      <td>Los Angeles</td>\n    </tr>\n    <tr>\n      <th>...</th>\n      <td>...</td>\n      <td>...</td>\n      <td>...</td>\n    </tr>\n    <tr>\n      <th>9021</th>\n      <td>2020-11-28</td>\n      <td>48.184818</td>\n      <td>Honolulu</td>\n    </tr>\n    <tr>\n      <th>9022</th>\n      <td>2020-11-28</td>\n      <td>53.200000</td>\n      <td>Anchorage</td>\n    </tr>\n    <tr>\n      <th>9023</th>\n      <td>2020-11-28</td>\n      <td>51.826484</td>\n      <td>Miami</td>\n    </tr>\n    <tr>\n      <th>9024</th>\n      <td>2020-11-28</td>\n      <td>50.053706</td>\n      <td>Chicago</td>\n    </tr>\n    <tr>\n      <th>9025</th>\n      <td>2020-11-28</td>\n      <td>57.357680</td>\n      <td>Los Angeles</td>\n    </tr>\n  </tbody>\n</table>\n<p>299 rows × 3 columns</p>\n</div>"
          },
          "metadata": {}
        }
      ],
      "execution_count": 13,
      "metadata": {
        "gather": {
          "logged": 1680778852984
        },
        "lines_to_next_cell": 2
      }
    },
    {
      "cell_type": "code",
      "source": [
        "train_df_dict = {}\n",
        "test_df_dict = {}"
      ],
      "outputs": [],
      "execution_count": 14,
      "metadata": {
        "gather": {
          "logged": 1680778853184
        },
        "lines_to_next_cell": 2
      }
    },
    {
      "cell_type": "code",
      "source": [
        "cities=train_df.city.unique()\n",
        "print(cities)"
      ],
      "outputs": [
        {
          "output_type": "stream",
          "name": "stdout",
          "text": "['Chicago' 'Honolulu' 'Los Angeles' 'Miami' 'Anchorage']\n"
        }
      ],
      "execution_count": 15,
      "metadata": {
        "gather": {
          "logged": 1680778853399
        },
        "lines_to_next_cell": 2
      }
    },
    {
      "cell_type": "code",
      "source": [
        "local_data_folder = 'bed_occupancy_data/'\n",
        "if not os.path.exists(local_data_folder):\n",
        "    os.mkdir(local_data_folder)"
      ],
      "outputs": [],
      "execution_count": 16,
      "metadata": {
        "gather": {
          "logged": 1680778853603
        },
        "lines_to_next_cell": 2
      }
    },
    {
      "cell_type": "code",
      "source": [
        "def process_city(city):\n",
        "    if \" \" in city:\n",
        "        city2 = city.replace(\" \", '_')\n",
        "    else:\n",
        "        city2 = city\n",
        "    return city2"
      ],
      "outputs": [],
      "execution_count": 17,
      "metadata": {
        "gather": {
          "logged": 1680778853817
        },
        "lines_to_next_cell": 2
      }
    },
    {
      "cell_type": "markdown",
      "source": [
        "## Upload the train and test datasets to data store"
      ],
      "metadata": {}
    },
    {
      "cell_type": "code",
      "source": [
        "for _,city in enumerate(cities):\n",
        "    city2 = process_city(city)\n",
        "    train_df_dict[city2]= train_df[train_df['city']== city][['Date', 'occupancy_rate']]\n",
        "    test_df_dict[city2]= pd.date_range('2020-10-01', periods=92, freq='D').to_frame(index=False, name=\"Date\")\n",
        "    train_df_dict[city2].to_csv(f'{local_data_folder}occupancy_train_{city2}.csv', index=False)\n",
        "    test_df_dict[city2].to_csv(f'{local_data_folder}occupancy_test_{city2}.csv', index=False)\n",
        "    dstore.upload_files(\n",
        "    files = [f'{local_data_folder}occupancy_train_{city2}.csv',f'{local_data_folder}occupancy_test_{city2}.csv'],\n",
        "    relative_root = local_data_folder,\n",
        "    target_path = '/',\n",
        "    overwrite=True,\n",
        "    show_progress=True\n",
        ")"
      ],
      "outputs": [
        {
          "output_type": "stream",
          "name": "stdout",
          "text": "Uploading an estimated of 2 files\nUploading bed_occupancy_data/occupancy_train_Chicago.csv\nUploaded bed_occupancy_data/occupancy_train_Chicago.csv, 1 files out of an estimated total of 2\nUploading bed_occupancy_data/occupancy_test_Chicago.csv\nUploaded bed_occupancy_data/occupancy_test_Chicago.csv, 2 files out of an estimated total of 2\nUploaded 2 files\nUploading an estimated of 2 files\nUploading bed_occupancy_data/occupancy_train_Honolulu.csv\nUploaded bed_occupancy_data/occupancy_train_Honolulu.csv, 1 files out of an estimated total of 2\nUploading bed_occupancy_data/occupancy_test_Honolulu.csv\nUploaded bed_occupancy_data/occupancy_test_Honolulu.csv, 2 files out of an estimated total of 2\nUploaded 2 files\nUploading an estimated of 2 files\nUploading bed_occupancy_data/occupancy_train_Los_Angeles.csv\nUploaded bed_occupancy_data/occupancy_train_Los_Angeles.csv, 1 files out of an estimated total of 2\nUploading bed_occupancy_data/occupancy_test_Los_Angeles.csv\nUploaded bed_occupancy_data/occupancy_test_Los_Angeles.csv, 2 files out of an estimated total of 2\nUploaded 2 files\nUploading an estimated of 2 files\n"
        },
        {
          "output_type": "stream",
          "name": "stderr",
          "text": "\"datastore.upload_files\" is deprecated after version 1.0.69. Please use \"FileDatasetFactory.upload_directory\" instead. See Dataset API change notice at https://aka.ms/dataset-deprecation.\n"
        }
      ],
      "execution_count": 18,
      "metadata": {
        "gather": {
          "logged": 1680778854438
        },
        "lines_to_next_cell": 2
      }
    },
    {
      "cell_type": "markdown",
      "source": [
        "## Build the models in Azure AutoML"
      ],
      "metadata": {}
    },
    {
      "cell_type": "code",
      "source": [
        "data_types = {\n",
        "    'occupancy_rate': DataType.to_float(),\n",
        "    'Date': DataType.to_datetime(\"%Y-%m-%d\")\n",
        "}\n",
        "\n",
        "print(len(data_types))\n",
        "\n",
        "\n",
        "# #### Load Training data from Storage Blob as a TabularDataSet"
      ],
      "outputs": [
        {
          "output_type": "stream",
          "name": "stdout",
          "text": "2\n"
        }
      ],
      "execution_count": 19,
      "metadata": {
        "gather": {
          "logged": 1680778854689
        }
      }
    },
    {
      "cell_type": "code",
      "source": [
        "y_variable = \"occupancy_rate\""
      ],
      "outputs": [],
      "execution_count": 20,
      "metadata": {
        "gather": {
          "logged": 1680778854931
        },
        "lines_to_next_cell": 2
      }
    },
    {
      "cell_type": "code",
      "source": [
        "compute = AmlCompute(ws, \"health-cluster\")"
      ],
      "outputs": [],
      "execution_count": 21,
      "metadata": {
        "gather": {
          "logged": 1680778855154
        },
        "lines_to_next_cell": 2
      }
    },
    {
      "cell_type": "code",
      "source": [
        "local_runs={}\n",
        "\n",
        "for i,city in enumerate(cities):\n",
        "    city2 = process_city(city)\n",
        "    filepath = f'/occupancy_train_{city2}.csv'\n",
        "    print(filepath)\n",
        "    datastore_path = [DataPath(dstore, filepath)]\n",
        "    traindataset = Dataset.Tabular.from_delimited_files(path=datastore_path, set_column_types=data_types)\n",
        "    experiment_name = f'Bed_Occupancy_{city2}'\n",
        "    print(experiment_name)\n",
        "\n",
        "    experiment = Experiment(ws, experiment_name)\n",
        "\n",
        "    automl_config = AutoMLConfig(task = 'forecasting',\n",
        "                         debug_log = 'automl_errors.log',\n",
        "                         iteration_timeout_minutes = 15,\n",
        "                         n_cross_validations=3,\n",
        "                         experiment_timeout_minutes = 15,\n",
        "                         label_column_name=y_variable,\n",
        "                         time_column_name='Date',\n",
        "                         enable_early_stopping=True,\n",
        "                         compute_target = compute,\n",
        "                         training_data = traindataset,\n",
        "                         model_explainability=True)\n",
        "    local_run = experiment.submit(automl_config, show_output = False)\n",
        "    local_runs[city2]=local_run\n",
        "\n",
        "\n",
        "\n",
        "print(local_runs)"
      ],
      "outputs": [
        {
          "output_type": "stream",
          "name": "stdout",
          "text": "/occupancy_train_Chicago.csv\nBed_Occupancy_Chicago\nSubmitting remote run.\n"
        },
        {
          "output_type": "display_data",
          "data": {
            "text/plain": "<IPython.core.display.HTML object>",
            "text/html": "<table style=\"width:100%\"><tr><th>Experiment</th><th>Id</th><th>Type</th><th>Status</th><th>Details Page</th><th>Docs Page</th></tr><tr><td>Bed_Occupancy_Chicago</td><td>AutoML_cfde4941-3773-4a2c-b1c9-780245c9d553</td><td>automl</td><td>NotStarted</td><td><a href=\"https://ml.azure.com/runs/AutoML_cfde4941-3773-4a2c-b1c9-780245c9d553?wsid=/subscriptions/506e86fc-853c-4557-a6e5-ad72114efd2b/resourcegroups/rg-healthcare2-prod/workspaces/mlw-healthcare2-prod&amp;tid=f94768c8-8714-4abe-8e2d-37a64b18216a\" target=\"_blank\" rel=\"noopener\">Link to Azure Machine Learning studio</a></td><td><a href=\"https://docs.microsoft.com/en-us/python/api/overview/azure/ml/intro?view=azure-ml-py\" target=\"_blank\" rel=\"noopener\">Link to Documentation</a></td></tr></table>"
          },
          "metadata": {}
        },
        {
          "output_type": "stream",
          "name": "stdout",
          "text": "/occupancy_train_Honolulu.csv\nBed_Occupancy_Honolulu\nSubmitting remote run.\n"
        },
        {
          "output_type": "display_data",
          "data": {
            "text/plain": "<IPython.core.display.HTML object>",
            "text/html": "<table style=\"width:100%\"><tr><th>Experiment</th><th>Id</th><th>Type</th><th>Status</th><th>Details Page</th><th>Docs Page</th></tr><tr><td>Bed_Occupancy_Honolulu</td><td>AutoML_227141fc-432a-495e-8625-6d3cd135ec31</td><td>automl</td><td>NotStarted</td><td><a href=\"https://ml.azure.com/runs/AutoML_227141fc-432a-495e-8625-6d3cd135ec31?wsid=/subscriptions/506e86fc-853c-4557-a6e5-ad72114efd2b/resourcegroups/rg-healthcare2-prod/workspaces/mlw-healthcare2-prod&amp;tid=f94768c8-8714-4abe-8e2d-37a64b18216a\" target=\"_blank\" rel=\"noopener\">Link to Azure Machine Learning studio</a></td><td><a href=\"https://docs.microsoft.com/en-us/python/api/overview/azure/ml/intro?view=azure-ml-py\" target=\"_blank\" rel=\"noopener\">Link to Documentation</a></td></tr></table>"
          },
          "metadata": {}
        },
        {
          "output_type": "stream",
          "name": "stdout",
          "text": "/occupancy_train_Los_Angeles.csv\nBed_Occupancy_Los_Angeles\nSubmitting remote run.\n"
        },
        {
          "output_type": "display_data",
          "data": {
            "text/plain": "<IPython.core.display.HTML object>",
            "text/html": "<table style=\"width:100%\"><tr><th>Experiment</th><th>Id</th><th>Type</th><th>Status</th><th>Details Page</th><th>Docs Page</th></tr><tr><td>Bed_Occupancy_Los_Angeles</td><td>AutoML_1d1e8b6c-e99c-456b-816d-be96398d832f</td><td>automl</td><td>NotStarted</td><td><a href=\"https://ml.azure.com/runs/AutoML_1d1e8b6c-e99c-456b-816d-be96398d832f?wsid=/subscriptions/506e86fc-853c-4557-a6e5-ad72114efd2b/resourcegroups/rg-healthcare2-prod/workspaces/mlw-healthcare2-prod&amp;tid=f94768c8-8714-4abe-8e2d-37a64b18216a\" target=\"_blank\" rel=\"noopener\">Link to Azure Machine Learning studio</a></td><td><a href=\"https://docs.microsoft.com/en-us/python/api/overview/azure/ml/intro?view=azure-ml-py\" target=\"_blank\" rel=\"noopener\">Link to Documentation</a></td></tr></table>"
          },
          "metadata": {}
        },
        {
          "output_type": "stream",
          "name": "stdout",
          "text": "/occupancy_train_Miami.csv\nBed_Occupancy_Miami\nSubmitting remote run.\n"
        },
        {
          "output_type": "display_data",
          "data": {
            "text/plain": "<IPython.core.display.HTML object>",
            "text/html": "<table style=\"width:100%\"><tr><th>Experiment</th><th>Id</th><th>Type</th><th>Status</th><th>Details Page</th><th>Docs Page</th></tr><tr><td>Bed_Occupancy_Miami</td><td>AutoML_d9f4501d-8a66-4d0a-bfff-ff27d47c05f0</td><td>automl</td><td>NotStarted</td><td><a href=\"https://ml.azure.com/runs/AutoML_d9f4501d-8a66-4d0a-bfff-ff27d47c05f0?wsid=/subscriptions/506e86fc-853c-4557-a6e5-ad72114efd2b/resourcegroups/rg-healthcare2-prod/workspaces/mlw-healthcare2-prod&amp;tid=f94768c8-8714-4abe-8e2d-37a64b18216a\" target=\"_blank\" rel=\"noopener\">Link to Azure Machine Learning studio</a></td><td><a href=\"https://docs.microsoft.com/en-us/python/api/overview/azure/ml/intro?view=azure-ml-py\" target=\"_blank\" rel=\"noopener\">Link to Documentation</a></td></tr></table>"
          },
          "metadata": {}
        },
        {
          "output_type": "stream",
          "name": "stdout",
          "text": "/occupancy_train_Anchorage.csv\nBed_Occupancy_Anchorage\nSubmitting remote run.\n"
        },
        {
          "output_type": "display_data",
          "data": {
            "text/plain": "<IPython.core.display.HTML object>",
            "text/html": "<table style=\"width:100%\"><tr><th>Experiment</th><th>Id</th><th>Type</th><th>Status</th><th>Details Page</th><th>Docs Page</th></tr><tr><td>Bed_Occupancy_Anchorage</td><td>AutoML_f6e866ce-d6d3-4547-863c-bb5e52838c3f</td><td>automl</td><td>NotStarted</td><td><a href=\"https://ml.azure.com/runs/AutoML_f6e866ce-d6d3-4547-863c-bb5e52838c3f?wsid=/subscriptions/506e86fc-853c-4557-a6e5-ad72114efd2b/resourcegroups/rg-healthcare2-prod/workspaces/mlw-healthcare2-prod&amp;tid=f94768c8-8714-4abe-8e2d-37a64b18216a\" target=\"_blank\" rel=\"noopener\">Link to Azure Machine Learning studio</a></td><td><a href=\"https://docs.microsoft.com/en-us/python/api/overview/azure/ml/intro?view=azure-ml-py\" target=\"_blank\" rel=\"noopener\">Link to Documentation</a></td></tr></table>"
          },
          "metadata": {}
        },
        {
          "output_type": "stream",
          "name": "stdout",
          "text": "{'Chicago': Run(Experiment: Bed_Occupancy_Chicago,\nId: AutoML_cfde4941-3773-4a2c-b1c9-780245c9d553,\nType: automl,\nStatus: NotStarted), 'Honolulu': Run(Experiment: Bed_Occupancy_Honolulu,\nId: AutoML_227141fc-432a-495e-8625-6d3cd135ec31,\nType: automl,\nStatus: NotStarted), 'Los_Angeles': Run(Experiment: Bed_Occupancy_Los_Angeles,\nId: AutoML_1d1e8b6c-e99c-456b-816d-be96398d832f,\nType: automl,\nStatus: NotStarted), 'Miami': Run(Experiment: Bed_Occupancy_Miami,\nId: AutoML_d9f4501d-8a66-4d0a-bfff-ff27d47c05f0,\nType: automl,\nStatus: NotStarted), 'Anchorage': Run(Experiment: Bed_Occupancy_Anchorage,\nId: AutoML_f6e866ce-d6d3-4547-863c-bb5e52838c3f,\nType: automl,\nStatus: NotStarted)}\n"
        }
      ],
      "execution_count": 22,
      "metadata": {
        "gather": {
          "logged": 1680778867666
        },
        "lines_to_next_cell": 2
      }
    },
    {
      "cell_type": "code",
      "source": [
        "ws = Workspace.from_config()\n",
        "\n",
        "print('Workspace Name: ' + ws.name, \n",
        "      'Resource Group: ' + ws.resource_group,\n",
        "      'AzureML Core Version: ' + azureml.core.VERSION,\n",
        "      sep = '\\n')"
      ],
      "outputs": [
        {
          "output_type": "stream",
          "name": "stdout",
          "text": "Workspace Name: mlw-healthcare2-prod\nResource Group: rg-healthcare2-prod\nAzureML Core Version: 1.48.0\n"
        }
      ],
      "execution_count": 23,
      "metadata": {
        "gather": {
          "logged": 1680781171320
        },
        "lines_to_next_cell": 2
      }
    },
    {
      "cell_type": "code",
      "source": [
        "list_models = {}"
      ],
      "outputs": [],
      "execution_count": 24,
      "metadata": {
        "gather": {
          "logged": 1680781176858
        },
        "lines_to_next_cell": 2
      }
    },
    {
      "cell_type": "code",
      "source": [
        "for _,city in enumerate(cities):\n",
        "    city2 = process_city(city)\n",
        "    print(city2)\n",
        "    _,list_models[city2]=local_runs[city2].get_output()\n",
        "       \n",
        "\n",
        "datastore_path = [DataPath(dstore, filepath)]\n",
        "traindataset = Dataset.Tabular.from_delimited_files(path=datastore_path, set_column_types=data_types)\n",
        "traindataset.to_pandas_dataframe().info()"
      ],
      "outputs": [
        {
          "output_type": "stream",
          "name": "stdout",
          "text": "Chicago\nHonolulu\nLos_Angeles\nMiami\nAnchorage\n<class 'pandas.core.frame.DataFrame'>\nRangeIndex: 1745 entries, 0 to 1744\nData columns (total 2 columns):\n #   Column          Non-Null Count  Dtype         \n---  ------          --------------  -----         \n 0   Date            1745 non-null   datetime64[ns]\n 1   occupancy_rate  1745 non-null   float64       \ndtypes: datetime64[ns](1), float64(1)\nmemory usage: 27.4 KB\n"
        }
      ],
      "execution_count": 25,
      "metadata": {
        "gather": {
          "logged": 1680781207012
        },
        "lines_to_next_cell": 0
      }
    },
    {
      "cell_type": "markdown",
      "source": [
        "## Upload predictions to storage account"
      ],
      "metadata": {}
    },
    {
      "cell_type": "code",
      "source": [
        "test={}\n",
        "\n",
        "for _,city in enumerate(cities):\n",
        "    city2 = process_city(city)\n",
        "    filepath = f'/occupancy_test_{city2}.csv'\n",
        "    print(filepath)\n",
        "    datastore_path = [DataPath(dstore, filepath)]\n",
        "    testdataset = Dataset.Tabular.from_delimited_files(path=datastore_path)\n",
        "    test_df=testdataset.to_pandas_dataframe()\n",
        "    predictions = list_models[city2].forecast(test_df)\n",
        "    test[city2]= test_df\n",
        "\n",
        "    test[city2]['occupancy_rate'] = predictions[0]\n",
        "    test[city2]['forecasted'] = True\n",
        "    test[city2]['city'] = city\n",
        "    test[city2] = test[city2][['Date','city','occupancy_rate','forecasted']]"
      ],
      "outputs": [
        {
          "output_type": "stream",
          "name": "stdout",
          "text": "/occupancy_test_Chicago.csv\n/occupancy_test_Honolulu.csv\n/occupancy_test_Los_Angeles.csv\n/occupancy_test_Miami.csv\n/occupancy_test_Anchorage.csv\n"
        }
      ],
      "execution_count": 50,
      "metadata": {
        "lines_to_next_cell": 2,
        "gather": {
          "logged": 1680783258522
        }
      }
    },
    {
      "cell_type": "markdown",
      "source": [
        "## Upload predictions to storage account"
      ],
      "metadata": {}
    },
    {
      "cell_type": "code",
      "source": [
        "test_df_list= [test[process_city(city)] for _,city in enumerate(cities)]  # List of your dataframes\n",
        "master_test_df=pd.concat(test_df_list)\n",
        "master_test_df.sort_values('Date',inplace=True)"
      ],
      "outputs": [],
      "execution_count": 51,
      "metadata": {
        "lines_to_next_cell": 2,
        "gather": {
          "logged": 1680783274237
        }
      }
    },
    {
      "cell_type": "code",
      "source": [
        "master_test_df"
      ],
      "outputs": [
        {
          "output_type": "execute_result",
          "execution_count": 52,
          "data": {
            "text/plain": "         Date         city  occupancy_rate  forecasted\n0  2020-10-01      Chicago           58.59        True\n0  2020-10-01     Honolulu            3.63        True\n0  2020-10-01  Los Angeles            0.86        True\n0  2020-10-01        Miami            3.42        True\n0  2020-10-01    Anchorage            2.00        True\n..        ...          ...             ...         ...\n91 2020-12-31        Miami            3.42        True\n91 2020-12-31     Honolulu            3.63        True\n91 2020-12-31      Chicago            2.42        True\n91 2020-12-31  Los Angeles            0.86        True\n91 2020-12-31    Anchorage            2.00        True\n\n[460 rows x 4 columns]",
            "text/html": "<div>\n<style scoped>\n    .dataframe tbody tr th:only-of-type {\n        vertical-align: middle;\n    }\n\n    .dataframe tbody tr th {\n        vertical-align: top;\n    }\n\n    .dataframe thead th {\n        text-align: right;\n    }\n</style>\n<table border=\"1\" class=\"dataframe\">\n  <thead>\n    <tr style=\"text-align: right;\">\n      <th></th>\n      <th>Date</th>\n      <th>city</th>\n      <th>occupancy_rate</th>\n      <th>forecasted</th>\n    </tr>\n  </thead>\n  <tbody>\n    <tr>\n      <th>0</th>\n      <td>2020-10-01</td>\n      <td>Chicago</td>\n      <td>58.59</td>\n      <td>True</td>\n    </tr>\n    <tr>\n      <th>0</th>\n      <td>2020-10-01</td>\n      <td>Honolulu</td>\n      <td>3.63</td>\n      <td>True</td>\n    </tr>\n    <tr>\n      <th>0</th>\n      <td>2020-10-01</td>\n      <td>Los Angeles</td>\n      <td>0.86</td>\n      <td>True</td>\n    </tr>\n    <tr>\n      <th>0</th>\n      <td>2020-10-01</td>\n      <td>Miami</td>\n      <td>3.42</td>\n      <td>True</td>\n    </tr>\n    <tr>\n      <th>0</th>\n      <td>2020-10-01</td>\n      <td>Anchorage</td>\n      <td>2.00</td>\n      <td>True</td>\n    </tr>\n    <tr>\n      <th>...</th>\n      <td>...</td>\n      <td>...</td>\n      <td>...</td>\n      <td>...</td>\n    </tr>\n    <tr>\n      <th>91</th>\n      <td>2020-12-31</td>\n      <td>Miami</td>\n      <td>3.42</td>\n      <td>True</td>\n    </tr>\n    <tr>\n      <th>91</th>\n      <td>2020-12-31</td>\n      <td>Honolulu</td>\n      <td>3.63</td>\n      <td>True</td>\n    </tr>\n    <tr>\n      <th>91</th>\n      <td>2020-12-31</td>\n      <td>Chicago</td>\n      <td>2.42</td>\n      <td>True</td>\n    </tr>\n    <tr>\n      <th>91</th>\n      <td>2020-12-31</td>\n      <td>Los Angeles</td>\n      <td>0.86</td>\n      <td>True</td>\n    </tr>\n    <tr>\n      <th>91</th>\n      <td>2020-12-31</td>\n      <td>Anchorage</td>\n      <td>2.00</td>\n      <td>True</td>\n    </tr>\n  </tbody>\n</table>\n<p>460 rows × 4 columns</p>\n</div>"
          },
          "metadata": {}
        }
      ],
      "execution_count": 52,
      "metadata": {
        "lines_to_next_cell": 2,
        "gather": {
          "logged": 1680783277706
        }
      }
    },
    {
      "cell_type": "code",
      "source": [
        "train_df= train_df[['Date','city','occupancy_rate']]\n",
        "train_df['forecasted']='False'\n",
        "train_df"
      ],
      "outputs": [
        {
          "output_type": "execute_result",
          "execution_count": 53,
          "data": {
            "text/plain": "           Date         city  occupancy_rate forecasted\n0    2015-12-16      Chicago            0.32      False\n1    2015-12-16     Honolulu            0.33      False\n2    2015-12-16  Los Angeles            0.21      False\n3    2015-12-16        Miami            0.46      False\n4    2015-12-17     Honolulu            1.32      False\n...         ...          ...             ...        ...\n8727 2020-09-30      Chicago            1.40      False\n8728 2020-09-30        Miami            3.42      False\n8729 2020-09-30     Honolulu            3.63      False\n8730 2020-09-30    Anchorage            2.00      False\n8731 2020-09-30  Los Angeles            0.86      False\n\n[8732 rows x 4 columns]",
            "text/html": "<div>\n<style scoped>\n    .dataframe tbody tr th:only-of-type {\n        vertical-align: middle;\n    }\n\n    .dataframe tbody tr th {\n        vertical-align: top;\n    }\n\n    .dataframe thead th {\n        text-align: right;\n    }\n</style>\n<table border=\"1\" class=\"dataframe\">\n  <thead>\n    <tr style=\"text-align: right;\">\n      <th></th>\n      <th>Date</th>\n      <th>city</th>\n      <th>occupancy_rate</th>\n      <th>forecasted</th>\n    </tr>\n  </thead>\n  <tbody>\n    <tr>\n      <th>0</th>\n      <td>2015-12-16</td>\n      <td>Chicago</td>\n      <td>0.32</td>\n      <td>False</td>\n    </tr>\n    <tr>\n      <th>1</th>\n      <td>2015-12-16</td>\n      <td>Honolulu</td>\n      <td>0.33</td>\n      <td>False</td>\n    </tr>\n    <tr>\n      <th>2</th>\n      <td>2015-12-16</td>\n      <td>Los Angeles</td>\n      <td>0.21</td>\n      <td>False</td>\n    </tr>\n    <tr>\n      <th>3</th>\n      <td>2015-12-16</td>\n      <td>Miami</td>\n      <td>0.46</td>\n      <td>False</td>\n    </tr>\n    <tr>\n      <th>4</th>\n      <td>2015-12-17</td>\n      <td>Honolulu</td>\n      <td>1.32</td>\n      <td>False</td>\n    </tr>\n    <tr>\n      <th>...</th>\n      <td>...</td>\n      <td>...</td>\n      <td>...</td>\n      <td>...</td>\n    </tr>\n    <tr>\n      <th>8727</th>\n      <td>2020-09-30</td>\n      <td>Chicago</td>\n      <td>1.40</td>\n      <td>False</td>\n    </tr>\n    <tr>\n      <th>8728</th>\n      <td>2020-09-30</td>\n      <td>Miami</td>\n      <td>3.42</td>\n      <td>False</td>\n    </tr>\n    <tr>\n      <th>8729</th>\n      <td>2020-09-30</td>\n      <td>Honolulu</td>\n      <td>3.63</td>\n      <td>False</td>\n    </tr>\n    <tr>\n      <th>8730</th>\n      <td>2020-09-30</td>\n      <td>Anchorage</td>\n      <td>2.00</td>\n      <td>False</td>\n    </tr>\n    <tr>\n      <th>8731</th>\n      <td>2020-09-30</td>\n      <td>Los Angeles</td>\n      <td>0.86</td>\n      <td>False</td>\n    </tr>\n  </tbody>\n</table>\n<p>8732 rows × 4 columns</p>\n</div>"
          },
          "metadata": {}
        }
      ],
      "execution_count": 53,
      "metadata": {
        "lines_to_next_cell": 2,
        "gather": {
          "logged": 1680783708216
        }
      }
    },
    {
      "cell_type": "code",
      "source": [
        "master_df = pd.concat([train_df,master_test_df])\r\n",
        "master_df"
      ],
      "outputs": [
        {
          "output_type": "execute_result",
          "execution_count": 54,
          "data": {
            "text/plain": "         Date         city  occupancy_rate forecasted\n0  2015-12-16      Chicago            0.32      False\n1  2015-12-16     Honolulu            0.33      False\n2  2015-12-16  Los Angeles            0.21      False\n3  2015-12-16        Miami            0.46      False\n4  2015-12-17     Honolulu            1.32      False\n..        ...          ...             ...        ...\n91 2020-12-31        Miami            3.42       True\n91 2020-12-31     Honolulu            3.63       True\n91 2020-12-31      Chicago            2.42       True\n91 2020-12-31  Los Angeles            0.86       True\n91 2020-12-31    Anchorage            2.00       True\n\n[9192 rows x 4 columns]",
            "text/html": "<div>\n<style scoped>\n    .dataframe tbody tr th:only-of-type {\n        vertical-align: middle;\n    }\n\n    .dataframe tbody tr th {\n        vertical-align: top;\n    }\n\n    .dataframe thead th {\n        text-align: right;\n    }\n</style>\n<table border=\"1\" class=\"dataframe\">\n  <thead>\n    <tr style=\"text-align: right;\">\n      <th></th>\n      <th>Date</th>\n      <th>city</th>\n      <th>occupancy_rate</th>\n      <th>forecasted</th>\n    </tr>\n  </thead>\n  <tbody>\n    <tr>\n      <th>0</th>\n      <td>2015-12-16</td>\n      <td>Chicago</td>\n      <td>0.32</td>\n      <td>False</td>\n    </tr>\n    <tr>\n      <th>1</th>\n      <td>2015-12-16</td>\n      <td>Honolulu</td>\n      <td>0.33</td>\n      <td>False</td>\n    </tr>\n    <tr>\n      <th>2</th>\n      <td>2015-12-16</td>\n      <td>Los Angeles</td>\n      <td>0.21</td>\n      <td>False</td>\n    </tr>\n    <tr>\n      <th>3</th>\n      <td>2015-12-16</td>\n      <td>Miami</td>\n      <td>0.46</td>\n      <td>False</td>\n    </tr>\n    <tr>\n      <th>4</th>\n      <td>2015-12-17</td>\n      <td>Honolulu</td>\n      <td>1.32</td>\n      <td>False</td>\n    </tr>\n    <tr>\n      <th>...</th>\n      <td>...</td>\n      <td>...</td>\n      <td>...</td>\n      <td>...</td>\n    </tr>\n    <tr>\n      <th>91</th>\n      <td>2020-12-31</td>\n      <td>Miami</td>\n      <td>3.42</td>\n      <td>True</td>\n    </tr>\n    <tr>\n      <th>91</th>\n      <td>2020-12-31</td>\n      <td>Honolulu</td>\n      <td>3.63</td>\n      <td>True</td>\n    </tr>\n    <tr>\n      <th>91</th>\n      <td>2020-12-31</td>\n      <td>Chicago</td>\n      <td>2.42</td>\n      <td>True</td>\n    </tr>\n    <tr>\n      <th>91</th>\n      <td>2020-12-31</td>\n      <td>Los Angeles</td>\n      <td>0.86</td>\n      <td>True</td>\n    </tr>\n    <tr>\n      <th>91</th>\n      <td>2020-12-31</td>\n      <td>Anchorage</td>\n      <td>2.00</td>\n      <td>True</td>\n    </tr>\n  </tbody>\n</table>\n<p>9192 rows × 4 columns</p>\n</div>"
          },
          "metadata": {}
        }
      ],
      "execution_count": 54,
      "metadata": {
        "lines_to_next_cell": 2,
        "gather": {
          "logged": 1680783715645
        }
      }
    },
    {
      "cell_type": "code",
      "source": [
        "master_df.to_csv(local_data_folder+'bed_occupancy_forecasted.csv',index=False)"
      ],
      "outputs": [],
      "execution_count": 55,
      "metadata": {
        "lines_to_next_cell": 2,
        "gather": {
          "logged": 1680783722700
        }
      }
    },
    {
      "cell_type": "code",
      "source": [
        "\n",
        "local_files = [local_data_folder + 'bed_occupancy_forecasted.csv']\n",
        "print(local_files)\n",
        "\n",
        "dstore.upload_files(\n",
        "    files = local_files,\n",
        "    relative_root = local_data_folder,\n",
        "    target_path = '/',\n",
        "    overwrite=True,\n",
        "    show_progress=True\n",
        ")"
      ],
      "outputs": [
        {
          "output_type": "stream",
          "name": "stdout",
          "text": "['bed_occupancy_data/bed_occupancy_forecasted.csv']\nUploading an estimated of 1 files\nUploading bed_occupancy_data/bed_occupancy_forecasted.csv\nUploaded bed_occupancy_data/bed_occupancy_forecasted.csv, 1 files out of an estimated total of 1\nUploaded 1 files\n"
        },
        {
          "output_type": "execute_result",
          "execution_count": 56,
          "data": {
            "text/plain": "$AZUREML_DATAREFERENCE_total_occupancy_prediction_store"
          },
          "metadata": {}
        }
      ],
      "execution_count": 56,
      "metadata": {
        "lines_to_next_cell": 0,
        "gather": {
          "logged": 1680783727850
        }
      }
    }
  ],
  "metadata": {
    "jupytext": {
      "encoding": "# -*- coding: utf-8 -*-",
      "formats": "ipynb,py:light"
    },
    "kernel_info": {
      "name": "python38-azureml"
    },
    "kernelspec": {
      "name": "python38-azureml",
      "language": "python",
      "display_name": "Python 3.8 - AzureML"
    },
    "language_info": {
      "name": "python",
      "version": "3.8.10",
      "mimetype": "text/x-python",
      "codemirror_mode": {
        "name": "ipython",
        "version": 3
      },
      "pygments_lexer": "ipython3",
      "nbconvert_exporter": "python",
      "file_extension": ".py"
    },
    "microsoft": {
      "host": {
        "AzureML": {
          "notebookHasBeenCompleted": true
        }
      },
      "ms_spell_check": {
        "ms_spell_check_language": "en"
      }
    },
    "nteract": {
      "version": "nteract-front-end@1.0.0"
    }
  },
  "nbformat": 4,
  "nbformat_minor": 2
}