{
 "cells": [
  {
   "cell_type": "code",
   "execution_count": null,
   "metadata": {
    "application/vnd.databricks.v1+cell": {
     "cellMetadata": {},
     "inputWidgets": {},
     "nuid": "2247e146-6ce5-4a60-ab49-83daa779cda1",
     "showTitle": false,
     "title": ""
    }
   },
   "outputs": [],
   "source": [
    "ad = '#TENANT_ID#'\n",
    "sp = '#APP_ID#'\n",
    "se = '#SECRET_KEY#'\n",
    "\n",
    " \n",
    "spark.conf.set(\"fs.azure.account.auth.type.#STORAGE_ACCOUNT_NAME#.dfs.core.windows.net\", \"OAuth\")\n",
    "spark.conf.set(\"fs.azure.account.oauth.provider.type.#STORAGE_ACCOUNT_NAME#.dfs.core.windows.net\", \"org.apache.hadoop.fs.azurebfs.oauth2.ClientCredsTokenProvider\")\n",
    "spark.conf.set(\"fs.azure.account.oauth2.client.id.#STORAGE_ACCOUNT_NAME#.dfs.core.windows.net\", sp)\n",
    "spark.conf.set(\"fs.azure.account.oauth2.client.secret.#STORAGE_ACCOUNT_NAME#.dfs.core.windows.net\", se)\n",
    "spark.conf.set(\"fs.azure.account.oauth2.client.endpoint.#STORAGE_ACCOUNT_NAME#.dfs.core.windows.net\", \"https://login.microsoftonline.com/\" + ad + \"/oauth2/token\")"
   ]
  },
  {
   "cell_type": "code",
   "execution_count": null,
   "metadata": {
    "application/vnd.databricks.v1+cell": {
     "cellMetadata": {},
     "inputWidgets": {},
     "nuid": "8be9510c-b4c7-48cd-a76d-c822671262b9",
     "showTitle": false,
     "title": ""
    }
   },
   "outputs": [],
   "source": [
    "import dlt\n",
    "input_file = \"abfss://sphealthcare2@#STORAGE_ACCOUNT_NAME#.dfs.core.windows.net/dbo.Mkt_Sales.csv\"\n",
    "@dlt.table()\n",
    "def Sales_bronze():\n",
    "  return (spark.read.format(\"csv\").option(\"header\",True).load(input_file))\n",
    "\n",
    "@dlt.table()\n",
    "def Sales_silver():\n",
    "  return (dlt.read(\"Sales_bronze\"))\n",
    "\n",
    "@dlt.table()\n",
    "def Sales_gold():\n",
    "  return (dlt.read(\"Sales_silver\"))"
   ]
  }
 ],
 "metadata": {
  "application/vnd.databricks.v1+notebook": {
   "dashboards": [],
   "language": "python",
   "notebookMetadata": {
    "pythonIndentUnit": 4
   },
   "notebookName": "Sales_dlt",
   "notebookOrigID": 3535330568289798,
   "widgets": {}
  },
  "language_info": {
   "name": "python"
  }
 },
 "nbformat": 4,
 "nbformat_minor": 0
}
