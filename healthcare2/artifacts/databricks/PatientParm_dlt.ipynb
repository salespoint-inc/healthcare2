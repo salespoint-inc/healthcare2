{
 "cells": [
  {
   "cell_type": "code",
   "execution_count": null,
   "metadata": {
    "application/vnd.databricks.v1+cell": {
     "cellMetadata": {},
     "inputWidgets": {},
     "nuid": "a349aced-80a6-4eb9-a5d5-515919ae1073",
     "showTitle": false,
     "title": ""
    }
   },
   "outputs": [],
   "source": [
    "ad = '#TENANT_ID#'\n",
    "sp = '#APP_ID#'\n",
    "se = '#SECRET_KEY#'\n",
    "\n",
    " \n",
    "spark.conf.set(\"fs.azure.account.auth.type.#STORAGE_ACCOUNT_NAME#.dfs.core.windows.net\", \"OAuth\")\n",
    "spark.conf.set(\"fs.azure.account.oauth.provider.type.#STORAGE_ACCOUNT_NAME#.dfs.core.windows.net\", \"org.apache.hadoop.fs.azurebfs.oauth2.ClientCredsTokenProvider\")\n",
    "spark.conf.set(\"fs.azure.account.oauth2.client.id.#STORAGE_ACCOUNT_NAME#.dfs.core.windows.net\", sp)\n",
    "spark.conf.set(\"fs.azure.account.oauth2.client.secret.#STORAGE_ACCOUNT_NAME#.dfs.core.windows.net\", se)\n",
    "spark.conf.set(\"fs.azure.account.oauth2.client.endpoint.#STORAGE_ACCOUNT_NAME#.dfs.core.windows.net\", \"https://login.microsoftonline.com/\" + ad + \"/oauth2/token\")"
   ]
  },
  {
   "cell_type": "code",
   "execution_count": null,
   "metadata": {
    "application/vnd.databricks.v1+cell": {
     "cellMetadata": {},
     "inputWidgets": {},
     "nuid": "9cef330c-3855-4e66-8cbe-3b8a9c9c7ac3",
     "showTitle": false,
     "title": ""
    }
   },
   "outputs": [],
   "source": [
    "import dlt\n",
    "input_file = \"abfss://delta@#STORAGE_ACCOUNT_NAME#.dfs.core.windows.net/deltadata\"\n",
    "@dlt.table()\n",
    "def patient_pred_bronze():\n",
    "  return (spark.read.load(input_file))\n"
   ]
  }
 ],
 "metadata": {
  "application/vnd.databricks.v1+notebook": {
   "dashboards": [],
   "language": "python",
   "notebookMetadata": {
    "pythonIndentUnit": 4
   },
   "notebookName": "PatientParm_dlt",
   "notebookOrigID": 3535330568289761,
   "widgets": {}
  },
  "language_info": {
   "name": "python"
  }
 },
 "nbformat": 4,
 "nbformat_minor": 0
}
