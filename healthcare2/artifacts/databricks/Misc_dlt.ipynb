{
 "cells": [
  {
   "cell_type": "code",
   "execution_count": null,
   "metadata": {
    "application/vnd.databricks.v1+cell": {
     "cellMetadata": {},
     "inputWidgets": {},
     "nuid": "e5f2dbe7-9fe7-4a8e-9489-350bdb3f6eae",
     "showTitle": false,
     "title": ""
    }
   },
   "outputs": [],
   "source": [
    "%pip install openpyxl\n",
    "%pip install xlrd"
   ]
  },
  {
   "cell_type": "code",
   "execution_count": null,
   "metadata": {
    "application/vnd.databricks.v1+cell": {
     "cellMetadata": {},
     "inputWidgets": {},
     "nuid": "f03b7fc9-9ec2-4089-8c0a-f10103871e3c",
     "showTitle": false,
     "title": ""
    }
   },
   "outputs": [],
   "source": [
    "ad = '#TENANT_ID#'\n",
    "sp = '#APP_ID#'\n",
    "se = '#SECRET_KEY#'\n",
    "\n",
    " \n",
    "spark.conf.set(\"fs.azure.account.auth.type.#STORAGE_ACCOUNT_NAME#.dfs.core.windows.net\", \"OAuth\")\n",
    "spark.conf.set(\"fs.azure.account.oauth.provider.type.#STORAGE_ACCOUNT_NAME#.dfs.core.windows.net\", \"org.apache.hadoop.fs.azurebfs.oauth2.ClientCredsTokenProvider\")\n",
    "spark.conf.set(\"fs.azure.account.oauth2.client.id.#STORAGE_ACCOUNT_NAME#.dfs.core.windows.net\", sp)\n",
    "spark.conf.set(\"fs.azure.account.oauth2.client.secret.#STORAGE_ACCOUNT_NAME#.dfs.core.windows.net\", se)\n",
    "spark.conf.set(\"fs.azure.account.oauth2.client.endpoint.#STORAGE_ACCOUNT_NAME#.dfs.core.windows.net\", \"https://login.microsoftonline.com/\" + ad + \"/oauth2/token\")"
   ]
  },
  {
   "cell_type": "code",
   "execution_count": null,
   "metadata": {
    "application/vnd.databricks.v1+cell": {
     "cellMetadata": {},
     "inputWidgets": {},
     "nuid": "ae1741f5-90fd-431e-850a-d66213fc1cf5",
     "showTitle": false,
     "title": ""
    }
   },
   "outputs": [],
   "source": [
    "import pandas as pd\n",
    "import openpyxl\n",
    "import dlt"
   ]
  },
  {
   "attachments": {},
   "cell_type": "markdown",
   "metadata": {
    "application/vnd.databricks.v1+cell": {
     "cellMetadata": {},
     "inputWidgets": {},
     "nuid": "45c4cad2-2746-4469-99e3-37b97b082972",
     "showTitle": false,
     "title": ""
    }
   },
   "source": [
    "#encounter"
   ]
  },
  {
   "cell_type": "code",
   "execution_count": null,
   "metadata": {
    "application/vnd.databricks.v1+cell": {
     "cellMetadata": {},
     "inputWidgets": {},
     "nuid": "e52840b9-3da9-464c-a72e-e8ac1b618b45",
     "showTitle": false,
     "title": ""
    }
   },
   "outputs": [],
   "source": [
    "input_file = \"abfss://sthealthcare2@#STORAGE_ACCOUNT_NAME#.dfs.core.windows.net/encounter.parquet\"\n",
    "@dlt.table()\n",
    "def encounter():\n",
    "  return (spark.read.format(\"parquet\").load(input_file))"
   ]
  },
  {
   "attachments": {},
   "cell_type": "markdown",
   "metadata": {
    "application/vnd.databricks.v1+cell": {
     "cellMetadata": {},
     "inputWidgets": {},
     "nuid": "0f8bfa53-b006-4ae0-b20b-35820f533d67",
     "showTitle": false,
     "title": ""
    }
   },
   "source": [
    "#City and Race Data\n",
    "## problem in excel data"
   ]
  },
  {
   "cell_type": "code",
   "execution_count": null,
   "metadata": {
    "application/vnd.databricks.v1+cell": {
     "cellMetadata": {},
     "inputWidgets": {},
     "nuid": "c90d6e55-97b5-440d-9472-7e534d2e6298",
     "showTitle": false,
     "title": ""
    }
   },
   "outputs": [],
   "source": [
    "# input_file = \"abfss://sthealthcare2@#STORAGE_ACCOUNT_NAME#.dfs.core.windows.net/City_and_Race_Data.parquet\"\n",
    "# @dlt.table()\n",
    "# def City_and_Race_Data():\n",
    "#   return (spark.read.format(\"parquet\").load(input_file))"
   ]
  },
  {
   "attachments": {},
   "cell_type": "markdown",
   "metadata": {
    "application/vnd.databricks.v1+cell": {
     "cellMetadata": {},
     "inputWidgets": {},
     "nuid": "87265c1f-1bb8-49a0-a970-79edffdda0fb",
     "showTitle": false,
     "title": ""
    }
   },
   "source": [
    "#Diagnostic_Report"
   ]
  },
  {
   "cell_type": "code",
   "execution_count": null,
   "metadata": {
    "application/vnd.databricks.v1+cell": {
     "cellMetadata": {},
     "inputWidgets": {},
     "nuid": "cad514b4-c989-4429-ae91-2451f9f27732",
     "showTitle": false,
     "title": ""
    }
   },
   "outputs": [],
   "source": [
    "# input_file = \"abfss://sthealthcare2@#STORAGE_ACCOUNT_NAME#.dfs.core.windows.net/Diagnostic_Report.parquet\"\n",
    "# @dlt.table()\n",
    "# def Diagnostic_Report():\n",
    "#   return (spark.read.format(\"parquet\").load(input_file))"
   ]
  },
  {
   "attachments": {},
   "cell_type": "markdown",
   "metadata": {
    "application/vnd.databricks.v1+cell": {
     "cellMetadata": {},
     "inputWidgets": {},
     "nuid": "c97ac0cb-a613-489f-8a71-17f99c89dae9",
     "showTitle": false,
     "title": ""
    }
   },
   "source": [
    "#Document_Reference"
   ]
  },
  {
   "cell_type": "code",
   "execution_count": null,
   "metadata": {
    "application/vnd.databricks.v1+cell": {
     "cellMetadata": {},
     "inputWidgets": {},
     "nuid": "ad1de7d4-6ea0-41c6-9f1e-cb42ddcb71e0",
     "showTitle": false,
     "title": ""
    }
   },
   "outputs": [],
   "source": [
    "# input_file = \"abfss://sthealthcare2@#STORAGE_ACCOUNT_NAME#.dfs.core.windows.net/Document_Reference.parquet\"\n",
    "# @dlt.table()\n",
    "# def Document_Reference():\n",
    "#   return (spark.read.format(\"parquet\").load(input_file))"
   ]
  },
  {
   "attachments": {},
   "cell_type": "markdown",
   "metadata": {
    "application/vnd.databricks.v1+cell": {
     "cellMetadata": {},
     "inputWidgets": {},
     "nuid": "b408b07e-6e54-464d-9a14-60389ff2de64",
     "showTitle": false,
     "title": ""
    }
   },
   "source": [
    "#dump"
   ]
  },
  {
   "cell_type": "code",
   "execution_count": null,
   "metadata": {
    "application/vnd.databricks.v1+cell": {
     "cellMetadata": {},
     "inputWidgets": {},
     "nuid": "2e11d05d-34c6-41fe-8905-e7e8c2c6df68",
     "showTitle": false,
     "title": ""
    }
   },
   "outputs": [],
   "source": [
    "# input_file = \"abfss://sthealthcare2@#STORAGE_ACCOUNT_NAME#.dfs.core.windows.net/dump.parquet\"\n",
    "# @dlt.table()\n",
    "# def dump():\n",
    "#   return (spark.read.format(\"parquet\").load(input_file))"
   ]
  },
  {
   "attachments": {},
   "cell_type": "markdown",
   "metadata": {
    "application/vnd.databricks.v1+cell": {
     "cellMetadata": {},
     "inputWidgets": {},
     "nuid": "ad000580-d624-408b-b537-b1530fe046db",
     "showTitle": false,
     "title": ""
    }
   },
   "source": [
    "#Invoked_Functions"
   ]
  },
  {
   "cell_type": "code",
   "execution_count": null,
   "metadata": {
    "application/vnd.databricks.v1+cell": {
     "cellMetadata": {},
     "inputWidgets": {},
     "nuid": "effe817d-6962-4099-bead-bdbed917a562",
     "showTitle": false,
     "title": ""
    }
   },
   "outputs": [],
   "source": [
    "# input_file = \"abfss://sthealthcare2@#STORAGE_ACCOUNT_NAME#.dfs.core.windows.net/Invoked_Functions.parquet\"\n",
    "# @dlt.table()\n",
    "# def Invoked_Functions():\n",
    "#   return (spark.read.format(\"parquet\").load(input_file))"
   ]
  },
  {
   "attachments": {},
   "cell_type": "markdown",
   "metadata": {
    "application/vnd.databricks.v1+cell": {
     "cellMetadata": {},
     "inputWidgets": {},
     "nuid": "0a10ccf0-3162-4b3b-b406-7c54defbf6e9",
     "showTitle": false,
     "title": ""
    }
   },
   "source": [
    "#Media.xlsx"
   ]
  },
  {
   "cell_type": "code",
   "execution_count": null,
   "metadata": {
    "application/vnd.databricks.v1+cell": {
     "cellMetadata": {},
     "inputWidgets": {},
     "nuid": "f93e6729-7ff0-4d70-af39-19b613a6d475",
     "showTitle": false,
     "title": ""
    }
   },
   "outputs": [],
   "source": [
    "# input_file = \"abfss://sthealthcare2@#STORAGE_ACCOUNT_NAME#.dfs.core.windows.net/Media.parquet\"\n",
    "# @dlt.table()\n",
    "# def Media():\n",
    "#   return (spark.read.format(\"parquet\").load(input_file))"
   ]
  },
  {
   "attachments": {},
   "cell_type": "markdown",
   "metadata": {
    "application/vnd.databricks.v1+cell": {
     "cellMetadata": {},
     "inputWidgets": {},
     "nuid": "20ec5efd-e76e-4b8c-889b-0b9e42230b31",
     "showTitle": false,
     "title": ""
    }
   },
   "source": [
    "#medication_request"
   ]
  },
  {
   "cell_type": "code",
   "execution_count": null,
   "metadata": {
    "application/vnd.databricks.v1+cell": {
     "cellMetadata": {},
     "inputWidgets": {},
     "nuid": "1a47a95d-b2d1-4ef8-afeb-96d04ec2fa98",
     "showTitle": false,
     "title": ""
    }
   },
   "outputs": [],
   "source": [
    "# input_file = \"abfss://sthealthcare2@#STORAGE_ACCOUNT_NAME#.dfs.core.windows.net/medication_request.parquet\"\n",
    "# @dlt.table()\n",
    "# def medication_request():\n",
    "#   return (spark.read.format(\"parquet\").load(input_file))"
   ]
  },
  {
   "attachments": {},
   "cell_type": "markdown",
   "metadata": {
    "application/vnd.databricks.v1+cell": {
     "cellMetadata": {},
     "inputWidgets": {},
     "nuid": "ff43a87b-90cf-4b7c-9057-b9485b0ba695",
     "showTitle": false,
     "title": ""
    }
   },
   "source": [
    "#new_race"
   ]
  },
  {
   "cell_type": "code",
   "execution_count": null,
   "metadata": {
    "application/vnd.databricks.v1+cell": {
     "cellMetadata": {},
     "inputWidgets": {},
     "nuid": "40f0574b-d7cd-471c-9c46-1000227c313f",
     "showTitle": false,
     "title": ""
    }
   },
   "outputs": [],
   "source": [
    "# input_file = \"abfss://sthealthcare2@#STORAGE_ACCOUNT_NAME#.dfs.core.windows.net/new_race.parquet\"\n",
    "# @dlt.table()\n",
    "# def new_race():\n",
    "#   return (spark.read.format(\"parquet\").load(input_file))"
   ]
  },
  {
   "attachments": {},
   "cell_type": "markdown",
   "metadata": {
    "application/vnd.databricks.v1+cell": {
     "cellMetadata": {},
     "inputWidgets": {},
     "nuid": "a4cc521a-6be1-493b-a020-a3a470ecb497",
     "showTitle": false,
     "title": ""
    }
   },
   "source": [
    "#observation"
   ]
  },
  {
   "cell_type": "code",
   "execution_count": null,
   "metadata": {
    "application/vnd.databricks.v1+cell": {
     "cellMetadata": {},
     "inputWidgets": {},
     "nuid": "66c160f1-8244-45b2-9964-c79b0c0ede50",
     "showTitle": false,
     "title": ""
    }
   },
   "outputs": [],
   "source": [
    "# input_file = \"abfss://sthealthcare2@#STORAGE_ACCOUNT_NAME#.dfs.core.windows.net/observation.parquet\"\n",
    "# @dlt.table()\n",
    "# def observation():\n",
    "#   return (spark.read.format(\"parquet\").load(input_file))"
   ]
  },
  {
   "attachments": {},
   "cell_type": "markdown",
   "metadata": {
    "application/vnd.databricks.v1+cell": {
     "cellMetadata": {},
     "inputWidgets": {},
     "nuid": "63bc1b09-2d33-477d-9620-9be543cd2106",
     "showTitle": false,
     "title": ""
    }
   },
   "source": [
    "#Patient_Search"
   ]
  },
  {
   "cell_type": "code",
   "execution_count": null,
   "metadata": {
    "application/vnd.databricks.v1+cell": {
     "cellMetadata": {},
     "inputWidgets": {},
     "nuid": "b9e0da2d-2bfb-401e-89ae-02e3c1c6d123",
     "showTitle": false,
     "title": ""
    }
   },
   "outputs": [],
   "source": [
    "# input_file = \"abfss://sthealthcare2@#STORAGE_ACCOUNT_NAME#.dfs.core.windows.net/Patient_Search.parquet\"\n",
    "# @dlt.table()\n",
    "# def Patient_Search():\n",
    "#   return (spark.read.format(\"parquet\").load(input_file))"
   ]
  },
  {
   "attachments": {},
   "cell_type": "markdown",
   "metadata": {
    "application/vnd.databricks.v1+cell": {
     "cellMetadata": {},
     "inputWidgets": {},
     "nuid": "b258b113-65ec-478d-b36b-3527eb2b88b4",
     "showTitle": false,
     "title": ""
    }
   },
   "source": [
    "#patient"
   ]
  },
  {
   "cell_type": "code",
   "execution_count": null,
   "metadata": {
    "application/vnd.databricks.v1+cell": {
     "cellMetadata": {},
     "inputWidgets": {},
     "nuid": "f0c54558-92d9-4e97-aff6-ef13c776c9d7",
     "showTitle": false,
     "title": ""
    }
   },
   "outputs": [],
   "source": [
    "# input_file = \"abfss://sthealthcare2@#STORAGE_ACCOUNT_NAME#.dfs.core.windows.net/patient.parquet\"\n",
    "# @dlt.table()\n",
    "# def patient():\n",
    "#   return (spark.read.format(\"parquet\").load(input_file))"
   ]
  },
  {
   "attachments": {},
   "cell_type": "markdown",
   "metadata": {
    "application/vnd.databricks.v1+cell": {
     "cellMetadata": {},
     "inputWidgets": {},
     "nuid": "4e6fb468-ce9e-4171-9e12-9d5d4c558146",
     "showTitle": false,
     "title": ""
    }
   },
   "source": [
    "#race_mapping"
   ]
  },
  {
   "cell_type": "code",
   "execution_count": null,
   "metadata": {
    "application/vnd.databricks.v1+cell": {
     "cellMetadata": {},
     "inputWidgets": {},
     "nuid": "216fb2cc-feff-47ab-9ad3-f7bdb8e781d2",
     "showTitle": false,
     "title": ""
    }
   },
   "outputs": [],
   "source": [
    "# input_file = \"abfss://sthealthcare2@#STORAGE_ACCOUNT_NAME#.dfs.core.windows.net/race_mapping.parquet\"\n",
    "# @dlt.table()\n",
    "# def race_mapping():\n",
    "#   return (spark.read.format(\"parquet\").load(input_file))"
   ]
  },
  {
   "attachments": {},
   "cell_type": "markdown",
   "metadata": {
    "application/vnd.databricks.v1+cell": {
     "cellMetadata": {},
     "inputWidgets": {},
     "nuid": "f3253fe0-cc62-4a9a-9c4a-4816c68c9fd7",
     "showTitle": false,
     "title": ""
    }
   },
   "source": [
    "#Vitals_Graph"
   ]
  },
  {
   "cell_type": "code",
   "execution_count": null,
   "metadata": {
    "application/vnd.databricks.v1+cell": {
     "cellMetadata": {},
     "inputWidgets": {},
     "nuid": "462b2de9-eda0-4386-8c19-633cb1d1254e",
     "showTitle": false,
     "title": ""
    }
   },
   "outputs": [],
   "source": [
    "# input_file = \"abfss://sthealthcare2@#STORAGE_ACCOUNT_NAME#.dfs.core.windows.net/Vitals_Graph.parquet\"\n",
    "# @dlt.table()\n",
    "# def Vitals_Graph():\n",
    "#   return (spark.read.format(\"parquet\").load(input_file))"
   ]
  },
  {
   "attachments": {},
   "cell_type": "markdown",
   "metadata": {
    "application/vnd.databricks.v1+cell": {
     "cellMetadata": {},
     "inputWidgets": {},
     "nuid": "176e6037-2781-4333-82ef-dd2476146f1a",
     "showTitle": false,
     "title": ""
    }
   },
   "source": [
    "#Web_table"
   ]
  },
  {
   "cell_type": "code",
   "execution_count": null,
   "metadata": {
    "application/vnd.databricks.v1+cell": {
     "cellMetadata": {},
     "inputWidgets": {},
     "nuid": "24cf9cee-bd3d-4aa7-82c7-9c40ca0213fc",
     "showTitle": false,
     "title": ""
    }
   },
   "outputs": [],
   "source": [
    "# input_file = \"abfss://sthealthcare2@#STORAGE_ACCOUNT_NAME#.dfs.core.windows.net/Web_table.parquet\"\n",
    "# @dlt.table()\n",
    "# def Web_table():\n",
    "#   return (spark.read.format(\"parquet\").load(input_file))"
   ]
  }
 ],
 "metadata": {
  "application/vnd.databricks.v1+notebook": {
   "dashboards": [],
   "language": "python",
   "notebookMetadata": {
    "pythonIndentUnit": 4
   },
   "notebookName": "Misc_dlt",
   "notebookOrigID": 3535330568289710,
   "widgets": {}
  },
  "language_info": {
   "name": "python"
  }
 },
 "nbformat": 4,
 "nbformat_minor": 0
}
