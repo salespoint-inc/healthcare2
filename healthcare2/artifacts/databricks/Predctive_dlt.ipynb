{
 "cells": [
  {
   "cell_type": "code",
   "execution_count": null,
   "metadata": {
    "application/vnd.databricks.v1+cell": {
     "cellMetadata": {},
     "inputWidgets": {},
     "nuid": "6664e2e0-13fe-4822-be45-b0ece65f25fb",
     "showTitle": false,
     "title": ""
    }
   },
   "outputs": [],
   "source": [
    "ad = '#TENANT_ID#'\n",
    "sp = '#APP_ID#'\n",
    "se = '#SECRET_KEY#'\n",
    "\n",
    " \n",
    "spark.conf.set(\"fs.azure.account.auth.type.#STORAGE_ACCOUNT_NAME#.dfs.core.windows.net\", \"OAuth\")\n",
    "spark.conf.set(\"fs.azure.account.oauth.provider.type.#STORAGE_ACCOUNT_NAME#.dfs.core.windows.net\", \"org.apache.hadoop.fs.azurebfs.oauth2.ClientCredsTokenProvider\")\n",
    "spark.conf.set(\"fs.azure.account.oauth2.client.id.#STORAGE_ACCOUNT_NAME#.dfs.core.windows.net\", sp)\n",
    "spark.conf.set(\"fs.azure.account.oauth2.client.secret.#STORAGE_ACCOUNT_NAME#.dfs.core.windows.net\", se)\n",
    "spark.conf.set(\"fs.azure.account.oauth2.client.endpoint.#STORAGE_ACCOUNT_NAME#.dfs.core.windows.net\", \"https://login.microsoftonline.com/\" + ad + \"/oauth2/token\")"
   ]
  },
  {
   "cell_type": "code",
   "execution_count": null,
   "metadata": {
    "application/vnd.databricks.v1+cell": {
     "cellMetadata": {},
     "inputWidgets": {},
     "nuid": "1e02bdc7-4a57-40b2-a78e-34a13b95b3d2",
     "showTitle": false,
     "title": ""
    }
   },
   "outputs": [],
   "source": [
    "import dlt\n",
    "from pyspark.sql.functions import struct\n",
    "from pyspark.sql.functions import col\n",
    "from pyspark.sql.types import DateType\n",
    "from pyspark.sql.types import *\n",
    "import pyspark.sql.functions as f\n",
    "from pyspark.sql.functions import udf\n",
    "from pyspark.sql.functions import *\n",
    "import re\n",
    "import itertools\n",
    "import numpy as np\n",
    "from delta.tables import *\n",
    "from pyspark.sql.types import StructType, StructField, StringType, IntegerType, FloatType, DateType, TimestampType, DecimalType\n",
    "from pyspark.sql.functions import regexp_replace"
   ]
  },
  {
   "cell_type": "code",
   "execution_count": null,
   "metadata": {
    "application/vnd.databricks.v1+cell": {
     "cellMetadata": {},
     "inputWidgets": {},
     "nuid": "f872e3aa-a2d3-4bc3-ae46-dd5bed552a51",
     "showTitle": false,
     "title": ""
    }
   },
   "outputs": [],
   "source": [
    "# BedOccupancyForecast_file = \"abfss://data-source@#STORAGE_ACCOUNT_NAME#.dfs.core.windows.net/HealthCarePredctiveAnalytics/BedOccupancyForecasted.csv\"\n",
    "# from pyspark.sql.functions import col\n",
    "\n",
    "# @dlt.table()\n",
    "# def BedOccupancyForecast_bronze():\n",
    "#   return (spark.read.format(\"csv\").option(\"header\",True).load(BedOccupancyForecast_file))\n",
    "\n",
    "# @dlt.table()\n",
    "# def BedOccupancyForecast_silver():\n",
    "#   return (dlt.read(\"BedOccupancyForecast_bronze\"))\n",
    "\n",
    "# @dlt.table()\n",
    "# def BedOccupancyForecast_gold():\n",
    "#   return (dlt.read(\"BedOccupancyForecast_silver\"))"
   ]
  },
  {
   "cell_type": "code",
   "execution_count": null,
   "metadata": {
    "application/vnd.databricks.v1+cell": {
     "cellMetadata": {},
     "inputWidgets": {},
     "nuid": "b8a7d59d-3132-4614-92d8-894a3f5597d4",
     "showTitle": false,
     "title": ""
    }
   },
   "outputs": [],
   "source": [
    "%sql\n",
    "\n",
    "select * from csv.`abfss://data-source@#STORAGE_ACCOUNT_NAME#.dfs.core.windows.net/Bed Occupancy and Availability Report/OccupancyHealthcareData.csv`"
   ]
  },
  {
   "cell_type": "code",
   "execution_count": null,
   "metadata": {
    "application/vnd.databricks.v1+cell": {
     "cellMetadata": {},
     "inputWidgets": {},
     "nuid": "ba670640-6c9b-4034-948f-c2ea76fdd57c",
     "showTitle": false,
     "title": ""
    }
   },
   "outputs": [],
   "source": [
    "\n",
    "ReadmissionPrediction_input_file = \"abfss://data-source@#STORAGE_ACCOUNT_NAME#.dfs.core.windows.net/HealthCarePredctiveAnalytics/ReadmissionPrediction.csv\"\n",
    "\n",
    "@dlt.table()\n",
    "def ReadmissionPrediction_input_bronze():\n",
    "  return (spark.read.format(\"csv\").option(\"header\",True).load(ReadmissionPrediction_input_file))\n",
    "\n",
    "@dlt.table()\n",
    "def ReadmissionPrediction_input_silver():\n",
    "  return (dlt.read(\"ReadmissionPrediction_input_bronze\").select(col(\"City\").alias(\"City\"),col(\"Disease\").alias(\"Disease\"),col(\"ReadmissionFactors\").alias(\"ReadmissionFactors\"),col(\"Month\").alias(\"MonthName\"),col(\"Actual_Readmission_Rate\").alias(\"ActualReadmissionRate\"),col(\"Predicted_Readmission_Rate\").alias(\"PredictedReadmissionRate\"),col(\"Flag\").alias(\"Flag\"),col(\"length_of_stay\").alias(\"LengthOfStay\"),col(\"Year\").alias(\"Year\"),col(\"Predicted_Readmission_Rate2\").alias(\"PredictedReadmissionRateSecond\")))\n",
    "\n",
    "@dlt.table()\n",
    "def ReadmissionPrediction_input_gold():\n",
    "  return (dlt.read(\"ReadmissionPrediction_input_silver\"))\n"
   ]
  },
  {
   "cell_type": "code",
   "execution_count": null,
   "metadata": {
    "application/vnd.databricks.v1+cell": {
     "cellMetadata": {},
     "inputWidgets": {},
     "nuid": "e8a8008e-244a-491a-ada3-7a41e0288709",
     "showTitle": false,
     "title": ""
    }
   },
   "outputs": [],
   "source": [
    "\n",
    "PatientWaitTimeData = \"abfss://data-source@#STORAGE_ACCOUNT_NAME#.dfs.core.windows.net/HealthCarePredctiveAnalytics/WaitTimeForecast.csv\"\n",
    "@dlt.table()\n",
    "def PatientWaitTime_bronze():\n",
    "  return (spark.read.format(\"csv\").option(\"header\",True).load(PatientWaitTimeData))\n",
    "\n",
    "@dlt.table()\n",
    "def PatientWaitTime_silver():\n",
    "  return (dlt.read(\"PatientWaitTime_bronze\").select(col(\"date\").alias(\"Date\"),col(\"wait_time\").alias(\"WaitTime\"),col(\"Month\").alias(\"MonthNumber\"),col(\"Flag\").alias(\"Flag\"),col(\"Year\").alias(\"Year\")))\n",
    "\n",
    "@dlt.table()\n",
    "def PatientWaitTime_gold():\n",
    "  return (dlt.read(\"PatientWaitTime_silver\"))"
   ]
  },
  {
   "cell_type": "code",
   "execution_count": null,
   "metadata": {
    "application/vnd.databricks.v1+cell": {
     "cellMetadata": {},
     "inputWidgets": {},
     "nuid": "cbbd2551-ba97-4228-ac6b-f38f7310ae7a",
     "showTitle": false,
     "title": ""
    }
   },
   "outputs": [],
   "source": [
    "PredAnomalyData = \"abfss://data-source@#STORAGE_ACCOUNT_NAME#.dfs.core.windows.net/HealthCarePredctiveAnalytics/PredAnomaly.csv\"\n",
    "@dlt.table()\n",
    "def PredAnomalyData_bronze():\n",
    "  return (spark.read.format(\"csv\").option(\"header\",True).load(PredAnomalyData))\n",
    "\n",
    "@dlt.table()\n",
    "def PredAnomalyData_silver():\n",
    "  return (dlt.read(\"PredAnomalyData_bronze\").select(col(\"PrincipalComponent1\").alias(\"PrincipalComponentFirst\"),col(\"PrincipalComponent2\").alias(\"PrincipalComponentSecond\"),col(\"PrincipalComponent3\").alias(\"PrincipalComponentThird\"),col(\"PatientID\").alias(\"PatientID\"),col(\"url\").alias(\"URL\"),col(\"AnomalyDetected\").alias(\"AnomalyDetected\")))\n",
    "\n",
    "@dlt.table()\n",
    "def PredAnomalyData_gold():\n",
    "  return (dlt.read(\"PredAnomalyData_silver\"))"
   ]
  }
 ],
 "metadata": {
  "application/vnd.databricks.v1+notebook": {
   "dashboards": [],
   "language": "python",
   "notebookMetadata": {
    "pythonIndentUnit": 4
   },
   "notebookName": "Predctive_dlt",
   "notebookOrigID": 3535330568289789,
   "widgets": {}
  },
  "language_info": {
   "name": "python"
  }
 },
 "nbformat": 4,
 "nbformat_minor": 0
}
