{
 "cells": [
  {
   "cell_type": "code",
   "execution_count": null,
   "metadata": {
    "application/vnd.databricks.v1+cell": {
     "cellMetadata": {},
     "inputWidgets": {},
     "nuid": "285fe93e-504d-4afb-b9e1-cc0ca19dc78f",
     "showTitle": false,
     "title": ""
    }
   },
   "outputs": [],
   "source": [
    "ad = '#TENANT_ID#'\n",
    "sp = '#APP_ID#'\n",
    "se = '#SECRET_KEY#'\n",
    "\n",
    " \n",
    "spark.conf.set(\"fs.azure.account.auth.type.#STORAGE_ACCOUNT_NAME#.dfs.core.windows.net\", \"OAuth\")\n",
    "spark.conf.set(\"fs.azure.account.oauth.provider.type.#STORAGE_ACCOUNT_NAME#.dfs.core.windows.net\", \"org.apache.hadoop.fs.azurebfs.oauth2.ClientCredsTokenProvider\")\n",
    "spark.conf.set(\"fs.azure.account.oauth2.client.id.#STORAGE_ACCOUNT_NAME#.dfs.core.windows.net\", sp)\n",
    "spark.conf.set(\"fs.azure.account.oauth2.client.secret.#STORAGE_ACCOUNT_NAME#.dfs.core.windows.net\", se)\n",
    "spark.conf.set(\"fs.azure.account.oauth2.client.endpoint.#STORAGE_ACCOUNT_NAME#.dfs.core.windows.net\", \"https://login.microsoftonline.com/\" + ad + \"/oauth2/token\")"
   ]
  },
  {
   "cell_type": "code",
   "execution_count": null,
   "metadata": {
    "application/vnd.databricks.v1+cell": {
     "cellMetadata": {},
     "inputWidgets": {},
     "nuid": "91c57a2e-0356-4047-b0ca-21e590d8b84a",
     "showTitle": false,
     "title": ""
    }
   },
   "outputs": [],
   "source": [
    "import dlt\n",
    "from pyspark.sql.functions import struct\n",
    "from pyspark.sql.functions import col\n",
    "from pyspark.sql.types import DateType\n",
    "from pyspark.sql.types import *\n",
    "import pyspark.sql.functions as f\n",
    "from pyspark.sql.functions import udf\n",
    "from pyspark.sql.functions import *\n",
    "import re\n",
    "import itertools\n",
    "import numpy as np\n",
    "from delta.tables import *\n",
    "from pyspark.sql.types import StructType, StructField, StringType, IntegerType, FloatType, DateType, TimestampType, DecimalType\n",
    "from pyspark.sql.functions import regexp_replace"
   ]
  },
  {
   "cell_type": "code",
   "execution_count": null,
   "metadata": {
    "application/vnd.databricks.v1+cell": {
     "cellMetadata": {},
     "inputWidgets": {},
     "nuid": "55964987-1abe-4acf-abb0-8f7e071135da",
     "showTitle": false,
     "title": ""
    }
   },
   "outputs": [],
   "source": [
    "from pyspark.sql.functions import col\n",
    "input_file = \"abfss://data-source@#STORAGE_ACCOUNT_NAME#.dfs.core.windows.net/PatientProfile/PatientProfileReport.csv\"\n",
    "@dlt.table()\n",
    "def Patient_Profile_bronze():\n",
    "  return (spark.read.format(\"csv\").option(\"header\",True).load(input_file))\n",
    "\n",
    "@dlt.table()\n",
    "def Patient_Profile_silver():\n",
    "  return (dlt.read(\"Patient_Profile_bronze\").select(col(\"date\").alias(\"Date\"),col(\"Index\").alias(\"DataIndex\"),col(\"Brand\").alias(\"Brand\"),col(\"credit_score_sort\").alias(\"CreditScoreSort\"),col(\"Agegroupsort\").alias(\"AgeGroupSort\"),col(\"value_01\").alias(\"Value01\"),col(\"value_02\").alias(\"Value02\"),col(\"value_06a\").alias(\"Value6A\"),col(\"value_06b\").alias(\"Value6b\"),col(\"value_06c\").alias(\"Value6C\"),col(\"Country_id\").alias(\"CountryId\"),col(\"Generation_id\").alias(\"GenerationId\"),col(\"Purchased_spa_visit_id\").alias(\"PurchasedSpaVisitId\"),col(\"Rented_sports_equipment_id\").alias(\"RentedSportsEquipmentId\"),col(\"Source_id\").alias(\"SourceId\"),col(\"Product_search_id\").alias(\"ProductSearchId\"),col(\"Device_type_id\").alias(\"DeviceTypeId\"),col(\"Primary_interest_id\").alias(\"PrimaryInterestId\"),col(\"Age_id\").alias(\"AgeId\"),col(\"Happiness\").alias(\"Happiness\"),col(\"percentagecount\").alias(\"PercentageCount\"),col(\"Month_Year\").alias(\"MonthYear\"),col(\"Bounce_Rate\").alias(\"BounceRate\"),col(\"Sort_Month\").alias(\"SortMonth\"),col(\"Patients\").alias(\"Patients\"),col(\"Patient_id\").alias(\"PatientId\")))\n",
    "\n",
    "@dlt.table()\n",
    "def Patient_Profile_gold():\n",
    "  return (dlt.read(\"Patient_Profile_silver\"))"
   ]
  }
 ],
 "metadata": {
  "application/vnd.databricks.v1+notebook": {
   "dashboards": [],
   "language": "python",
   "notebookMetadata": {
    "pythonIndentUnit": 4
   },
   "notebookName": "Patient Profile dlt",
   "notebookOrigID": 3535330568289712,
   "widgets": {}
  },
  "language_info": {
   "name": "python"
  }
 },
 "nbformat": 4,
 "nbformat_minor": 0
}
