{
 "cells": [
  {
   "cell_type": "code",
   "execution_count": null,
   "metadata": {
    "application/vnd.databricks.v1+cell": {
     "cellMetadata": {},
     "inputWidgets": {},
     "nuid": "92c9abf5-a966-47ff-9304-c2eb8b8a1759",
     "showTitle": false,
     "title": ""
    }
   },
   "outputs": [],
   "source": [
    "ad = '#TENANT_ID#'\n",
    "sp = '#APP_ID#'\n",
    "se = '#SECRET_KEY#'\n",
    "\n",
    " \n",
    "spark.conf.set(\"fs.azure.account.auth.type.#STORAGE_ACCOUNT_NAME#.dfs.core.windows.net\", \"OAuth\")\n",
    "spark.conf.set(\"fs.azure.account.oauth.provider.type.#STORAGE_ACCOUNT_NAME#.dfs.core.windows.net\", \"org.apache.hadoop.fs.azurebfs.oauth2.ClientCredsTokenProvider\")\n",
    "spark.conf.set(\"fs.azure.account.oauth2.client.id.#STORAGE_ACCOUNT_NAME#.dfs.core.windows.net\", sp)\n",
    "spark.conf.set(\"fs.azure.account.oauth2.client.secret.#STORAGE_ACCOUNT_NAME#.dfs.core.windows.net\", se)\n",
    "spark.conf.set(\"fs.azure.account.oauth2.client.endpoint.#STORAGE_ACCOUNT_NAME#.dfs.core.windows.net\", \"https://login.microsoftonline.com/\" + ad + \"/oauth2/token\")"
   ]
  },
  {
   "cell_type": "code",
   "execution_count": null,
   "metadata": {
    "application/vnd.databricks.v1+cell": {
     "cellMetadata": {},
     "inputWidgets": {},
     "nuid": "9366aec4-5fde-4930-9297-ae7be66a2fd8",
     "showTitle": false,
     "title": ""
    }
   },
   "outputs": [],
   "source": [
    "import dlt\n",
    "total_bed_file = \"abfss://sthealthcare2@#STORAGE_ACCOUNT_NAME#.dfs.core.windows.net/total_beds.csv\"\n",
    "@dlt.table()\n",
    "def total_bed():\n",
    "  return (spark.read.format(\"csv\").option(\"header\",True).load(total_bed_file))"
   ]
  }
 ],
 "metadata": {
  "application/vnd.databricks.v1+notebook": {
   "dashboards": [],
   "language": "python",
   "notebookMetadata": {
    "pythonIndentUnit": 4
   },
   "notebookName": "PbiPatientPredictive_dlt",
   "notebookOrigID": 3535330568289781,
   "widgets": {}
  },
  "language_info": {
   "name": "python"
  }
 },
 "nbformat": 4,
 "nbformat_minor": 0
}
