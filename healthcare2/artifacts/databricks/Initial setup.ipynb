{
 "cells": [
  {
   "attachments": {},
   "cell_type": "markdown",
   "metadata": {
    "application/vnd.databricks.v1+cell": {
     "cellMetadata": {
      "byteLimit": 2048000,
      "rowLimit": 10000
     },
     "inputWidgets": {},
     "nuid": "aca4a6e1-b457-41ba-b306-b6ca7e469471",
     "showTitle": false,
     "title": ""
    }
   },
   "source": [
    "### Mount ADLS Gen 2 to Azure Databricks (Destination)"
   ]
  },
  {
   "cell_type": "code",
   "execution_count": null,
   "metadata": {
    "application/vnd.databricks.v1+cell": {
     "cellMetadata": {
      "byteLimit": 2048000,
      "rowLimit": 10000
     },
     "inputWidgets": {},
     "nuid": "b85baca4-0443-4354-8996-301482721b82",
     "showTitle": false,
     "title": ""
    }
   },
   "outputs": [],
   "source": [
    "ad = '#TENANT_ID#'\n",
    "sp = '#APP_ID#'\n",
    "se = '#SECRET_KEY#'"
   ]
  },
  {
   "cell_type": "code",
   "execution_count": null,
   "metadata": {
    "application/vnd.databricks.v1+cell": {
     "cellMetadata": {
      "byteLimit": 2048000,
      "rowLimit": 10000
     },
     "inputWidgets": {},
     "nuid": "089908d3-8a02-4080-90ea-27873ef0c0f0",
     "showTitle": false,
     "title": ""
    }
   },
   "outputs": [
    {
     "name": "stdout",
     "output_type": "stream",
     "text": [
      "/mnt/data-source has been unmounted.\n",
      "/mnt/delta-files has been unmounted.\n",
      "Out[3]: True"
     ]
    }
   ],
   "source": [
    "# dbutils.fs.unmount('/mnt/data-source')\n",
    "# dbutils.fs.unmount('/mnt/delta-files')"
   ]
  },
  {
   "cell_type": "code",
   "execution_count": null,
   "metadata": {
    "application/vnd.databricks.v1+cell": {
     "cellMetadata": {
      "byteLimit": 2048000,
      "rowLimit": 10000
     },
     "inputWidgets": {},
     "nuid": "cf3113aa-5744-492b-bdfd-b5421bbf28e0",
     "showTitle": false,
     "title": ""
    }
   },
   "outputs": [],
   "source": [
    "source_mount_point =\"abfss://data-source@#STORAGE_ACCOUNT_NAME#.dfs.core.windows.net/\"\n",
    "dest_mount_point = \"abfss://delta-files@#STORAGE_ACCOUNT_NAME#.dfs.core.windows.net/\""
   ]
  },
  {
   "cell_type": "code",
   "execution_count": null,
   "metadata": {
    "application/vnd.databricks.v1+cell": {
     "cellMetadata": {
      "byteLimit": 2048000,
      "rowLimit": 10000
     },
     "inputWidgets": {},
     "nuid": "fec263cd-5bcd-4d28-8179-d90934e3841d",
     "showTitle": false,
     "title": ""
    }
   },
   "outputs": [],
   "source": [
    "configs = {\"fs.azure.account.auth.type\": \"OAuth\",\n",
    "           \"fs.azure.account.oauth.provider.type\": \"org.apache.hadoop.fs.azurebfs.oauth2.ClientCredsTokenProvider\",\n",
    "           \"fs.azure.account.oauth2.client.id\": sp,\n",
    "           \"fs.azure.account.oauth2.client.secret\": se,\n",
    "           \"fs.azure.account.oauth2.client.endpoint\": \"https://login.microsoftonline.com/\" + ad + \"/oauth2/token\"}"
   ]
  },
  {
   "cell_type": "code",
   "execution_count": null,
   "metadata": {
    "application/vnd.databricks.v1+cell": {
     "cellMetadata": {
      "byteLimit": 2048000,
      "rowLimit": 10000
     },
     "inputWidgets": {},
     "nuid": "6349556c-fc39-49d2-80dd-d5d3561f1c59",
     "showTitle": false,
     "title": ""
    }
   },
   "outputs": [],
   "source": [
    "if not any(mount.mountPoint == \"/mnt/data-source\" for mount in dbutils.fs.mounts()):\n",
    "    dbutils.fs.mount(\n",
    "      source = source_mount_point,\n",
    "      mount_point = \"/mnt/data-source\",\n",
    "      extra_configs = configs)\n",
    "else:\n",
    "    print(\"Mount point already exists.\")"
   ]
  },
  {
   "cell_type": "code",
   "execution_count": null,
   "metadata": {
    "application/vnd.databricks.v1+cell": {
     "cellMetadata": {
      "byteLimit": 2048000,
      "rowLimit": 10000
     },
     "inputWidgets": {},
     "nuid": "68ec3849-b915-4f28-8471-437394cc90f1",
     "showTitle": false,
     "title": ""
    }
   },
   "outputs": [],
   "source": [
    "if not any(mount.mountPoint == \"/mnt/delta-files\" for mount in dbutils.fs.mounts()):\n",
    "    dbutils.fs.mount(\n",
    "      source = dest_mount_point,\n",
    "      mount_point = \"/mnt/delta-files\",\n",
    "      extra_configs = configs)\n",
    "else:\n",
    "    print(\"Mount point already exists.\")"
   ]
  },
  {
   "attachments": {},
   "cell_type": "markdown",
   "metadata": {
    "application/vnd.databricks.v1+cell": {
     "cellMetadata": {
      "byteLimit": 2048000,
      "rowLimit": 10000
     },
     "inputWidgets": {},
     "nuid": "560b4cba-4937-4330-9eda-cd28846c97a9",
     "showTitle": false,
     "title": ""
    }
   },
   "source": [
    "### List directories of Mounted Location to load destination data"
   ]
  },
  {
   "cell_type": "code",
   "execution_count": null,
   "metadata": {
    "application/vnd.databricks.v1+cell": {
     "cellMetadata": {
      "byteLimit": 2048000,
      "rowLimit": 10000
     },
     "inputWidgets": {},
     "nuid": "50c18625-e7d1-4a81-b9cd-7b099b310904",
     "showTitle": false,
     "title": ""
    }
   },
   "outputs": [
    {
     "data": {
      "text/html": [
       "<style scoped>\n",
       "  .table-result-container {\n",
       "    max-height: 300px;\n",
       "    overflow: auto;\n",
       "  }\n",
       "  table, th, td {\n",
       "    border: 1px solid black;\n",
       "    border-collapse: collapse;\n",
       "  }\n",
       "  th, td {\n",
       "    padding: 5px;\n",
       "  }\n",
       "  th {\n",
       "    text-align: left;\n",
       "  }\n",
       "</style><div class='table-result-container'><table class='table-result'><thead style='background-color: white'><tr><th>path</th><th>name</th><th>size</th><th>modificationTime</th></tr></thead><tbody><tr><td>dbfs:/mnt/delta-files/system/</td><td>system/</td><td>0</td><td>1680599893000</td></tr><tr><td>dbfs:/mnt/delta-files/tables/</td><td>tables/</td><td>0</td><td>1680599893000</td></tr></tbody></table></div>"
      ]
     },
     "metadata": {
      "application/vnd.databricks.v1+output": {
       "addedWidgets": {},
       "aggData": [],
       "aggError": "",
       "aggOverflow": false,
       "aggSchema": [],
       "aggSeriesLimitReached": false,
       "aggType": "",
       "arguments": {},
       "columnCustomDisplayInfos": {},
       "data": [
        [
         "dbfs:/mnt/delta-files/system/",
         "system/",
         0,
         1680599893000
        ],
        [
         "dbfs:/mnt/delta-files/tables/",
         "tables/",
         0,
         1680599893000
        ]
       ],
       "datasetInfos": [],
       "dbfsResultPath": null,
       "isJsonSchema": true,
       "metadata": {
        "isDbfsCommandResult": false
       },
       "overflow": false,
       "plotOptions": {
        "customPlotOptions": {},
        "displayType": "table",
        "pivotAggregation": null,
        "pivotColumns": null,
        "xColumns": null,
        "yColumns": null
       },
       "removedWidgets": [],
       "schema": [
        {
         "metadata": "{}",
         "name": "path",
         "type": "\"string\""
        },
        {
         "metadata": "{}",
         "name": "name",
         "type": "\"string\""
        },
        {
         "metadata": "{}",
         "name": "size",
         "type": "\"long\""
        },
        {
         "metadata": "{}",
         "name": "modificationTime",
         "type": "\"long\""
        }
       ],
       "type": "table"
      }
     },
     "output_type": "display_data"
    }
   ],
   "source": [
    "%fs\n",
    "ls /mnt/delta-files"
   ]
  }
 ],
 "metadata": {
  "application/vnd.databricks.v1+notebook": {
   "dashboards": [],
   "language": "python",
   "notebookMetadata": {
    "mostRecentlyExecutedCommandWithImplicitDF": {
     "commandId": 4301322668044289,
     "dataframes": [
      "_sqldf"
     ]
    },
    "pythonIndentUnit": 4
   },
   "notebookName": "Initial setup",
   "notebookOrigID": 4301322668044282,
   "widgets": {}
  },
  "language_info": {
   "name": "python"
  }
 },
 "nbformat": 4,
 "nbformat_minor": 0
}
