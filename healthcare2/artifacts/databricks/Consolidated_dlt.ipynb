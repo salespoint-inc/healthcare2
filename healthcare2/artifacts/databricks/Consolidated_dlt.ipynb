{
 "cells": [
  {
   "cell_type": "code",
   "execution_count": null,
   "metadata": {
    "application/vnd.databricks.v1+cell": {
     "cellMetadata": {},
     "inputWidgets": {},
     "nuid": "974c0976-62dc-480b-898c-e5e7ca70c581",
     "showTitle": false,
     "title": ""
    }
   },
   "outputs": [],
   "source": [
    "ad = '#TENANT_ID#'\n",
    "sp = '#APP_ID#'\n",
    "se = '#SECRET_KEY#'\n",
    "\n",
    " \n",
    "spark.conf.set(\"fs.azure.account.auth.type.#STORAGE_ACCOUNT_NAME#.dfs.core.windows.net\", \"OAuth\")\n",
    "spark.conf.set(\"fs.azure.account.oauth.provider.type.#STORAGE_ACCOUNT_NAME#.dfs.core.windows.net\", \"org.apache.hadoop.fs.azurebfs.oauth2.ClientCredsTokenProvider\")\n",
    "spark.conf.set(\"fs.azure.account.oauth2.client.id.#STORAGE_ACCOUNT_NAME#.dfs.core.windows.net\", sp)\n",
    "spark.conf.set(\"fs.azure.account.oauth2.client.secret.#STORAGE_ACCOUNT_NAME#.dfs.core.windows.net\", se)\n",
    "spark.conf.set(\"fs.azure.account.oauth2.client.endpoint.#STORAGE_ACCOUNT_NAME#.dfs.core.windows.net\", \"https://login.microsoftonline.com/\" + ad + \"/oauth2/token\")"
   ]
  },
  {
   "cell_type": "code",
   "execution_count": null,
   "metadata": {
    "application/vnd.databricks.v1+cell": {
     "cellMetadata": {},
     "inputWidgets": {},
     "nuid": "ba4a5d75-eda4-4dc0-9151-7da724dcc718",
     "showTitle": false,
     "title": ""
    }
   },
   "outputs": [],
   "source": [
    "import dlt\n",
    "from pyspark.sql.functions import struct\n",
    "from pyspark.sql.functions import col\n",
    "from pyspark.sql.types import DateType\n",
    "from pyspark.sql.types import *\n",
    "import pyspark.sql.functions as f\n",
    "from pyspark.sql.functions import udf\n",
    "from pyspark.sql.functions import *\n",
    "import re\n",
    "import itertools\n",
    "import numpy as np\n",
    "from delta.tables import *\n",
    "from pyspark.sql.types import StructType, StructField, StringType, IntegerType, FloatType, DateType, TimestampType, DecimalType\n",
    "from pyspark.sql.functions import regexp_replace"
   ]
  },
  {
   "cell_type": "code",
   "execution_count": null,
   "metadata": {
    "application/vnd.databricks.v1+cell": {
     "cellMetadata": {},
     "inputWidgets": {},
     "nuid": "36c03663-8593-48f1-97b9-1a590f11c13d",
     "showTitle": false,
     "title": ""
    }
   },
   "outputs": [],
   "source": [
    "Patient_input_file = \"abfss://data-source@#STORAGE_ACCOUNT_NAME#.dfs.core.windows.net/Consolidated Report/pbiPatient.csv\"\n",
    "@dlt.table()\n",
    "def ConsolidatedPbiPatient_bronze():\n",
    "  return (spark.read.format(\"csv\").option(\"header\",True).load(Patient_input_file))\n",
    "\n",
    "@dlt.table()\n",
    "def ConsolidatedPbiPatient_silver():\n",
    "  return (dlt.read(\"ConsolidatedPbiPatient_bronze\").withColumn('treatment_cost',substring('treatment_cost', 2,10)).withColumn('drug_cost',substring('drug_cost', 2,10)))\n",
    "\n",
    "@dlt.table()\n",
    "def ConsolidatedPbiPatient_gold():\n",
    "  return (dlt.read(\"ConsolidatedPbiPatient_silver\"))"
   ]
  },
  {
   "cell_type": "code",
   "execution_count": null,
   "metadata": {
    "application/vnd.databricks.v1+cell": {
     "cellMetadata": {},
     "inputWidgets": {},
     "nuid": "dd113638-a80f-4fd4-b89a-29e97bb34a03",
     "showTitle": false,
     "title": ""
    }
   },
   "outputs": [],
   "source": [
    "import dlt\n",
    "Campaign_input_file = \"abfss://data-source@#STORAGE_ACCOUNT_NAME#.dfs.core.windows.net/Consolidated Report/Mkt_CampaignAnalyticLatest.csv\"\n",
    "@dlt.table()\n",
    "def ConsolidatedCampaign_bronze():\n",
    "  return (spark.read.format(\"csv\").option(\"header\",True).load(Campaign_input_file))\n",
    "\n",
    "@dlt.table()\n",
    "def ConsolidatedCampaign_silver():\n",
    "  return (dlt.read(\"ConsolidatedCampaign_bronze\"))\n",
    "\n",
    "@dlt.table()\n",
    "def ConsolidatedCampaign_gold():\n",
    "  return (dlt.read(\"ConsolidatedCampaign_silver\"))"
   ]
  },
  {
   "cell_type": "code",
   "execution_count": null,
   "metadata": {
    "application/vnd.databricks.v1+cell": {
     "cellMetadata": {},
     "inputWidgets": {},
     "nuid": "1fd321da-1211-4b77-a6f5-7354d29b5758",
     "showTitle": false,
     "title": ""
    }
   },
   "outputs": [],
   "source": [
    "import dlt\n",
    "Website_input_file = \"abfss://data-source@#STORAGE_ACCOUNT_NAME#.dfs.core.windows.net/Consolidated Report/Mkt_WebsiteSocialAnalyticsPBIData.csv\"\n",
    "@dlt.table()\n",
    "def ConsolidatedWebsite_bronze():\n",
    "  return (spark.read.format(\"csv\").option(\"header\",True).load(Website_input_file))\n",
    "\n",
    "@dlt.table()\n",
    "def ConsolidatedWebsite_silver():\n",
    "  return (dlt.read(\"ConsolidatedWebsite_bronze\"))\n",
    "\n",
    "@dlt.table()\n",
    "def ConsolidatedWebsite_gold():\n",
    "  return (dlt.read(\"ConsolidatedWebsite_silver\"))"
   ]
  },
  {
   "cell_type": "code",
   "execution_count": null,
   "metadata": {
    "application/vnd.databricks.v1+cell": {
     "cellMetadata": {},
     "inputWidgets": {},
     "nuid": "89106f3c-53e8-4f63-a0ce-d1834b231b95",
     "showTitle": false,
     "title": ""
    }
   },
   "outputs": [],
   "source": [
    "import dlt\n",
    "Department_input_file = \"abfss://data-source@#STORAGE_ACCOUNT_NAME#.dfs.core.windows.net/Consolidated Report/pbiDepartment.csv\"\n",
    "@dlt.table()\n",
    "def ConsolidatedDepartment_bronze():\n",
    "  return (spark.read.format(\"csv\").option(\"header\",True).load(Department_input_file))\n",
    "\n",
    "@dlt.table()\n",
    "def ConsolidatedDepartment_silver():\n",
    "  return (dlt.read(\"ConsolidatedDepartment_bronze\"))\n",
    "\n",
    "@dlt.table()\n",
    "def ConsolidatedDepartment_gold():\n",
    "  return (dlt.read(\"ConsolidatedDepartment_silver\"))"
   ]
  },
  {
   "cell_type": "code",
   "execution_count": null,
   "metadata": {
    "application/vnd.databricks.v1+cell": {
     "cellMetadata": {},
     "inputWidgets": {},
     "nuid": "8150fa88-a1b8-479c-87b6-1743fb37a23c",
     "showTitle": false,
     "title": ""
    }
   },
   "outputs": [],
   "source": [
    "import dlt\n",
    "Emp_input_file = \"abfss://data-source@#STORAGE_ACCOUNT_NAME#.dfs.core.windows.net/Consolidated Report/pbiManagementEmployee.csv\"\n",
    "@dlt.table()\n",
    "def ConsolidatedEmp_bronze():\n",
    "  return (spark.read.format(\"csv\").option(\"header\",True).load(Emp_input_file))\n",
    "\n",
    "@dlt.table()\n",
    "def ConsolidatedEmp_silver():\n",
    "  return (dlt.read(\"ConsolidatedEmp_bronze\"))\n",
    "\n",
    "@dlt.table()\n",
    "def ConsolidatedEmp_gold():\n",
    "  return (dlt.read(\"ConsolidatedEmp_silver\"))"
   ]
  }
 ],
 "metadata": {
  "application/vnd.databricks.v1+notebook": {
   "dashboards": [],
   "language": "python",
   "notebookMetadata": {
    "pythonIndentUnit": 4
   },
   "notebookName": "Consolidated_dlt",
   "notebookOrigID": 3535330568289708,
   "widgets": {}
  },
  "language_info": {
   "name": "python"
  }
 },
 "nbformat": 4,
 "nbformat_minor": 0
}
