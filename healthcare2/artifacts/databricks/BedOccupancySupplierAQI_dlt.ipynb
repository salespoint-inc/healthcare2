{
 "cells": [
  {
   "cell_type": "code",
   "execution_count": null,
   "metadata": {
    "application/vnd.databricks.v1+cell": {
     "cellMetadata": {},
     "inputWidgets": {},
     "nuid": "3ad40d40-fea0-44b8-bc6a-5d99d913ad32",
     "showTitle": false,
     "title": ""
    }
   },
   "outputs": [],
   "source": [
    "ad = '#TENANT_ID#'\n",
    "sp = '#APP_ID#'\n",
    "se = '#SECRET_KEY#'\n",
    "\n",
    "\n",
    "spark.conf.set(\"fs.azure.account.auth.type.#STORAGE_ACCOUNT_NAME#.dfs.core.windows.net\", \"OAuth\")\n",
    "spark.conf.set(\"fs.azure.account.oauth.provider.type.#STORAGE_ACCOUNT_NAME#.dfs.core.windows.net\", \"org.apache.hadoop.fs.azurebfs.oauth2.ClientCredsTokenProvider\")\n",
    "spark.conf.set(\"fs.azure.account.oauth2.client.id.#STORAGE_ACCOUNT_NAME#.dfs.core.windows.net\", sp)\n",
    "spark.conf.set(\"fs.azure.account.oauth2.client.secret.#STORAGE_ACCOUNT_NAME#.dfs.core.windows.net\", se)\n",
    "spark.conf.set(\"fs.azure.account.oauth2.client.endpoint.#STORAGE_ACCOUNT_NAME#.dfs.core.windows.net\", \"https://login.microsoftonline.com/\" + ad + \"/oauth2/token\")"
   ]
  },
  {
   "cell_type": "code",
   "execution_count": null,
   "metadata": {
    "application/vnd.databricks.v1+cell": {
     "cellMetadata": {},
     "inputWidgets": {},
     "nuid": "9b2bad3a-1c73-4b5a-8c15-bbf6c596ab85",
     "showTitle": false,
     "title": ""
    }
   },
   "outputs": [],
   "source": [
    "import dlt\n",
    "from pyspark.sql.functions import struct\n",
    "from pyspark.sql.functions import col\n",
    "from pyspark.sql.types import DateType\n",
    "from pyspark.sql.types import *\n",
    "import pyspark.sql.functions as f\n",
    "from pyspark.sql.functions import udf\n",
    "from pyspark.sql.functions import *\n",
    "import re\n",
    "import itertools\n",
    "import numpy as np\n",
    "from delta.tables import *\n",
    "from pyspark.sql.types import StructType, StructField, StringType, IntegerType, FloatType, DateType, TimestampType, DecimalType\n",
    "from pyspark.sql.functions import regexp_replace"
   ]
  },
  {
   "cell_type": "code",
   "execution_count": null,
   "metadata": {
    "application/vnd.databricks.v1+cell": {
     "cellMetadata": {},
     "inputWidgets": {},
     "nuid": "73f28704-f127-4cd6-b922-f394948eadfa",
     "showTitle": false,
     "title": ""
    }
   },
   "outputs": [],
   "source": [
    "AQI_input_file = \"abfss://data-source@#STORAGE_ACCOUNT_NAME#.dfs.core.windows.net/Bed Occupancy and Availability Report/AQIData.csv\"\n",
    "from pyspark.sql.functions import col\n",
    "\n",
    "@dlt.table()\n",
    "def AQI_bronze():\n",
    "  return (spark.read.format(\"csv\").option(\"header\",True).load(AQI_input_file))\n",
    "\n",
    "@dlt.table()\n",
    "def AQI_silver():\n",
    "  return (dlt.read(\"AQI_bronze\").select(col(\"msrDeviceNbr\").alias(\"MsrDeviceNbr\"),col(\"readingDateTimeUTC\").alias(\"ReadingDateTimeUTC\"),col(\"tempC\").alias(\"TempCelcius\"),col(\"humidity\").alias(\"Humidity\"),col(\"pressure\").alias(\"Pressure\"),col(\"pM25\").alias(\"PM25\"),col(\"pM10\").alias(\"PM10\"),col(\"pM1\").alias(\"PM1\"),col(\"aqi\").alias(\"AQI\"),col(\"merge\").alias(\"Merge\"),col(\"hour\").alias(\"Hour\"),col(\"Date\").alias(\"Date\"),col(\"Time\").alias(\"Time\"),col(\"Column\").alias(\"Commute\"),col(\"LocationKey\").alias(\"LocationKey\"),col(\"TimeCopy\").alias(\"TimeInHrs\"),col(\"Month1\").alias(\"MonthName\"),col(\"Year\").alias(\"Year\"),col(\"week\").alias(\"WeekNumber\"),col(\"aqiLabel\").alias(\"AQILabel\"),col(\"AQILabelID\").alias(\"AQILabelID\"),col(\"latitude1\").alias(\"latitude\"),col(\"longitude1\").alias(\"longitude\"),col(\"City\").alias(\"City\")))\n",
    "\n",
    "@dlt.table()\n",
    "def AQI_gold():\n",
    "  return (dlt.read(\"AQI_silver\"))"
   ]
  },
  {
   "cell_type": "code",
   "execution_count": null,
   "metadata": {
    "application/vnd.databricks.v1+cell": {
     "cellMetadata": {},
     "inputWidgets": {},
     "nuid": "54e8b956-fce8-4e46-ae7a-363bfd6bee92",
     "showTitle": false,
     "title": ""
    }
   },
   "outputs": [],
   "source": [
    "# Supplier_input_file = \"abfss://data-source@#STORAGE_ACCOUNT_NAME#.dfs.core.windows.net/Bed Occupancy and Availability Report/Healthdata.csv\"\n",
    "# df=spark.read.format(\"csv\").option(\"header\",True).load(Supplier_input_file)\n",
    "# df.show()\n"
   ]
  },
  {
   "cell_type": "code",
   "execution_count": null,
   "metadata": {
    "application/vnd.databricks.v1+cell": {
     "cellMetadata": {},
     "inputWidgets": {},
     "nuid": "656a56d3-e30b-48e1-9f01-59e03f93039b",
     "showTitle": false,
     "title": ""
    }
   },
   "outputs": [],
   "source": [
    "\n",
    "Suppliers_input_file = \"abfss://data-source@#STORAGE_ACCOUNT_NAME#.dfs.core.windows.net/Bed Occupancy and Availability Report/SupplierData.csv\"\n",
    "\n",
    "@dlt.table()\n",
    "def Supplier_bronze():\n",
    "  return (spark.read.format(\"csv\").option(\"header\",True).load(Suppliers_input_file))\n",
    "\n",
    "@dlt.table()\n",
    "def Supplier_silver():\n",
    "  return (dlt.read(\"Supplier_bronze\"))\n",
    "\n",
    "@dlt.table()\n",
    "def Supplier_gold():\n",
    "  return (dlt.read(\"Supplier_silver\"))\n"
   ]
  },
  {
   "cell_type": "code",
   "execution_count": null,
   "metadata": {
    "application/vnd.databricks.v1+cell": {
     "cellMetadata": {},
     "inputWidgets": {},
     "nuid": "f1e88cb8-4792-4614-bede-da3408e2b3bb",
     "showTitle": false,
     "title": ""
    }
   },
   "outputs": [],
   "source": [
    "\n",
    "OccupancyHealthcareData = \"abfss://data-source@#STORAGE_ACCOUNT_NAME#.dfs.core.windows.net/Bed Occupancy and Availability Report/OccupancyHealthcare_Data.csv\"\n",
    "@dlt.table()\n",
    "def OccupancyHealthcareData_bronze():\n",
    "  return (spark.read.format(\"csv\").option(\"header\",True).load(OccupancyHealthcareData))\n",
    "\n",
    "@dlt.table()\n",
    "def OccupancyHealthcareData_silver():\n",
    "  return (dlt.read(\"OccupancyHealthcareData_bronze\").select(col(\"Date\").alias(\"Date\"),col(\"City\").alias(\"City\"),col(\"Region\").alias(\"Region\"),col(\"BedOccupancyPercentage\").alias(\"BedOccupancyPercentage\"),col(\"AQIIndex\").alias(\"AQI_Index\"),col(\"Latitude\").alias(\"Latitude\"),col(\"Longitude\").alias(\"Longitude\"),col(\"CountofID\").alias(\"CountOfID\"),col(\"Bysymptom\").alias(\"BySmptom\"),col(\"ShippingDelays\").alias(\"ShippingDelay\"),col(\"AvailableCencus\").alias(\"AvailableCencus\"),col(\"MaxBed\").alias(\"MaxBed\")))\n",
    "\n",
    "@dlt.table()\n",
    "def OccupancyHealthcareData_gold():\n",
    "  return (dlt.read(\"OccupancyHealthcareData_silver\"))"
   ]
  },
  {
   "attachments": {},
   "cell_type": "markdown",
   "metadata": {
    "application/vnd.databricks.v1+cell": {
     "cellMetadata": {},
     "inputWidgets": {},
     "nuid": "67687f0a-b593-47ef-b8ca-c3fcf81cbcd1",
     "showTitle": false,
     "title": ""
    }
   },
   "source": [
    "#Bed Occupancy Powered by AQI And Suppiler"
   ]
  },
  {
   "cell_type": "code",
   "execution_count": null,
   "metadata": {
    "application/vnd.databricks.v1+cell": {
     "cellMetadata": {},
     "inputWidgets": {},
     "nuid": "11c58737-a65b-4a9d-b4a1-f4479a2337f1",
     "showTitle": false,
     "title": ""
    }
   },
   "outputs": [],
   "source": [
    "@dlt.table(\n",
    "    comment=\"Bed Occupancy Powered by AQI And Suppiler \",\n",
    "    table_properties={\n",
    "    \"quality\": \"gold\"\n",
    "    }    \n",
    ") \n",
    "\n",
    "def AirIndex_Analytics():\n",
    "    return (\n",
    "        spark.sql(\"\"\"\n",
    "         select a.* from live.OccupancyHealthcareData_gold a,\n",
    "              live.Supplier_gold b,live.AQI_gold c\n",
    "   where a.City=b.City or c.City=a.City\n",
    "        \"\"\")\n",
    "    )"
   ]
  }
 ],
 "metadata": {
  "application/vnd.databricks.v1+notebook": {
   "dashboards": [],
   "language": "python",
   "notebookMetadata": {
    "pythonIndentUnit": 4
   },
   "notebookName": "BedOccupancySupplierAQI_dlt",
   "notebookOrigID": 3535330568289705,
   "widgets": {}
  },
  "language_info": {
   "name": "python"
  }
 },
 "nbformat": 4,
 "nbformat_minor": 0
}
