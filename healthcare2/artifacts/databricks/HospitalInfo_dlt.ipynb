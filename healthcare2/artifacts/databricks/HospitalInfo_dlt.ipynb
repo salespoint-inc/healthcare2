{
 "cells": [
  {
   "cell_type": "code",
   "execution_count": null,
   "metadata": {
    "application/vnd.databricks.v1+cell": {
     "cellMetadata": {},
     "inputWidgets": {},
     "nuid": "6ba95c4c-948d-4c65-82b2-03a5d69156ef",
     "showTitle": false,
     "title": ""
    }
   },
   "outputs": [],
   "source": [
    "ad = '#TENANT_ID#'\n",
    "sp = '#APP_ID#'\n",
    "se = '#SECRET_KEY#'\n",
    "\n",
    " \n",
    "spark.conf.set(\"fs.azure.account.auth.type.#STORAGE_ACCOUNT_NAME#.dfs.core.windows.net\", \"OAuth\")\n",
    "spark.conf.set(\"fs.azure.account.oauth.provider.type.#STORAGE_ACCOUNT_NAME#.dfs.core.windows.net\", \"org.apache.hadoop.fs.azurebfs.oauth2.ClientCredsTokenProvider\")\n",
    "spark.conf.set(\"fs.azure.account.oauth2.client.id.#STORAGE_ACCOUNT_NAME#.dfs.core.windows.net\", sp)\n",
    "spark.conf.set(\"fs.azure.account.oauth2.client.secret.#STORAGE_ACCOUNT_NAME#.dfs.core.windows.net\", se)\n",
    "spark.conf.set(\"fs.azure.account.oauth2.client.endpoint.#STORAGE_ACCOUNT_NAME#.dfs.core.windows.net\", \"https://login.microsoftonline.com/\" + ad + \"/oauth2/token\")"
   ]
  },
  {
   "cell_type": "code",
   "execution_count": null,
   "metadata": {
    "application/vnd.databricks.v1+cell": {
     "cellMetadata": {},
     "inputWidgets": {},
     "nuid": "f33060e0-c471-4b35-878b-6a61bb1774fa",
     "showTitle": false,
     "title": ""
    }
   },
   "outputs": [],
   "source": [
    "import dlt\n",
    "campaign_input_file = \"abfss://sphealthcare2@#STORAGE_ACCOUNT_NAME#.dfs.core.windows.net/dbo.Mkt_CampaignAnalyticLatest.txt\"\n",
    "bed_input_file = \"abfss://sphealthcare2@#STORAGE_ACCOUNT_NAME#.dfs.core.windows.net/dbo.pbiBedOccupancyForecasted.csv\"\n",
    "readmission_input_file = \"abfss://sphealthcare2@#STORAGE_ACCOUNT_NAME#.dfs.core.windows.net/dbo.PbiReadmissionPrediction.csv\"\n",
    "@dlt.table()\n",
    "def mkt_campaign_analytic():\n",
    "  return (spark.read.format(\"csv\").option(\"header\",True).load(campaign_input_file))\n",
    "\n",
    "@dlt.table()\n",
    "def bed_occupancy_forecasted():\n",
    "  return (spark.read.format(\"csv\").option(\"header\",True).load(bed_input_file))\n",
    "\n",
    "@dlt.table()\n",
    "def readmission_prediction():\n",
    "  return (spark.read.format(\"csv\").option(\"header\",True).load(readmission_input_file))"
   ]
  }
 ],
 "metadata": {
  "application/vnd.databricks.v1+notebook": {
   "dashboards": [],
   "language": "python",
   "notebookMetadata": {
    "pythonIndentUnit": 4
   },
   "notebookName": "HospitalInfo_dlt",
   "notebookOrigID": 3535330568289709,
   "widgets": {}
  },
  "language_info": {
   "name": "python"
  }
 },
 "nbformat": 4,
 "nbformat_minor": 0
}
