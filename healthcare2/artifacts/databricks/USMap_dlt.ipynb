{
 "cells": [
  {
   "cell_type": "code",
   "execution_count": null,
   "metadata": {
    "application/vnd.databricks.v1+cell": {
     "cellMetadata": {},
     "inputWidgets": {},
     "nuid": "9901ab09-2872-4d24-8a3d-384bc3fac9ac",
     "showTitle": false,
     "title": ""
    }
   },
   "outputs": [],
   "source": [
    "ad = '#TENANT_ID#'\n",
    "sp = '#APP_ID#'\n",
    "se = '#SECRET_KEY#'\n",
    "\n",
    " \n",
    "spark.conf.set(\"fs.azure.account.auth.type.#STORAGE_ACCOUNT_NAME#.dfs.core.windows.net\", \"OAuth\")\n",
    "spark.conf.set(\"fs.azure.account.oauth.provider.type.#STORAGE_ACCOUNT_NAME#.dfs.core.windows.net\", \"org.apache.hadoop.fs.azurebfs.oauth2.ClientCredsTokenProvider\")\n",
    "spark.conf.set(\"fs.azure.account.oauth2.client.id.#STORAGE_ACCOUNT_NAME#.dfs.core.windows.net\", sp)\n",
    "spark.conf.set(\"fs.azure.account.oauth2.client.secret.#STORAGE_ACCOUNT_NAME#.dfs.core.windows.net\", se)\n",
    "spark.conf.set(\"fs.azure.account.oauth2.client.endpoint.#STORAGE_ACCOUNT_NAME#.dfs.core.windows.net\", \"https://login.microsoftonline.com/\" + ad + \"/oauth2/token\")"
   ]
  },
  {
   "cell_type": "code",
   "execution_count": null,
   "metadata": {
    "application/vnd.databricks.v1+cell": {
     "cellMetadata": {},
     "inputWidgets": {},
     "nuid": "049ce9a2-f055-4169-a71f-623428df2679",
     "showTitle": false,
     "title": ""
    }
   },
   "outputs": [],
   "source": [
    "import dlt\n",
    "input_file = \"abfss://data-source@#STORAGE_ACCOUNT_NAME#.dfs.core.windows.net/US Map/USMap.csv\"\n",
    "@dlt.table()\n",
    "def USMap_bronze():\n",
    "  return (spark.read.format(\"csv\").option(\"header\",True).load(input_file))\n",
    "\n",
    "@dlt.table()\n",
    "def USMap_silver():\n",
    "  return (dlt.read(\"USMap_bronze\"))\n",
    "\n",
    "@dlt.table()\n",
    "def USMap_gold():\n",
    "  return (dlt.read(\"USMap_silver\"))"
   ]
  },
  {
   "cell_type": "code",
   "execution_count": null,
   "metadata": {
    "application/vnd.databricks.v1+cell": {
     "cellMetadata": {},
     "inputWidgets": {},
     "nuid": "4ea5480e-b730-4f1e-9d41-b37c4e3a94b2",
     "showTitle": false,
     "title": ""
    }
   },
   "outputs": [],
   "source": []
  }
 ],
 "metadata": {
  "application/vnd.databricks.v1+notebook": {
   "dashboards": [],
   "language": "python",
   "notebookMetadata": {
    "pythonIndentUnit": 4
   },
   "notebookName": "USMap_dlt",
   "notebookOrigID": 3535330568289811,
   "widgets": {}
  },
  "language_info": {
   "name": "python"
  }
 },
 "nbformat": 4,
 "nbformat_minor": 0
}
