{
 "cells": [
  {
   "cell_type": "code",
   "execution_count": null,
   "metadata": {
    "application/vnd.databricks.v1+cell": {
     "cellMetadata": {},
     "inputWidgets": {},
     "nuid": "647be912-29af-44de-88ba-177893d5a93f",
     "showTitle": false,
     "title": ""
    }
   },
   "outputs": [],
   "source": [
    "ad = '#TENANT_ID#'\n",
    "sp = '#APP_ID#'\n",
    "se = '#SECRET_KEY#'\n",
    "\n",
    "\n",
    "spark.conf.set(\"fs.azure.account.auth.type.#STORAGE_ACCOUNT_NAME#.dfs.core.windows.net\", \"OAuth\")\n",
    "spark.conf.set(\"fs.azure.account.oauth.provider.type.#STORAGE_ACCOUNT_NAME#.dfs.core.windows.net\", \"org.apache.hadoop.fs.azurebfs.oauth2.ClientCredsTokenProvider\")\n",
    "spark.conf.set(\"fs.azure.account.oauth2.client.id.#STORAGE_ACCOUNT_NAME#.dfs.core.windows.net\", sp)\n",
    "spark.conf.set(\"fs.azure.account.oauth2.client.secret.#STORAGE_ACCOUNT_NAME#.dfs.core.windows.net\", se)\n",
    "spark.conf.set(\"fs.azure.account.oauth2.client.endpoint.#STORAGE_ACCOUNT_NAME#.dfs.core.windows.net\", \"https://login.microsoftonline.com/\" + ad + \"/oauth2/token\")"
   ]
  },
  {
   "cell_type": "code",
   "execution_count": null,
   "metadata": {
    "application/vnd.databricks.v1+cell": {
     "cellMetadata": {},
     "inputWidgets": {},
     "nuid": "060f526d-e108-4f24-82cb-628fae0dd454",
     "showTitle": false,
     "title": ""
    }
   },
   "outputs": [],
   "source": [
    "import dlt\n",
    "from pyspark.sql.functions import struct\n",
    "from pyspark.sql.functions import col\n",
    "from pyspark.sql.types import DateType\n",
    "from pyspark.sql.types import *\n",
    "import pyspark.sql.functions as f\n",
    "from pyspark.sql.functions import udf\n",
    "from pyspark.sql.functions import *\n",
    "import re\n",
    "import itertools\n",
    "import numpy as np\n",
    "from delta.tables import *\n",
    "from pyspark.sql.types import StructType, StructField, StringType, IntegerType, FloatType, DateType, TimestampType, DecimalType\n",
    "from pyspark.sql.functions import regexp_replace"
   ]
  },
  {
   "cell_type": "code",
   "execution_count": null,
   "metadata": {
    "application/vnd.databricks.v1+cell": {
     "cellMetadata": {},
     "inputWidgets": {},
     "nuid": "c6c403ae-e3df-4366-b6e0-9ab656e5f96d",
     "showTitle": false,
     "title": ""
    }
   },
   "outputs": [],
   "source": [
    "# test_input_file = \"abfss://data-source@#STORAGE_ACCOUNT_NAME#.dfs.core.windows.net/Bed Occupancy and Availability Report/OccupancyHealthcareData.csv\"\n",
    "# df=spark.read.format(\"csv\").option(\"header\",True).load(test_input_file)\n",
    "# df.show()\n",
    "# # readingDateTimeUTC\ttempC\thumidity\tpressure\tpM25\tpM10\tpM1\taqi\tmerge\thour\tDate\tTime\tColumn\tLocationKey\tTime - Copy\tMonth1\tYear\tweek\taqiLabel\tAQILabelID\tlatitude1\tlongitude1\n"
   ]
  },
  {
   "cell_type": "code",
   "execution_count": null,
   "metadata": {
    "application/vnd.databricks.v1+cell": {
     "cellMetadata": {},
     "inputWidgets": {},
     "nuid": "4815d8be-b598-4bcb-b739-d78fb3cc177b",
     "showTitle": false,
     "title": ""
    }
   },
   "outputs": [],
   "source": [
    "GlbBedOccupancy_file = \"abfss://data-source@#STORAGE_ACCOUNT_NAME#.dfs.core.windows.net/GlobalOverviewTiles/GlobalOverviewReport_BedOccupancy.csv\"\n",
    "from pyspark.sql.functions import col\n",
    "\n",
    "@dlt.table()\n",
    "def GlbBedOccupancy_bronze():\n",
    "  return (spark.read.format(\"csv\").option(\"header\",True).load(GlbBedOccupancy_file))\n",
    "\n",
    "@dlt.table()\n",
    "def GlbBedOccupancy_silver():\n",
    "  return (dlt.read(\"GlbBedOccupancy_bronze\").select(col(\"city\").alias(\"City\"),col(\"MonthNumber\").alias(\"MonthNumber\"),col(\"BedOccupancyRate\").alias(\"BedOccupancyRate\")))\n",
    "\n",
    "@dlt.table()\n",
    "def GlbBedOccupancy_gold():\n",
    "  return (dlt.read(\"GlbBedOccupancy_silver\"))"
   ]
  },
  {
   "cell_type": "code",
   "execution_count": null,
   "metadata": {
    "application/vnd.databricks.v1+cell": {
     "cellMetadata": {},
     "inputWidgets": {},
     "nuid": "89c13d68-5cb0-493c-85a0-c4d9741355bc",
     "showTitle": false,
     "title": ""
    }
   },
   "outputs": [],
   "source": [
    "GlbMarginRate_file = \"abfss://data-source@#STORAGE_ACCOUNT_NAME#.dfs.core.windows.net/GlobalOverviewTiles/GlobalOverviewReport_MarginRate.csv\"\n",
    "from pyspark.sql.functions import col\n",
    "\n",
    "@dlt.table()\n",
    "def GlbMarginRate_bronze():\n",
    "  return (spark.read.format(\"csv\").option(\"header\",True).load(GlbMarginRate_file))\n",
    "\n",
    "@dlt.table()\n",
    "def GlbMarginRate_silver():\n",
    "  return (dlt.read(\"GlbMarginRate_bronze\").select(col(\"city\").alias(\"City\"),col(\"marginPercent\").alias(\"MarginPercent\"),col(\"month\").alias(\"MonthName\")))\n",
    "\n",
    "@dlt.table()\n",
    "def GlbMarginRate_gold():\n",
    "  return (dlt.read(\"GlbMarginRate_silver\"))"
   ]
  },
  {
   "cell_type": "code",
   "execution_count": null,
   "metadata": {
    "application/vnd.databricks.v1+cell": {
     "cellMetadata": {},
     "inputWidgets": {},
     "nuid": "a0225f57-41fa-474d-947d-deedb671953f",
     "showTitle": false,
     "title": ""
    }
   },
   "outputs": [],
   "source": [
    "GlbPatientExperience_file = \"abfss://data-source@#STORAGE_ACCOUNT_NAME#.dfs.core.windows.net/GlobalOverviewTiles/GlobalOverviewReport_PatientExperience.csv\"\n",
    "from pyspark.sql.functions import col\n",
    "\n",
    "@dlt.table()\n",
    "def GlbPatientExperience_bronze():\n",
    "  return (spark.read.format(\"csv\").option(\"header\",True).load(GlbPatientExperience_file))\n",
    "\n",
    "@dlt.table()\n",
    "def GlbPatientExperience_silver():\n",
    "  return (dlt.read(\"GlbPatientExperience_bronze\").select(col(\"city\").alias(\"City\"),col(\"PatientExperience\").alias(\"PatientExperience\"),col(\"month\").alias(\"MonthName\")))\n",
    "\n",
    "@dlt.table()\n",
    "def GlbPatientExperience_gold():\n",
    "  return (dlt.read(\"GlbPatientExperience_silver\"))"
   ]
  },
  {
   "cell_type": "code",
   "execution_count": null,
   "metadata": {
    "application/vnd.databricks.v1+cell": {
     "cellMetadata": {},
     "inputWidgets": {},
     "nuid": "1101e1d2-604b-47a4-9f5d-d1ce173cb8bd",
     "showTitle": false,
     "title": ""
    }
   },
   "outputs": [],
   "source": [
    "# %sql\n",
    "\n",
    "# select * from csv.`abfss://data-source@#STORAGE_ACCOUNT_NAME#.dfs.core.windows.net/Bed Occupancy and Availability Report/OccupancyHealthcareData.csv`"
   ]
  },
  {
   "cell_type": "code",
   "execution_count": null,
   "metadata": {
    "application/vnd.databricks.v1+cell": {
     "cellMetadata": {},
     "inputWidgets": {},
     "nuid": "fef271b3-230e-4e47-8b31-2edbb1c6e5fa",
     "showTitle": false,
     "title": ""
    }
   },
   "outputs": [],
   "source": [
    "# Supplier_input_file = \"abfss://data-source@#STORAGE_ACCOUNT_NAME#.dfs.core.windows.net/Bed Occupancy and Availability Report/Healthdata.csv\"\n",
    "# df=spark.read.format(\"csv\").option(\"header\",True).load(Supplier_input_file)\n",
    "# df.show()"
   ]
  }
 ],
 "metadata": {
  "application/vnd.databricks.v1+notebook": {
   "dashboards": [],
   "language": "python",
   "notebookMetadata": {
    "pythonIndentUnit": 4
   },
   "notebookName": "PatientExperience_dlt",
   "notebookOrigID": 3535330568289750,
   "widgets": {}
  },
  "language_info": {
   "name": "python"
  }
 },
 "nbformat": 4,
 "nbformat_minor": 0
}
